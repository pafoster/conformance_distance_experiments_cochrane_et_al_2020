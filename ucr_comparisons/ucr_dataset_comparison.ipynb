{
 "cells": [
  {
   "cell_type": "code",
   "execution_count": 1,
   "metadata": {},
   "outputs": [],
   "source": [
    "from datetime import datetime, timedelta\n",
    "import math\n",
    "import os.path\n",
    "import pickle\n",
    "import shutil\n",
    "import sys\n",
    "import time\n",
    "\n",
    "import iisignature\n",
    "import matplotlib.pyplot as plt\n",
    "import numpy as np\n",
    "import pandas as pd\n",
    "from scipy.io import arff\n",
    "import seaborn as sns\n",
    "from sklearn.model_selection import train_test_split\n",
    "from sklearn.utils import shuffle as shuff\n",
    "\n",
    "sys.path.insert(0, os.path.join('..', '..', 'empirical-outliers'))\n",
    "import variance\n",
    "sys.path.insert(0, os.path.join('..', 'common'))\n",
    "import util"
   ]
  },
  {
   "cell_type": "code",
   "execution_count": 2,
   "metadata": {},
   "outputs": [],
   "source": [
    "np.random.seed(0)"
   ]
  },
  {
   "cell_type": "code",
   "execution_count": 3,
   "metadata": {},
   "outputs": [],
   "source": [
    "t0 = time.time()"
   ]
  },
  {
   "cell_type": "markdown",
   "metadata": {},
   "source": [
    "Download and extract dataset, if it does not already exist:"
   ]
  },
  {
   "cell_type": "code",
   "execution_count": 4,
   "metadata": {},
   "outputs": [],
   "source": [
    "DATASET_PATH = 'Univariate_arff'\n",
    "ZIP_URL = 'http://www.timeseriesclassification.com/Downloads/Archives/Univariate2018_arff.zip'\n",
    "ZIP_PATH = 'Univariate2018_arff.zip'\n",
    "\n",
    "if not os.path.exists(DATASET_PATH) and not os.path.exists(ZIP_PATH):\n",
    "    try:\n",
    "        util.download(ZIP_URL, ZIP_PATH)\n",
    "\n",
    "        # Extract dataset\n",
    "        !unzip {ZIP_PATH}\n",
    "    except:\n",
    "        if os.path.exists(DATASET_PATH):\n",
    "            shutil.rmtree(DATASET_PATH)\n",
    "        raise\n",
    "    finally:\n",
    "        if os.path.exists(ZIP_PATH):\n",
    "            os.remove(ZIP_PATH)"
   ]
  },
  {
   "cell_type": "code",
   "execution_count": 5,
   "metadata": {},
   "outputs": [],
   "source": [
    "comparisons = pd.read_csv('results_beggel_et_al_2019_tables_2_and_4.csv')"
   ]
  },
  {
   "cell_type": "code",
   "execution_count": 6,
   "metadata": {},
   "outputs": [],
   "source": [
    "def get_corpus_and_outlier_paths(df,desired_class):\n",
    "    corpus_paths=[]\n",
    "    outlier_paths = []\n",
    "    \n",
    "    for i in range(df.shape[0]):\n",
    "        if df.iloc[i]['target'] == desired_class:\n",
    "            corpus_paths.append(np.column_stack([[i for i in range(df.shape[1] - 1)], df.iloc[i][:-1]]))\n",
    "        else:\n",
    "            outlier_paths.append(np.column_stack([[i for i in range(df.shape[1] - 1)], df.iloc[i][:-1]]))  \n",
    "    \n",
    "    return corpus_paths, outlier_paths"
   ]
  },
  {
   "cell_type": "code",
   "execution_count": 7,
   "metadata": {},
   "outputs": [],
   "source": [
    "def compute_variances(corpus_paths, outlier_paths, test_size, outliers_to_train=0, sig_order=4, random_state=0):\n",
    "    corpus_train, corpus_test = train_test_split(corpus_paths, test_size=test_size, random_state=random_state)\n",
    "    \n",
    "    if outliers_to_train==0:\n",
    "        outliers_shuffled = shuff(outlier_paths, random_state=0)\n",
    "    else:\n",
    "        outliers_shuffled, outlier_paths_to_train = train_test_split(outlier_paths, test_size=outliers_to_train,\n",
    "                                                                     random_state=random_state)\n",
    "        corpus_train=corpus_train + outlier_paths_to_train\n",
    "    \n",
    "    variance_corpus = variance.variance(corpus_test, corpus_train, sig_order)\n",
    "    variance_outliers = variance.variance(outliers_shuffled, corpus_train, sig_order)\n",
    "\n",
    "    corpus_variances = [y for y,_ in sorted(zip(variance_corpus, corpus_test), reverse=True, key=lambda x: x[0])]\n",
    "    outlier_variances = [y for y,_ in sorted(zip(variance_outliers,outliers_shuffled),\n",
    "                                             reverse=True, key=lambda x: x[0])]\n",
    "    \n",
    "    return corpus_variances, outlier_variances"
   ]
  },
  {
   "cell_type": "code",
   "execution_count": 8,
   "metadata": {},
   "outputs": [],
   "source": [
    "def evaluate(anomaly_level_column='Atra', signature_order=5):\n",
    "    tnfn = {}\n",
    "\n",
    "    for i in range(len(comparisons)):\n",
    "        d=comparisons.iloc[i].Dataset\n",
    "        tnfn[d] = []\n",
    "        \n",
    "        datatrain = arff.loadarff(os.path.join(DATASET_PATH, d, d + \"_TRAIN.arff\"))\n",
    "        datatest = arff.loadarff(os.path.join(DATASET_PATH, d, d + \"_TEST.arff\"))\n",
    "\n",
    "        alldata = pd.concat([pd.DataFrame(datatrain[0]),pd.DataFrame(datatest[0])],ignore_index=True)\n",
    "        alldata['target'] = pd.to_numeric(alldata['target'])\n",
    "        corpus_paths, outlier_paths = get_corpus_and_outlier_paths(alldata,comparisons.iloc[i].normal)\n",
    "        \n",
    "        for j in range(10):\n",
    "            corpus_variances, outlier_variances = \\\n",
    "                compute_variances(corpus_paths, outlier_paths, comparisons.iloc[i].Ntes, sig_order=5,\n",
    "                                  outliers_to_train = comparisons.iloc[i][anomaly_level_column], random_state=j)\n",
    "            \n",
    "            tn = np.concatenate([[0], np.cumsum(np.array([y for _,y in sorted(zip(corpus_variances+outlier_variances,[0]*len(corpus_variances)+[1]*len(outlier_variances)))])==0)])\n",
    "            fn = np.concatenate([[0], np.cumsum(np.array([y for _,y in sorted(zip(corpus_variances+outlier_variances,[0]*len(corpus_variances)+[1]*len(outlier_variances)))])==1)])\n",
    "            \n",
    "            false_pos = np.flip(max(tn) - tn)\n",
    "            true_pos = np.flip(max(fn) - fn)\n",
    "\n",
    "            true_neg = max(false_pos) - false_pos\n",
    "            false_neg = max(true_pos) - true_pos\n",
    "\n",
    "            sens = true_pos / (true_pos + false_neg)\n",
    "            spec = true_neg / (true_neg + false_pos)\n",
    "\n",
    "            tnfn[d].append((tn, fn))\n",
    "\n",
    "    return tnfn"
   ]
  },
  {
   "cell_type": "markdown",
   "metadata": {},
   "source": [
    "Compute for anomaly rates 0.1% and 5%:"
   ]
  },
  {
   "cell_type": "code",
   "execution_count": 9,
   "metadata": {},
   "outputs": [
    {
     "name": "stderr",
     "output_type": "stream",
     "text": [
      "Computing signatures: 100%|██████████| 16/16 [00:00<00:00, 396.16it/s]\n",
      "Building shuffle matrix:  27%|██▋       | 17/63 [00:00<00:00, 143.34it/s]"
     ]
    },
    {
     "name": "stdout",
     "output_type": "stream",
     "text": [
      "Preparing...\n"
     ]
    },
    {
     "name": "stderr",
     "output_type": "stream",
     "text": [
      "Building shuffle matrix: 100%|██████████| 63/63 [00:02<00:00, 27.69it/s] \n",
      "Computing variances: 100%|██████████| 4/4 [00:00<00:00, 3752.45it/s]\n",
      "Computing variances: 100%|██████████| 761/761 [00:00<00:00, 11991.96it/s]\n",
      "Computing signatures:   0%|          | 0/16 [00:00<?, ?it/s]"
     ]
    },
    {
     "name": "stdout",
     "output_type": "stream",
     "text": [
      "Done.\n",
      "Preparing...\n"
     ]
    },
    {
     "name": "stderr",
     "output_type": "stream",
     "text": [
      "Computing signatures: 100%|██████████| 16/16 [00:00<00:00, 453.15it/s]\n",
      "Building shuffle matrix: 100%|██████████| 63/63 [00:02<00:00, 27.86it/s] \n",
      "Computing variances: 100%|██████████| 4/4 [00:00<00:00, 1920.25it/s]\n",
      "Computing variances: 100%|██████████| 761/761 [00:00<00:00, 8652.83it/s]"
     ]
    },
    {
     "name": "stdout",
     "output_type": "stream",
     "text": [
      "Done.\n",
      "Preparing..."
     ]
    },
    {
     "name": "stderr",
     "output_type": "stream",
     "text": [
      "\n",
      "Computing signatures: 100%|██████████| 16/16 [00:00<00:00, 369.53it/s]\n",
      "Building shuffle matrix: 100%|██████████| 63/63 [00:02<00:00, 26.34it/s] \n",
      "Computing variances: 100%|██████████| 4/4 [00:00<00:00, 2732.00it/s]\n",
      "Computing variances: 100%|██████████| 761/761 [00:00<00:00, 11427.80it/s]\n",
      "Computing signatures:   0%|          | 0/16 [00:00<?, ?it/s]"
     ]
    },
    {
     "name": "stdout",
     "output_type": "stream",
     "text": [
      "\n",
      "Done.\n",
      "Preparing...\n"
     ]
    },
    {
     "name": "stderr",
     "output_type": "stream",
     "text": [
      "Computing signatures: 100%|██████████| 16/16 [00:00<00:00, 401.72it/s]\n",
      "Building shuffle matrix: 100%|██████████| 63/63 [00:02<00:00, 27.10it/s] \n",
      "Computing variances: 100%|██████████| 4/4 [00:00<00:00, 2491.79it/s]\n",
      "Computing variances: 100%|██████████| 761/761 [00:00<00:00, 8565.57it/s]"
     ]
    },
    {
     "name": "stdout",
     "output_type": "stream",
     "text": [
      "Done.\n",
      "Preparing...\n"
     ]
    },
    {
     "name": "stderr",
     "output_type": "stream",
     "text": [
      "\n",
      "Computing signatures: 100%|██████████| 16/16 [00:00<00:00, 307.79it/s]\n",
      "Building shuffle matrix: 100%|██████████| 63/63 [00:02<00:00, 26.94it/s] \n",
      "Computing variances: 100%|██████████| 4/4 [00:00<00:00, 2103.99it/s]\n",
      "Computing variances: 100%|██████████| 761/761 [00:00<00:00, 11032.53it/s]\n",
      "Computing signatures:   0%|          | 0/16 [00:00<?, ?it/s]"
     ]
    },
    {
     "name": "stdout",
     "output_type": "stream",
     "text": [
      "Done.\n",
      "Preparing...\n"
     ]
    },
    {
     "name": "stderr",
     "output_type": "stream",
     "text": [
      "Computing signatures: 100%|██████████| 16/16 [00:00<00:00, 454.86it/s]\n",
      "Building shuffle matrix: 100%|██████████| 63/63 [00:02<00:00, 29.02it/s] \n",
      "Computing variances: 100%|██████████| 4/4 [00:00<00:00, 2437.49it/s]\n",
      "Computing variances: 100%|██████████| 761/761 [00:00<00:00, 11586.31it/s]\n",
      "Computing signatures:   0%|          | 0/16 [00:00<?, ?it/s]"
     ]
    },
    {
     "name": "stdout",
     "output_type": "stream",
     "text": [
      "Done.\n",
      "Preparing...\n"
     ]
    },
    {
     "name": "stderr",
     "output_type": "stream",
     "text": [
      "Computing signatures: 100%|██████████| 16/16 [00:00<00:00, 452.28it/s]\n",
      "Building shuffle matrix: 100%|██████████| 63/63 [00:02<00:00, 29.07it/s] \n",
      "Computing variances: 100%|██████████| 4/4 [00:00<00:00, 2151.48it/s]\n",
      "Computing variances: 100%|██████████| 761/761 [00:00<00:00, 9215.30it/s]"
     ]
    },
    {
     "name": "stdout",
     "output_type": "stream",
     "text": [
      "Done.\n",
      "Preparing..."
     ]
    },
    {
     "name": "stderr",
     "output_type": "stream",
     "text": [
      "\n",
      "Computing signatures: 100%|██████████| 16/16 [00:00<00:00, 448.58it/s]\n",
      "Building shuffle matrix: 100%|██████████| 63/63 [00:02<00:00, 29.14it/s] \n",
      "Computing variances: 100%|██████████| 4/4 [00:00<00:00, 3490.16it/s]\n",
      "Computing variances: 100%|██████████| 761/761 [00:00<00:00, 11950.57it/s]\n",
      "Computing signatures:   0%|          | 0/16 [00:00<?, ?it/s]"
     ]
    },
    {
     "name": "stdout",
     "output_type": "stream",
     "text": [
      "\n",
      "Done.\n",
      "Preparing...\n"
     ]
    },
    {
     "name": "stderr",
     "output_type": "stream",
     "text": [
      "Computing signatures: 100%|██████████| 16/16 [00:00<00:00, 457.43it/s]\n",
      "Building shuffle matrix: 100%|██████████| 63/63 [00:02<00:00, 28.40it/s] \n",
      "Computing variances: 100%|██████████| 4/4 [00:00<00:00, 2120.75it/s]\n",
      "Computing variances: 100%|██████████| 761/761 [00:00<00:00, 11278.76it/s]\n",
      "Computing signatures:   0%|          | 0/16 [00:00<?, ?it/s]"
     ]
    },
    {
     "name": "stdout",
     "output_type": "stream",
     "text": [
      "Done.\n",
      "Preparing...\n"
     ]
    },
    {
     "name": "stderr",
     "output_type": "stream",
     "text": [
      "Computing signatures: 100%|██████████| 16/16 [00:00<00:00, 458.48it/s]\n",
      "Building shuffle matrix: 100%|██████████| 63/63 [00:02<00:00, 28.71it/s] \n",
      "Computing variances: 100%|██████████| 4/4 [00:00<00:00, 2385.16it/s]\n",
      "Computing variances: 100%|██████████| 761/761 [00:00<00:00, 11946.23it/s]"
     ]
    },
    {
     "name": "stdout",
     "output_type": "stream",
     "text": [
      "Done.\n"
     ]
    },
    {
     "name": "stderr",
     "output_type": "stream",
     "text": [
      "\n",
      "Computing signatures: 100%|██████████| 52/52 [00:00<00:00, 316.23it/s]\n",
      "Building shuffle matrix:   0%|          | 0/63 [00:00<?, ?it/s]"
     ]
    },
    {
     "name": "stdout",
     "output_type": "stream",
     "text": [
      "Preparing...\n"
     ]
    },
    {
     "name": "stderr",
     "output_type": "stream",
     "text": [
      "Building shuffle matrix: 100%|██████████| 63/63 [00:02<00:00, 28.40it/s] \n",
      "Computing variances: 100%|██████████| 13/13 [00:00<00:00, 4430.84it/s]"
     ]
    },
    {
     "name": "stdout",
     "output_type": "stream",
     "text": [
      "Done.\n"
     ]
    },
    {
     "name": "stderr",
     "output_type": "stream",
     "text": [
      "\n",
      "Computing variances: 100%|██████████| 146/146 [00:00<00:00, 7142.57it/s]\n",
      "Computing signatures: 100%|██████████| 52/52 [00:00<00:00, 319.71it/s]\n",
      "Building shuffle matrix:   0%|          | 0/63 [00:00<?, ?it/s]"
     ]
    },
    {
     "name": "stdout",
     "output_type": "stream",
     "text": [
      "Preparing...\n"
     ]
    },
    {
     "name": "stderr",
     "output_type": "stream",
     "text": [
      "Building shuffle matrix: 100%|██████████| 63/63 [00:02<00:00, 29.06it/s] \n",
      "Computing variances: 100%|██████████| 13/13 [00:00<00:00, 3346.38it/s]"
     ]
    },
    {
     "name": "stdout",
     "output_type": "stream",
     "text": [
      "Done.\n"
     ]
    },
    {
     "name": "stderr",
     "output_type": "stream",
     "text": [
      "\n",
      "Computing variances: 100%|██████████| 146/146 [00:00<00:00, 7049.09it/s]\n",
      "Computing signatures: 100%|██████████| 52/52 [00:00<00:00, 317.98it/s]\n",
      "Building shuffle matrix:   0%|          | 0/63 [00:00<?, ?it/s]"
     ]
    },
    {
     "name": "stdout",
     "output_type": "stream",
     "text": [
      "Preparing...\n"
     ]
    },
    {
     "name": "stderr",
     "output_type": "stream",
     "text": [
      "Building shuffle matrix: 100%|██████████| 63/63 [00:02<00:00, 28.36it/s] \n",
      "Computing variances: 100%|██████████| 13/13 [00:00<00:00, 3861.88it/s]"
     ]
    },
    {
     "name": "stdout",
     "output_type": "stream",
     "text": [
      "Done.\n"
     ]
    },
    {
     "name": "stderr",
     "output_type": "stream",
     "text": [
      "\n",
      "Computing variances: 100%|██████████| 146/146 [00:00<00:00, 7239.85it/s]\n",
      "Computing signatures: 100%|██████████| 52/52 [00:00<00:00, 302.04it/s]\n",
      "Building shuffle matrix:   0%|          | 0/63 [00:00<?, ?it/s]"
     ]
    },
    {
     "name": "stdout",
     "output_type": "stream",
     "text": [
      "Preparing...\n"
     ]
    },
    {
     "name": "stderr",
     "output_type": "stream",
     "text": [
      "Building shuffle matrix: 100%|██████████| 63/63 [00:02<00:00, 29.55it/s] \n",
      "Computing variances: 100%|██████████| 13/13 [00:00<00:00, 3911.19it/s]"
     ]
    },
    {
     "name": "stdout",
     "output_type": "stream",
     "text": [
      "Done.\n"
     ]
    },
    {
     "name": "stderr",
     "output_type": "stream",
     "text": [
      "\n",
      "Computing variances: 100%|██████████| 146/146 [00:00<00:00, 7188.60it/s]\n",
      "Computing signatures: 100%|██████████| 52/52 [00:00<00:00, 311.63it/s]\n",
      "Building shuffle matrix:   0%|          | 0/63 [00:00<?, ?it/s]"
     ]
    },
    {
     "name": "stdout",
     "output_type": "stream",
     "text": [
      "Preparing...\n"
     ]
    },
    {
     "name": "stderr",
     "output_type": "stream",
     "text": [
      "Building shuffle matrix: 100%|██████████| 63/63 [00:02<00:00, 28.58it/s] \n",
      "Computing variances: 100%|██████████| 13/13 [00:00<00:00, 4765.00it/s]"
     ]
    },
    {
     "name": "stdout",
     "output_type": "stream",
     "text": [
      "Done.\n"
     ]
    },
    {
     "name": "stderr",
     "output_type": "stream",
     "text": [
      "\n",
      "Computing variances: 100%|██████████| 146/146 [00:00<00:00, 7249.28it/s]\n",
      "Computing signatures: 100%|██████████| 52/52 [00:00<00:00, 316.10it/s]\n",
      "Building shuffle matrix:   0%|          | 0/63 [00:00<?, ?it/s]"
     ]
    },
    {
     "name": "stdout",
     "output_type": "stream",
     "text": [
      "Preparing...\n"
     ]
    },
    {
     "name": "stderr",
     "output_type": "stream",
     "text": [
      "Building shuffle matrix: 100%|██████████| 63/63 [00:02<00:00, 28.46it/s] \n",
      "Computing variances: 100%|██████████| 13/13 [00:00<00:00, 4244.26it/s]"
     ]
    },
    {
     "name": "stdout",
     "output_type": "stream",
     "text": [
      "Done.\n"
     ]
    },
    {
     "name": "stderr",
     "output_type": "stream",
     "text": [
      "\n",
      "Computing variances: 100%|██████████| 146/146 [00:00<00:00, 6937.76it/s]\n",
      "Computing signatures: 100%|██████████| 52/52 [00:00<00:00, 317.10it/s]\n",
      "Building shuffle matrix:   0%|          | 0/63 [00:00<?, ?it/s]"
     ]
    },
    {
     "name": "stdout",
     "output_type": "stream",
     "text": [
      "Preparing...\n"
     ]
    },
    {
     "name": "stderr",
     "output_type": "stream",
     "text": [
      "Building shuffle matrix: 100%|██████████| 63/63 [00:02<00:00, 26.53it/s] \n",
      "Computing variances: 100%|██████████| 13/13 [00:00<00:00, 4957.81it/s]\n",
      "Computing variances:   0%|          | 0/146 [00:00<?, ?it/s]"
     ]
    },
    {
     "name": "stdout",
     "output_type": "stream",
     "text": [
      "Done.\n"
     ]
    },
    {
     "name": "stderr",
     "output_type": "stream",
     "text": [
      "Computing variances: 100%|██████████| 146/146 [00:00<00:00, 7120.89it/s]\n",
      "Computing signatures: 100%|██████████| 52/52 [00:00<00:00, 260.09it/s]"
     ]
    },
    {
     "name": "stdout",
     "output_type": "stream",
     "text": [
      "Preparing...\n"
     ]
    },
    {
     "name": "stderr",
     "output_type": "stream",
     "text": [
      "\n",
      "Building shuffle matrix: 100%|██████████| 63/63 [00:02<00:00, 27.72it/s] \n",
      "Computing variances: 100%|██████████| 13/13 [00:00<00:00, 4282.25it/s]"
     ]
    },
    {
     "name": "stdout",
     "output_type": "stream",
     "text": [
      "Done.\n"
     ]
    },
    {
     "name": "stderr",
     "output_type": "stream",
     "text": [
      "\n",
      "Computing variances: 100%|██████████| 146/146 [00:00<00:00, 6747.04it/s]\n",
      "Computing signatures: 100%|██████████| 52/52 [00:00<00:00, 321.10it/s]\n",
      "Building shuffle matrix:   0%|          | 0/63 [00:00<?, ?it/s]"
     ]
    },
    {
     "name": "stdout",
     "output_type": "stream",
     "text": [
      "Preparing...\n"
     ]
    },
    {
     "name": "stderr",
     "output_type": "stream",
     "text": [
      "Building shuffle matrix: 100%|██████████| 63/63 [00:02<00:00, 27.62it/s] \n",
      "Computing variances: 100%|██████████| 13/13 [00:00<00:00, 3534.22it/s]"
     ]
    },
    {
     "name": "stdout",
     "output_type": "stream",
     "text": [
      "Done.\n"
     ]
    },
    {
     "name": "stderr",
     "output_type": "stream",
     "text": [
      "\n",
      "Computing variances: 100%|██████████| 146/146 [00:00<00:00, 5929.44it/s]\n",
      "Computing signatures:  48%|████▊     | 25/52 [00:00<00:00, 240.95it/s]"
     ]
    },
    {
     "name": "stdout",
     "output_type": "stream",
     "text": [
      "Preparing...\n"
     ]
    },
    {
     "name": "stderr",
     "output_type": "stream",
     "text": [
      "Computing signatures: 100%|██████████| 52/52 [00:00<00:00, 244.54it/s]\n",
      "Building shuffle matrix: 100%|██████████| 63/63 [00:02<00:00, 25.96it/s] \n"
     ]
    },
    {
     "name": "stdout",
     "output_type": "stream",
     "text": [
      "Done.\n"
     ]
    },
    {
     "name": "stderr",
     "output_type": "stream",
     "text": [
      "Computing variances: 100%|██████████| 13/13 [00:00<00:00, 3604.07it/s]\n",
      "Computing variances: 100%|██████████| 146/146 [00:00<00:00, 6206.92it/s]\n",
      "Computing signatures: 100%|██████████| 10/10 [00:00<00:00, 130.37it/s]\n",
      "Building shuffle matrix:   0%|          | 0/63 [00:00<?, ?it/s]"
     ]
    },
    {
     "name": "stdout",
     "output_type": "stream",
     "text": [
      "Preparing...\n"
     ]
    },
    {
     "name": "stderr",
     "output_type": "stream",
     "text": [
      "Building shuffle matrix: 100%|██████████| 63/63 [00:02<00:00, 24.32it/s] \n",
      "Computing variances: 100%|██████████| 2/2 [00:00<00:00, 3002.37it/s]\n"
     ]
    },
    {
     "name": "stdout",
     "output_type": "stream",
     "text": [
      "Done.\n"
     ]
    },
    {
     "name": "stderr",
     "output_type": "stream",
     "text": [
      "Computing variances: 100%|██████████| 48/48 [00:00<00:00, 5199.28it/s]\n",
      "Computing signatures: 100%|██████████| 10/10 [00:00<00:00, 134.69it/s]\n",
      "Building shuffle matrix:  25%|██▌       | 16/63 [00:00<00:00, 136.39it/s]"
     ]
    },
    {
     "name": "stdout",
     "output_type": "stream",
     "text": [
      "Preparing...\n"
     ]
    },
    {
     "name": "stderr",
     "output_type": "stream",
     "text": [
      "Building shuffle matrix: 100%|██████████| 63/63 [00:02<00:00, 26.75it/s] \n",
      "Computing variances: 100%|██████████| 2/2 [00:00<00:00, 3175.10it/s]\n"
     ]
    },
    {
     "name": "stdout",
     "output_type": "stream",
     "text": [
      "Done.\n"
     ]
    },
    {
     "name": "stderr",
     "output_type": "stream",
     "text": [
      "Computing variances: 100%|██████████| 48/48 [00:00<00:00, 4047.99it/s]\n",
      "Computing signatures: 100%|██████████| 10/10 [00:00<00:00, 166.67it/s]\n",
      "Building shuffle matrix:  27%|██▋       | 17/63 [00:00<00:00, 143.84it/s]"
     ]
    },
    {
     "name": "stdout",
     "output_type": "stream",
     "text": [
      "Preparing...\n"
     ]
    },
    {
     "name": "stderr",
     "output_type": "stream",
     "text": [
      "Building shuffle matrix: 100%|██████████| 63/63 [00:02<00:00, 27.03it/s] \n",
      "Computing variances: 100%|██████████| 2/2 [00:00<00:00, 1675.04it/s]\n"
     ]
    },
    {
     "name": "stdout",
     "output_type": "stream",
     "text": [
      "Done.\n"
     ]
    },
    {
     "name": "stderr",
     "output_type": "stream",
     "text": [
      "Computing variances: 100%|██████████| 48/48 [00:00<00:00, 3877.78it/s]\n",
      "Computing signatures: 100%|██████████| 10/10 [00:00<00:00, 130.57it/s]\n",
      "Building shuffle matrix:   0%|          | 0/63 [00:00<?, ?it/s]"
     ]
    },
    {
     "name": "stdout",
     "output_type": "stream",
     "text": [
      "Preparing...\n"
     ]
    },
    {
     "name": "stderr",
     "output_type": "stream",
     "text": [
      "Building shuffle matrix: 100%|██████████| 63/63 [00:02<00:00, 25.25it/s] \n",
      "Computing variances: 100%|██████████| 2/2 [00:00<00:00, 3215.26it/s]\n"
     ]
    },
    {
     "name": "stdout",
     "output_type": "stream",
     "text": [
      "Done.\n"
     ]
    },
    {
     "name": "stderr",
     "output_type": "stream",
     "text": [
      "Computing variances: 100%|██████████| 48/48 [00:00<00:00, 3819.59it/s]\n",
      "Computing signatures: 100%|██████████| 10/10 [00:00<00:00, 147.91it/s]\n",
      "Building shuffle matrix:  25%|██▌       | 16/63 [00:00<00:00, 156.48it/s]"
     ]
    },
    {
     "name": "stdout",
     "output_type": "stream",
     "text": [
      "Preparing...\n"
     ]
    },
    {
     "name": "stderr",
     "output_type": "stream",
     "text": [
      "Building shuffle matrix: 100%|██████████| 63/63 [00:02<00:00, 25.21it/s] \n",
      "Computing variances: 100%|██████████| 2/2 [00:00<00:00, 2195.40it/s]\n"
     ]
    },
    {
     "name": "stdout",
     "output_type": "stream",
     "text": [
      "Done.\n"
     ]
    },
    {
     "name": "stderr",
     "output_type": "stream",
     "text": [
      "Computing variances: 100%|██████████| 48/48 [00:00<00:00, 3377.85it/s]\n",
      "Computing signatures: 100%|██████████| 10/10 [00:00<00:00, 149.09it/s]\n",
      "Building shuffle matrix:  25%|██▌       | 16/63 [00:00<00:00, 144.86it/s]"
     ]
    },
    {
     "name": "stdout",
     "output_type": "stream",
     "text": [
      "Preparing...\n"
     ]
    },
    {
     "name": "stderr",
     "output_type": "stream",
     "text": [
      "Building shuffle matrix: 100%|██████████| 63/63 [00:02<00:00, 27.56it/s] \n",
      "Computing variances: 100%|██████████| 2/2 [00:00<00:00, 3109.19it/s]\n"
     ]
    },
    {
     "name": "stdout",
     "output_type": "stream",
     "text": [
      "Done.\n"
     ]
    },
    {
     "name": "stderr",
     "output_type": "stream",
     "text": [
      "Computing variances: 100%|██████████| 48/48 [00:00<00:00, 5472.02it/s]\n",
      "Computing signatures: 100%|██████████| 10/10 [00:00<00:00, 163.01it/s]\n",
      "Building shuffle matrix:  27%|██▋       | 17/63 [00:00<00:00, 144.58it/s]"
     ]
    },
    {
     "name": "stdout",
     "output_type": "stream",
     "text": [
      "Preparing...\n"
     ]
    },
    {
     "name": "stderr",
     "output_type": "stream",
     "text": [
      "Building shuffle matrix: 100%|██████████| 63/63 [00:02<00:00, 28.38it/s] \n",
      "Computing variances: 100%|██████████| 2/2 [00:00<00:00, 2024.77it/s]\n"
     ]
    },
    {
     "name": "stdout",
     "output_type": "stream",
     "text": [
      "Done.\n"
     ]
    },
    {
     "name": "stderr",
     "output_type": "stream",
     "text": [
      "Computing variances: 100%|██████████| 48/48 [00:00<00:00, 5351.73it/s]\n",
      "Computing signatures: 100%|██████████| 10/10 [00:00<00:00, 162.97it/s]\n",
      "Building shuffle matrix:  25%|██▌       | 16/63 [00:00<00:00, 152.91it/s]"
     ]
    },
    {
     "name": "stdout",
     "output_type": "stream",
     "text": [
      "Preparing...\n"
     ]
    },
    {
     "name": "stderr",
     "output_type": "stream",
     "text": [
      "Building shuffle matrix: 100%|██████████| 63/63 [00:02<00:00, 28.95it/s] \n",
      "Computing variances: 100%|██████████| 2/2 [00:00<00:00, 3252.66it/s]\n"
     ]
    },
    {
     "name": "stdout",
     "output_type": "stream",
     "text": [
      "Done.\n"
     ]
    },
    {
     "name": "stderr",
     "output_type": "stream",
     "text": [
      "Computing variances: 100%|██████████| 48/48 [00:00<00:00, 5118.26it/s]\n",
      "Computing signatures: 100%|██████████| 10/10 [00:00<00:00, 166.80it/s]\n",
      "Building shuffle matrix:  27%|██▋       | 17/63 [00:00<00:00, 150.92it/s]"
     ]
    },
    {
     "name": "stdout",
     "output_type": "stream",
     "text": [
      "Preparing...\n"
     ]
    },
    {
     "name": "stderr",
     "output_type": "stream",
     "text": [
      "Building shuffle matrix: 100%|██████████| 63/63 [00:02<00:00, 29.28it/s] \n",
      "Computing variances: 100%|██████████| 2/2 [00:00<00:00, 3072.75it/s]\n"
     ]
    },
    {
     "name": "stdout",
     "output_type": "stream",
     "text": [
      "Done.\n"
     ]
    },
    {
     "name": "stderr",
     "output_type": "stream",
     "text": [
      "Computing variances: 100%|██████████| 48/48 [00:00<00:00, 4941.86it/s]\n",
      "Computing signatures: 100%|██████████| 10/10 [00:00<00:00, 162.23it/s]\n",
      "Building shuffle matrix:  27%|██▋       | 17/63 [00:00<00:00, 148.10it/s]"
     ]
    },
    {
     "name": "stdout",
     "output_type": "stream",
     "text": [
      "Preparing...\n"
     ]
    },
    {
     "name": "stderr",
     "output_type": "stream",
     "text": [
      "Building shuffle matrix: 100%|██████████| 63/63 [00:02<00:00, 29.01it/s] \n",
      "Computing variances: 100%|██████████| 2/2 [00:00<00:00, 2004.45it/s]\n",
      "Computing variances:   0%|          | 0/48 [00:00<?, ?it/s]"
     ]
    },
    {
     "name": "stdout",
     "output_type": "stream",
     "text": [
      "Done.\n"
     ]
    },
    {
     "name": "stderr",
     "output_type": "stream",
     "text": [
      "Computing variances: 100%|██████████| 48/48 [00:00<00:00, 5283.89it/s]\n",
      "Computing signatures: 100%|██████████| 16/16 [00:00<00:00, 155.63it/s]\n",
      "Building shuffle matrix:   0%|          | 0/63 [00:00<?, ?it/s]"
     ]
    },
    {
     "name": "stdout",
     "output_type": "stream",
     "text": [
      "Preparing...\n"
     ]
    },
    {
     "name": "stderr",
     "output_type": "stream",
     "text": [
      "Building shuffle matrix: 100%|██████████| 63/63 [00:02<00:00, 29.03it/s] \n",
      "Computing variances: 100%|██████████| 4/4 [00:00<00:00, 2670.68it/s]\n",
      "Computing variances: 100%|██████████| 20/20 [00:00<00:00, 3211.32it/s]\n",
      "Computing signatures: 100%|██████████| 16/16 [00:00<00:00, 141.88it/s]\n",
      "Building shuffle matrix:   0%|          | 0/63 [00:00<?, ?it/s]"
     ]
    },
    {
     "name": "stdout",
     "output_type": "stream",
     "text": [
      "Done.\n",
      "Preparing...\n"
     ]
    },
    {
     "name": "stderr",
     "output_type": "stream",
     "text": [
      "Building shuffle matrix: 100%|██████████| 63/63 [00:02<00:00, 28.17it/s] \n",
      "Computing variances: 100%|██████████| 4/4 [00:00<00:00, 2522.51it/s]\n",
      "Computing variances: 100%|██████████| 20/20 [00:00<00:00, 3402.95it/s]\n",
      "Computing signatures: 100%|██████████| 16/16 [00:00<00:00, 148.87it/s]\n",
      "Building shuffle matrix:   0%|          | 0/63 [00:00<?, ?it/s]"
     ]
    },
    {
     "name": "stdout",
     "output_type": "stream",
     "text": [
      "Done.\n",
      "Preparing...\n"
     ]
    },
    {
     "name": "stderr",
     "output_type": "stream",
     "text": [
      "Building shuffle matrix: 100%|██████████| 63/63 [00:02<00:00, 29.02it/s] \n",
      "Computing variances: 100%|██████████| 4/4 [00:00<00:00, 1967.31it/s]\n",
      "Computing variances: 100%|██████████| 20/20 [00:00<00:00, 2240.37it/s]\n",
      "Computing signatures: 100%|██████████| 16/16 [00:00<00:00, 139.34it/s]\n",
      "Building shuffle matrix:   0%|          | 0/63 [00:00<?, ?it/s]"
     ]
    },
    {
     "name": "stdout",
     "output_type": "stream",
     "text": [
      "Done.\n",
      "Preparing...\n"
     ]
    },
    {
     "name": "stderr",
     "output_type": "stream",
     "text": [
      "Building shuffle matrix: 100%|██████████| 63/63 [00:02<00:00, 29.16it/s] \n",
      "Computing variances: 100%|██████████| 4/4 [00:00<00:00, 1748.36it/s]\n",
      "Computing variances: 100%|██████████| 20/20 [00:00<00:00, 3383.46it/s]\n",
      "Computing signatures: 100%|██████████| 16/16 [00:00<00:00, 150.05it/s]\n",
      "Building shuffle matrix:   0%|          | 0/63 [00:00<?, ?it/s]"
     ]
    },
    {
     "name": "stdout",
     "output_type": "stream",
     "text": [
      "Done.\n",
      "Preparing...\n"
     ]
    },
    {
     "name": "stderr",
     "output_type": "stream",
     "text": [
      "Building shuffle matrix: 100%|██████████| 63/63 [00:02<00:00, 28.30it/s] \n",
      "Computing variances: 100%|██████████| 4/4 [00:00<00:00, 2419.56it/s]\n",
      "Computing variances: 100%|██████████| 20/20 [00:00<00:00, 3266.34it/s]\n",
      "Computing signatures: 100%|██████████| 16/16 [00:00<00:00, 145.58it/s]\n",
      "Building shuffle matrix:   0%|          | 0/63 [00:00<?, ?it/s]"
     ]
    },
    {
     "name": "stdout",
     "output_type": "stream",
     "text": [
      "Done.\n",
      "Preparing...\n"
     ]
    },
    {
     "name": "stderr",
     "output_type": "stream",
     "text": [
      "Building shuffle matrix: 100%|██████████| 63/63 [00:02<00:00, 29.07it/s] \n",
      "Computing variances: 100%|██████████| 4/4 [00:00<00:00, 2594.28it/s]\n",
      "Computing variances: 100%|██████████| 20/20 [00:00<00:00, 2954.26it/s]\n",
      "Computing signatures: 100%|██████████| 16/16 [00:00<00:00, 145.65it/s]\n",
      "Building shuffle matrix:   0%|          | 0/63 [00:00<?, ?it/s]"
     ]
    },
    {
     "name": "stdout",
     "output_type": "stream",
     "text": [
      "Done.\n",
      "Preparing...\n"
     ]
    },
    {
     "name": "stderr",
     "output_type": "stream",
     "text": [
      "Building shuffle matrix: 100%|██████████| 63/63 [00:02<00:00, 28.45it/s] \n",
      "Computing variances: 100%|██████████| 4/4 [00:00<00:00, 2234.58it/s]\n",
      "Computing variances: 100%|██████████| 20/20 [00:00<00:00, 3524.33it/s]\n",
      "Computing signatures: 100%|██████████| 16/16 [00:00<00:00, 141.43it/s]\n",
      "Building shuffle matrix:   0%|          | 0/63 [00:00<?, ?it/s]"
     ]
    },
    {
     "name": "stdout",
     "output_type": "stream",
     "text": [
      "Done.\n",
      "Preparing...\n"
     ]
    },
    {
     "name": "stderr",
     "output_type": "stream",
     "text": [
      "Building shuffle matrix: 100%|██████████| 63/63 [00:02<00:00, 28.99it/s] \n",
      "Computing variances: 100%|██████████| 4/4 [00:00<00:00, 2209.85it/s]\n",
      "Computing variances: 100%|██████████| 20/20 [00:00<00:00, 3016.62it/s]\n",
      "Computing signatures: 100%|██████████| 16/16 [00:00<00:00, 146.54it/s]\n",
      "Building shuffle matrix:   0%|          | 0/63 [00:00<?, ?it/s]"
     ]
    },
    {
     "name": "stdout",
     "output_type": "stream",
     "text": [
      "Done.\n",
      "Preparing...\n"
     ]
    },
    {
     "name": "stderr",
     "output_type": "stream",
     "text": [
      "Building shuffle matrix: 100%|██████████| 63/63 [00:02<00:00, 28.28it/s] \n",
      "Computing variances: 100%|██████████| 4/4 [00:00<00:00, 2429.02it/s]\n",
      "Computing variances: 100%|██████████| 20/20 [00:00<00:00, 3669.08it/s]\n",
      "Computing signatures: 100%|██████████| 16/16 [00:00<00:00, 145.98it/s]\n",
      "Building shuffle matrix:   0%|          | 0/63 [00:00<?, ?it/s]"
     ]
    },
    {
     "name": "stdout",
     "output_type": "stream",
     "text": [
      "Done.\n",
      "Preparing...\n"
     ]
    },
    {
     "name": "stderr",
     "output_type": "stream",
     "text": [
      "Building shuffle matrix: 100%|██████████| 63/63 [00:02<00:00, 28.64it/s] \n",
      "Computing variances: 100%|██████████| 4/4 [00:00<00:00, 1356.39it/s]\n",
      "Computing variances: 100%|██████████| 20/20 [00:00<00:00, 2361.79it/s]\n",
      "Computing signatures:   0%|          | 0/16 [00:00<?, ?it/s]"
     ]
    },
    {
     "name": "stdout",
     "output_type": "stream",
     "text": [
      "Done.\n",
      "Preparing...\n"
     ]
    },
    {
     "name": "stderr",
     "output_type": "stream",
     "text": [
      "Computing signatures: 100%|██████████| 16/16 [00:00<00:00, 155.45it/s]\n",
      "Building shuffle matrix: 100%|██████████| 63/63 [00:02<00:00, 29.85it/s] \n",
      "Computing variances: 100%|██████████| 4/4 [00:00<00:00, 1803.42it/s]\n",
      "Computing variances: 100%|██████████| 20/20 [00:00<00:00, 3578.45it/s]\n",
      "Computing signatures: 100%|██████████| 16/16 [00:00<00:00, 146.21it/s]\n",
      "Building shuffle matrix:   0%|          | 0/63 [00:00<?, ?it/s]"
     ]
    },
    {
     "name": "stdout",
     "output_type": "stream",
     "text": [
      "Done.\n",
      "Preparing...\n"
     ]
    },
    {
     "name": "stderr",
     "output_type": "stream",
     "text": [
      "Building shuffle matrix: 100%|██████████| 63/63 [00:02<00:00, 28.60it/s] \n",
      "Computing variances: 100%|██████████| 4/4 [00:00<00:00, 2659.67it/s]\n",
      "Computing variances: 100%|██████████| 20/20 [00:00<00:00, 3595.79it/s]\n",
      "Computing signatures: 100%|██████████| 16/16 [00:00<00:00, 152.90it/s]\n",
      "Building shuffle matrix:   0%|          | 0/63 [00:00<?, ?it/s]"
     ]
    },
    {
     "name": "stdout",
     "output_type": "stream",
     "text": [
      "Done.\n",
      "Preparing...\n"
     ]
    },
    {
     "name": "stderr",
     "output_type": "stream",
     "text": [
      "Building shuffle matrix: 100%|██████████| 63/63 [00:02<00:00, 28.48it/s] \n",
      "Computing variances: 100%|██████████| 4/4 [00:00<00:00, 1939.11it/s]\n",
      "Computing variances: 100%|██████████| 20/20 [00:00<00:00, 2973.42it/s]\n",
      "Computing signatures: 100%|██████████| 16/16 [00:00<00:00, 146.03it/s]\n",
      "Building shuffle matrix:   0%|          | 0/63 [00:00<?, ?it/s]"
     ]
    },
    {
     "name": "stdout",
     "output_type": "stream",
     "text": [
      "Done.\n",
      "Preparing...\n"
     ]
    },
    {
     "name": "stderr",
     "output_type": "stream",
     "text": [
      "Building shuffle matrix: 100%|██████████| 63/63 [00:02<00:00, 28.62it/s] \n",
      "Computing variances: 100%|██████████| 4/4 [00:00<00:00, 2332.44it/s]\n",
      "Computing variances: 100%|██████████| 20/20 [00:00<00:00, 3536.21it/s]\n",
      "Computing signatures: 100%|██████████| 16/16 [00:00<00:00, 147.88it/s]\n",
      "Building shuffle matrix:   0%|          | 0/63 [00:00<?, ?it/s]"
     ]
    },
    {
     "name": "stdout",
     "output_type": "stream",
     "text": [
      "Done.\n",
      "Preparing...\n"
     ]
    },
    {
     "name": "stderr",
     "output_type": "stream",
     "text": [
      "Building shuffle matrix: 100%|██████████| 63/63 [00:02<00:00, 28.48it/s] \n",
      "Computing variances: 100%|██████████| 4/4 [00:00<00:00, 2339.27it/s]\n",
      "Computing variances: 100%|██████████| 20/20 [00:00<00:00, 3608.16it/s]\n",
      "Computing signatures: 100%|██████████| 16/16 [00:00<00:00, 149.98it/s]\n",
      "Building shuffle matrix:   0%|          | 0/63 [00:00<?, ?it/s]"
     ]
    },
    {
     "name": "stdout",
     "output_type": "stream",
     "text": [
      "Done.\n",
      "Preparing...\n"
     ]
    },
    {
     "name": "stderr",
     "output_type": "stream",
     "text": [
      "Building shuffle matrix: 100%|██████████| 63/63 [00:02<00:00, 29.23it/s] \n",
      "Computing variances: 100%|██████████| 4/4 [00:00<00:00, 2137.77it/s]\n",
      "Computing variances: 100%|██████████| 20/20 [00:00<00:00, 3315.79it/s]\n",
      "Computing signatures: 100%|██████████| 16/16 [00:00<00:00, 125.98it/s]\n",
      "Building shuffle matrix:   0%|          | 0/63 [00:00<?, ?it/s]"
     ]
    },
    {
     "name": "stdout",
     "output_type": "stream",
     "text": [
      "Done.\n",
      "Preparing...\n"
     ]
    },
    {
     "name": "stderr",
     "output_type": "stream",
     "text": [
      "Building shuffle matrix: 100%|██████████| 63/63 [00:02<00:00, 28.55it/s] \n",
      "Computing variances: 100%|██████████| 4/4 [00:00<00:00, 2428.66it/s]\n",
      "Computing variances: 100%|██████████| 20/20 [00:00<00:00, 3605.52it/s]\n",
      "Computing signatures: 100%|██████████| 16/16 [00:00<00:00, 147.38it/s]\n",
      "Building shuffle matrix:   0%|          | 0/63 [00:00<?, ?it/s]"
     ]
    },
    {
     "name": "stdout",
     "output_type": "stream",
     "text": [
      "Done.\n",
      "Preparing...\n"
     ]
    },
    {
     "name": "stderr",
     "output_type": "stream",
     "text": [
      "Building shuffle matrix: 100%|██████████| 63/63 [00:02<00:00, 28.76it/s] \n",
      "Computing variances: 100%|██████████| 4/4 [00:00<00:00, 2636.68it/s]\n",
      "Computing variances: 100%|██████████| 20/20 [00:00<00:00, 3699.33it/s]\n",
      "Computing signatures: 100%|██████████| 16/16 [00:00<00:00, 149.11it/s]\n",
      "Building shuffle matrix:   0%|          | 0/63 [00:00<?, ?it/s]"
     ]
    },
    {
     "name": "stdout",
     "output_type": "stream",
     "text": [
      "Done.\n",
      "Preparing...\n"
     ]
    },
    {
     "name": "stderr",
     "output_type": "stream",
     "text": [
      "Building shuffle matrix: 100%|██████████| 63/63 [00:02<00:00, 28.09it/s] \n",
      "Computing variances: 100%|██████████| 4/4 [00:00<00:00, 2693.40it/s]\n",
      "Computing variances: 100%|██████████| 20/20 [00:00<00:00, 3180.15it/s]\n",
      "Computing signatures: 100%|██████████| 16/16 [00:00<00:00, 142.52it/s]\n",
      "Building shuffle matrix:   0%|          | 0/63 [00:00<?, ?it/s]"
     ]
    },
    {
     "name": "stdout",
     "output_type": "stream",
     "text": [
      "Done.\n",
      "Preparing...\n"
     ]
    },
    {
     "name": "stderr",
     "output_type": "stream",
     "text": [
      "Building shuffle matrix: 100%|██████████| 63/63 [00:02<00:00, 29.38it/s] \n",
      "Computing variances: 100%|██████████| 4/4 [00:00<00:00, 2289.78it/s]\n",
      "Computing variances: 100%|██████████| 20/20 [00:00<00:00, 3510.61it/s]\n"
     ]
    },
    {
     "name": "stdout",
     "output_type": "stream",
     "text": [
      "Done.\n"
     ]
    },
    {
     "name": "stderr",
     "output_type": "stream",
     "text": [
      "Computing signatures:  24%|██▍       | 60/248 [00:00<00:00, 595.71it/s]"
     ]
    },
    {
     "name": "stdout",
     "output_type": "stream",
     "text": [
      "Preparing...\n"
     ]
    },
    {
     "name": "stderr",
     "output_type": "stream",
     "text": [
      "Computing signatures: 100%|██████████| 248/248 [00:00<00:00, 595.29it/s]\n",
      "Building shuffle matrix: 100%|██████████| 63/63 [00:02<00:00, 28.64it/s] \n",
      "Computing variances: 100%|██████████| 62/62 [00:00<00:00, 3836.91it/s]"
     ]
    },
    {
     "name": "stdout",
     "output_type": "stream",
     "text": [
      "Done.\n"
     ]
    },
    {
     "name": "stderr",
     "output_type": "stream",
     "text": [
      "\n",
      "Computing variances: 100%|██████████| 620/620 [00:00<00:00, 4331.64it/s]\n",
      "Computing signatures:  50%|█████     | 124/248 [00:00<00:00, 605.27it/s]"
     ]
    },
    {
     "name": "stdout",
     "output_type": "stream",
     "text": [
      "Preparing...\n"
     ]
    },
    {
     "name": "stderr",
     "output_type": "stream",
     "text": [
      "Computing signatures: 100%|██████████| 248/248 [00:00<00:00, 617.76it/s]\n",
      "Building shuffle matrix: 100%|██████████| 63/63 [00:02<00:00, 28.77it/s] \n",
      "Computing variances: 100%|██████████| 62/62 [00:00<00:00, 4163.01it/s]"
     ]
    },
    {
     "name": "stdout",
     "output_type": "stream",
     "text": [
      "Done.\n"
     ]
    },
    {
     "name": "stderr",
     "output_type": "stream",
     "text": [
      "\n",
      "Computing variances: 100%|██████████| 620/620 [00:00<00:00, 4269.56it/s]\n",
      "Computing signatures:  47%|████▋     | 116/248 [00:00<00:00, 598.62it/s]"
     ]
    },
    {
     "name": "stdout",
     "output_type": "stream",
     "text": [
      "Preparing...\n"
     ]
    },
    {
     "name": "stderr",
     "output_type": "stream",
     "text": [
      "Computing signatures: 100%|██████████| 248/248 [00:00<00:00, 595.77it/s]\n",
      "Building shuffle matrix: 100%|██████████| 63/63 [00:02<00:00, 28.61it/s] \n",
      "Computing variances: 100%|██████████| 62/62 [00:00<00:00, 3935.21it/s]"
     ]
    },
    {
     "name": "stdout",
     "output_type": "stream",
     "text": [
      "Done.\n"
     ]
    },
    {
     "name": "stderr",
     "output_type": "stream",
     "text": [
      "\n",
      "Computing variances: 100%|██████████| 620/620 [00:00<00:00, 4038.64it/s]\n",
      "Computing signatures:  51%|█████     | 126/248 [00:00<00:00, 622.23it/s]"
     ]
    },
    {
     "name": "stdout",
     "output_type": "stream",
     "text": [
      "Preparing...\n"
     ]
    },
    {
     "name": "stderr",
     "output_type": "stream",
     "text": [
      "Computing signatures: 100%|██████████| 248/248 [00:00<00:00, 618.84it/s]\n",
      "Building shuffle matrix: 100%|██████████| 63/63 [00:02<00:00, 28.53it/s] \n",
      "Computing variances: 100%|██████████| 62/62 [00:00<00:00, 4052.59it/s]"
     ]
    },
    {
     "name": "stdout",
     "output_type": "stream",
     "text": [
      "Done.\n"
     ]
    },
    {
     "name": "stderr",
     "output_type": "stream",
     "text": [
      "\n",
      "Computing variances: 100%|██████████| 620/620 [00:00<00:00, 4442.12it/s]\n",
      "Computing signatures:  49%|████▉     | 122/248 [00:00<00:00, 606.75it/s]"
     ]
    },
    {
     "name": "stdout",
     "output_type": "stream",
     "text": [
      "Preparing...\n"
     ]
    },
    {
     "name": "stderr",
     "output_type": "stream",
     "text": [
      "Computing signatures: 100%|██████████| 248/248 [00:00<00:00, 607.13it/s]\n",
      "Building shuffle matrix: 100%|██████████| 63/63 [00:02<00:00, 29.25it/s] \n",
      "Computing variances: 100%|██████████| 62/62 [00:00<00:00, 4279.41it/s]"
     ]
    },
    {
     "name": "stdout",
     "output_type": "stream",
     "text": [
      "Done.\n"
     ]
    },
    {
     "name": "stderr",
     "output_type": "stream",
     "text": [
      "\n",
      "Computing variances: 100%|██████████| 620/620 [00:00<00:00, 4131.62it/s]\n",
      "Computing signatures:  46%|████▋     | 115/248 [00:00<00:00, 543.24it/s]"
     ]
    },
    {
     "name": "stdout",
     "output_type": "stream",
     "text": [
      "Preparing...\n"
     ]
    },
    {
     "name": "stderr",
     "output_type": "stream",
     "text": [
      "Computing signatures: 100%|██████████| 248/248 [00:00<00:00, 595.80it/s]\n",
      "Building shuffle matrix: 100%|██████████| 63/63 [00:02<00:00, 28.26it/s] \n",
      "Computing variances: 100%|██████████| 62/62 [00:00<00:00, 3948.30it/s]"
     ]
    },
    {
     "name": "stdout",
     "output_type": "stream",
     "text": [
      "Done.\n"
     ]
    },
    {
     "name": "stderr",
     "output_type": "stream",
     "text": [
      "\n",
      "Computing variances: 100%|██████████| 620/620 [00:00<00:00, 3995.69it/s]\n",
      "Computing signatures:  50%|█████     | 124/248 [00:00<00:00, 627.53it/s]"
     ]
    },
    {
     "name": "stdout",
     "output_type": "stream",
     "text": [
      "Preparing...\n"
     ]
    },
    {
     "name": "stderr",
     "output_type": "stream",
     "text": [
      "Computing signatures: 100%|██████████| 248/248 [00:00<00:00, 597.66it/s]\n",
      "Building shuffle matrix: 100%|██████████| 63/63 [00:02<00:00, 28.26it/s] \n",
      "Computing variances: 100%|██████████| 62/62 [00:00<00:00, 4008.31it/s]"
     ]
    },
    {
     "name": "stdout",
     "output_type": "stream",
     "text": [
      "Done.\n"
     ]
    },
    {
     "name": "stderr",
     "output_type": "stream",
     "text": [
      "\n",
      "Computing variances: 100%|██████████| 620/620 [00:00<00:00, 4404.65it/s]\n",
      "Computing signatures:  51%|█████     | 127/248 [00:00<00:00, 635.52it/s]"
     ]
    },
    {
     "name": "stdout",
     "output_type": "stream",
     "text": [
      "Preparing...\n"
     ]
    },
    {
     "name": "stderr",
     "output_type": "stream",
     "text": [
      "Computing signatures: 100%|██████████| 248/248 [00:00<00:00, 621.66it/s]\n",
      "Building shuffle matrix: 100%|██████████| 63/63 [00:02<00:00, 29.16it/s] \n",
      "Computing variances: 100%|██████████| 62/62 [00:00<00:00, 4187.48it/s]"
     ]
    },
    {
     "name": "stdout",
     "output_type": "stream",
     "text": [
      "Done.\n"
     ]
    },
    {
     "name": "stderr",
     "output_type": "stream",
     "text": [
      "\n",
      "Computing variances: 100%|██████████| 620/620 [00:00<00:00, 4399.54it/s]\n",
      "Computing signatures:  44%|████▍     | 109/248 [00:00<00:00, 555.76it/s]"
     ]
    },
    {
     "name": "stdout",
     "output_type": "stream",
     "text": [
      "Preparing...\n"
     ]
    },
    {
     "name": "stderr",
     "output_type": "stream",
     "text": [
      "Computing signatures: 100%|██████████| 248/248 [00:00<00:00, 564.49it/s]\n",
      "Building shuffle matrix: 100%|██████████| 63/63 [00:02<00:00, 28.82it/s] \n",
      "Computing variances: 100%|██████████| 62/62 [00:00<00:00, 4023.38it/s]"
     ]
    },
    {
     "name": "stdout",
     "output_type": "stream",
     "text": [
      "Done.\n"
     ]
    },
    {
     "name": "stderr",
     "output_type": "stream",
     "text": [
      "\n",
      "Computing variances: 100%|██████████| 620/620 [00:00<00:00, 4395.76it/s]\n",
      "Computing signatures:  51%|█████     | 126/248 [00:00<00:00, 622.02it/s]"
     ]
    },
    {
     "name": "stdout",
     "output_type": "stream",
     "text": [
      "Preparing...\n"
     ]
    },
    {
     "name": "stderr",
     "output_type": "stream",
     "text": [
      "Computing signatures: 100%|██████████| 248/248 [00:00<00:00, 598.20it/s]\n",
      "Building shuffle matrix: 100%|██████████| 63/63 [00:02<00:00, 29.14it/s] \n",
      "Computing variances: 100%|██████████| 62/62 [00:00<00:00, 3907.19it/s]"
     ]
    },
    {
     "name": "stdout",
     "output_type": "stream",
     "text": [
      "Done.\n"
     ]
    },
    {
     "name": "stderr",
     "output_type": "stream",
     "text": [
      "\n",
      "Computing variances: 100%|██████████| 620/620 [00:00<00:00, 4425.64it/s]\n",
      "Computing signatures:   5%|▍         | 39/801 [00:00<00:01, 388.30it/s]"
     ]
    },
    {
     "name": "stdout",
     "output_type": "stream",
     "text": [
      "Preparing...\n"
     ]
    },
    {
     "name": "stderr",
     "output_type": "stream",
     "text": [
      "Computing signatures: 100%|██████████| 801/801 [00:01<00:00, 471.29it/s]\n",
      "Building shuffle matrix: 100%|██████████| 63/63 [00:02<00:00, 28.68it/s] \n",
      "Computing variances:  18%|█▊        | 37/200 [00:00<00:00, 365.40it/s]"
     ]
    },
    {
     "name": "stdout",
     "output_type": "stream",
     "text": [
      "Done.\n"
     ]
    },
    {
     "name": "stderr",
     "output_type": "stream",
     "text": [
      "Computing variances: 100%|██████████| 200/200 [00:00<00:00, 436.92it/s]\n",
      "Computing variances: 100%|██████████| 3306/3306 [00:06<00:00, 484.56it/s]\n",
      "Computing signatures:   6%|▌         | 49/801 [00:00<00:01, 489.40it/s]"
     ]
    },
    {
     "name": "stdout",
     "output_type": "stream",
     "text": [
      "Preparing...\n"
     ]
    },
    {
     "name": "stderr",
     "output_type": "stream",
     "text": [
      "Computing signatures: 100%|██████████| 801/801 [00:01<00:00, 468.54it/s]\n",
      "Building shuffle matrix: 100%|██████████| 63/63 [00:02<00:00, 29.28it/s] \n",
      "Computing variances:  25%|██▌       | 50/200 [00:00<00:00, 496.69it/s]"
     ]
    },
    {
     "name": "stdout",
     "output_type": "stream",
     "text": [
      "Done.\n"
     ]
    },
    {
     "name": "stderr",
     "output_type": "stream",
     "text": [
      "Computing variances: 100%|██████████| 200/200 [00:00<00:00, 498.39it/s]\n",
      "Computing variances: 100%|██████████| 3306/3306 [00:06<00:00, 514.64it/s]\n",
      "Computing signatures:   6%|▌         | 49/801 [00:00<00:01, 489.93it/s]"
     ]
    },
    {
     "name": "stdout",
     "output_type": "stream",
     "text": [
      "Preparing...\n"
     ]
    },
    {
     "name": "stderr",
     "output_type": "stream",
     "text": [
      "Computing signatures: 100%|██████████| 801/801 [00:01<00:00, 467.79it/s]\n",
      "Building shuffle matrix: 100%|██████████| 63/63 [00:02<00:00, 28.68it/s] \n",
      "Computing variances:  26%|██▌       | 52/200 [00:00<00:00, 518.14it/s]"
     ]
    },
    {
     "name": "stdout",
     "output_type": "stream",
     "text": [
      "Done.\n"
     ]
    },
    {
     "name": "stderr",
     "output_type": "stream",
     "text": [
      "Computing variances: 100%|██████████| 200/200 [00:00<00:00, 507.35it/s]\n",
      "Computing variances: 100%|██████████| 3306/3306 [00:06<00:00, 495.94it/s]\n",
      "Computing signatures:  12%|█▏        | 95/801 [00:00<00:01, 475.51it/s]"
     ]
    },
    {
     "name": "stdout",
     "output_type": "stream",
     "text": [
      "Preparing...\n"
     ]
    },
    {
     "name": "stderr",
     "output_type": "stream",
     "text": [
      "Computing signatures: 100%|██████████| 801/801 [00:01<00:00, 464.39it/s]\n",
      "Building shuffle matrix: 100%|██████████| 63/63 [00:02<00:00, 29.32it/s] \n",
      "Computing variances:  26%|██▋       | 53/200 [00:00<00:00, 521.88it/s]"
     ]
    },
    {
     "name": "stdout",
     "output_type": "stream",
     "text": [
      "Done.\n"
     ]
    },
    {
     "name": "stderr",
     "output_type": "stream",
     "text": [
      "Computing variances: 100%|██████████| 200/200 [00:00<00:00, 486.25it/s]\n",
      "Computing variances: 100%|██████████| 3306/3306 [00:07<00:00, 463.80it/s]\n",
      "Computing signatures:  11%|█▏        | 91/801 [00:00<00:01, 458.24it/s]"
     ]
    },
    {
     "name": "stdout",
     "output_type": "stream",
     "text": [
      "Preparing...\n"
     ]
    },
    {
     "name": "stderr",
     "output_type": "stream",
     "text": [
      "Computing signatures: 100%|██████████| 801/801 [00:01<00:00, 461.15it/s]\n",
      "Building shuffle matrix: 100%|██████████| 63/63 [00:02<00:00, 28.86it/s] \n",
      "Computing variances:  45%|████▌     | 90/200 [00:00<00:00, 444.75it/s]"
     ]
    },
    {
     "name": "stdout",
     "output_type": "stream",
     "text": [
      "Done.\n"
     ]
    },
    {
     "name": "stderr",
     "output_type": "stream",
     "text": [
      "Computing variances: 100%|██████████| 200/200 [00:00<00:00, 488.57it/s]\n",
      "Computing variances: 100%|██████████| 3306/3306 [00:07<00:00, 469.72it/s]\n",
      "Computing signatures:   4%|▍         | 35/801 [00:00<00:02, 349.39it/s]"
     ]
    },
    {
     "name": "stdout",
     "output_type": "stream",
     "text": [
      "Preparing...\n"
     ]
    },
    {
     "name": "stderr",
     "output_type": "stream",
     "text": [
      "Computing signatures: 100%|██████████| 801/801 [00:01<00:00, 455.38it/s]\n",
      "Building shuffle matrix: 100%|██████████| 63/63 [00:02<00:00, 27.31it/s] \n",
      "Computing variances:  26%|██▌       | 51/200 [00:00<00:00, 500.74it/s]"
     ]
    },
    {
     "name": "stdout",
     "output_type": "stream",
     "text": [
      "Done.\n"
     ]
    },
    {
     "name": "stderr",
     "output_type": "stream",
     "text": [
      "Computing variances: 100%|██████████| 200/200 [00:00<00:00, 447.85it/s]\n",
      "Computing variances: 100%|██████████| 3306/3306 [00:07<00:00, 448.61it/s]\n",
      "Computing signatures:  10%|█         | 82/801 [00:00<00:01, 418.35it/s]"
     ]
    },
    {
     "name": "stdout",
     "output_type": "stream",
     "text": [
      "Preparing...\n"
     ]
    },
    {
     "name": "stderr",
     "output_type": "stream",
     "text": [
      "Computing signatures: 100%|██████████| 801/801 [00:01<00:00, 451.02it/s]\n",
      "Building shuffle matrix: 100%|██████████| 63/63 [00:02<00:00, 28.97it/s] \n",
      "Computing variances:  23%|██▎       | 46/200 [00:00<00:00, 458.35it/s]"
     ]
    },
    {
     "name": "stdout",
     "output_type": "stream",
     "text": [
      "Done.\n"
     ]
    },
    {
     "name": "stderr",
     "output_type": "stream",
     "text": [
      "Computing variances: 100%|██████████| 200/200 [00:00<00:00, 468.79it/s]\n",
      "Computing variances: 100%|██████████| 3306/3306 [00:07<00:00, 426.77it/s]\n",
      "Computing signatures:  12%|█▏        | 96/801 [00:00<00:01, 478.38it/s]"
     ]
    },
    {
     "name": "stdout",
     "output_type": "stream",
     "text": [
      "Preparing...\n"
     ]
    },
    {
     "name": "stderr",
     "output_type": "stream",
     "text": [
      "Computing signatures: 100%|██████████| 801/801 [00:01<00:00, 456.52it/s]\n",
      "Building shuffle matrix: 100%|██████████| 63/63 [00:02<00:00, 27.99it/s] \n",
      "Computing variances:  24%|██▍       | 48/200 [00:00<00:00, 476.26it/s]"
     ]
    },
    {
     "name": "stdout",
     "output_type": "stream",
     "text": [
      "Done.\n"
     ]
    },
    {
     "name": "stderr",
     "output_type": "stream",
     "text": [
      "Computing variances: 100%|██████████| 200/200 [00:00<00:00, 461.58it/s]\n",
      "Computing variances: 100%|██████████| 3306/3306 [00:07<00:00, 457.97it/s]\n",
      "Computing signatures:  11%|█▏        | 91/801 [00:00<00:01, 460.45it/s]"
     ]
    },
    {
     "name": "stdout",
     "output_type": "stream",
     "text": [
      "Preparing...\n"
     ]
    },
    {
     "name": "stderr",
     "output_type": "stream",
     "text": [
      "Computing signatures: 100%|██████████| 801/801 [00:01<00:00, 454.20it/s]\n",
      "Building shuffle matrix: 100%|██████████| 63/63 [00:02<00:00, 28.65it/s] \n",
      "Computing variances:  24%|██▎       | 47/200 [00:00<00:00, 459.69it/s]"
     ]
    },
    {
     "name": "stdout",
     "output_type": "stream",
     "text": [
      "Done.\n"
     ]
    },
    {
     "name": "stderr",
     "output_type": "stream",
     "text": [
      "Computing variances: 100%|██████████| 200/200 [00:00<00:00, 480.32it/s]\n",
      "Computing variances: 100%|██████████| 3306/3306 [00:07<00:00, 456.34it/s]\n",
      "Computing signatures:  11%|█         | 90/801 [00:00<00:01, 451.74it/s]"
     ]
    },
    {
     "name": "stdout",
     "output_type": "stream",
     "text": [
      "Preparing...\n"
     ]
    },
    {
     "name": "stderr",
     "output_type": "stream",
     "text": [
      "Computing signatures: 100%|██████████| 801/801 [00:01<00:00, 457.49it/s]\n",
      "Building shuffle matrix: 100%|██████████| 63/63 [00:02<00:00, 24.34it/s] \n",
      "Computing variances:  19%|█▉        | 38/200 [00:00<00:00, 378.99it/s]"
     ]
    },
    {
     "name": "stdout",
     "output_type": "stream",
     "text": [
      "Done.\n"
     ]
    },
    {
     "name": "stderr",
     "output_type": "stream",
     "text": [
      "Computing variances: 100%|██████████| 200/200 [00:00<00:00, 420.07it/s]\n",
      "Computing variances: 100%|██████████| 3306/3306 [00:08<00:00, 388.48it/s]\n",
      "Computing signatures: 100%|██████████| 23/23 [00:00<00:00, 214.65it/s]\n",
      "Building shuffle matrix:   0%|          | 0/63 [00:00<?, ?it/s]"
     ]
    },
    {
     "name": "stdout",
     "output_type": "stream",
     "text": [
      "Preparing...\n"
     ]
    },
    {
     "name": "stderr",
     "output_type": "stream",
     "text": [
      "Building shuffle matrix: 100%|██████████| 63/63 [00:02<00:00, 25.01it/s] \n",
      "Computing variances: 100%|██████████| 6/6 [00:00<00:00, 3562.55it/s]"
     ]
    },
    {
     "name": "stdout",
     "output_type": "stream",
     "text": [
      "Done.\n"
     ]
    },
    {
     "name": "stderr",
     "output_type": "stream",
     "text": [
      "\n",
      "Computing variances: 100%|██████████| 27/27 [00:00<00:00, 6416.22it/s]\n",
      "Computing signatures: 100%|██████████| 23/23 [00:00<00:00, 265.67it/s]\n",
      "Building shuffle matrix:  27%|██▋       | 17/63 [00:00<00:00, 149.24it/s]"
     ]
    },
    {
     "name": "stdout",
     "output_type": "stream",
     "text": [
      "Preparing...\n"
     ]
    },
    {
     "name": "stderr",
     "output_type": "stream",
     "text": [
      "Building shuffle matrix: 100%|██████████| 63/63 [00:02<00:00, 28.45it/s] \n",
      "Computing variances: 100%|██████████| 6/6 [00:00<00:00, 2480.37it/s]\n"
     ]
    },
    {
     "name": "stdout",
     "output_type": "stream",
     "text": [
      "Done.\n"
     ]
    },
    {
     "name": "stderr",
     "output_type": "stream",
     "text": [
      "Computing variances: 100%|██████████| 27/27 [00:00<00:00, 4766.05it/s]\n",
      "Computing signatures: 100%|██████████| 23/23 [00:00<00:00, 275.69it/s]\n",
      "Building shuffle matrix:  25%|██▌       | 16/63 [00:00<00:00, 144.44it/s]"
     ]
    },
    {
     "name": "stdout",
     "output_type": "stream",
     "text": [
      "Preparing...\n"
     ]
    },
    {
     "name": "stderr",
     "output_type": "stream",
     "text": [
      "Building shuffle matrix: 100%|██████████| 63/63 [00:02<00:00, 28.74it/s] \n",
      "Computing variances: 100%|██████████| 6/6 [00:00<00:00, 3229.29it/s]\n",
      "Computing variances: 100%|██████████| 27/27 [00:00<00:00, 4616.83it/s]"
     ]
    },
    {
     "name": "stdout",
     "output_type": "stream",
     "text": [
      "Done.\n",
      "Preparing...\n"
     ]
    },
    {
     "name": "stderr",
     "output_type": "stream",
     "text": [
      "\n",
      "Computing signatures: 100%|██████████| 23/23 [00:00<00:00, 265.29it/s]\n",
      "Building shuffle matrix: 100%|██████████| 63/63 [00:02<00:00, 28.48it/s] \n",
      "Computing variances: 100%|██████████| 6/6 [00:00<00:00, 2895.95it/s]\n",
      "Computing variances:   0%|          | 0/27 [00:00<?, ?it/s]"
     ]
    },
    {
     "name": "stdout",
     "output_type": "stream",
     "text": [
      "Done.\n"
     ]
    },
    {
     "name": "stderr",
     "output_type": "stream",
     "text": [
      "Computing variances: 100%|██████████| 27/27 [00:00<00:00, 4761.85it/s]\n",
      "Computing signatures: 100%|██████████| 23/23 [00:00<00:00, 250.96it/s]\n",
      "Building shuffle matrix:  25%|██▌       | 16/63 [00:00<00:00, 157.92it/s]"
     ]
    },
    {
     "name": "stdout",
     "output_type": "stream",
     "text": [
      "Preparing...\n"
     ]
    },
    {
     "name": "stderr",
     "output_type": "stream",
     "text": [
      "Building shuffle matrix: 100%|██████████| 63/63 [00:02<00:00, 28.43it/s] \n",
      "Computing variances: 100%|██████████| 6/6 [00:00<00:00, 3898.66it/s]\n",
      "Computing variances:   0%|          | 0/27 [00:00<?, ?it/s]"
     ]
    },
    {
     "name": "stdout",
     "output_type": "stream",
     "text": [
      "Done.\n"
     ]
    },
    {
     "name": "stderr",
     "output_type": "stream",
     "text": [
      "Computing variances: 100%|██████████| 27/27 [00:00<00:00, 3965.20it/s]\n",
      "Computing signatures: 100%|██████████| 23/23 [00:00<00:00, 279.49it/s]\n",
      "Building shuffle matrix:  27%|██▋       | 17/63 [00:00<00:00, 145.28it/s]"
     ]
    },
    {
     "name": "stdout",
     "output_type": "stream",
     "text": [
      "Preparing...\n"
     ]
    },
    {
     "name": "stderr",
     "output_type": "stream",
     "text": [
      "Building shuffle matrix: 100%|██████████| 63/63 [00:02<00:00, 28.24it/s] \n",
      "Computing variances: 100%|██████████| 6/6 [00:00<00:00, 3566.59it/s]"
     ]
    },
    {
     "name": "stdout",
     "output_type": "stream",
     "text": [
      "Done.\n"
     ]
    },
    {
     "name": "stderr",
     "output_type": "stream",
     "text": [
      "\n",
      "Computing variances: 100%|██████████| 27/27 [00:00<00:00, 4571.73it/s]\n",
      "Computing signatures: 100%|██████████| 23/23 [00:00<00:00, 249.62it/s]\n",
      "Building shuffle matrix:  25%|██▌       | 16/63 [00:00<00:00, 146.70it/s]"
     ]
    },
    {
     "name": "stdout",
     "output_type": "stream",
     "text": [
      "Preparing...\n"
     ]
    },
    {
     "name": "stderr",
     "output_type": "stream",
     "text": [
      "Building shuffle matrix: 100%|██████████| 63/63 [00:02<00:00, 28.41it/s] \n",
      "Computing variances: 100%|██████████| 6/6 [00:00<00:00, 2752.17it/s]\n",
      "Computing variances:   0%|          | 0/27 [00:00<?, ?it/s]"
     ]
    },
    {
     "name": "stdout",
     "output_type": "stream",
     "text": [
      "Done.\n"
     ]
    },
    {
     "name": "stderr",
     "output_type": "stream",
     "text": [
      "Computing variances: 100%|██████████| 27/27 [00:00<00:00, 3676.94it/s]\n",
      "Computing signatures: 100%|██████████| 23/23 [00:00<00:00, 278.34it/s]\n",
      "Building shuffle matrix:  25%|██▌       | 16/63 [00:00<00:00, 152.39it/s]"
     ]
    },
    {
     "name": "stdout",
     "output_type": "stream",
     "text": [
      "Preparing...\n"
     ]
    },
    {
     "name": "stderr",
     "output_type": "stream",
     "text": [
      "Building shuffle matrix: 100%|██████████| 63/63 [00:02<00:00, 29.39it/s] \n",
      "Computing variances: 100%|██████████| 6/6 [00:00<00:00, 4231.68it/s]\n"
     ]
    },
    {
     "name": "stdout",
     "output_type": "stream",
     "text": [
      "Done.\n"
     ]
    },
    {
     "name": "stderr",
     "output_type": "stream",
     "text": [
      "Computing variances: 100%|██████████| 27/27 [00:00<00:00, 4000.50it/s]\n",
      "Computing signatures: 100%|██████████| 23/23 [00:00<00:00, 283.08it/s]\n",
      "Building shuffle matrix:  27%|██▋       | 17/63 [00:00<00:00, 143.41it/s]"
     ]
    },
    {
     "name": "stdout",
     "output_type": "stream",
     "text": [
      "Preparing...\n"
     ]
    },
    {
     "name": "stderr",
     "output_type": "stream",
     "text": [
      "Building shuffle matrix: 100%|██████████| 63/63 [00:02<00:00, 28.20it/s] \n",
      "Computing variances: 100%|██████████| 6/6 [00:00<00:00, 4995.20it/s]\n",
      "Computing variances:   0%|          | 0/27 [00:00<?, ?it/s]"
     ]
    },
    {
     "name": "stdout",
     "output_type": "stream",
     "text": [
      "Done.\n"
     ]
    },
    {
     "name": "stderr",
     "output_type": "stream",
     "text": [
      "Computing variances: 100%|██████████| 27/27 [00:00<00:00, 3863.74it/s]\n",
      "Computing signatures: 100%|██████████| 23/23 [00:00<00:00, 283.09it/s]\n",
      "Building shuffle matrix:  25%|██▌       | 16/63 [00:00<00:00, 149.49it/s]"
     ]
    },
    {
     "name": "stdout",
     "output_type": "stream",
     "text": [
      "Preparing...\n"
     ]
    },
    {
     "name": "stderr",
     "output_type": "stream",
     "text": [
      "Building shuffle matrix: 100%|██████████| 63/63 [00:02<00:00, 29.50it/s] \n",
      "Computing variances: 100%|██████████| 6/6 [00:00<00:00, 5592.41it/s]\n",
      "Computing variances:   0%|          | 0/27 [00:00<?, ?it/s]"
     ]
    },
    {
     "name": "stdout",
     "output_type": "stream",
     "text": [
      "Done.\n"
     ]
    },
    {
     "name": "stderr",
     "output_type": "stream",
     "text": [
      "Computing variances: 100%|██████████| 27/27 [00:00<00:00, 4953.04it/s]\n",
      "Computing signatures: 100%|██████████| 120/120 [00:00<00:00, 851.63it/s]\n",
      "Building shuffle matrix:   0%|          | 0/63 [00:00<?, ?it/s]"
     ]
    },
    {
     "name": "stdout",
     "output_type": "stream",
     "text": [
      "Preparing...\n"
     ]
    },
    {
     "name": "stderr",
     "output_type": "stream",
     "text": [
      "Building shuffle matrix: 100%|██████████| 63/63 [00:02<00:00, 29.16it/s] \n",
      "Computing variances: 100%|██████████| 13/13 [00:00<00:00, 3372.46it/s]"
     ]
    },
    {
     "name": "stdout",
     "output_type": "stream",
     "text": [
      "Done.\n"
     ]
    },
    {
     "name": "stderr",
     "output_type": "stream",
     "text": [
      "\n",
      "Computing variances: 100%|██████████| 67/67 [00:00<00:00, 6406.58it/s]\n",
      "Computing signatures: 100%|██████████| 120/120 [00:00<00:00, 837.04it/s]\n",
      "Building shuffle matrix:   0%|          | 0/63 [00:00<?, ?it/s]"
     ]
    },
    {
     "name": "stdout",
     "output_type": "stream",
     "text": [
      "Preparing...\n"
     ]
    },
    {
     "name": "stderr",
     "output_type": "stream",
     "text": [
      "Building shuffle matrix: 100%|██████████| 63/63 [00:02<00:00, 29.46it/s] \n",
      "Computing variances: 100%|██████████| 13/13 [00:00<00:00, 3267.18it/s]"
     ]
    },
    {
     "name": "stdout",
     "output_type": "stream",
     "text": [
      "Done.\n"
     ]
    },
    {
     "name": "stderr",
     "output_type": "stream",
     "text": [
      "\n",
      "Computing variances: 100%|██████████| 67/67 [00:00<00:00, 5879.41it/s]\n",
      "Computing signatures: 100%|██████████| 120/120 [00:00<00:00, 801.51it/s]\n",
      "Building shuffle matrix:   0%|          | 0/63 [00:00<?, ?it/s]"
     ]
    },
    {
     "name": "stdout",
     "output_type": "stream",
     "text": [
      "Preparing...\n"
     ]
    },
    {
     "name": "stderr",
     "output_type": "stream",
     "text": [
      "Building shuffle matrix: 100%|██████████| 63/63 [00:02<00:00, 29.04it/s] \n",
      "Computing variances: 100%|██████████| 13/13 [00:00<00:00, 3538.35it/s]\n",
      "Computing variances:   0%|          | 0/67 [00:00<?, ?it/s]"
     ]
    },
    {
     "name": "stdout",
     "output_type": "stream",
     "text": [
      "Done.\n"
     ]
    },
    {
     "name": "stderr",
     "output_type": "stream",
     "text": [
      "Computing variances: 100%|██████████| 67/67 [00:00<00:00, 6186.56it/s]\n",
      "Computing signatures: 100%|██████████| 120/120 [00:00<00:00, 821.16it/s]\n",
      "Building shuffle matrix:   0%|          | 0/63 [00:00<?, ?it/s]"
     ]
    },
    {
     "name": "stdout",
     "output_type": "stream",
     "text": [
      "Preparing...\n"
     ]
    },
    {
     "name": "stderr",
     "output_type": "stream",
     "text": [
      "Building shuffle matrix: 100%|██████████| 63/63 [00:02<00:00, 29.59it/s] \n",
      "Computing variances: 100%|██████████| 13/13 [00:00<00:00, 4054.88it/s]"
     ]
    },
    {
     "name": "stdout",
     "output_type": "stream",
     "text": [
      "Done.\n"
     ]
    },
    {
     "name": "stderr",
     "output_type": "stream",
     "text": [
      "\n",
      "Computing variances: 100%|██████████| 67/67 [00:00<00:00, 6074.37it/s]\n",
      "Computing signatures: 100%|██████████| 120/120 [00:00<00:00, 724.26it/s]\n",
      "Building shuffle matrix:   0%|          | 0/63 [00:00<?, ?it/s]"
     ]
    },
    {
     "name": "stdout",
     "output_type": "stream",
     "text": [
      "Preparing...\n"
     ]
    },
    {
     "name": "stderr",
     "output_type": "stream",
     "text": [
      "Building shuffle matrix: 100%|██████████| 63/63 [00:02<00:00, 28.22it/s] \n",
      "Computing variances: 100%|██████████| 13/13 [00:00<00:00, 3460.43it/s]\n",
      "Computing variances:   0%|          | 0/67 [00:00<?, ?it/s]"
     ]
    },
    {
     "name": "stdout",
     "output_type": "stream",
     "text": [
      "Done.\n"
     ]
    },
    {
     "name": "stderr",
     "output_type": "stream",
     "text": [
      "Computing variances: 100%|██████████| 67/67 [00:00<00:00, 6177.99it/s]\n",
      "Computing signatures: 100%|██████████| 120/120 [00:00<00:00, 851.55it/s]\n",
      "Building shuffle matrix:   0%|          | 0/63 [00:00<?, ?it/s]"
     ]
    },
    {
     "name": "stdout",
     "output_type": "stream",
     "text": [
      "Preparing...\n"
     ]
    },
    {
     "name": "stderr",
     "output_type": "stream",
     "text": [
      "Building shuffle matrix: 100%|██████████| 63/63 [00:02<00:00, 29.36it/s] \n",
      "Computing variances: 100%|██████████| 13/13 [00:00<00:00, 3854.24it/s]"
     ]
    },
    {
     "name": "stdout",
     "output_type": "stream",
     "text": [
      "Done.\n"
     ]
    },
    {
     "name": "stderr",
     "output_type": "stream",
     "text": [
      "\n",
      "Computing variances: 100%|██████████| 67/67 [00:00<00:00, 5524.90it/s]\n",
      "Computing signatures: 100%|██████████| 120/120 [00:00<00:00, 802.75it/s]\n",
      "Building shuffle matrix:   0%|          | 0/63 [00:00<?, ?it/s]"
     ]
    },
    {
     "name": "stdout",
     "output_type": "stream",
     "text": [
      "Preparing...\n"
     ]
    },
    {
     "name": "stderr",
     "output_type": "stream",
     "text": [
      "Building shuffle matrix: 100%|██████████| 63/63 [00:02<00:00, 29.96it/s] \n",
      "Computing variances: 100%|██████████| 13/13 [00:00<00:00, 3865.72it/s]"
     ]
    },
    {
     "name": "stdout",
     "output_type": "stream",
     "text": [
      "Done.\n"
     ]
    },
    {
     "name": "stderr",
     "output_type": "stream",
     "text": [
      "\n",
      "Computing variances: 100%|██████████| 67/67 [00:00<00:00, 6484.79it/s]\n",
      "Computing signatures: 100%|██████████| 120/120 [00:00<00:00, 759.22it/s]\n",
      "Building shuffle matrix:   0%|          | 0/63 [00:00<?, ?it/s]"
     ]
    },
    {
     "name": "stdout",
     "output_type": "stream",
     "text": [
      "Preparing...\n"
     ]
    },
    {
     "name": "stderr",
     "output_type": "stream",
     "text": [
      "Building shuffle matrix: 100%|██████████| 63/63 [00:02<00:00, 28.46it/s] \n",
      "Computing variances: 100%|██████████| 13/13 [00:00<00:00, 4001.32it/s]"
     ]
    },
    {
     "name": "stdout",
     "output_type": "stream",
     "text": [
      "Done.\n"
     ]
    },
    {
     "name": "stderr",
     "output_type": "stream",
     "text": [
      "\n",
      "Computing variances: 100%|██████████| 67/67 [00:00<00:00, 5596.08it/s]\n",
      "Computing signatures: 100%|██████████| 120/120 [00:00<00:00, 757.62it/s]\n",
      "Building shuffle matrix:   0%|          | 0/63 [00:00<?, ?it/s]"
     ]
    },
    {
     "name": "stdout",
     "output_type": "stream",
     "text": [
      "Preparing...\n"
     ]
    },
    {
     "name": "stderr",
     "output_type": "stream",
     "text": [
      "Building shuffle matrix: 100%|██████████| 63/63 [00:02<00:00, 29.11it/s] \n",
      "Computing variances: 100%|██████████| 13/13 [00:00<00:00, 4104.94it/s]"
     ]
    },
    {
     "name": "stdout",
     "output_type": "stream",
     "text": [
      "Done.\n"
     ]
    },
    {
     "name": "stderr",
     "output_type": "stream",
     "text": [
      "\n",
      "Computing variances: 100%|██████████| 67/67 [00:00<00:00, 5889.02it/s]\n",
      "Computing signatures: 100%|██████████| 120/120 [00:00<00:00, 837.97it/s]\n",
      "Building shuffle matrix:   0%|          | 0/63 [00:00<?, ?it/s]"
     ]
    },
    {
     "name": "stdout",
     "output_type": "stream",
     "text": [
      "Preparing...\n"
     ]
    },
    {
     "name": "stderr",
     "output_type": "stream",
     "text": [
      "Building shuffle matrix: 100%|██████████| 63/63 [00:02<00:00, 28.26it/s] \n",
      "Computing variances: 100%|██████████| 13/13 [00:00<00:00, 3449.04it/s]"
     ]
    },
    {
     "name": "stdout",
     "output_type": "stream",
     "text": [
      "Done.\n"
     ]
    },
    {
     "name": "stderr",
     "output_type": "stream",
     "text": [
      "\n",
      "Computing variances: 100%|██████████| 67/67 [00:00<00:00, 6129.48it/s]\n",
      "Computing signatures:  17%|█▋        | 60/354 [00:00<00:00, 594.80it/s]"
     ]
    },
    {
     "name": "stdout",
     "output_type": "stream",
     "text": [
      "Preparing...\n"
     ]
    },
    {
     "name": "stderr",
     "output_type": "stream",
     "text": [
      "Computing signatures: 100%|██████████| 354/354 [00:00<00:00, 578.98it/s]\n",
      "Building shuffle matrix: 100%|██████████| 63/63 [00:02<00:00, 30.79it/s] \n",
      "Computing variances: 100%|██████████| 88/88 [00:00<00:00, 2865.81it/s]"
     ]
    },
    {
     "name": "stdout",
     "output_type": "stream",
     "text": [
      "Done.\n"
     ]
    },
    {
     "name": "stderr",
     "output_type": "stream",
     "text": [
      "\n",
      "Computing variances: 100%|██████████| 442/442 [00:00<00:00, 2986.59it/s]\n",
      "Computing signatures:  17%|█▋        | 61/354 [00:00<00:00, 601.53it/s]"
     ]
    },
    {
     "name": "stdout",
     "output_type": "stream",
     "text": [
      "Preparing...\n"
     ]
    },
    {
     "name": "stderr",
     "output_type": "stream",
     "text": [
      "Computing signatures: 100%|██████████| 354/354 [00:00<00:00, 573.08it/s]\n",
      "Building shuffle matrix: 100%|██████████| 63/63 [00:02<00:00, 30.28it/s] \n",
      "Computing variances: 100%|██████████| 88/88 [00:00<00:00, 2956.88it/s]"
     ]
    },
    {
     "name": "stdout",
     "output_type": "stream",
     "text": [
      "Done.\n"
     ]
    },
    {
     "name": "stderr",
     "output_type": "stream",
     "text": [
      "\n",
      "Computing variances: 100%|██████████| 442/442 [00:00<00:00, 2959.15it/s]\n",
      "Computing signatures:  34%|███▍      | 120/354 [00:00<00:00, 597.04it/s]"
     ]
    },
    {
     "name": "stdout",
     "output_type": "stream",
     "text": [
      "Preparing...\n"
     ]
    },
    {
     "name": "stderr",
     "output_type": "stream",
     "text": [
      "Computing signatures: 100%|██████████| 354/354 [00:00<00:00, 581.25it/s]\n",
      "Building shuffle matrix: 100%|██████████| 63/63 [00:02<00:00, 29.06it/s] \n",
      "Computing variances: 100%|██████████| 88/88 [00:00<00:00, 2914.87it/s]"
     ]
    },
    {
     "name": "stdout",
     "output_type": "stream",
     "text": [
      "Done.\n"
     ]
    },
    {
     "name": "stderr",
     "output_type": "stream",
     "text": [
      "\n",
      "Computing variances: 100%|██████████| 442/442 [00:00<00:00, 3071.73it/s]\n",
      "Computing signatures:  34%|███▍      | 121/354 [00:00<00:00, 599.58it/s]"
     ]
    },
    {
     "name": "stdout",
     "output_type": "stream",
     "text": [
      "Preparing...\n"
     ]
    },
    {
     "name": "stderr",
     "output_type": "stream",
     "text": [
      "Computing signatures: 100%|██████████| 354/354 [00:00<00:00, 588.52it/s]\n",
      "Building shuffle matrix: 100%|██████████| 63/63 [00:02<00:00, 27.97it/s] \n",
      "Computing variances: 100%|██████████| 88/88 [00:00<00:00, 2914.09it/s]"
     ]
    },
    {
     "name": "stdout",
     "output_type": "stream",
     "text": [
      "Done.\n"
     ]
    },
    {
     "name": "stderr",
     "output_type": "stream",
     "text": [
      "\n",
      "Computing variances: 100%|██████████| 442/442 [00:00<00:00, 2923.83it/s]\n",
      "Computing signatures:  34%|███▍      | 121/354 [00:00<00:00, 598.06it/s]"
     ]
    },
    {
     "name": "stdout",
     "output_type": "stream",
     "text": [
      "Preparing...\n"
     ]
    },
    {
     "name": "stderr",
     "output_type": "stream",
     "text": [
      "Computing signatures: 100%|██████████| 354/354 [00:00<00:00, 591.03it/s]\n",
      "Building shuffle matrix: 100%|██████████| 63/63 [00:02<00:00, 28.16it/s] \n",
      "Computing variances: 100%|██████████| 88/88 [00:00<00:00, 2917.80it/s]"
     ]
    },
    {
     "name": "stdout",
     "output_type": "stream",
     "text": [
      "Done.\n"
     ]
    },
    {
     "name": "stderr",
     "output_type": "stream",
     "text": [
      "\n",
      "Computing variances: 100%|██████████| 442/442 [00:00<00:00, 2963.52it/s]\n",
      "Computing signatures:  34%|███▍      | 121/354 [00:00<00:00, 597.63it/s]"
     ]
    },
    {
     "name": "stdout",
     "output_type": "stream",
     "text": [
      "Preparing...\n"
     ]
    },
    {
     "name": "stderr",
     "output_type": "stream",
     "text": [
      "Computing signatures: 100%|██████████| 354/354 [00:00<00:00, 589.21it/s]\n",
      "Building shuffle matrix: 100%|██████████| 63/63 [00:02<00:00, 29.02it/s] \n",
      "Computing variances: 100%|██████████| 88/88 [00:00<00:00, 2204.63it/s]"
     ]
    },
    {
     "name": "stdout",
     "output_type": "stream",
     "text": [
      "Done.\n"
     ]
    },
    {
     "name": "stderr",
     "output_type": "stream",
     "text": [
      "\n",
      "Computing variances: 100%|██████████| 442/442 [00:00<00:00, 2914.86it/s]\n",
      "Computing signatures:  30%|███       | 107/354 [00:00<00:00, 501.58it/s]"
     ]
    },
    {
     "name": "stdout",
     "output_type": "stream",
     "text": [
      "Preparing...\n"
     ]
    },
    {
     "name": "stderr",
     "output_type": "stream",
     "text": [
      "Computing signatures: 100%|██████████| 354/354 [00:00<00:00, 572.03it/s]\n",
      "Building shuffle matrix: 100%|██████████| 63/63 [00:02<00:00, 29.42it/s] \n",
      "Computing variances: 100%|██████████| 88/88 [00:00<00:00, 3024.04it/s]"
     ]
    },
    {
     "name": "stdout",
     "output_type": "stream",
     "text": [
      "Done.\n"
     ]
    },
    {
     "name": "stderr",
     "output_type": "stream",
     "text": [
      "\n",
      "Computing variances: 100%|██████████| 442/442 [00:00<00:00, 3069.62it/s]\n",
      "Computing signatures:  31%|███       | 110/354 [00:00<00:00, 559.48it/s]"
     ]
    },
    {
     "name": "stdout",
     "output_type": "stream",
     "text": [
      "Preparing...\n"
     ]
    },
    {
     "name": "stderr",
     "output_type": "stream",
     "text": [
      "Computing signatures: 100%|██████████| 354/354 [00:00<00:00, 571.43it/s]\n",
      "Building shuffle matrix: 100%|██████████| 63/63 [00:02<00:00, 29.71it/s] \n",
      "Computing variances: 100%|██████████| 88/88 [00:00<00:00, 2866.54it/s]"
     ]
    },
    {
     "name": "stdout",
     "output_type": "stream",
     "text": [
      "Done.\n"
     ]
    },
    {
     "name": "stderr",
     "output_type": "stream",
     "text": [
      "\n",
      "Computing variances: 100%|██████████| 442/442 [00:00<00:00, 2780.56it/s]\n",
      "Computing signatures:  34%|███▎      | 119/354 [00:00<00:00, 595.53it/s]"
     ]
    },
    {
     "name": "stdout",
     "output_type": "stream",
     "text": [
      "Preparing...\n"
     ]
    },
    {
     "name": "stderr",
     "output_type": "stream",
     "text": [
      "Computing signatures: 100%|██████████| 354/354 [00:00<00:00, 571.60it/s]\n",
      "Building shuffle matrix: 100%|██████████| 63/63 [00:02<00:00, 28.78it/s] \n",
      "Computing variances: 100%|██████████| 88/88 [00:00<00:00, 3042.88it/s]"
     ]
    },
    {
     "name": "stdout",
     "output_type": "stream",
     "text": [
      "Done.\n"
     ]
    },
    {
     "name": "stderr",
     "output_type": "stream",
     "text": [
      "\n",
      "Computing variances: 100%|██████████| 442/442 [00:00<00:00, 3039.91it/s]\n",
      "Computing signatures:  17%|█▋        | 61/354 [00:00<00:00, 602.87it/s]"
     ]
    },
    {
     "name": "stdout",
     "output_type": "stream",
     "text": [
      "Preparing...\n"
     ]
    },
    {
     "name": "stderr",
     "output_type": "stream",
     "text": [
      "Computing signatures: 100%|██████████| 354/354 [00:00<00:00, 567.27it/s]\n",
      "Building shuffle matrix: 100%|██████████| 63/63 [00:02<00:00, 29.34it/s] \n",
      "Computing variances: 100%|██████████| 88/88 [00:00<00:00, 2881.85it/s]"
     ]
    },
    {
     "name": "stdout",
     "output_type": "stream",
     "text": [
      "Done.\n"
     ]
    },
    {
     "name": "stderr",
     "output_type": "stream",
     "text": [
      "\n",
      "Computing variances: 100%|██████████| 442/442 [00:00<00:00, 3055.55it/s]\n",
      "Computing signatures: 100%|██████████| 23/23 [00:00<00:00, 212.83it/s]\n",
      "Building shuffle matrix:   0%|          | 0/63 [00:00<?, ?it/s]"
     ]
    },
    {
     "name": "stdout",
     "output_type": "stream",
     "text": [
      "Preparing...\n"
     ]
    },
    {
     "name": "stderr",
     "output_type": "stream",
     "text": [
      "Building shuffle matrix: 100%|██████████| 63/63 [00:02<00:00, 29.41it/s] \n",
      "Computing variances: 100%|██████████| 6/6 [00:00<00:00, 4283.54it/s]"
     ]
    },
    {
     "name": "stdout",
     "output_type": "stream",
     "text": [
      "Done.\n"
     ]
    },
    {
     "name": "stderr",
     "output_type": "stream",
     "text": [
      "\n",
      "Computing variances: 100%|██████████| 83/83 [00:00<00:00, 5731.24it/s]\n",
      "Computing signatures: 100%|██████████| 23/23 [00:00<00:00, 221.77it/s]\n",
      "Building shuffle matrix:   0%|          | 0/63 [00:00<?, ?it/s]"
     ]
    },
    {
     "name": "stdout",
     "output_type": "stream",
     "text": [
      "Preparing...\n"
     ]
    },
    {
     "name": "stderr",
     "output_type": "stream",
     "text": [
      "Building shuffle matrix: 100%|██████████| 63/63 [00:02<00:00, 28.79it/s] \n",
      "Computing variances: 100%|██████████| 6/6 [00:00<00:00, 2827.62it/s]"
     ]
    },
    {
     "name": "stdout",
     "output_type": "stream",
     "text": [
      "Done.\n"
     ]
    },
    {
     "name": "stderr",
     "output_type": "stream",
     "text": [
      "\n",
      "Computing variances: 100%|██████████| 83/83 [00:00<00:00, 6435.60it/s]\n",
      "Computing signatures: 100%|██████████| 23/23 [00:00<00:00, 232.09it/s]\n",
      "Building shuffle matrix:   0%|          | 0/63 [00:00<?, ?it/s]"
     ]
    },
    {
     "name": "stdout",
     "output_type": "stream",
     "text": [
      "Preparing...\n"
     ]
    },
    {
     "name": "stderr",
     "output_type": "stream",
     "text": [
      "Building shuffle matrix: 100%|██████████| 63/63 [00:02<00:00, 28.10it/s] \n",
      "Computing variances: 100%|██████████| 6/6 [00:00<00:00, 2092.79it/s]\n",
      "Computing variances:   0%|          | 0/83 [00:00<?, ?it/s]"
     ]
    },
    {
     "name": "stdout",
     "output_type": "stream",
     "text": [
      "Done.\n"
     ]
    },
    {
     "name": "stderr",
     "output_type": "stream",
     "text": [
      "Computing variances: 100%|██████████| 83/83 [00:00<00:00, 6265.56it/s]\n",
      "Computing signatures: 100%|██████████| 23/23 [00:00<00:00, 219.91it/s]\n",
      "Building shuffle matrix:   0%|          | 0/63 [00:00<?, ?it/s]"
     ]
    },
    {
     "name": "stdout",
     "output_type": "stream",
     "text": [
      "Preparing...\n"
     ]
    },
    {
     "name": "stderr",
     "output_type": "stream",
     "text": [
      "Building shuffle matrix: 100%|██████████| 63/63 [00:02<00:00, 29.45it/s] \n",
      "Computing variances: 100%|██████████| 6/6 [00:00<00:00, 2053.51it/s]"
     ]
    },
    {
     "name": "stdout",
     "output_type": "stream",
     "text": [
      "Done.\n"
     ]
    },
    {
     "name": "stderr",
     "output_type": "stream",
     "text": [
      "\n",
      "Computing variances: 100%|██████████| 83/83 [00:00<00:00, 6399.75it/s]\n",
      "Computing signatures: 100%|██████████| 23/23 [00:00<00:00, 227.38it/s]\n",
      "Building shuffle matrix:   0%|          | 0/63 [00:00<?, ?it/s]"
     ]
    },
    {
     "name": "stdout",
     "output_type": "stream",
     "text": [
      "Preparing...\n"
     ]
    },
    {
     "name": "stderr",
     "output_type": "stream",
     "text": [
      "Building shuffle matrix: 100%|██████████| 63/63 [00:02<00:00, 29.48it/s] \n",
      "Computing variances: 100%|██████████| 6/6 [00:00<00:00, 5045.27it/s]"
     ]
    },
    {
     "name": "stdout",
     "output_type": "stream",
     "text": [
      "Done.\n"
     ]
    },
    {
     "name": "stderr",
     "output_type": "stream",
     "text": [
      "\n",
      "Computing variances: 100%|██████████| 83/83 [00:00<00:00, 6801.62it/s]\n",
      "Computing signatures: 100%|██████████| 23/23 [00:00<00:00, 229.87it/s]\n",
      "Building shuffle matrix:   0%|          | 0/63 [00:00<?, ?it/s]"
     ]
    },
    {
     "name": "stdout",
     "output_type": "stream",
     "text": [
      "Preparing...\n"
     ]
    },
    {
     "name": "stderr",
     "output_type": "stream",
     "text": [
      "Building shuffle matrix: 100%|██████████| 63/63 [00:02<00:00, 29.37it/s] \n",
      "Computing variances: 100%|██████████| 6/6 [00:00<00:00, 2131.43it/s]"
     ]
    },
    {
     "name": "stdout",
     "output_type": "stream",
     "text": [
      "Done.\n"
     ]
    },
    {
     "name": "stderr",
     "output_type": "stream",
     "text": [
      "\n",
      "Computing variances: 100%|██████████| 83/83 [00:00<00:00, 4723.64it/s]\n",
      "Computing signatures: 100%|██████████| 23/23 [00:00<00:00, 198.03it/s]\n",
      "Building shuffle matrix:   0%|          | 0/63 [00:00<?, ?it/s]"
     ]
    },
    {
     "name": "stdout",
     "output_type": "stream",
     "text": [
      "Preparing...\n"
     ]
    },
    {
     "name": "stderr",
     "output_type": "stream",
     "text": [
      "Building shuffle matrix: 100%|██████████| 63/63 [00:02<00:00, 29.01it/s] \n",
      "Computing variances: 100%|██████████| 6/6 [00:00<00:00, 4920.97it/s]"
     ]
    },
    {
     "name": "stdout",
     "output_type": "stream",
     "text": [
      "Done.\n"
     ]
    },
    {
     "name": "stderr",
     "output_type": "stream",
     "text": [
      "\n",
      "Computing variances: 100%|██████████| 83/83 [00:00<00:00, 5439.40it/s]\n",
      "Computing signatures: 100%|██████████| 23/23 [00:00<00:00, 233.48it/s]\n",
      "Building shuffle matrix:   0%|          | 0/63 [00:00<?, ?it/s]"
     ]
    },
    {
     "name": "stdout",
     "output_type": "stream",
     "text": [
      "Preparing...\n"
     ]
    },
    {
     "name": "stderr",
     "output_type": "stream",
     "text": [
      "Building shuffle matrix: 100%|██████████| 63/63 [00:02<00:00, 28.84it/s] \n",
      "Computing variances: 100%|██████████| 6/6 [00:00<00:00, 3067.88it/s]"
     ]
    },
    {
     "name": "stdout",
     "output_type": "stream",
     "text": [
      "Done.\n"
     ]
    },
    {
     "name": "stderr",
     "output_type": "stream",
     "text": [
      "\n",
      "Computing variances: 100%|██████████| 83/83 [00:00<00:00, 5434.82it/s]\n",
      "Computing signatures: 100%|██████████| 23/23 [00:00<00:00, 233.81it/s]\n",
      "Building shuffle matrix:   0%|          | 0/63 [00:00<?, ?it/s]"
     ]
    },
    {
     "name": "stdout",
     "output_type": "stream",
     "text": [
      "Preparing...\n"
     ]
    },
    {
     "name": "stderr",
     "output_type": "stream",
     "text": [
      "Building shuffle matrix: 100%|██████████| 63/63 [00:02<00:00, 29.27it/s] \n",
      "Computing variances: 100%|██████████| 6/6 [00:00<00:00, 5030.15it/s]"
     ]
    },
    {
     "name": "stdout",
     "output_type": "stream",
     "text": [
      "Done.\n"
     ]
    },
    {
     "name": "stderr",
     "output_type": "stream",
     "text": [
      "\n",
      "Computing variances: 100%|██████████| 83/83 [00:00<00:00, 5428.80it/s]\n",
      "Computing signatures: 100%|██████████| 23/23 [00:00<00:00, 229.89it/s]\n",
      "Building shuffle matrix:   0%|          | 0/63 [00:00<?, ?it/s]"
     ]
    },
    {
     "name": "stdout",
     "output_type": "stream",
     "text": [
      "Preparing...\n"
     ]
    },
    {
     "name": "stderr",
     "output_type": "stream",
     "text": [
      "Building shuffle matrix: 100%|██████████| 63/63 [00:02<00:00, 29.60it/s] \n",
      "Computing variances: 100%|██████████| 6/6 [00:00<00:00, 3712.32it/s]"
     ]
    },
    {
     "name": "stdout",
     "output_type": "stream",
     "text": [
      "Done.\n"
     ]
    },
    {
     "name": "stderr",
     "output_type": "stream",
     "text": [
      "\n",
      "Computing variances: 100%|██████████| 83/83 [00:00<00:00, 6427.76it/s]\n",
      "Computing signatures: 100%|██████████| 80/80 [00:00<00:00, 530.26it/s]\n",
      "Building shuffle matrix:   0%|          | 0/63 [00:00<?, ?it/s]"
     ]
    },
    {
     "name": "stdout",
     "output_type": "stream",
     "text": [
      "Preparing...\n"
     ]
    },
    {
     "name": "stderr",
     "output_type": "stream",
     "text": [
      "Building shuffle matrix: 100%|██████████| 63/63 [00:02<00:00, 28.95it/s] \n",
      "Computing variances: 100%|██████████| 20/20 [00:00<00:00, 5219.07it/s]"
     ]
    },
    {
     "name": "stdout",
     "output_type": "stream",
     "text": [
      "Done.\n"
     ]
    },
    {
     "name": "stderr",
     "output_type": "stream",
     "text": [
      "\n",
      "Computing variances: 100%|██████████| 100/100 [00:00<00:00, 6676.81it/s]\n",
      "Computing signatures: 100%|██████████| 80/80 [00:00<00:00, 546.54it/s]\n",
      "Building shuffle matrix:   0%|          | 0/63 [00:00<?, ?it/s]"
     ]
    },
    {
     "name": "stdout",
     "output_type": "stream",
     "text": [
      "Preparing...\n"
     ]
    },
    {
     "name": "stderr",
     "output_type": "stream",
     "text": [
      "Building shuffle matrix: 100%|██████████| 63/63 [00:02<00:00, 28.76it/s] \n",
      "Computing variances: 100%|██████████| 20/20 [00:00<00:00, 5577.90it/s]"
     ]
    },
    {
     "name": "stdout",
     "output_type": "stream",
     "text": [
      "Done.\n"
     ]
    },
    {
     "name": "stderr",
     "output_type": "stream",
     "text": [
      "\n",
      "Computing variances: 100%|██████████| 100/100 [00:00<00:00, 6976.79it/s]\n",
      "Computing signatures: 100%|██████████| 80/80 [00:00<00:00, 536.91it/s]\n",
      "Building shuffle matrix:   0%|          | 0/63 [00:00<?, ?it/s]"
     ]
    },
    {
     "name": "stdout",
     "output_type": "stream",
     "text": [
      "Preparing...\n"
     ]
    },
    {
     "name": "stderr",
     "output_type": "stream",
     "text": [
      "Building shuffle matrix: 100%|██████████| 63/63 [00:02<00:00, 28.35it/s] \n",
      "Computing variances: 100%|██████████| 20/20 [00:00<00:00, 5572.72it/s]"
     ]
    },
    {
     "name": "stdout",
     "output_type": "stream",
     "text": [
      "Done.\n"
     ]
    },
    {
     "name": "stderr",
     "output_type": "stream",
     "text": [
      "\n",
      "Computing variances: 100%|██████████| 100/100 [00:00<00:00, 7248.93it/s]\n",
      "Computing signatures: 100%|██████████| 80/80 [00:00<00:00, 540.99it/s]\n",
      "Building shuffle matrix:   0%|          | 0/63 [00:00<?, ?it/s]"
     ]
    },
    {
     "name": "stdout",
     "output_type": "stream",
     "text": [
      "Preparing...\n"
     ]
    },
    {
     "name": "stderr",
     "output_type": "stream",
     "text": [
      "Building shuffle matrix: 100%|██████████| 63/63 [00:02<00:00, 28.96it/s] \n",
      "Computing variances: 100%|██████████| 20/20 [00:00<00:00, 4042.90it/s]"
     ]
    },
    {
     "name": "stdout",
     "output_type": "stream",
     "text": [
      "Done.\n"
     ]
    },
    {
     "name": "stderr",
     "output_type": "stream",
     "text": [
      "\n",
      "Computing variances: 100%|██████████| 100/100 [00:00<00:00, 7222.22it/s]\n",
      "Computing signatures: 100%|██████████| 80/80 [00:00<00:00, 531.61it/s]\n",
      "Building shuffle matrix:   0%|          | 0/63 [00:00<?, ?it/s]"
     ]
    },
    {
     "name": "stdout",
     "output_type": "stream",
     "text": [
      "Preparing...\n"
     ]
    },
    {
     "name": "stderr",
     "output_type": "stream",
     "text": [
      "Building shuffle matrix: 100%|██████████| 63/63 [00:02<00:00, 29.42it/s] \n",
      "Computing variances: 100%|██████████| 20/20 [00:00<00:00, 4595.49it/s]"
     ]
    },
    {
     "name": "stdout",
     "output_type": "stream",
     "text": [
      "Done.\n"
     ]
    },
    {
     "name": "stderr",
     "output_type": "stream",
     "text": [
      "\n",
      "Computing variances: 100%|██████████| 100/100 [00:00<00:00, 7173.06it/s]\n",
      "Computing signatures: 100%|██████████| 80/80 [00:00<00:00, 543.98it/s]\n",
      "Building shuffle matrix:   0%|          | 0/63 [00:00<?, ?it/s]"
     ]
    },
    {
     "name": "stdout",
     "output_type": "stream",
     "text": [
      "Preparing...\n"
     ]
    },
    {
     "name": "stderr",
     "output_type": "stream",
     "text": [
      "Building shuffle matrix: 100%|██████████| 63/63 [00:02<00:00, 29.35it/s] \n",
      "Computing variances: 100%|██████████| 20/20 [00:00<00:00, 4661.89it/s]"
     ]
    },
    {
     "name": "stdout",
     "output_type": "stream",
     "text": [
      "Done.\n"
     ]
    },
    {
     "name": "stderr",
     "output_type": "stream",
     "text": [
      "\n",
      "Computing variances: 100%|██████████| 100/100 [00:00<00:00, 6932.85it/s]\n",
      "Computing signatures: 100%|██████████| 80/80 [00:00<00:00, 541.86it/s]\n",
      "Building shuffle matrix:   0%|          | 0/63 [00:00<?, ?it/s]"
     ]
    },
    {
     "name": "stdout",
     "output_type": "stream",
     "text": [
      "Preparing...\n"
     ]
    },
    {
     "name": "stderr",
     "output_type": "stream",
     "text": [
      "Building shuffle matrix: 100%|██████████| 63/63 [00:02<00:00, 28.64it/s] \n",
      "Computing variances: 100%|██████████| 20/20 [00:00<00:00, 4567.22it/s]"
     ]
    },
    {
     "name": "stdout",
     "output_type": "stream",
     "text": [
      "Done.\n"
     ]
    },
    {
     "name": "stderr",
     "output_type": "stream",
     "text": [
      "\n",
      "Computing variances: 100%|██████████| 100/100 [00:00<00:00, 6903.18it/s]\n",
      "Computing signatures: 100%|██████████| 80/80 [00:00<00:00, 544.90it/s]\n",
      "Building shuffle matrix:   0%|          | 0/63 [00:00<?, ?it/s]"
     ]
    },
    {
     "name": "stdout",
     "output_type": "stream",
     "text": [
      "Preparing...\n"
     ]
    },
    {
     "name": "stderr",
     "output_type": "stream",
     "text": [
      "Building shuffle matrix: 100%|██████████| 63/63 [00:02<00:00, 29.46it/s] \n",
      "Computing variances: 100%|██████████| 20/20 [00:00<00:00, 5213.55it/s]"
     ]
    },
    {
     "name": "stdout",
     "output_type": "stream",
     "text": [
      "Done.\n"
     ]
    },
    {
     "name": "stderr",
     "output_type": "stream",
     "text": [
      "\n",
      "Computing variances: 100%|██████████| 100/100 [00:00<00:00, 6176.27it/s]\n",
      "Computing signatures: 100%|██████████| 80/80 [00:00<00:00, 532.59it/s]\n",
      "Building shuffle matrix:   0%|          | 0/63 [00:00<?, ?it/s]"
     ]
    },
    {
     "name": "stdout",
     "output_type": "stream",
     "text": [
      "Preparing...\n"
     ]
    },
    {
     "name": "stderr",
     "output_type": "stream",
     "text": [
      "Building shuffle matrix: 100%|██████████| 63/63 [00:02<00:00, 28.40it/s] \n",
      "Computing variances: 100%|██████████| 20/20 [00:00<00:00, 5447.86it/s]"
     ]
    },
    {
     "name": "stdout",
     "output_type": "stream",
     "text": [
      "Done.\n"
     ]
    },
    {
     "name": "stderr",
     "output_type": "stream",
     "text": [
      "\n",
      "Computing variances: 100%|██████████| 100/100 [00:00<00:00, 7400.23it/s]\n",
      "Computing signatures: 100%|██████████| 80/80 [00:00<00:00, 542.81it/s]\n",
      "Building shuffle matrix:   0%|          | 0/63 [00:00<?, ?it/s]"
     ]
    },
    {
     "name": "stdout",
     "output_type": "stream",
     "text": [
      "Preparing...\n"
     ]
    },
    {
     "name": "stderr",
     "output_type": "stream",
     "text": [
      "Building shuffle matrix: 100%|██████████| 63/63 [00:02<00:00, 28.84it/s] \n",
      "Computing variances: 100%|██████████| 20/20 [00:00<00:00, 4573.69it/s]"
     ]
    },
    {
     "name": "stdout",
     "output_type": "stream",
     "text": [
      "Done.\n"
     ]
    },
    {
     "name": "stderr",
     "output_type": "stream",
     "text": [
      "\n",
      "Computing variances: 100%|██████████| 100/100 [00:00<00:00, 7063.14it/s]\n",
      "Computing signatures:  23%|██▎       | 19/82 [00:00<00:00, 189.71it/s]"
     ]
    },
    {
     "name": "stdout",
     "output_type": "stream",
     "text": [
      "Preparing...\n"
     ]
    },
    {
     "name": "stderr",
     "output_type": "stream",
     "text": [
      "Computing signatures: 100%|██████████| 82/82 [00:00<00:00, 164.78it/s]\n",
      "Building shuffle matrix: 100%|██████████| 63/63 [00:02<00:00, 28.63it/s] \n"
     ]
    },
    {
     "name": "stdout",
     "output_type": "stream",
     "text": [
      "Done.\n"
     ]
    },
    {
     "name": "stderr",
     "output_type": "stream",
     "text": [
      "Computing variances: 100%|██████████| 21/21 [00:00<00:00, 3245.77it/s]\n",
      "Computing variances: 100%|██████████| 111/111 [00:00<00:00, 5022.85it/s]\n",
      "Computing signatures:  46%|████▋     | 38/82 [00:00<00:00, 184.91it/s]"
     ]
    },
    {
     "name": "stdout",
     "output_type": "stream",
     "text": [
      "Preparing...\n"
     ]
    },
    {
     "name": "stderr",
     "output_type": "stream",
     "text": [
      "Computing signatures: 100%|██████████| 82/82 [00:00<00:00, 176.14it/s]\n",
      "Building shuffle matrix: 100%|██████████| 63/63 [00:02<00:00, 29.28it/s] \n"
     ]
    },
    {
     "name": "stdout",
     "output_type": "stream",
     "text": [
      "Done.\n"
     ]
    },
    {
     "name": "stderr",
     "output_type": "stream",
     "text": [
      "Computing variances: 100%|██████████| 21/21 [00:00<00:00, 3457.93it/s]\n",
      "Computing variances: 100%|██████████| 111/111 [00:00<00:00, 4418.95it/s]\n",
      "Computing signatures:  48%|████▊     | 39/82 [00:00<00:00, 188.11it/s]"
     ]
    },
    {
     "name": "stdout",
     "output_type": "stream",
     "text": [
      "Preparing...\n"
     ]
    },
    {
     "name": "stderr",
     "output_type": "stream",
     "text": [
      "Computing signatures: 100%|██████████| 82/82 [00:00<00:00, 185.41it/s]\n",
      "Building shuffle matrix: 100%|██████████| 63/63 [00:02<00:00, 28.79it/s] \n"
     ]
    },
    {
     "name": "stdout",
     "output_type": "stream",
     "text": [
      "Done.\n"
     ]
    },
    {
     "name": "stderr",
     "output_type": "stream",
     "text": [
      "Computing variances: 100%|██████████| 21/21 [00:00<00:00, 3562.40it/s]\n",
      "Computing variances: 100%|██████████| 111/111 [00:00<00:00, 4721.16it/s]\n",
      "Computing signatures:  46%|████▋     | 38/82 [00:00<00:00, 188.58it/s]"
     ]
    },
    {
     "name": "stdout",
     "output_type": "stream",
     "text": [
      "Preparing...\n"
     ]
    },
    {
     "name": "stderr",
     "output_type": "stream",
     "text": [
      "Computing signatures: 100%|██████████| 82/82 [00:00<00:00, 186.63it/s]\n",
      "Building shuffle matrix: 100%|██████████| 63/63 [00:02<00:00, 29.27it/s] \n"
     ]
    },
    {
     "name": "stdout",
     "output_type": "stream",
     "text": [
      "Done.\n"
     ]
    },
    {
     "name": "stderr",
     "output_type": "stream",
     "text": [
      "Computing variances: 100%|██████████| 21/21 [00:00<00:00, 4003.11it/s]\n",
      "Computing variances: 100%|██████████| 111/111 [00:00<00:00, 4970.19it/s]\n",
      "Computing signatures:  46%|████▋     | 38/82 [00:00<00:00, 184.85it/s]"
     ]
    },
    {
     "name": "stdout",
     "output_type": "stream",
     "text": [
      "Preparing...\n"
     ]
    },
    {
     "name": "stderr",
     "output_type": "stream",
     "text": [
      "Computing signatures: 100%|██████████| 82/82 [00:00<00:00, 185.17it/s]\n",
      "Building shuffle matrix: 100%|██████████| 63/63 [00:02<00:00, 28.61it/s] \n"
     ]
    },
    {
     "name": "stdout",
     "output_type": "stream",
     "text": [
      "Done.\n"
     ]
    },
    {
     "name": "stderr",
     "output_type": "stream",
     "text": [
      "Computing variances: 100%|██████████| 21/21 [00:00<00:00, 3446.56it/s]\n",
      "Computing variances: 100%|██████████| 111/111 [00:00<00:00, 4980.29it/s]\n",
      "Computing signatures:  41%|████▏     | 34/82 [00:00<00:00, 157.43it/s]"
     ]
    },
    {
     "name": "stdout",
     "output_type": "stream",
     "text": [
      "Preparing...\n"
     ]
    },
    {
     "name": "stderr",
     "output_type": "stream",
     "text": [
      "Computing signatures: 100%|██████████| 82/82 [00:00<00:00, 166.65it/s]\n",
      "Building shuffle matrix: 100%|██████████| 63/63 [00:02<00:00, 27.87it/s] \n"
     ]
    },
    {
     "name": "stdout",
     "output_type": "stream",
     "text": [
      "Done.\n"
     ]
    },
    {
     "name": "stderr",
     "output_type": "stream",
     "text": [
      "Computing variances: 100%|██████████| 21/21 [00:00<00:00, 3531.69it/s]\n",
      "Computing variances: 100%|██████████| 111/111 [00:00<00:00, 4708.98it/s]\n",
      "Computing signatures:  17%|█▋        | 14/82 [00:00<00:00, 139.41it/s]"
     ]
    },
    {
     "name": "stdout",
     "output_type": "stream",
     "text": [
      "Preparing...\n"
     ]
    },
    {
     "name": "stderr",
     "output_type": "stream",
     "text": [
      "Computing signatures: 100%|██████████| 82/82 [00:00<00:00, 171.05it/s]\n",
      "Building shuffle matrix: 100%|██████████| 63/63 [00:02<00:00, 28.73it/s] \n"
     ]
    },
    {
     "name": "stdout",
     "output_type": "stream",
     "text": [
      "Done.\n"
     ]
    },
    {
     "name": "stderr",
     "output_type": "stream",
     "text": [
      "Computing variances: 100%|██████████| 21/21 [00:00<00:00, 3999.84it/s]\n",
      "Computing variances: 100%|██████████| 111/111 [00:00<00:00, 4324.99it/s]\n",
      "Computing signatures:  48%|████▊     | 39/82 [00:00<00:00, 189.92it/s]"
     ]
    },
    {
     "name": "stdout",
     "output_type": "stream",
     "text": [
      "Preparing...\n"
     ]
    },
    {
     "name": "stderr",
     "output_type": "stream",
     "text": [
      "Computing signatures: 100%|██████████| 82/82 [00:00<00:00, 174.31it/s]\n",
      "Building shuffle matrix: 100%|██████████| 63/63 [00:02<00:00, 28.65it/s] \n"
     ]
    },
    {
     "name": "stdout",
     "output_type": "stream",
     "text": [
      "Done.\n"
     ]
    },
    {
     "name": "stderr",
     "output_type": "stream",
     "text": [
      "Computing variances: 100%|██████████| 21/21 [00:00<00:00, 3931.11it/s]\n",
      "Computing variances: 100%|██████████| 111/111 [00:00<00:00, 4927.89it/s]\n",
      "Computing signatures:  41%|████▏     | 34/82 [00:00<00:00, 160.92it/s]"
     ]
    },
    {
     "name": "stdout",
     "output_type": "stream",
     "text": [
      "Preparing...\n"
     ]
    },
    {
     "name": "stderr",
     "output_type": "stream",
     "text": [
      "Computing signatures: 100%|██████████| 82/82 [00:00<00:00, 167.84it/s]\n",
      "Building shuffle matrix: 100%|██████████| 63/63 [00:02<00:00, 27.31it/s] \n"
     ]
    },
    {
     "name": "stdout",
     "output_type": "stream",
     "text": [
      "Done.\n"
     ]
    },
    {
     "name": "stderr",
     "output_type": "stream",
     "text": [
      "Computing variances: 100%|██████████| 21/21 [00:00<00:00, 3837.09it/s]\n",
      "Computing variances: 100%|██████████| 111/111 [00:00<00:00, 4909.34it/s]\n",
      "Computing signatures:  46%|████▋     | 38/82 [00:00<00:00, 186.89it/s]"
     ]
    },
    {
     "name": "stdout",
     "output_type": "stream",
     "text": [
      "Preparing...\n"
     ]
    },
    {
     "name": "stderr",
     "output_type": "stream",
     "text": [
      "Computing signatures: 100%|██████████| 82/82 [00:00<00:00, 175.24it/s]\n",
      "Building shuffle matrix: 100%|██████████| 63/63 [00:02<00:00, 28.91it/s] \n"
     ]
    },
    {
     "name": "stdout",
     "output_type": "stream",
     "text": [
      "Done.\n"
     ]
    },
    {
     "name": "stderr",
     "output_type": "stream",
     "text": [
      "Computing variances: 100%|██████████| 21/21 [00:00<00:00, 3725.90it/s]\n",
      "Computing variances: 100%|██████████| 111/111 [00:00<00:00, 4672.69it/s]\n",
      "Computing signatures:  26%|██▌       | 16/62 [00:00<00:00, 151.63it/s]"
     ]
    },
    {
     "name": "stdout",
     "output_type": "stream",
     "text": [
      "Preparing...\n"
     ]
    },
    {
     "name": "stderr",
     "output_type": "stream",
     "text": [
      "Computing signatures: 100%|██████████| 62/62 [00:00<00:00, 151.99it/s]\n",
      "Building shuffle matrix: 100%|██████████| 63/63 [00:02<00:00, 28.81it/s] \n",
      "Computing variances: 100%|██████████| 15/15 [00:00<00:00, 3306.94it/s]\n",
      "Computing variances: 100%|██████████| 51/51 [00:00<00:00, 4039.69it/s]\n",
      "Computing signatures:  24%|██▍       | 15/62 [00:00<00:00, 145.15it/s]"
     ]
    },
    {
     "name": "stdout",
     "output_type": "stream",
     "text": [
      "Done.\n",
      "Preparing...\n"
     ]
    },
    {
     "name": "stderr",
     "output_type": "stream",
     "text": [
      "Computing signatures: 100%|██████████| 62/62 [00:00<00:00, 135.15it/s]\n",
      "Building shuffle matrix: 100%|██████████| 63/63 [00:02<00:00, 27.73it/s] \n",
      "Computing variances: 100%|██████████| 15/15 [00:00<00:00, 3164.56it/s]\n",
      "Computing variances: 100%|██████████| 51/51 [00:00<00:00, 4007.90it/s]\n",
      "Computing signatures:  23%|██▎       | 14/62 [00:00<00:00, 135.49it/s]"
     ]
    },
    {
     "name": "stdout",
     "output_type": "stream",
     "text": [
      "Done.\n",
      "Preparing...\n"
     ]
    },
    {
     "name": "stderr",
     "output_type": "stream",
     "text": [
      "Computing signatures: 100%|██████████| 62/62 [00:00<00:00, 145.72it/s]\n",
      "Building shuffle matrix: 100%|██████████| 63/63 [00:02<00:00, 28.01it/s] \n",
      "Computing variances: 100%|██████████| 15/15 [00:00<00:00, 3681.80it/s]\n",
      "Computing variances: 100%|██████████| 51/51 [00:00<00:00, 4199.99it/s]\n",
      "Computing signatures:  24%|██▍       | 15/62 [00:00<00:00, 145.43it/s]"
     ]
    },
    {
     "name": "stdout",
     "output_type": "stream",
     "text": [
      "Done.\n",
      "Preparing...\n"
     ]
    },
    {
     "name": "stderr",
     "output_type": "stream",
     "text": [
      "Computing signatures: 100%|██████████| 62/62 [00:00<00:00, 143.79it/s]\n",
      "Building shuffle matrix: 100%|██████████| 63/63 [00:02<00:00, 27.85it/s] \n",
      "Computing variances: 100%|██████████| 15/15 [00:00<00:00, 3672.77it/s]\n",
      "Computing variances: 100%|██████████| 51/51 [00:00<00:00, 4205.11it/s]\n",
      "Computing signatures:  26%|██▌       | 16/62 [00:00<00:00, 153.95it/s]"
     ]
    },
    {
     "name": "stdout",
     "output_type": "stream",
     "text": [
      "Done.\n",
      "Preparing...\n"
     ]
    },
    {
     "name": "stderr",
     "output_type": "stream",
     "text": [
      "Computing signatures: 100%|██████████| 62/62 [00:00<00:00, 151.74it/s]\n",
      "Building shuffle matrix: 100%|██████████| 63/63 [00:02<00:00, 28.02it/s] \n",
      "Computing variances: 100%|██████████| 15/15 [00:00<00:00, 3659.31it/s]\n",
      "Computing variances: 100%|██████████| 51/51 [00:00<00:00, 3881.57it/s]\n",
      "Computing signatures:  24%|██▍       | 15/62 [00:00<00:00, 149.44it/s]"
     ]
    },
    {
     "name": "stdout",
     "output_type": "stream",
     "text": [
      "Done.\n",
      "Preparing...\n"
     ]
    },
    {
     "name": "stderr",
     "output_type": "stream",
     "text": [
      "Computing signatures: 100%|██████████| 62/62 [00:00<00:00, 145.52it/s]\n",
      "Building shuffle matrix: 100%|██████████| 63/63 [00:02<00:00, 27.96it/s] \n",
      "Computing variances: 100%|██████████| 15/15 [00:00<00:00, 3418.53it/s]\n",
      "Computing variances: 100%|██████████| 51/51 [00:00<00:00, 4220.12it/s]\n",
      "Computing signatures:  24%|██▍       | 15/62 [00:00<00:00, 147.23it/s]"
     ]
    },
    {
     "name": "stdout",
     "output_type": "stream",
     "text": [
      "Done.\n",
      "Preparing...\n"
     ]
    },
    {
     "name": "stderr",
     "output_type": "stream",
     "text": [
      "Computing signatures: 100%|██████████| 62/62 [00:00<00:00, 146.02it/s]\n",
      "Building shuffle matrix: 100%|██████████| 63/63 [00:02<00:00, 28.90it/s] \n",
      "Computing variances: 100%|██████████| 15/15 [00:00<00:00, 3196.72it/s]\n",
      "Computing variances: 100%|██████████| 51/51 [00:00<00:00, 4251.74it/s]\n",
      "Computing signatures:  24%|██▍       | 15/62 [00:00<00:00, 140.90it/s]"
     ]
    },
    {
     "name": "stdout",
     "output_type": "stream",
     "text": [
      "Done.\n",
      "Preparing...\n"
     ]
    },
    {
     "name": "stderr",
     "output_type": "stream",
     "text": [
      "Computing signatures: 100%|██████████| 62/62 [00:00<00:00, 145.50it/s]\n",
      "Building shuffle matrix: 100%|██████████| 63/63 [00:02<00:00, 28.29it/s] \n",
      "Computing variances: 100%|██████████| 15/15 [00:00<00:00, 3359.38it/s]\n",
      "Computing variances: 100%|██████████| 51/51 [00:00<00:00, 4168.72it/s]\n",
      "Computing signatures:  24%|██▍       | 15/62 [00:00<00:00, 147.49it/s]"
     ]
    },
    {
     "name": "stdout",
     "output_type": "stream",
     "text": [
      "Done.\n",
      "Preparing...\n"
     ]
    },
    {
     "name": "stderr",
     "output_type": "stream",
     "text": [
      "Computing signatures: 100%|██████████| 62/62 [00:00<00:00, 139.69it/s]\n",
      "Building shuffle matrix: 100%|██████████| 63/63 [00:02<00:00, 24.12it/s] \n",
      "Computing variances: 100%|██████████| 15/15 [00:00<00:00, 2516.78it/s]\n",
      "Computing variances: 100%|██████████| 51/51 [00:00<00:00, 3143.09it/s]\n",
      "Computing signatures:  21%|██        | 13/62 [00:00<00:00, 123.36it/s]"
     ]
    },
    {
     "name": "stdout",
     "output_type": "stream",
     "text": [
      "Done.\n",
      "Preparing...\n"
     ]
    },
    {
     "name": "stderr",
     "output_type": "stream",
     "text": [
      "Computing signatures: 100%|██████████| 62/62 [00:00<00:00, 137.15it/s]\n",
      "Building shuffle matrix: 100%|██████████| 63/63 [00:02<00:00, 23.19it/s] \n",
      "Computing variances: 100%|██████████| 15/15 [00:00<00:00, 2998.79it/s]\n",
      "Computing variances: 100%|██████████| 51/51 [00:00<00:00, 3283.34it/s]\n"
     ]
    },
    {
     "name": "stdout",
     "output_type": "stream",
     "text": [
      "Done.\n"
     ]
    },
    {
     "name": "stderr",
     "output_type": "stream",
     "text": [
      "Computing signatures:  14%|█▍        | 9/63 [00:00<00:00, 85.85it/s]"
     ]
    },
    {
     "name": "stdout",
     "output_type": "stream",
     "text": [
      "Preparing...\n"
     ]
    },
    {
     "name": "stderr",
     "output_type": "stream",
     "text": [
      "Computing signatures: 100%|██████████| 63/63 [00:00<00:00, 92.85it/s]\n",
      "Building shuffle matrix: 100%|██████████| 63/63 [00:02<00:00, 24.64it/s] \n",
      "Computing variances: 100%|██████████| 10/10 [00:00<00:00, 2739.58it/s]\n",
      "Computing variances: 100%|██████████| 48/48 [00:00<00:00, 3146.71it/s]\n",
      "Computing signatures:  19%|█▉        | 12/63 [00:00<00:00, 112.24it/s]"
     ]
    },
    {
     "name": "stdout",
     "output_type": "stream",
     "text": [
      "Done.\n",
      "Preparing...\n"
     ]
    },
    {
     "name": "stderr",
     "output_type": "stream",
     "text": [
      "Computing signatures: 100%|██████████| 63/63 [00:00<00:00, 104.38it/s]\n",
      "Building shuffle matrix: 100%|██████████| 63/63 [00:02<00:00, 25.33it/s] \n",
      "Computing variances: 100%|██████████| 10/10 [00:00<00:00, 2857.16it/s]\n",
      "Computing variances: 100%|██████████| 48/48 [00:00<00:00, 2159.32it/s]\n",
      "Computing signatures:  17%|█▋        | 11/63 [00:00<00:00, 99.92it/s]"
     ]
    },
    {
     "name": "stdout",
     "output_type": "stream",
     "text": [
      "Done.\n",
      "Preparing...\n"
     ]
    },
    {
     "name": "stderr",
     "output_type": "stream",
     "text": [
      "Computing signatures: 100%|██████████| 63/63 [00:00<00:00, 89.87it/s]\n",
      "Building shuffle matrix: 100%|██████████| 63/63 [00:02<00:00, 27.16it/s] \n",
      "Computing variances: 100%|██████████| 10/10 [00:00<00:00, 2424.31it/s]\n",
      "Computing variances: 100%|██████████| 48/48 [00:00<00:00, 3303.31it/s]\n",
      "Computing signatures:  17%|█▋        | 11/63 [00:00<00:00, 104.02it/s]"
     ]
    },
    {
     "name": "stdout",
     "output_type": "stream",
     "text": [
      "Done.\n",
      "Preparing...\n"
     ]
    },
    {
     "name": "stderr",
     "output_type": "stream",
     "text": [
      "Computing signatures: 100%|██████████| 63/63 [00:00<00:00, 104.00it/s]\n",
      "Building shuffle matrix: 100%|██████████| 63/63 [00:02<00:00, 27.28it/s] \n",
      "Computing variances: 100%|██████████| 10/10 [00:00<00:00, 2804.43it/s]\n",
      "Computing variances: 100%|██████████| 48/48 [00:00<00:00, 3586.66it/s]\n",
      "Computing signatures:  21%|██        | 13/63 [00:00<00:00, 120.70it/s]"
     ]
    },
    {
     "name": "stdout",
     "output_type": "stream",
     "text": [
      "Done.\n",
      "Preparing...\n"
     ]
    },
    {
     "name": "stderr",
     "output_type": "stream",
     "text": [
      "Computing signatures: 100%|██████████| 63/63 [00:00<00:00, 114.74it/s]\n",
      "Building shuffle matrix: 100%|██████████| 63/63 [00:02<00:00, 27.89it/s] \n",
      "Computing variances: 100%|██████████| 10/10 [00:00<00:00, 2555.01it/s]\n",
      "Computing variances: 100%|██████████| 48/48 [00:00<00:00, 3531.55it/s]\n",
      "Computing signatures:  17%|█▋        | 11/63 [00:00<00:00, 107.91it/s]"
     ]
    },
    {
     "name": "stdout",
     "output_type": "stream",
     "text": [
      "Done.\n",
      "Preparing...\n"
     ]
    },
    {
     "name": "stderr",
     "output_type": "stream",
     "text": [
      "Computing signatures: 100%|██████████| 63/63 [00:00<00:00, 106.88it/s]\n",
      "Building shuffle matrix: 100%|██████████| 63/63 [00:02<00:00, 27.11it/s] \n",
      "Computing variances: 100%|██████████| 10/10 [00:00<00:00, 2168.72it/s]\n",
      "Computing variances: 100%|██████████| 48/48 [00:00<00:00, 3631.43it/s]\n",
      "Computing signatures:  21%|██        | 13/63 [00:00<00:00, 124.84it/s]"
     ]
    },
    {
     "name": "stdout",
     "output_type": "stream",
     "text": [
      "Done.\n",
      "Preparing...\n"
     ]
    },
    {
     "name": "stderr",
     "output_type": "stream",
     "text": [
      "Computing signatures: 100%|██████████| 63/63 [00:00<00:00, 122.94it/s]\n",
      "Building shuffle matrix: 100%|██████████| 63/63 [00:02<00:00, 27.98it/s] \n",
      "Computing variances: 100%|██████████| 10/10 [00:00<00:00, 2516.23it/s]\n",
      "Computing variances: 100%|██████████| 48/48 [00:00<00:00, 3622.68it/s]\n",
      "Computing signatures:  19%|█▉        | 12/63 [00:00<00:00, 115.68it/s]"
     ]
    },
    {
     "name": "stdout",
     "output_type": "stream",
     "text": [
      "Done.\n",
      "Preparing...\n"
     ]
    },
    {
     "name": "stderr",
     "output_type": "stream",
     "text": [
      "Computing signatures: 100%|██████████| 63/63 [00:00<00:00, 118.51it/s]\n",
      "Building shuffle matrix: 100%|██████████| 63/63 [00:02<00:00, 28.47it/s] \n",
      "Computing variances: 100%|██████████| 10/10 [00:00<00:00, 2574.61it/s]\n",
      "Computing variances: 100%|██████████| 48/48 [00:00<00:00, 3172.25it/s]\n",
      "Computing signatures:  21%|██        | 13/63 [00:00<00:00, 121.34it/s]"
     ]
    },
    {
     "name": "stdout",
     "output_type": "stream",
     "text": [
      "Done.\n",
      "Preparing...\n"
     ]
    },
    {
     "name": "stderr",
     "output_type": "stream",
     "text": [
      "Computing signatures: 100%|██████████| 63/63 [00:00<00:00, 116.84it/s]\n",
      "Building shuffle matrix: 100%|██████████| 63/63 [00:02<00:00, 27.21it/s] \n",
      "Computing variances: 100%|██████████| 10/10 [00:00<00:00, 2309.00it/s]\n",
      "Computing variances: 100%|██████████| 48/48 [00:00<00:00, 2817.41it/s]\n",
      "Computing signatures:  21%|██        | 13/63 [00:00<00:00, 121.18it/s]"
     ]
    },
    {
     "name": "stdout",
     "output_type": "stream",
     "text": [
      "Done.\n",
      "Preparing...\n"
     ]
    },
    {
     "name": "stderr",
     "output_type": "stream",
     "text": [
      "Computing signatures: 100%|██████████| 63/63 [00:00<00:00, 121.02it/s]\n",
      "Building shuffle matrix: 100%|██████████| 63/63 [00:02<00:00, 27.43it/s] \n",
      "Computing variances: 100%|██████████| 10/10 [00:00<00:00, 2334.84it/s]\n",
      "Computing variances: 100%|██████████| 48/48 [00:00<00:00, 3300.76it/s]\n"
     ]
    },
    {
     "name": "stdout",
     "output_type": "stream",
     "text": [
      "Done.\n"
     ]
    },
    {
     "name": "stderr",
     "output_type": "stream",
     "text": [
      "Computing signatures: 100%|██████████| 15/15 [00:00<00:00, 242.22it/s]\n",
      "Building shuffle matrix:  27%|██▋       | 17/63 [00:00<00:00, 145.78it/s]"
     ]
    },
    {
     "name": "stdout",
     "output_type": "stream",
     "text": [
      "Preparing...\n"
     ]
    },
    {
     "name": "stderr",
     "output_type": "stream",
     "text": [
      "Building shuffle matrix: 100%|██████████| 63/63 [00:02<00:00, 28.19it/s] \n",
      "Computing variances: 100%|██████████| 4/4 [00:00<00:00, 4078.08it/s]\n",
      "Computing variances:   0%|          | 0/124 [00:00<?, ?it/s]"
     ]
    },
    {
     "name": "stdout",
     "output_type": "stream",
     "text": [
      "Done.\n"
     ]
    },
    {
     "name": "stderr",
     "output_type": "stream",
     "text": [
      "Computing variances: 100%|██████████| 124/124 [00:00<00:00, 7114.82it/s]\n",
      "Computing signatures: 100%|██████████| 15/15 [00:00<00:00, 250.51it/s]\n",
      "Building shuffle matrix:  27%|██▋       | 17/63 [00:00<00:00, 142.24it/s]"
     ]
    },
    {
     "name": "stdout",
     "output_type": "stream",
     "text": [
      "Preparing...\n"
     ]
    },
    {
     "name": "stderr",
     "output_type": "stream",
     "text": [
      "Building shuffle matrix: 100%|██████████| 63/63 [00:02<00:00, 28.12it/s] \n",
      "Computing variances: 100%|██████████| 4/4 [00:00<00:00, 3415.56it/s]\n",
      "Computing variances:   0%|          | 0/124 [00:00<?, ?it/s]"
     ]
    },
    {
     "name": "stdout",
     "output_type": "stream",
     "text": [
      "Done.\n"
     ]
    },
    {
     "name": "stderr",
     "output_type": "stream",
     "text": [
      "Computing variances: 100%|██████████| 124/124 [00:00<00:00, 6818.04it/s]\n",
      "Computing signatures: 100%|██████████| 15/15 [00:00<00:00, 238.75it/s]\n",
      "Building shuffle matrix:  25%|██▌       | 16/63 [00:00<00:00, 153.54it/s]"
     ]
    },
    {
     "name": "stdout",
     "output_type": "stream",
     "text": [
      "Preparing...\n"
     ]
    },
    {
     "name": "stderr",
     "output_type": "stream",
     "text": [
      "Building shuffle matrix: 100%|██████████| 63/63 [00:02<00:00, 27.67it/s] \n",
      "Computing variances: 100%|██████████| 4/4 [00:00<00:00, 3131.83it/s]\n",
      "Computing variances:   0%|          | 0/124 [00:00<?, ?it/s]"
     ]
    },
    {
     "name": "stdout",
     "output_type": "stream",
     "text": [
      "Done.\n"
     ]
    },
    {
     "name": "stderr",
     "output_type": "stream",
     "text": [
      "Computing variances: 100%|██████████| 124/124 [00:00<00:00, 7152.89it/s]\n",
      "Computing signatures: 100%|██████████| 15/15 [00:00<00:00, 223.31it/s]\n",
      "Building shuffle matrix:  27%|██▋       | 17/63 [00:00<00:00, 146.73it/s]"
     ]
    },
    {
     "name": "stdout",
     "output_type": "stream",
     "text": [
      "Preparing...\n"
     ]
    },
    {
     "name": "stderr",
     "output_type": "stream",
     "text": [
      "Building shuffle matrix: 100%|██████████| 63/63 [00:02<00:00, 25.80it/s] \n",
      "Computing variances: 100%|██████████| 4/4 [00:00<00:00, 1908.24it/s]"
     ]
    },
    {
     "name": "stdout",
     "output_type": "stream",
     "text": [
      "Done.\n"
     ]
    },
    {
     "name": "stderr",
     "output_type": "stream",
     "text": [
      "\n",
      "Computing variances: 100%|██████████| 124/124 [00:00<00:00, 5084.25it/s]\n",
      "Computing signatures: 100%|██████████| 15/15 [00:00<00:00, 184.67it/s]\n",
      "Building shuffle matrix:  24%|██▍       | 15/63 [00:00<00:00, 131.37it/s]"
     ]
    },
    {
     "name": "stdout",
     "output_type": "stream",
     "text": [
      "Preparing...\n"
     ]
    },
    {
     "name": "stderr",
     "output_type": "stream",
     "text": [
      "Building shuffle matrix: 100%|██████████| 63/63 [00:02<00:00, 23.40it/s] \n",
      "Computing variances: 100%|██████████| 4/4 [00:00<00:00, 2754.43it/s]\n"
     ]
    },
    {
     "name": "stdout",
     "output_type": "stream",
     "text": [
      "Done.\n"
     ]
    },
    {
     "name": "stderr",
     "output_type": "stream",
     "text": [
      "Computing variances: 100%|██████████| 124/124 [00:00<00:00, 6239.65it/s]\n",
      "Computing signatures: 100%|██████████| 15/15 [00:00<00:00, 184.75it/s]\n",
      "Building shuffle matrix:   0%|          | 0/63 [00:00<?, ?it/s]"
     ]
    },
    {
     "name": "stdout",
     "output_type": "stream",
     "text": [
      "Preparing...\n"
     ]
    },
    {
     "name": "stderr",
     "output_type": "stream",
     "text": [
      "Building shuffle matrix: 100%|██████████| 63/63 [00:02<00:00, 23.56it/s] \n",
      "Computing variances: 100%|██████████| 4/4 [00:00<00:00, 2460.36it/s]\n"
     ]
    },
    {
     "name": "stdout",
     "output_type": "stream",
     "text": [
      "Done.\n"
     ]
    },
    {
     "name": "stderr",
     "output_type": "stream",
     "text": [
      "Computing variances: 100%|██████████| 124/124 [00:00<00:00, 6208.37it/s]\n",
      "Computing signatures: 100%|██████████| 15/15 [00:00<00:00, 220.84it/s]\n",
      "Building shuffle matrix:  27%|██▋       | 17/63 [00:00<00:00, 139.85it/s]"
     ]
    },
    {
     "name": "stdout",
     "output_type": "stream",
     "text": [
      "Preparing...\n"
     ]
    },
    {
     "name": "stderr",
     "output_type": "stream",
     "text": [
      "Building shuffle matrix: 100%|██████████| 63/63 [00:02<00:00, 25.55it/s] \n",
      "Computing variances: 100%|██████████| 4/4 [00:00<00:00, 4907.05it/s]\n"
     ]
    },
    {
     "name": "stdout",
     "output_type": "stream",
     "text": [
      "Done.\n"
     ]
    },
    {
     "name": "stderr",
     "output_type": "stream",
     "text": [
      "Computing variances: 100%|██████████| 124/124 [00:00<00:00, 6444.78it/s]\n",
      "Computing signatures: 100%|██████████| 15/15 [00:00<00:00, 193.98it/s]\n",
      "Building shuffle matrix:  25%|██▌       | 16/63 [00:00<00:00, 141.95it/s]"
     ]
    },
    {
     "name": "stdout",
     "output_type": "stream",
     "text": [
      "Preparing...\n"
     ]
    },
    {
     "name": "stderr",
     "output_type": "stream",
     "text": [
      "Building shuffle matrix: 100%|██████████| 63/63 [00:02<00:00, 25.52it/s] \n",
      "Computing variances: 100%|██████████| 4/4 [00:00<00:00, 2635.03it/s]\n"
     ]
    },
    {
     "name": "stdout",
     "output_type": "stream",
     "text": [
      "Done.\n"
     ]
    },
    {
     "name": "stderr",
     "output_type": "stream",
     "text": [
      "Computing variances: 100%|██████████| 124/124 [00:00<00:00, 5948.96it/s]\n",
      "Computing signatures: 100%|██████████| 15/15 [00:00<00:00, 183.41it/s]\n",
      "Building shuffle matrix:  25%|██▌       | 16/63 [00:00<00:00, 139.58it/s]"
     ]
    },
    {
     "name": "stdout",
     "output_type": "stream",
     "text": [
      "Preparing...\n"
     ]
    },
    {
     "name": "stderr",
     "output_type": "stream",
     "text": [
      "Building shuffle matrix: 100%|██████████| 63/63 [00:02<00:00, 25.40it/s] \n",
      "Computing variances: 100%|██████████| 4/4 [00:00<00:00, 2599.51it/s]\n"
     ]
    },
    {
     "name": "stdout",
     "output_type": "stream",
     "text": [
      "Done.\n"
     ]
    },
    {
     "name": "stderr",
     "output_type": "stream",
     "text": [
      "Computing variances: 100%|██████████| 124/124 [00:00<00:00, 7001.71it/s]\n",
      "Computing signatures: 100%|██████████| 15/15 [00:00<00:00, 231.55it/s]\n",
      "Building shuffle matrix:  25%|██▌       | 16/63 [00:00<00:00, 141.40it/s]"
     ]
    },
    {
     "name": "stdout",
     "output_type": "stream",
     "text": [
      "Preparing...\n"
     ]
    },
    {
     "name": "stderr",
     "output_type": "stream",
     "text": [
      "Building shuffle matrix: 100%|██████████| 63/63 [00:02<00:00, 26.60it/s] \n",
      "Computing variances: 100%|██████████| 4/4 [00:00<00:00, 2155.07it/s]\n"
     ]
    },
    {
     "name": "stdout",
     "output_type": "stream",
     "text": [
      "Done.\n"
     ]
    },
    {
     "name": "stderr",
     "output_type": "stream",
     "text": [
      "Computing variances: 100%|██████████| 124/124 [00:00<00:00, 5205.88it/s]\n",
      "Computing signatures:  44%|████▍     | 14/32 [00:00<00:00, 139.98it/s]"
     ]
    },
    {
     "name": "stdout",
     "output_type": "stream",
     "text": [
      "Preparing...\n"
     ]
    },
    {
     "name": "stderr",
     "output_type": "stream",
     "text": [
      "Computing signatures: 100%|██████████| 32/32 [00:00<00:00, 144.01it/s]\n",
      "Building shuffle matrix: 100%|██████████| 63/63 [00:02<00:00, 27.72it/s] \n",
      "Computing variances:   0%|          | 0/8 [00:00<?, ?it/s]"
     ]
    },
    {
     "name": "stdout",
     "output_type": "stream",
     "text": [
      "Done.\n"
     ]
    },
    {
     "name": "stderr",
     "output_type": "stream",
     "text": [
      "Computing variances: 100%|██████████| 8/8 [00:00<00:00, 2601.72it/s]\n",
      "Computing variances: 100%|██████████| 80/80 [00:00<00:00, 5645.66it/s]\n",
      "Computing signatures:  53%|█████▎    | 17/32 [00:00<00:00, 161.84it/s]"
     ]
    },
    {
     "name": "stdout",
     "output_type": "stream",
     "text": [
      "Preparing...\n"
     ]
    },
    {
     "name": "stderr",
     "output_type": "stream",
     "text": [
      "Computing signatures: 100%|██████████| 32/32 [00:00<00:00, 152.77it/s]\n",
      "Building shuffle matrix: 100%|██████████| 63/63 [00:02<00:00, 28.42it/s] \n"
     ]
    },
    {
     "name": "stdout",
     "output_type": "stream",
     "text": [
      "Done.\n"
     ]
    },
    {
     "name": "stderr",
     "output_type": "stream",
     "text": [
      "Computing variances: 100%|██████████| 8/8 [00:00<00:00, 3203.90it/s]\n",
      "Computing variances: 100%|██████████| 80/80 [00:00<00:00, 4469.81it/s]\n",
      "Computing signatures: 100%|██████████| 32/32 [00:00<00:00, 175.77it/s]\n",
      "Building shuffle matrix:   0%|          | 0/63 [00:00<?, ?it/s]"
     ]
    },
    {
     "name": "stdout",
     "output_type": "stream",
     "text": [
      "Preparing...\n"
     ]
    },
    {
     "name": "stderr",
     "output_type": "stream",
     "text": [
      "Building shuffle matrix: 100%|██████████| 63/63 [00:02<00:00, 28.73it/s] \n"
     ]
    },
    {
     "name": "stdout",
     "output_type": "stream",
     "text": [
      "Done.\n"
     ]
    },
    {
     "name": "stderr",
     "output_type": "stream",
     "text": [
      "Computing variances: 100%|██████████| 8/8 [00:00<00:00, 2479.82it/s]\n",
      "Computing variances: 100%|██████████| 80/80 [00:00<00:00, 5494.51it/s]\n",
      "Computing signatures: 100%|██████████| 32/32 [00:00<00:00, 177.32it/s]\n",
      "Building shuffle matrix:   0%|          | 0/63 [00:00<?, ?it/s]"
     ]
    },
    {
     "name": "stdout",
     "output_type": "stream",
     "text": [
      "Preparing...\n"
     ]
    },
    {
     "name": "stderr",
     "output_type": "stream",
     "text": [
      "Building shuffle matrix: 100%|██████████| 63/63 [00:02<00:00, 25.18it/s] \n"
     ]
    },
    {
     "name": "stdout",
     "output_type": "stream",
     "text": [
      "Done.\n"
     ]
    },
    {
     "name": "stderr",
     "output_type": "stream",
     "text": [
      "Computing variances: 100%|██████████| 8/8 [00:00<00:00, 2600.72it/s]\n",
      "Computing variances: 100%|██████████| 80/80 [00:00<00:00, 5490.74it/s]\n",
      "Computing signatures:  53%|█████▎    | 17/32 [00:00<00:00, 158.28it/s]"
     ]
    },
    {
     "name": "stdout",
     "output_type": "stream",
     "text": [
      "Preparing...\n"
     ]
    },
    {
     "name": "stderr",
     "output_type": "stream",
     "text": [
      "Computing signatures: 100%|██████████| 32/32 [00:00<00:00, 148.19it/s]\n",
      "Building shuffle matrix: 100%|██████████| 63/63 [00:02<00:00, 26.58it/s] \n"
     ]
    },
    {
     "name": "stdout",
     "output_type": "stream",
     "text": [
      "Done.\n"
     ]
    },
    {
     "name": "stderr",
     "output_type": "stream",
     "text": [
      "Computing variances: 100%|██████████| 8/8 [00:00<00:00, 2771.95it/s]\n",
      "Computing variances: 100%|██████████| 80/80 [00:00<00:00, 5113.45it/s]\n",
      "Computing signatures:  50%|█████     | 16/32 [00:00<00:00, 151.75it/s]"
     ]
    },
    {
     "name": "stdout",
     "output_type": "stream",
     "text": [
      "Preparing...\n"
     ]
    },
    {
     "name": "stderr",
     "output_type": "stream",
     "text": [
      "Computing signatures: 100%|██████████| 32/32 [00:00<00:00, 159.45it/s]\n",
      "Building shuffle matrix: 100%|██████████| 63/63 [00:02<00:00, 25.31it/s] \n"
     ]
    },
    {
     "name": "stdout",
     "output_type": "stream",
     "text": [
      "Done.\n"
     ]
    },
    {
     "name": "stderr",
     "output_type": "stream",
     "text": [
      "Computing variances: 100%|██████████| 8/8 [00:00<00:00, 3073.31it/s]\n",
      "Computing variances: 100%|██████████| 80/80 [00:00<00:00, 5458.85it/s]\n",
      "Computing signatures:  41%|████      | 13/32 [00:00<00:00, 126.35it/s]"
     ]
    },
    {
     "name": "stdout",
     "output_type": "stream",
     "text": [
      "Preparing...\n"
     ]
    },
    {
     "name": "stderr",
     "output_type": "stream",
     "text": [
      "Computing signatures: 100%|██████████| 32/32 [00:00<00:00, 141.06it/s]\n",
      "Building shuffle matrix: 100%|██████████| 63/63 [00:02<00:00, 28.11it/s] \n"
     ]
    },
    {
     "name": "stdout",
     "output_type": "stream",
     "text": [
      "Done.\n"
     ]
    },
    {
     "name": "stderr",
     "output_type": "stream",
     "text": [
      "Computing variances: 100%|██████████| 8/8 [00:00<00:00, 2717.40it/s]\n",
      "Computing variances: 100%|██████████| 80/80 [00:00<00:00, 4922.10it/s]\n",
      "Computing signatures: 100%|██████████| 32/32 [00:00<00:00, 174.24it/s]\n",
      "Building shuffle matrix:   0%|          | 0/63 [00:00<?, ?it/s]"
     ]
    },
    {
     "name": "stdout",
     "output_type": "stream",
     "text": [
      "Preparing...\n"
     ]
    },
    {
     "name": "stderr",
     "output_type": "stream",
     "text": [
      "Building shuffle matrix: 100%|██████████| 63/63 [00:02<00:00, 27.54it/s] \n"
     ]
    },
    {
     "name": "stdout",
     "output_type": "stream",
     "text": [
      "Done.\n"
     ]
    },
    {
     "name": "stderr",
     "output_type": "stream",
     "text": [
      "Computing variances: 100%|██████████| 8/8 [00:00<00:00, 3103.16it/s]\n",
      "Computing variances: 100%|██████████| 80/80 [00:00<00:00, 4869.45it/s]\n",
      "Computing signatures: 100%|██████████| 32/32 [00:00<00:00, 168.45it/s]\n",
      "Building shuffle matrix:   0%|          | 0/63 [00:00<?, ?it/s]"
     ]
    },
    {
     "name": "stdout",
     "output_type": "stream",
     "text": [
      "Preparing...\n"
     ]
    },
    {
     "name": "stderr",
     "output_type": "stream",
     "text": [
      "Building shuffle matrix: 100%|██████████| 63/63 [00:02<00:00, 25.73it/s] \n"
     ]
    },
    {
     "name": "stdout",
     "output_type": "stream",
     "text": [
      "Done.\n"
     ]
    },
    {
     "name": "stderr",
     "output_type": "stream",
     "text": [
      "Computing variances: 100%|██████████| 8/8 [00:00<00:00, 2830.64it/s]\n",
      "Computing variances: 100%|██████████| 80/80 [00:00<00:00, 4365.88it/s]\n",
      "Computing signatures: 100%|██████████| 32/32 [00:00<00:00, 167.67it/s]\n",
      "Building shuffle matrix:   0%|          | 0/63 [00:00<?, ?it/s]"
     ]
    },
    {
     "name": "stdout",
     "output_type": "stream",
     "text": [
      "Preparing...\n"
     ]
    },
    {
     "name": "stderr",
     "output_type": "stream",
     "text": [
      "Building shuffle matrix: 100%|██████████| 63/63 [00:02<00:00, 27.06it/s] \n"
     ]
    },
    {
     "name": "stdout",
     "output_type": "stream",
     "text": [
      "Done.\n"
     ]
    },
    {
     "name": "stderr",
     "output_type": "stream",
     "text": [
      "Computing variances: 100%|██████████| 8/8 [00:00<00:00, 759.01it/s]\n",
      "Computing variances: 100%|██████████| 80/80 [00:00<00:00, 5034.88it/s]\n",
      "Computing signatures: 100%|██████████| 36/36 [00:00<00:00, 652.33it/s]\n",
      "Building shuffle matrix:  22%|██▏       | 14/63 [00:00<00:00, 130.09it/s]"
     ]
    },
    {
     "name": "stdout",
     "output_type": "stream",
     "text": [
      "Preparing...\n"
     ]
    },
    {
     "name": "stderr",
     "output_type": "stream",
     "text": [
      "Building shuffle matrix: 100%|██████████| 63/63 [00:02<00:00, 23.27it/s] \n",
      "Computing variances: 100%|██████████| 9/9 [00:00<00:00, 2628.56it/s]\n",
      "Computing variances:   0%|          | 0/1096 [00:00<?, ?it/s]"
     ]
    },
    {
     "name": "stdout",
     "output_type": "stream",
     "text": [
      "Done.\n"
     ]
    },
    {
     "name": "stderr",
     "output_type": "stream",
     "text": [
      "Computing variances: 100%|██████████| 1096/1096 [00:00<00:00, 10138.59it/s]\n",
      "Computing signatures: 100%|██████████| 36/36 [00:00<00:00, 755.91it/s]\n",
      "Building shuffle matrix:  25%|██▌       | 16/63 [00:00<00:00, 159.45it/s]"
     ]
    },
    {
     "name": "stdout",
     "output_type": "stream",
     "text": [
      "Preparing...\n"
     ]
    },
    {
     "name": "stderr",
     "output_type": "stream",
     "text": [
      "Building shuffle matrix: 100%|██████████| 63/63 [00:02<00:00, 25.02it/s] \n",
      "Computing variances: 100%|██████████| 9/9 [00:00<00:00, 3392.53it/s]\n",
      "Computing variances:   0%|          | 0/1096 [00:00<?, ?it/s]"
     ]
    },
    {
     "name": "stdout",
     "output_type": "stream",
     "text": [
      "Done.\n"
     ]
    },
    {
     "name": "stderr",
     "output_type": "stream",
     "text": [
      "Computing variances: 100%|██████████| 1096/1096 [00:00<00:00, 10025.88it/s]\n",
      "Computing signatures: 100%|██████████| 36/36 [00:00<00:00, 628.39it/s]\n",
      "Building shuffle matrix:  21%|██        | 13/63 [00:00<00:00, 129.29it/s]"
     ]
    },
    {
     "name": "stdout",
     "output_type": "stream",
     "text": [
      "Preparing...\n"
     ]
    },
    {
     "name": "stderr",
     "output_type": "stream",
     "text": [
      "Building shuffle matrix: 100%|██████████| 63/63 [00:03<00:00, 19.71it/s] \n",
      "Computing variances: 100%|██████████| 9/9 [00:00<00:00, 3773.36it/s]\n",
      "Computing variances:   0%|          | 0/1096 [00:00<?, ?it/s]"
     ]
    },
    {
     "name": "stdout",
     "output_type": "stream",
     "text": [
      "Done.\n"
     ]
    },
    {
     "name": "stderr",
     "output_type": "stream",
     "text": [
      "Computing variances: 100%|██████████| 1096/1096 [00:00<00:00, 7745.43it/s]\n",
      "Computing signatures: 100%|██████████| 36/36 [00:00<00:00, 496.41it/s]\n",
      "Building shuffle matrix:  22%|██▏       | 14/63 [00:00<00:00, 139.77it/s]"
     ]
    },
    {
     "name": "stdout",
     "output_type": "stream",
     "text": [
      "Preparing...\n"
     ]
    },
    {
     "name": "stderr",
     "output_type": "stream",
     "text": [
      "Building shuffle matrix: 100%|██████████| 63/63 [00:02<00:00, 24.42it/s] \n",
      "Computing variances: 100%|██████████| 9/9 [00:00<00:00, 3021.11it/s]\n",
      "Computing variances:   0%|          | 0/1096 [00:00<?, ?it/s]"
     ]
    },
    {
     "name": "stdout",
     "output_type": "stream",
     "text": [
      "Done.\n"
     ]
    },
    {
     "name": "stderr",
     "output_type": "stream",
     "text": [
      "Computing variances: 100%|██████████| 1096/1096 [00:00<00:00, 11416.93it/s]\n",
      "Computing signatures: 100%|██████████| 36/36 [00:00<00:00, 676.54it/s]\n",
      "Building shuffle matrix:  24%|██▍       | 15/63 [00:00<00:00, 148.94it/s]"
     ]
    },
    {
     "name": "stdout",
     "output_type": "stream",
     "text": [
      "Preparing...\n"
     ]
    },
    {
     "name": "stderr",
     "output_type": "stream",
     "text": [
      "Building shuffle matrix: 100%|██████████| 63/63 [00:02<00:00, 25.50it/s] \n",
      "Computing variances: 100%|██████████| 9/9 [00:00<00:00, 4161.02it/s]\n",
      "Computing variances: 100%|██████████| 1096/1096 [00:00<00:00, 12598.30it/s]\n",
      "Computing signatures:   0%|          | 0/36 [00:00<?, ?it/s]"
     ]
    },
    {
     "name": "stdout",
     "output_type": "stream",
     "text": [
      "Done.\n",
      "Preparing...\n"
     ]
    },
    {
     "name": "stderr",
     "output_type": "stream",
     "text": [
      "Computing signatures: 100%|██████████| 36/36 [00:00<00:00, 731.13it/s]\n",
      "Building shuffle matrix: 100%|██████████| 63/63 [00:02<00:00, 27.27it/s] \n",
      "Computing variances: 100%|██████████| 9/9 [00:00<00:00, 2587.66it/s]\n",
      "Computing variances:   0%|          | 0/1096 [00:00<?, ?it/s]"
     ]
    },
    {
     "name": "stdout",
     "output_type": "stream",
     "text": [
      "Done.\n"
     ]
    },
    {
     "name": "stderr",
     "output_type": "stream",
     "text": [
      "Computing variances: 100%|██████████| 1096/1096 [00:00<00:00, 11256.18it/s]\n",
      "Computing signatures: 100%|██████████| 36/36 [00:00<00:00, 608.05it/s]\n",
      "Building shuffle matrix:  25%|██▌       | 16/63 [00:00<00:00, 154.85it/s]"
     ]
    },
    {
     "name": "stdout",
     "output_type": "stream",
     "text": [
      "Preparing...\n"
     ]
    },
    {
     "name": "stderr",
     "output_type": "stream",
     "text": [
      "Building shuffle matrix: 100%|██████████| 63/63 [00:02<00:00, 25.68it/s] \n",
      "Computing variances: 100%|██████████| 9/9 [00:00<00:00, 3276.52it/s]\n",
      "Computing variances: 100%|██████████| 1096/1096 [00:00<00:00, 12209.55it/s]\n",
      "Computing signatures:   0%|          | 0/36 [00:00<?, ?it/s]"
     ]
    },
    {
     "name": "stdout",
     "output_type": "stream",
     "text": [
      "Done.\n",
      "Preparing...\n"
     ]
    },
    {
     "name": "stderr",
     "output_type": "stream",
     "text": [
      "Computing signatures: 100%|██████████| 36/36 [00:00<00:00, 759.64it/s]\n",
      "Building shuffle matrix: 100%|██████████| 63/63 [00:02<00:00, 26.52it/s] \n",
      "Computing variances: 100%|██████████| 9/9 [00:00<00:00, 3082.28it/s]\n",
      "Computing variances:   0%|          | 0/1096 [00:00<?, ?it/s]"
     ]
    },
    {
     "name": "stdout",
     "output_type": "stream",
     "text": [
      "Done.\n"
     ]
    },
    {
     "name": "stderr",
     "output_type": "stream",
     "text": [
      "Computing variances: 100%|██████████| 1096/1096 [00:00<00:00, 10775.09it/s]\n",
      "Computing signatures: 100%|██████████| 36/36 [00:00<00:00, 694.27it/s]\n",
      "Building shuffle matrix:  22%|██▏       | 14/63 [00:00<00:00, 133.54it/s]"
     ]
    },
    {
     "name": "stdout",
     "output_type": "stream",
     "text": [
      "Preparing...\n"
     ]
    },
    {
     "name": "stderr",
     "output_type": "stream",
     "text": [
      "Building shuffle matrix: 100%|██████████| 63/63 [00:02<00:00, 24.11it/s] \n",
      "Computing variances: 100%|██████████| 9/9 [00:00<00:00, 4017.96it/s]\n",
      "Computing variances:   0%|          | 0/1096 [00:00<?, ?it/s]"
     ]
    },
    {
     "name": "stdout",
     "output_type": "stream",
     "text": [
      "Done.\n"
     ]
    },
    {
     "name": "stderr",
     "output_type": "stream",
     "text": [
      "Computing variances: 100%|██████████| 1096/1096 [00:00<00:00, 11649.31it/s]\n",
      "Computing signatures: 100%|██████████| 36/36 [00:00<00:00, 583.17it/s]\n",
      "Building shuffle matrix:  25%|██▌       | 16/63 [00:00<00:00, 129.74it/s]"
     ]
    },
    {
     "name": "stdout",
     "output_type": "stream",
     "text": [
      "Preparing...\n"
     ]
    },
    {
     "name": "stderr",
     "output_type": "stream",
     "text": [
      "Building shuffle matrix: 100%|██████████| 63/63 [00:02<00:00, 24.89it/s] \n",
      "Computing variances: 100%|██████████| 9/9 [00:00<00:00, 4490.69it/s]\n",
      "Computing variances: 100%|██████████| 1096/1096 [00:00<00:00, 13028.52it/s]"
     ]
    },
    {
     "name": "stdout",
     "output_type": "stream",
     "text": [
      "Done.\n"
     ]
    },
    {
     "name": "stderr",
     "output_type": "stream",
     "text": [
      "\n",
      "Computing signatures:  33%|███▎      | 183/549 [00:00<00:00, 925.04it/s]"
     ]
    },
    {
     "name": "stdout",
     "output_type": "stream",
     "text": [
      "Preparing...\n"
     ]
    },
    {
     "name": "stderr",
     "output_type": "stream",
     "text": [
      "Computing signatures: 100%|██████████| 549/549 [00:00<00:00, 892.83it/s]\n",
      "Building shuffle matrix: 100%|██████████| 63/63 [00:02<00:00, 28.82it/s] \n",
      "Computing variances: 100%|██████████| 137/137 [00:00<00:00, 1225.73it/s]\n",
      "Computing variances:   0%|          | 0/586 [00:00<?, ?it/s]"
     ]
    },
    {
     "name": "stdout",
     "output_type": "stream",
     "text": [
      "Done.\n"
     ]
    },
    {
     "name": "stderr",
     "output_type": "stream",
     "text": [
      "Computing variances: 100%|██████████| 586/586 [00:00<00:00, 1004.65it/s]\n",
      "Computing signatures:  15%|█▍        | 81/549 [00:00<00:00, 804.16it/s]"
     ]
    },
    {
     "name": "stdout",
     "output_type": "stream",
     "text": [
      "Preparing...\n"
     ]
    },
    {
     "name": "stderr",
     "output_type": "stream",
     "text": [
      "Computing signatures: 100%|██████████| 549/549 [00:00<00:00, 908.28it/s]\n",
      "Building shuffle matrix: 100%|██████████| 63/63 [00:02<00:00, 28.00it/s] \n",
      "Computing variances: 100%|██████████| 137/137 [00:00<00:00, 1194.45it/s]"
     ]
    },
    {
     "name": "stdout",
     "output_type": "stream",
     "text": [
      "Done.\n"
     ]
    },
    {
     "name": "stderr",
     "output_type": "stream",
     "text": [
      "\n",
      "Computing variances: 100%|██████████| 586/586 [00:00<00:00, 1250.79it/s]\n",
      "Computing signatures:  32%|███▏      | 176/549 [00:00<00:00, 898.38it/s]"
     ]
    },
    {
     "name": "stdout",
     "output_type": "stream",
     "text": [
      "Preparing...\n"
     ]
    },
    {
     "name": "stderr",
     "output_type": "stream",
     "text": [
      "Computing signatures: 100%|██████████| 549/549 [00:00<00:00, 811.90it/s]\n",
      "Building shuffle matrix: 100%|██████████| 63/63 [00:02<00:00, 27.75it/s] \n",
      "Computing variances: 100%|██████████| 137/137 [00:00<00:00, 1536.29it/s]"
     ]
    },
    {
     "name": "stdout",
     "output_type": "stream",
     "text": [
      "Done.\n"
     ]
    },
    {
     "name": "stderr",
     "output_type": "stream",
     "text": [
      "\n",
      "Computing variances: 100%|██████████| 586/586 [00:00<00:00, 1169.77it/s]\n",
      "Computing signatures:  34%|███▍      | 189/549 [00:00<00:00, 949.24it/s]"
     ]
    },
    {
     "name": "stdout",
     "output_type": "stream",
     "text": [
      "Preparing...\n"
     ]
    },
    {
     "name": "stderr",
     "output_type": "stream",
     "text": [
      "Computing signatures: 100%|██████████| 549/549 [00:00<00:00, 904.44it/s]\n",
      "Building shuffle matrix: 100%|██████████| 63/63 [00:02<00:00, 28.46it/s] \n",
      "Computing variances: 100%|██████████| 137/137 [00:00<00:00, 1251.03it/s]"
     ]
    },
    {
     "name": "stdout",
     "output_type": "stream",
     "text": [
      "Done.\n"
     ]
    },
    {
     "name": "stderr",
     "output_type": "stream",
     "text": [
      "\n",
      "Computing variances: 100%|██████████| 586/586 [00:00<00:00, 921.45it/s]\n",
      "Computing signatures:  29%|██▉       | 158/549 [00:00<00:00, 802.58it/s]"
     ]
    },
    {
     "name": "stdout",
     "output_type": "stream",
     "text": [
      "Preparing...\n"
     ]
    },
    {
     "name": "stderr",
     "output_type": "stream",
     "text": [
      "Computing signatures: 100%|██████████| 549/549 [00:00<00:00, 811.96it/s]\n",
      "Building shuffle matrix: 100%|██████████| 63/63 [00:02<00:00, 26.32it/s] \n",
      "Computing variances: 100%|██████████| 137/137 [00:00<00:00, 1049.71it/s]"
     ]
    },
    {
     "name": "stdout",
     "output_type": "stream",
     "text": [
      "Done.\n"
     ]
    },
    {
     "name": "stderr",
     "output_type": "stream",
     "text": [
      "\n",
      "Computing variances: 100%|██████████| 586/586 [00:00<00:00, 953.43it/s]\n",
      "Computing signatures:  29%|██▉       | 160/549 [00:00<00:00, 793.60it/s]"
     ]
    },
    {
     "name": "stdout",
     "output_type": "stream",
     "text": [
      "Preparing...\n"
     ]
    },
    {
     "name": "stderr",
     "output_type": "stream",
     "text": [
      "Computing signatures: 100%|██████████| 549/549 [00:00<00:00, 838.37it/s]\n",
      "Building shuffle matrix: 100%|██████████| 63/63 [00:02<00:00, 27.07it/s] \n",
      "Computing variances: 100%|██████████| 137/137 [00:00<00:00, 1137.08it/s]"
     ]
    },
    {
     "name": "stdout",
     "output_type": "stream",
     "text": [
      "Done.\n"
     ]
    },
    {
     "name": "stderr",
     "output_type": "stream",
     "text": [
      "\n",
      "Computing variances: 100%|██████████| 586/586 [00:00<00:00, 1210.31it/s]\n",
      "Computing signatures:  32%|███▏      | 177/549 [00:00<00:00, 862.71it/s]"
     ]
    },
    {
     "name": "stdout",
     "output_type": "stream",
     "text": [
      "Preparing...\n"
     ]
    },
    {
     "name": "stderr",
     "output_type": "stream",
     "text": [
      "Computing signatures: 100%|██████████| 549/549 [00:00<00:00, 771.73it/s]\n",
      "Building shuffle matrix: 100%|██████████| 63/63 [00:02<00:00, 25.75it/s] \n",
      "Computing variances: 100%|██████████| 137/137 [00:00<00:00, 1042.13it/s]"
     ]
    },
    {
     "name": "stdout",
     "output_type": "stream",
     "text": [
      "Done.\n"
     ]
    },
    {
     "name": "stderr",
     "output_type": "stream",
     "text": [
      "\n",
      "Computing variances: 100%|██████████| 586/586 [00:00<00:00, 1088.85it/s]\n",
      "Computing signatures:  33%|███▎      | 179/549 [00:00<00:00, 895.13it/s]"
     ]
    },
    {
     "name": "stdout",
     "output_type": "stream",
     "text": [
      "Preparing...\n"
     ]
    },
    {
     "name": "stderr",
     "output_type": "stream",
     "text": [
      "Computing signatures: 100%|██████████| 549/549 [00:00<00:00, 893.23it/s]\n",
      "Building shuffle matrix: 100%|██████████| 63/63 [00:02<00:00, 27.82it/s] \n",
      "Computing variances: 100%|██████████| 137/137 [00:00<00:00, 1532.65it/s]"
     ]
    },
    {
     "name": "stdout",
     "output_type": "stream",
     "text": [
      "Done.\n"
     ]
    },
    {
     "name": "stderr",
     "output_type": "stream",
     "text": [
      "\n",
      "Computing variances: 100%|██████████| 586/586 [00:00<00:00, 1151.36it/s]\n",
      "Computing signatures:  33%|███▎      | 181/549 [00:00<00:00, 883.72it/s]"
     ]
    },
    {
     "name": "stdout",
     "output_type": "stream",
     "text": [
      "Preparing...\n"
     ]
    },
    {
     "name": "stderr",
     "output_type": "stream",
     "text": [
      "Computing signatures: 100%|██████████| 549/549 [00:00<00:00, 900.66it/s]\n",
      "Building shuffle matrix: 100%|██████████| 63/63 [00:02<00:00, 27.95it/s] \n",
      "Computing variances: 100%|██████████| 137/137 [00:00<00:00, 1043.73it/s]"
     ]
    },
    {
     "name": "stdout",
     "output_type": "stream",
     "text": [
      "Done.\n"
     ]
    },
    {
     "name": "stderr",
     "output_type": "stream",
     "text": [
      "\n",
      "Computing variances: 100%|██████████| 586/586 [00:00<00:00, 1044.37it/s]\n",
      "Computing signatures:  17%|█▋        | 96/549 [00:00<00:00, 958.97it/s]"
     ]
    },
    {
     "name": "stdout",
     "output_type": "stream",
     "text": [
      "Preparing...\n"
     ]
    },
    {
     "name": "stderr",
     "output_type": "stream",
     "text": [
      "Computing signatures: 100%|██████████| 549/549 [00:00<00:00, 884.23it/s]\n",
      "Building shuffle matrix: 100%|██████████| 63/63 [00:02<00:00, 27.87it/s] \n",
      "Computing variances: 100%|██████████| 137/137 [00:00<00:00, 1457.46it/s]"
     ]
    },
    {
     "name": "stdout",
     "output_type": "stream",
     "text": [
      "Done.\n"
     ]
    },
    {
     "name": "stderr",
     "output_type": "stream",
     "text": [
      "\n",
      "Computing variances: 100%|██████████| 586/586 [00:00<00:00, 1200.39it/s]\n",
      "Computing signatures: 100%|██████████| 24/24 [00:00<00:00, 542.35it/s]\n",
      "Building shuffle matrix:  25%|██▌       | 16/63 [00:00<00:00, 158.39it/s]"
     ]
    },
    {
     "name": "stdout",
     "output_type": "stream",
     "text": [
      "Preparing...\n"
     ]
    },
    {
     "name": "stderr",
     "output_type": "stream",
     "text": [
      "Building shuffle matrix: 100%|██████████| 63/63 [00:02<00:00, 28.08it/s] \n",
      "Computing variances: 100%|██████████| 6/6 [00:00<00:00, 2856.83it/s]\n",
      "Computing variances: 100%|██████████| 180/180 [00:00<00:00, 9013.12it/s]\n",
      "Computing signatures:   0%|          | 0/24 [00:00<?, ?it/s]"
     ]
    },
    {
     "name": "stdout",
     "output_type": "stream",
     "text": [
      "Done.\n",
      "Preparing...\n"
     ]
    },
    {
     "name": "stderr",
     "output_type": "stream",
     "text": [
      "Computing signatures: 100%|██████████| 24/24 [00:00<00:00, 540.70it/s]\n",
      "Building shuffle matrix: 100%|██████████| 63/63 [00:02<00:00, 26.97it/s] \n",
      "Computing variances: 100%|██████████| 6/6 [00:00<00:00, 4683.76it/s]\n",
      "Computing variances: 100%|██████████| 180/180 [00:00<00:00, 9782.25it/s]\n",
      "Computing signatures:   0%|          | 0/24 [00:00<?, ?it/s]"
     ]
    },
    {
     "name": "stdout",
     "output_type": "stream",
     "text": [
      "Done.\n",
      "Preparing...\n"
     ]
    },
    {
     "name": "stderr",
     "output_type": "stream",
     "text": [
      "Computing signatures: 100%|██████████| 24/24 [00:00<00:00, 533.82it/s]\n",
      "Building shuffle matrix: 100%|██████████| 63/63 [00:02<00:00, 28.21it/s] \n",
      "Computing variances: 100%|██████████| 6/6 [00:00<00:00, 6004.73it/s]\n",
      "Computing variances: 100%|██████████| 180/180 [00:00<00:00, 10082.73it/s]\n",
      "Computing signatures:   0%|          | 0/24 [00:00<?, ?it/s]"
     ]
    },
    {
     "name": "stdout",
     "output_type": "stream",
     "text": [
      "Done.\n",
      "Preparing...\n"
     ]
    },
    {
     "name": "stderr",
     "output_type": "stream",
     "text": [
      "Computing signatures: 100%|██████████| 24/24 [00:00<00:00, 543.32it/s]\n",
      "Building shuffle matrix: 100%|██████████| 63/63 [00:02<00:00, 28.20it/s] \n",
      "Computing variances: 100%|██████████| 6/6 [00:00<00:00, 3284.07it/s]\n",
      "Computing variances: 100%|██████████| 180/180 [00:00<00:00, 10139.06it/s]\n",
      "Computing signatures:   0%|          | 0/24 [00:00<?, ?it/s]"
     ]
    },
    {
     "name": "stdout",
     "output_type": "stream",
     "text": [
      "Done.\n",
      "Preparing...\n"
     ]
    },
    {
     "name": "stderr",
     "output_type": "stream",
     "text": [
      "Computing signatures: 100%|██████████| 24/24 [00:00<00:00, 535.82it/s]\n",
      "Building shuffle matrix: 100%|██████████| 63/63 [00:02<00:00, 27.48it/s] \n",
      "Computing variances: 100%|██████████| 6/6 [00:00<00:00, 2939.59it/s]\n",
      "Computing variances: 100%|██████████| 180/180 [00:00<00:00, 9937.67it/s]\n",
      "Computing signatures:   0%|          | 0/24 [00:00<?, ?it/s]"
     ]
    },
    {
     "name": "stdout",
     "output_type": "stream",
     "text": [
      "Done.\n",
      "Preparing...\n"
     ]
    },
    {
     "name": "stderr",
     "output_type": "stream",
     "text": [
      "Computing signatures: 100%|██████████| 24/24 [00:00<00:00, 537.63it/s]\n",
      "Building shuffle matrix: 100%|██████████| 63/63 [00:02<00:00, 27.83it/s] \n",
      "Computing variances: 100%|██████████| 6/6 [00:00<00:00, 2173.03it/s]\n",
      "Computing variances: 100%|██████████| 180/180 [00:00<00:00, 10168.42it/s]\n",
      "Computing signatures:   0%|          | 0/24 [00:00<?, ?it/s]"
     ]
    },
    {
     "name": "stdout",
     "output_type": "stream",
     "text": [
      "Done.\n",
      "Preparing...\n"
     ]
    },
    {
     "name": "stderr",
     "output_type": "stream",
     "text": [
      "Computing signatures: 100%|██████████| 24/24 [00:00<00:00, 536.18it/s]\n",
      "Building shuffle matrix: 100%|██████████| 63/63 [00:02<00:00, 27.17it/s] \n",
      "Computing variances: 100%|██████████| 6/6 [00:00<00:00, 2552.06it/s]\n",
      "Computing variances: 100%|██████████| 180/180 [00:00<00:00, 10336.46it/s]\n",
      "Computing signatures:   0%|          | 0/24 [00:00<?, ?it/s]"
     ]
    },
    {
     "name": "stdout",
     "output_type": "stream",
     "text": [
      "Done.\n",
      "Preparing...\n"
     ]
    },
    {
     "name": "stderr",
     "output_type": "stream",
     "text": [
      "Computing signatures: 100%|██████████| 24/24 [00:00<00:00, 500.30it/s]\n",
      "Building shuffle matrix: 100%|██████████| 63/63 [00:02<00:00, 26.74it/s] \n",
      "Computing variances: 100%|██████████| 6/6 [00:00<00:00, 4192.91it/s]\n",
      "Computing variances: 100%|██████████| 180/180 [00:00<00:00, 11477.27it/s]\n",
      "Computing signatures:   0%|          | 0/24 [00:00<?, ?it/s]"
     ]
    },
    {
     "name": "stdout",
     "output_type": "stream",
     "text": [
      "Done.\n",
      "Preparing...\n"
     ]
    },
    {
     "name": "stderr",
     "output_type": "stream",
     "text": [
      "Computing signatures: 100%|██████████| 24/24 [00:00<00:00, 529.33it/s]\n",
      "Building shuffle matrix: 100%|██████████| 63/63 [00:02<00:00, 27.87it/s] \n",
      "Computing variances: 100%|██████████| 6/6 [00:00<00:00, 2993.44it/s]\n",
      "Computing variances: 100%|██████████| 180/180 [00:00<00:00, 10309.92it/s]\n",
      "Computing signatures:   0%|          | 0/24 [00:00<?, ?it/s]"
     ]
    },
    {
     "name": "stdout",
     "output_type": "stream",
     "text": [
      "Done.\n",
      "Preparing...\n"
     ]
    },
    {
     "name": "stderr",
     "output_type": "stream",
     "text": [
      "Computing signatures: 100%|██████████| 24/24 [00:00<00:00, 544.44it/s]\n",
      "Building shuffle matrix: 100%|██████████| 63/63 [00:02<00:00, 27.37it/s] \n",
      "Computing variances: 100%|██████████| 6/6 [00:00<00:00, 6812.62it/s]\n",
      "Computing variances: 100%|██████████| 180/180 [00:00<00:00, 6967.54it/s]"
     ]
    },
    {
     "name": "stdout",
     "output_type": "stream",
     "text": [
      "Done.\n"
     ]
    },
    {
     "name": "stderr",
     "output_type": "stream",
     "text": [
      "\n",
      "Computing signatures:  12%|█▏        | 33/281 [00:00<00:00, 329.04it/s]"
     ]
    },
    {
     "name": "stdout",
     "output_type": "stream",
     "text": [
      "Preparing...\n"
     ]
    },
    {
     "name": "stderr",
     "output_type": "stream",
     "text": [
      "Computing signatures: 100%|██████████| 281/281 [00:00<00:00, 325.00it/s]\n",
      "Building shuffle matrix: 100%|██████████| 63/63 [00:02<00:00, 30.12it/s] \n",
      "Computing variances: 100%|██████████| 70/70 [00:00<00:00, 2393.97it/s]"
     ]
    },
    {
     "name": "stdout",
     "output_type": "stream",
     "text": [
      "Done.\n"
     ]
    },
    {
     "name": "stderr",
     "output_type": "stream",
     "text": [
      "\n",
      "Computing variances: 100%|██████████| 632/632 [00:00<00:00, 2882.49it/s]\n",
      "Computing signatures:  10%|█         | 29/281 [00:00<00:00, 289.06it/s]"
     ]
    },
    {
     "name": "stdout",
     "output_type": "stream",
     "text": [
      "Preparing...\n"
     ]
    },
    {
     "name": "stderr",
     "output_type": "stream",
     "text": [
      "Computing signatures: 100%|██████████| 281/281 [00:00<00:00, 324.46it/s]\n",
      "Building shuffle matrix: 100%|██████████| 63/63 [00:02<00:00, 27.34it/s] \n"
     ]
    },
    {
     "name": "stdout",
     "output_type": "stream",
     "text": [
      "Done.\n"
     ]
    },
    {
     "name": "stderr",
     "output_type": "stream",
     "text": [
      "Computing variances: 100%|██████████| 70/70 [00:00<00:00, 2832.40it/s]\n",
      "Computing variances: 100%|██████████| 632/632 [00:00<00:00, 3380.06it/s]\n",
      "Computing signatures:  24%|██▍       | 68/281 [00:00<00:00, 337.52it/s]"
     ]
    },
    {
     "name": "stdout",
     "output_type": "stream",
     "text": [
      "Preparing...\n"
     ]
    },
    {
     "name": "stderr",
     "output_type": "stream",
     "text": [
      "Computing signatures: 100%|██████████| 281/281 [00:00<00:00, 322.96it/s]\n",
      "Building shuffle matrix: 100%|██████████| 63/63 [00:02<00:00, 28.54it/s] \n",
      "Computing variances: 100%|██████████| 70/70 [00:00<00:00, 2660.71it/s]"
     ]
    },
    {
     "name": "stdout",
     "output_type": "stream",
     "text": [
      "Done.\n"
     ]
    },
    {
     "name": "stderr",
     "output_type": "stream",
     "text": [
      "\n",
      "Computing variances: 100%|██████████| 632/632 [00:00<00:00, 3127.69it/s]\n",
      "Computing signatures:  12%|█▏        | 34/281 [00:00<00:00, 333.79it/s]"
     ]
    },
    {
     "name": "stdout",
     "output_type": "stream",
     "text": [
      "Preparing...\n"
     ]
    },
    {
     "name": "stderr",
     "output_type": "stream",
     "text": [
      "Computing signatures: 100%|██████████| 281/281 [00:00<00:00, 321.56it/s]\n",
      "Building shuffle matrix: 100%|██████████| 63/63 [00:02<00:00, 27.58it/s] \n",
      "Computing variances: 100%|██████████| 70/70 [00:00<00:00, 3119.70it/s]"
     ]
    },
    {
     "name": "stdout",
     "output_type": "stream",
     "text": [
      "Done.\n"
     ]
    },
    {
     "name": "stderr",
     "output_type": "stream",
     "text": [
      "\n",
      "Computing variances: 100%|██████████| 632/632 [00:00<00:00, 3257.34it/s]\n",
      "Computing signatures:  23%|██▎       | 66/281 [00:00<00:00, 318.51it/s]"
     ]
    },
    {
     "name": "stdout",
     "output_type": "stream",
     "text": [
      "Preparing...\n"
     ]
    },
    {
     "name": "stderr",
     "output_type": "stream",
     "text": [
      "Computing signatures: 100%|██████████| 281/281 [00:00<00:00, 313.90it/s]\n",
      "Building shuffle matrix: 100%|██████████| 63/63 [00:02<00:00, 27.73it/s] \n",
      "Computing variances: 100%|██████████| 70/70 [00:00<00:00, 2807.08it/s]"
     ]
    },
    {
     "name": "stdout",
     "output_type": "stream",
     "text": [
      "Done.\n"
     ]
    },
    {
     "name": "stderr",
     "output_type": "stream",
     "text": [
      "\n",
      "Computing variances: 100%|██████████| 632/632 [00:00<00:00, 3052.99it/s]\n",
      "Computing signatures:  23%|██▎       | 65/281 [00:00<00:00, 321.33it/s]"
     ]
    },
    {
     "name": "stdout",
     "output_type": "stream",
     "text": [
      "Preparing...\n"
     ]
    },
    {
     "name": "stderr",
     "output_type": "stream",
     "text": [
      "Computing signatures: 100%|██████████| 281/281 [00:00<00:00, 308.95it/s]\n",
      "Building shuffle matrix: 100%|██████████| 63/63 [00:02<00:00, 27.76it/s] \n",
      "Computing variances: 100%|██████████| 70/70 [00:00<00:00, 3010.49it/s]"
     ]
    },
    {
     "name": "stdout",
     "output_type": "stream",
     "text": [
      "Done.\n"
     ]
    },
    {
     "name": "stderr",
     "output_type": "stream",
     "text": [
      "\n",
      "Computing variances: 100%|██████████| 632/632 [00:00<00:00, 3174.85it/s]\n",
      "Computing signatures:  12%|█▏        | 34/281 [00:00<00:00, 337.16it/s]"
     ]
    },
    {
     "name": "stdout",
     "output_type": "stream",
     "text": [
      "Preparing...\n"
     ]
    },
    {
     "name": "stderr",
     "output_type": "stream",
     "text": [
      "Computing signatures: 100%|██████████| 281/281 [00:00<00:00, 319.45it/s]\n",
      "Building shuffle matrix: 100%|██████████| 63/63 [00:02<00:00, 27.68it/s] \n",
      "Computing variances: 100%|██████████| 70/70 [00:00<00:00, 2652.73it/s]"
     ]
    },
    {
     "name": "stdout",
     "output_type": "stream",
     "text": [
      "Done.\n"
     ]
    },
    {
     "name": "stderr",
     "output_type": "stream",
     "text": [
      "\n",
      "Computing variances: 100%|██████████| 632/632 [00:00<00:00, 3156.53it/s]\n",
      "Computing signatures:  23%|██▎       | 64/281 [00:00<00:00, 321.58it/s]"
     ]
    },
    {
     "name": "stdout",
     "output_type": "stream",
     "text": [
      "Preparing...\n"
     ]
    },
    {
     "name": "stderr",
     "output_type": "stream",
     "text": [
      "Computing signatures: 100%|██████████| 281/281 [00:01<00:00, 278.46it/s]\n",
      "Building shuffle matrix: 100%|██████████| 63/63 [00:02<00:00, 23.85it/s] \n",
      "Computing variances: 100%|██████████| 70/70 [00:00<00:00, 2969.27it/s]\n",
      "Computing variances:   0%|          | 0/632 [00:00<?, ?it/s]"
     ]
    },
    {
     "name": "stdout",
     "output_type": "stream",
     "text": [
      "Done.\n"
     ]
    },
    {
     "name": "stderr",
     "output_type": "stream",
     "text": [
      "Computing variances: 100%|██████████| 632/632 [00:00<00:00, 3313.20it/s]\n",
      "Computing signatures:  12%|█▏        | 35/281 [00:00<00:00, 342.75it/s]"
     ]
    },
    {
     "name": "stdout",
     "output_type": "stream",
     "text": [
      "Preparing...\n"
     ]
    },
    {
     "name": "stderr",
     "output_type": "stream",
     "text": [
      "Computing signatures: 100%|██████████| 281/281 [00:00<00:00, 332.56it/s]\n",
      "Building shuffle matrix: 100%|██████████| 63/63 [00:02<00:00, 28.68it/s] \n",
      "Computing variances: 100%|██████████| 70/70 [00:00<00:00, 2888.84it/s]"
     ]
    },
    {
     "name": "stdout",
     "output_type": "stream",
     "text": [
      "Done.\n"
     ]
    },
    {
     "name": "stderr",
     "output_type": "stream",
     "text": [
      "\n",
      "Computing variances: 100%|██████████| 632/632 [00:00<00:00, 3347.14it/s]\n",
      "Computing signatures:  12%|█▏        | 35/281 [00:00<00:00, 341.23it/s]"
     ]
    },
    {
     "name": "stdout",
     "output_type": "stream",
     "text": [
      "Preparing...\n"
     ]
    },
    {
     "name": "stderr",
     "output_type": "stream",
     "text": [
      "Computing signatures: 100%|██████████| 281/281 [00:00<00:00, 312.12it/s]\n",
      "Building shuffle matrix: 100%|██████████| 63/63 [00:02<00:00, 28.74it/s] \n",
      "Computing variances: 100%|██████████| 70/70 [00:00<00:00, 3004.67it/s]"
     ]
    },
    {
     "name": "stdout",
     "output_type": "stream",
     "text": [
      "Done.\n"
     ]
    },
    {
     "name": "stderr",
     "output_type": "stream",
     "text": [
      "\n",
      "Computing variances: 100%|██████████| 632/632 [00:00<00:00, 3387.18it/s]\n",
      "Computing signatures:  16%|█▌        | 21/134 [00:00<00:00, 205.78it/s]"
     ]
    },
    {
     "name": "stdout",
     "output_type": "stream",
     "text": [
      "Preparing...\n"
     ]
    },
    {
     "name": "stderr",
     "output_type": "stream",
     "text": [
      "Computing signatures: 100%|██████████| 134/134 [00:00<00:00, 191.05it/s]\n",
      "Building shuffle matrix: 100%|██████████| 63/63 [00:02<00:00, 28.28it/s] \n"
     ]
    },
    {
     "name": "stdout",
     "output_type": "stream",
     "text": [
      "Done.\n"
     ]
    },
    {
     "name": "stderr",
     "output_type": "stream",
     "text": [
      "Computing variances: 100%|██████████| 33/33 [00:00<00:00, 2970.79it/s]\n",
      "Computing variances: 100%|██████████| 853/853 [00:00<00:00, 3891.34it/s]\n",
      "Computing signatures:  16%|█▌        | 21/134 [00:00<00:00, 204.69it/s]"
     ]
    },
    {
     "name": "stdout",
     "output_type": "stream",
     "text": [
      "Preparing...\n"
     ]
    },
    {
     "name": "stderr",
     "output_type": "stream",
     "text": [
      "Computing signatures: 100%|██████████| 134/134 [00:00<00:00, 191.03it/s]\n",
      "Building shuffle matrix: 100%|██████████| 63/63 [00:02<00:00, 28.17it/s] \n"
     ]
    },
    {
     "name": "stdout",
     "output_type": "stream",
     "text": [
      "Done.\n"
     ]
    },
    {
     "name": "stderr",
     "output_type": "stream",
     "text": [
      "Computing variances: 100%|██████████| 33/33 [00:00<00:00, 3551.03it/s]\n",
      "Computing variances: 100%|██████████| 853/853 [00:00<00:00, 4279.43it/s]\n",
      "Computing signatures:  16%|█▌        | 21/134 [00:00<00:00, 203.55it/s]"
     ]
    },
    {
     "name": "stdout",
     "output_type": "stream",
     "text": [
      "Preparing...\n"
     ]
    },
    {
     "name": "stderr",
     "output_type": "stream",
     "text": [
      "Computing signatures: 100%|██████████| 134/134 [00:00<00:00, 197.92it/s]\n",
      "Building shuffle matrix: 100%|██████████| 63/63 [00:02<00:00, 28.46it/s] \n"
     ]
    },
    {
     "name": "stdout",
     "output_type": "stream",
     "text": [
      "Done.\n"
     ]
    },
    {
     "name": "stderr",
     "output_type": "stream",
     "text": [
      "Computing variances: 100%|██████████| 33/33 [00:00<00:00, 3587.38it/s]\n",
      "Computing variances: 100%|██████████| 853/853 [00:00<00:00, 4311.48it/s]\n",
      "Computing signatures:  16%|█▌        | 21/134 [00:00<00:00, 203.36it/s]"
     ]
    },
    {
     "name": "stdout",
     "output_type": "stream",
     "text": [
      "Preparing...\n"
     ]
    },
    {
     "name": "stderr",
     "output_type": "stream",
     "text": [
      "Computing signatures: 100%|██████████| 134/134 [00:00<00:00, 190.03it/s]\n",
      "Building shuffle matrix: 100%|██████████| 63/63 [00:02<00:00, 28.71it/s] \n"
     ]
    },
    {
     "name": "stdout",
     "output_type": "stream",
     "text": [
      "Done.\n"
     ]
    },
    {
     "name": "stderr",
     "output_type": "stream",
     "text": [
      "Computing variances: 100%|██████████| 33/33 [00:00<00:00, 3516.57it/s]\n",
      "Computing variances: 100%|██████████| 853/853 [00:00<00:00, 3634.60it/s]\n",
      "Computing signatures:  31%|███       | 41/134 [00:00<00:00, 203.05it/s]"
     ]
    },
    {
     "name": "stdout",
     "output_type": "stream",
     "text": [
      "Preparing...\n"
     ]
    },
    {
     "name": "stderr",
     "output_type": "stream",
     "text": [
      "Computing signatures: 100%|██████████| 134/134 [00:00<00:00, 195.04it/s]\n",
      "Building shuffle matrix: 100%|██████████| 63/63 [00:02<00:00, 28.26it/s] \n"
     ]
    },
    {
     "name": "stdout",
     "output_type": "stream",
     "text": [
      "Done.\n"
     ]
    },
    {
     "name": "stderr",
     "output_type": "stream",
     "text": [
      "Computing variances: 100%|██████████| 33/33 [00:00<00:00, 3715.36it/s]\n",
      "Computing variances: 100%|██████████| 853/853 [00:00<00:00, 4283.90it/s]\n",
      "Computing signatures:  28%|██▊       | 37/134 [00:00<00:00, 176.73it/s]"
     ]
    },
    {
     "name": "stdout",
     "output_type": "stream",
     "text": [
      "Preparing...\n"
     ]
    },
    {
     "name": "stderr",
     "output_type": "stream",
     "text": [
      "Computing signatures: 100%|██████████| 134/134 [00:00<00:00, 173.27it/s]\n",
      "Building shuffle matrix: 100%|██████████| 63/63 [00:02<00:00, 26.53it/s] \n"
     ]
    },
    {
     "name": "stdout",
     "output_type": "stream",
     "text": [
      "Done.\n"
     ]
    },
    {
     "name": "stderr",
     "output_type": "stream",
     "text": [
      "Computing variances: 100%|██████████| 33/33 [00:00<00:00, 3715.86it/s]\n",
      "Computing variances: 100%|██████████| 853/853 [00:00<00:00, 4301.23it/s]\n",
      "Computing signatures:  16%|█▌        | 21/134 [00:00<00:00, 203.18it/s]"
     ]
    },
    {
     "name": "stdout",
     "output_type": "stream",
     "text": [
      "Preparing...\n"
     ]
    },
    {
     "name": "stderr",
     "output_type": "stream",
     "text": [
      "Computing signatures: 100%|██████████| 134/134 [00:00<00:00, 186.32it/s]\n",
      "Building shuffle matrix: 100%|██████████| 63/63 [00:02<00:00, 28.28it/s] \n"
     ]
    },
    {
     "name": "stdout",
     "output_type": "stream",
     "text": [
      "Done.\n"
     ]
    },
    {
     "name": "stderr",
     "output_type": "stream",
     "text": [
      "Computing variances: 100%|██████████| 33/33 [00:00<00:00, 2894.44it/s]\n",
      "Computing variances: 100%|██████████| 853/853 [00:00<00:00, 4341.72it/s]\n",
      "Computing signatures:  31%|███       | 41/134 [00:00<00:00, 202.80it/s]"
     ]
    },
    {
     "name": "stdout",
     "output_type": "stream",
     "text": [
      "Preparing...\n"
     ]
    },
    {
     "name": "stderr",
     "output_type": "stream",
     "text": [
      "Computing signatures: 100%|██████████| 134/134 [00:00<00:00, 192.43it/s]\n",
      "Building shuffle matrix: 100%|██████████| 63/63 [00:02<00:00, 28.28it/s] \n"
     ]
    },
    {
     "name": "stdout",
     "output_type": "stream",
     "text": [
      "Done.\n"
     ]
    },
    {
     "name": "stderr",
     "output_type": "stream",
     "text": [
      "Computing variances: 100%|██████████| 33/33 [00:00<00:00, 3421.04it/s]\n",
      "Computing variances: 100%|██████████| 853/853 [00:00<00:00, 3554.57it/s]\n",
      "Computing signatures:  14%|█▍        | 19/134 [00:00<00:00, 186.03it/s]"
     ]
    },
    {
     "name": "stdout",
     "output_type": "stream",
     "text": [
      "Preparing...\n"
     ]
    },
    {
     "name": "stderr",
     "output_type": "stream",
     "text": [
      "Computing signatures: 100%|██████████| 134/134 [00:00<00:00, 181.98it/s]\n",
      "Building shuffle matrix: 100%|██████████| 63/63 [00:02<00:00, 27.89it/s] \n"
     ]
    },
    {
     "name": "stdout",
     "output_type": "stream",
     "text": [
      "Done.\n"
     ]
    },
    {
     "name": "stderr",
     "output_type": "stream",
     "text": [
      "Computing variances: 100%|██████████| 33/33 [00:00<00:00, 2431.48it/s]\n",
      "Computing variances: 100%|██████████| 853/853 [00:00<00:00, 4443.20it/s]\n",
      "Computing signatures:  31%|███       | 41/134 [00:00<00:00, 201.86it/s]"
     ]
    },
    {
     "name": "stdout",
     "output_type": "stream",
     "text": [
      "Preparing...\n"
     ]
    },
    {
     "name": "stderr",
     "output_type": "stream",
     "text": [
      "Computing signatures: 100%|██████████| 134/134 [00:00<00:00, 193.33it/s]\n",
      "Building shuffle matrix: 100%|██████████| 63/63 [00:02<00:00, 28.24it/s] \n"
     ]
    },
    {
     "name": "stdout",
     "output_type": "stream",
     "text": [
      "Done.\n"
     ]
    },
    {
     "name": "stderr",
     "output_type": "stream",
     "text": [
      "Computing variances: 100%|██████████| 33/33 [00:00<00:00, 3033.95it/s]\n",
      "Computing variances: 100%|██████████| 853/853 [00:00<00:00, 3806.66it/s]\n",
      "Computing signatures:  26%|██▌       | 29/112 [00:00<00:00, 285.54it/s]"
     ]
    },
    {
     "name": "stdout",
     "output_type": "stream",
     "text": [
      "Preparing...\n"
     ]
    },
    {
     "name": "stderr",
     "output_type": "stream",
     "text": [
      "Computing signatures: 100%|██████████| 112/112 [00:00<00:00, 279.34it/s]\n",
      "Building shuffle matrix: 100%|██████████| 63/63 [00:02<00:00, 27.90it/s] \n"
     ]
    },
    {
     "name": "stdout",
     "output_type": "stream",
     "text": [
      "Done.\n"
     ]
    },
    {
     "name": "stderr",
     "output_type": "stream",
     "text": [
      "Computing variances: 100%|██████████| 28/28 [00:00<00:00, 3740.26it/s]\n",
      "Computing variances: 100%|██████████| 128/128 [00:00<00:00, 4409.54it/s]\n",
      "Computing signatures:  24%|██▍       | 27/112 [00:00<00:00, 268.45it/s]"
     ]
    },
    {
     "name": "stdout",
     "output_type": "stream",
     "text": [
      "Preparing...\n"
     ]
    },
    {
     "name": "stderr",
     "output_type": "stream",
     "text": [
      "Computing signatures: 100%|██████████| 112/112 [00:00<00:00, 276.34it/s]\n",
      "Building shuffle matrix: 100%|██████████| 63/63 [00:02<00:00, 28.07it/s] \n"
     ]
    },
    {
     "name": "stdout",
     "output_type": "stream",
     "text": [
      "Done.\n"
     ]
    },
    {
     "name": "stderr",
     "output_type": "stream",
     "text": [
      "Computing variances: 100%|██████████| 28/28 [00:00<00:00, 4013.28it/s]\n",
      "Computing variances: 100%|██████████| 128/128 [00:00<00:00, 5139.14it/s]\n",
      "Computing signatures:  26%|██▌       | 29/112 [00:00<00:00, 286.11it/s]"
     ]
    },
    {
     "name": "stdout",
     "output_type": "stream",
     "text": [
      "Preparing...\n"
     ]
    },
    {
     "name": "stderr",
     "output_type": "stream",
     "text": [
      "Computing signatures: 100%|██████████| 112/112 [00:00<00:00, 264.97it/s]\n",
      "Building shuffle matrix: 100%|██████████| 63/63 [00:02<00:00, 27.38it/s] \n",
      "Computing variances: 100%|██████████| 28/28 [00:00<00:00, 3596.73it/s]"
     ]
    },
    {
     "name": "stdout",
     "output_type": "stream",
     "text": [
      "Done.\n"
     ]
    },
    {
     "name": "stderr",
     "output_type": "stream",
     "text": [
      "\n",
      "Computing variances: 100%|██████████| 128/128 [00:00<00:00, 4172.66it/s]\n",
      "Computing signatures:  25%|██▌       | 28/112 [00:00<00:00, 277.64it/s]"
     ]
    },
    {
     "name": "stdout",
     "output_type": "stream",
     "text": [
      "Preparing...\n"
     ]
    },
    {
     "name": "stderr",
     "output_type": "stream",
     "text": [
      "Computing signatures: 100%|██████████| 112/112 [00:00<00:00, 280.25it/s]\n",
      "Building shuffle matrix: 100%|██████████| 63/63 [00:02<00:00, 27.60it/s] \n"
     ]
    },
    {
     "name": "stdout",
     "output_type": "stream",
     "text": [
      "Done.\n"
     ]
    },
    {
     "name": "stderr",
     "output_type": "stream",
     "text": [
      "Computing variances: 100%|██████████| 28/28 [00:00<00:00, 3887.34it/s]\n",
      "Computing variances: 100%|██████████| 128/128 [00:00<00:00, 4750.06it/s]\n",
      "Computing signatures:  26%|██▌       | 29/112 [00:00<00:00, 281.95it/s]"
     ]
    },
    {
     "name": "stdout",
     "output_type": "stream",
     "text": [
      "Preparing...\n"
     ]
    },
    {
     "name": "stderr",
     "output_type": "stream",
     "text": [
      "Computing signatures: 100%|██████████| 112/112 [00:00<00:00, 276.49it/s]\n",
      "Building shuffle matrix: 100%|██████████| 63/63 [00:02<00:00, 27.02it/s] \n"
     ]
    },
    {
     "name": "stdout",
     "output_type": "stream",
     "text": [
      "Done.\n"
     ]
    },
    {
     "name": "stderr",
     "output_type": "stream",
     "text": [
      "Computing variances: 100%|██████████| 28/28 [00:00<00:00, 4327.53it/s]\n",
      "Computing variances: 100%|██████████| 128/128 [00:00<00:00, 5139.34it/s]\n",
      "Computing signatures:  48%|████▊     | 54/112 [00:00<00:00, 270.42it/s]"
     ]
    },
    {
     "name": "stdout",
     "output_type": "stream",
     "text": [
      "Preparing...\n"
     ]
    },
    {
     "name": "stderr",
     "output_type": "stream",
     "text": [
      "Computing signatures: 100%|██████████| 112/112 [00:00<00:00, 267.16it/s]\n",
      "Building shuffle matrix: 100%|██████████| 63/63 [00:02<00:00, 28.20it/s] \n"
     ]
    },
    {
     "name": "stdout",
     "output_type": "stream",
     "text": [
      "Done.\n"
     ]
    },
    {
     "name": "stderr",
     "output_type": "stream",
     "text": [
      "Computing variances: 100%|██████████| 28/28 [00:00<00:00, 3662.46it/s]\n",
      "Computing variances: 100%|██████████| 128/128 [00:00<00:00, 3565.68it/s]\n",
      "Computing signatures:  23%|██▎       | 26/112 [00:00<00:00, 251.28it/s]"
     ]
    },
    {
     "name": "stdout",
     "output_type": "stream",
     "text": [
      "Preparing...\n"
     ]
    },
    {
     "name": "stderr",
     "output_type": "stream",
     "text": [
      "Computing signatures: 100%|██████████| 112/112 [00:00<00:00, 270.88it/s]\n",
      "Building shuffle matrix: 100%|██████████| 63/63 [00:02<00:00, 25.76it/s] \n",
      "Computing variances: 100%|██████████| 28/28 [00:00<00:00, 3601.81it/s]"
     ]
    },
    {
     "name": "stdout",
     "output_type": "stream",
     "text": [
      "Done.\n"
     ]
    },
    {
     "name": "stderr",
     "output_type": "stream",
     "text": [
      "\n",
      "Computing variances: 100%|██████████| 128/128 [00:00<00:00, 5195.84it/s]\n",
      "Computing signatures:  25%|██▌       | 28/112 [00:00<00:00, 276.41it/s]"
     ]
    },
    {
     "name": "stdout",
     "output_type": "stream",
     "text": [
      "Preparing...\n"
     ]
    },
    {
     "name": "stderr",
     "output_type": "stream",
     "text": [
      "Computing signatures: 100%|██████████| 112/112 [00:00<00:00, 275.70it/s]\n",
      "Building shuffle matrix: 100%|██████████| 63/63 [00:02<00:00, 28.14it/s] \n",
      "Computing variances: 100%|██████████| 28/28 [00:00<00:00, 4059.61it/s]"
     ]
    },
    {
     "name": "stdout",
     "output_type": "stream",
     "text": [
      "Done.\n"
     ]
    },
    {
     "name": "stderr",
     "output_type": "stream",
     "text": [
      "\n",
      "Computing variances: 100%|██████████| 128/128 [00:00<00:00, 5149.64it/s]\n",
      "Computing signatures:  46%|████▋     | 52/112 [00:00<00:00, 258.89it/s]"
     ]
    },
    {
     "name": "stdout",
     "output_type": "stream",
     "text": [
      "Preparing...\n"
     ]
    },
    {
     "name": "stderr",
     "output_type": "stream",
     "text": [
      "Computing signatures: 100%|██████████| 112/112 [00:00<00:00, 242.79it/s]\n",
      "Building shuffle matrix: 100%|██████████| 63/63 [00:02<00:00, 27.89it/s] \n"
     ]
    },
    {
     "name": "stdout",
     "output_type": "stream",
     "text": [
      "Done.\n"
     ]
    },
    {
     "name": "stderr",
     "output_type": "stream",
     "text": [
      "Computing variances: 100%|██████████| 28/28 [00:00<00:00, 4304.22it/s]\n",
      "Computing variances: 100%|██████████| 128/128 [00:00<00:00, 4881.58it/s]\n",
      "Computing signatures:  24%|██▍       | 27/112 [00:00<00:00, 266.59it/s]"
     ]
    },
    {
     "name": "stdout",
     "output_type": "stream",
     "text": [
      "Preparing...\n"
     ]
    },
    {
     "name": "stderr",
     "output_type": "stream",
     "text": [
      "Computing signatures: 100%|██████████| 112/112 [00:00<00:00, 264.37it/s]\n",
      "Building shuffle matrix: 100%|██████████| 63/63 [00:02<00:00, 28.34it/s] \n",
      "Computing variances: 100%|██████████| 28/28 [00:00<00:00, 4233.92it/s]"
     ]
    },
    {
     "name": "stdout",
     "output_type": "stream",
     "text": [
      "Done.\n"
     ]
    },
    {
     "name": "stderr",
     "output_type": "stream",
     "text": [
      "\n",
      "Computing variances: 100%|██████████| 128/128 [00:00<00:00, 4561.70it/s]\n",
      "Computing signatures:  23%|██▎       | 23/99 [00:00<00:00, 226.99it/s]"
     ]
    },
    {
     "name": "stdout",
     "output_type": "stream",
     "text": [
      "Preparing...\n"
     ]
    },
    {
     "name": "stderr",
     "output_type": "stream",
     "text": [
      "Computing signatures: 100%|██████████| 99/99 [00:00<00:00, 228.39it/s]\n",
      "Building shuffle matrix: 100%|██████████| 63/63 [00:02<00:00, 28.77it/s] \n"
     ]
    },
    {
     "name": "stdout",
     "output_type": "stream",
     "text": [
      "Done.\n"
     ]
    },
    {
     "name": "stderr",
     "output_type": "stream",
     "text": [
      "Computing variances: 100%|██████████| 25/25 [00:00<00:00, 4035.47it/s]\n",
      "Computing variances: 100%|██████████| 42/42 [00:00<00:00, 4424.82it/s]\n",
      "Computing signatures:  23%|██▎       | 23/99 [00:00<00:00, 227.77it/s]"
     ]
    },
    {
     "name": "stdout",
     "output_type": "stream",
     "text": [
      "Preparing...\n"
     ]
    },
    {
     "name": "stderr",
     "output_type": "stream",
     "text": [
      "Computing signatures: 100%|██████████| 99/99 [00:00<00:00, 228.21it/s]\n",
      "Building shuffle matrix: 100%|██████████| 63/63 [00:02<00:00, 28.81it/s] \n"
     ]
    },
    {
     "name": "stdout",
     "output_type": "stream",
     "text": [
      "Done.\n"
     ]
    },
    {
     "name": "stderr",
     "output_type": "stream",
     "text": [
      "Computing variances: 100%|██████████| 25/25 [00:00<00:00, 3943.79it/s]\n",
      "Computing variances: 100%|██████████| 42/42 [00:00<00:00, 4555.37it/s]\n",
      "Computing signatures:  35%|███▌      | 35/99 [00:00<00:00, 173.38it/s]"
     ]
    },
    {
     "name": "stdout",
     "output_type": "stream",
     "text": [
      "Preparing...\n"
     ]
    },
    {
     "name": "stderr",
     "output_type": "stream",
     "text": [
      "Computing signatures: 100%|██████████| 99/99 [00:00<00:00, 198.87it/s]\n",
      "Building shuffle matrix: 100%|██████████| 63/63 [00:02<00:00, 27.78it/s] \n"
     ]
    },
    {
     "name": "stdout",
     "output_type": "stream",
     "text": [
      "Done.\n"
     ]
    },
    {
     "name": "stderr",
     "output_type": "stream",
     "text": [
      "Computing variances: 100%|██████████| 25/25 [00:00<00:00, 4020.61it/s]\n",
      "Computing variances: 100%|██████████| 42/42 [00:00<00:00, 4007.57it/s]\n",
      "Computing signatures:  45%|████▌     | 45/99 [00:00<00:00, 223.03it/s]"
     ]
    },
    {
     "name": "stdout",
     "output_type": "stream",
     "text": [
      "Preparing...\n"
     ]
    },
    {
     "name": "stderr",
     "output_type": "stream",
     "text": [
      "Computing signatures: 100%|██████████| 99/99 [00:00<00:00, 216.72it/s]\n",
      "Building shuffle matrix: 100%|██████████| 63/63 [00:02<00:00, 29.11it/s] \n"
     ]
    },
    {
     "name": "stdout",
     "output_type": "stream",
     "text": [
      "Done.\n"
     ]
    },
    {
     "name": "stderr",
     "output_type": "stream",
     "text": [
      "Computing variances: 100%|██████████| 25/25 [00:00<00:00, 3943.35it/s]\n",
      "Computing variances: 100%|██████████| 42/42 [00:00<00:00, 4557.85it/s]\n",
      "Computing signatures:  46%|████▋     | 46/99 [00:00<00:00, 220.82it/s]"
     ]
    },
    {
     "name": "stdout",
     "output_type": "stream",
     "text": [
      "Preparing...\n"
     ]
    },
    {
     "name": "stderr",
     "output_type": "stream",
     "text": [
      "Computing signatures: 100%|██████████| 99/99 [00:00<00:00, 223.42it/s]\n",
      "Building shuffle matrix: 100%|██████████| 63/63 [00:02<00:00, 28.06it/s] \n"
     ]
    },
    {
     "name": "stdout",
     "output_type": "stream",
     "text": [
      "Done.\n"
     ]
    },
    {
     "name": "stderr",
     "output_type": "stream",
     "text": [
      "Computing variances: 100%|██████████| 25/25 [00:00<00:00, 3971.43it/s]\n",
      "Computing variances: 100%|██████████| 42/42 [00:00<00:00, 4188.32it/s]\n",
      "Computing signatures:  24%|██▍       | 24/99 [00:00<00:00, 234.12it/s]"
     ]
    },
    {
     "name": "stdout",
     "output_type": "stream",
     "text": [
      "Preparing...\n"
     ]
    },
    {
     "name": "stderr",
     "output_type": "stream",
     "text": [
      "Computing signatures: 100%|██████████| 99/99 [00:00<00:00, 231.20it/s]\n",
      "Building shuffle matrix: 100%|██████████| 63/63 [00:02<00:00, 28.41it/s] \n"
     ]
    },
    {
     "name": "stdout",
     "output_type": "stream",
     "text": [
      "Done.\n"
     ]
    },
    {
     "name": "stderr",
     "output_type": "stream",
     "text": [
      "Computing variances: 100%|██████████| 25/25 [00:00<00:00, 3676.38it/s]\n",
      "Computing variances: 100%|██████████| 42/42 [00:00<00:00, 4011.77it/s]\n",
      "Computing signatures:  23%|██▎       | 23/99 [00:00<00:00, 226.75it/s]"
     ]
    },
    {
     "name": "stdout",
     "output_type": "stream",
     "text": [
      "Preparing...\n"
     ]
    },
    {
     "name": "stderr",
     "output_type": "stream",
     "text": [
      "Computing signatures: 100%|██████████| 99/99 [00:00<00:00, 216.77it/s]\n",
      "Building shuffle matrix: 100%|██████████| 63/63 [00:02<00:00, 28.73it/s] \n",
      "Computing variances:   0%|          | 0/25 [00:00<?, ?it/s]"
     ]
    },
    {
     "name": "stdout",
     "output_type": "stream",
     "text": [
      "Done.\n"
     ]
    },
    {
     "name": "stderr",
     "output_type": "stream",
     "text": [
      "Computing variances: 100%|██████████| 25/25 [00:00<00:00, 3358.88it/s]\n",
      "Computing variances: 100%|██████████| 42/42 [00:00<00:00, 4237.69it/s]\n",
      "Computing signatures:  44%|████▍     | 44/99 [00:00<00:00, 211.43it/s]"
     ]
    },
    {
     "name": "stdout",
     "output_type": "stream",
     "text": [
      "Preparing...\n"
     ]
    },
    {
     "name": "stderr",
     "output_type": "stream",
     "text": [
      "Computing signatures: 100%|██████████| 99/99 [00:00<00:00, 215.60it/s]\n",
      "Building shuffle matrix: 100%|██████████| 63/63 [00:02<00:00, 29.43it/s] \n"
     ]
    },
    {
     "name": "stdout",
     "output_type": "stream",
     "text": [
      "Done.\n"
     ]
    },
    {
     "name": "stderr",
     "output_type": "stream",
     "text": [
      "Computing variances: 100%|██████████| 25/25 [00:00<00:00, 3734.11it/s]\n",
      "Computing variances: 100%|██████████| 42/42 [00:00<00:00, 3998.47it/s]\n",
      "Computing signatures:  21%|██        | 21/99 [00:00<00:00, 205.64it/s]"
     ]
    },
    {
     "name": "stdout",
     "output_type": "stream",
     "text": [
      "Preparing...\n"
     ]
    },
    {
     "name": "stderr",
     "output_type": "stream",
     "text": [
      "Computing signatures: 100%|██████████| 99/99 [00:00<00:00, 201.29it/s]\n",
      "Building shuffle matrix: 100%|██████████| 63/63 [00:02<00:00, 28.02it/s] \n"
     ]
    },
    {
     "name": "stdout",
     "output_type": "stream",
     "text": [
      "Done.\n"
     ]
    },
    {
     "name": "stderr",
     "output_type": "stream",
     "text": [
      "Computing variances: 100%|██████████| 25/25 [00:00<00:00, 3892.26it/s]\n",
      "Computing variances: 100%|██████████| 42/42 [00:00<00:00, 4458.07it/s]\n",
      "Computing signatures:  20%|██        | 20/99 [00:00<00:00, 193.01it/s]"
     ]
    },
    {
     "name": "stdout",
     "output_type": "stream",
     "text": [
      "Preparing...\n"
     ]
    },
    {
     "name": "stderr",
     "output_type": "stream",
     "text": [
      "Computing signatures: 100%|██████████| 99/99 [00:00<00:00, 203.38it/s]\n",
      "Building shuffle matrix: 100%|██████████| 63/63 [00:02<00:00, 28.22it/s] \n"
     ]
    },
    {
     "name": "stdout",
     "output_type": "stream",
     "text": [
      "Done.\n"
     ]
    },
    {
     "name": "stderr",
     "output_type": "stream",
     "text": [
      "Computing variances: 100%|██████████| 25/25 [00:00<00:00, 3786.02it/s]\n",
      "Computing variances: 100%|██████████| 42/42 [00:00<00:00, 4225.29it/s]\n",
      "Computing signatures: 100%|██████████| 40/40 [00:00<00:00, 268.84it/s]\n",
      "Building shuffle matrix:   0%|          | 0/63 [00:00<?, ?it/s]"
     ]
    },
    {
     "name": "stdout",
     "output_type": "stream",
     "text": [
      "Preparing...\n"
     ]
    },
    {
     "name": "stderr",
     "output_type": "stream",
     "text": [
      "Building shuffle matrix: 100%|██████████| 63/63 [00:02<00:00, 28.02it/s] \n",
      "Computing variances: 100%|██████████| 10/10 [00:00<00:00, 3677.92it/s]"
     ]
    },
    {
     "name": "stdout",
     "output_type": "stream",
     "text": [
      "Done.\n"
     ]
    },
    {
     "name": "stderr",
     "output_type": "stream",
     "text": [
      "\n",
      "Computing variances: 100%|██████████| 150/150 [00:00<00:00, 7134.30it/s]\n",
      "Computing signatures: 100%|██████████| 40/40 [00:00<00:00, 261.00it/s]\n",
      "Building shuffle matrix:   0%|          | 0/63 [00:00<?, ?it/s]"
     ]
    },
    {
     "name": "stdout",
     "output_type": "stream",
     "text": [
      "Preparing...\n"
     ]
    },
    {
     "name": "stderr",
     "output_type": "stream",
     "text": [
      "Building shuffle matrix: 100%|██████████| 63/63 [00:02<00:00, 29.65it/s] \n",
      "Computing variances: 100%|██████████| 10/10 [00:00<00:00, 4011.00it/s]"
     ]
    },
    {
     "name": "stdout",
     "output_type": "stream",
     "text": [
      "Done.\n"
     ]
    },
    {
     "name": "stderr",
     "output_type": "stream",
     "text": [
      "\n",
      "Computing variances: 100%|██████████| 150/150 [00:00<00:00, 7092.40it/s]\n",
      "Computing signatures: 100%|██████████| 40/40 [00:00<00:00, 255.50it/s]\n",
      "Building shuffle matrix:   0%|          | 0/63 [00:00<?, ?it/s]"
     ]
    },
    {
     "name": "stdout",
     "output_type": "stream",
     "text": [
      "Preparing...\n"
     ]
    },
    {
     "name": "stderr",
     "output_type": "stream",
     "text": [
      "Building shuffle matrix: 100%|██████████| 63/63 [00:02<00:00, 28.96it/s] \n",
      "Computing variances: 100%|██████████| 10/10 [00:00<00:00, 3856.48it/s]"
     ]
    },
    {
     "name": "stdout",
     "output_type": "stream",
     "text": [
      "Done.\n"
     ]
    },
    {
     "name": "stderr",
     "output_type": "stream",
     "text": [
      "\n",
      "Computing variances: 100%|██████████| 150/150 [00:00<00:00, 7159.96it/s]\n",
      "Computing signatures: 100%|██████████| 40/40 [00:00<00:00, 252.49it/s]\n",
      "Building shuffle matrix:   0%|          | 0/63 [00:00<?, ?it/s]"
     ]
    },
    {
     "name": "stdout",
     "output_type": "stream",
     "text": [
      "Preparing...\n"
     ]
    },
    {
     "name": "stderr",
     "output_type": "stream",
     "text": [
      "Building shuffle matrix: 100%|██████████| 63/63 [00:02<00:00, 28.99it/s] \n",
      "Computing variances: 100%|██████████| 10/10 [00:00<00:00, 4012.92it/s]"
     ]
    },
    {
     "name": "stdout",
     "output_type": "stream",
     "text": [
      "Done.\n"
     ]
    },
    {
     "name": "stderr",
     "output_type": "stream",
     "text": [
      "\n",
      "Computing variances: 100%|██████████| 150/150 [00:00<00:00, 6952.50it/s]\n",
      "Computing signatures: 100%|██████████| 40/40 [00:00<00:00, 267.31it/s]\n",
      "Building shuffle matrix:   0%|          | 0/63 [00:00<?, ?it/s]"
     ]
    },
    {
     "name": "stdout",
     "output_type": "stream",
     "text": [
      "Preparing...\n"
     ]
    },
    {
     "name": "stderr",
     "output_type": "stream",
     "text": [
      "Building shuffle matrix: 100%|██████████| 63/63 [00:02<00:00, 28.49it/s] \n",
      "Computing variances: 100%|██████████| 10/10 [00:00<00:00, 4224.72it/s]\n",
      "Computing variances:   0%|          | 0/150 [00:00<?, ?it/s]"
     ]
    },
    {
     "name": "stdout",
     "output_type": "stream",
     "text": [
      "Done.\n"
     ]
    },
    {
     "name": "stderr",
     "output_type": "stream",
     "text": [
      "Computing variances: 100%|██████████| 150/150 [00:00<00:00, 6903.45it/s]\n",
      "Computing signatures: 100%|██████████| 40/40 [00:00<00:00, 259.91it/s]\n",
      "Building shuffle matrix:   0%|          | 0/63 [00:00<?, ?it/s]"
     ]
    },
    {
     "name": "stdout",
     "output_type": "stream",
     "text": [
      "Preparing...\n"
     ]
    },
    {
     "name": "stderr",
     "output_type": "stream",
     "text": [
      "Building shuffle matrix: 100%|██████████| 63/63 [00:02<00:00, 28.74it/s] \n",
      "Computing variances: 100%|██████████| 10/10 [00:00<00:00, 3875.72it/s]\n",
      "Computing variances:   0%|          | 0/150 [00:00<?, ?it/s]"
     ]
    },
    {
     "name": "stdout",
     "output_type": "stream",
     "text": [
      "Done.\n"
     ]
    },
    {
     "name": "stderr",
     "output_type": "stream",
     "text": [
      "Computing variances: 100%|██████████| 150/150 [00:00<00:00, 6367.61it/s]\n",
      "Computing signatures: 100%|██████████| 40/40 [00:00<00:00, 248.04it/s]\n",
      "Building shuffle matrix:   0%|          | 0/63 [00:00<?, ?it/s]"
     ]
    },
    {
     "name": "stdout",
     "output_type": "stream",
     "text": [
      "Preparing...\n"
     ]
    },
    {
     "name": "stderr",
     "output_type": "stream",
     "text": [
      "Building shuffle matrix: 100%|██████████| 63/63 [00:02<00:00, 28.28it/s] \n",
      "Computing variances: 100%|██████████| 10/10 [00:00<00:00, 4380.02it/s]"
     ]
    },
    {
     "name": "stdout",
     "output_type": "stream",
     "text": [
      "Done.\n"
     ]
    },
    {
     "name": "stderr",
     "output_type": "stream",
     "text": [
      "\n",
      "Computing variances: 100%|██████████| 150/150 [00:00<00:00, 6659.95it/s]\n",
      "Computing signatures: 100%|██████████| 40/40 [00:00<00:00, 260.65it/s]\n",
      "Building shuffle matrix:   0%|          | 0/63 [00:00<?, ?it/s]"
     ]
    },
    {
     "name": "stdout",
     "output_type": "stream",
     "text": [
      "Preparing...\n"
     ]
    },
    {
     "name": "stderr",
     "output_type": "stream",
     "text": [
      "Building shuffle matrix: 100%|██████████| 63/63 [00:02<00:00, 27.70it/s] \n",
      "Computing variances: 100%|██████████| 10/10 [00:00<00:00, 3103.67it/s]"
     ]
    },
    {
     "name": "stdout",
     "output_type": "stream",
     "text": [
      "Done.\n"
     ]
    },
    {
     "name": "stderr",
     "output_type": "stream",
     "text": [
      "\n",
      "Computing variances: 100%|██████████| 150/150 [00:00<00:00, 6692.54it/s]\n",
      "Computing signatures: 100%|██████████| 40/40 [00:00<00:00, 262.74it/s]\n",
      "Building shuffle matrix:   0%|          | 0/63 [00:00<?, ?it/s]"
     ]
    },
    {
     "name": "stdout",
     "output_type": "stream",
     "text": [
      "Preparing...\n"
     ]
    },
    {
     "name": "stderr",
     "output_type": "stream",
     "text": [
      "Building shuffle matrix: 100%|██████████| 63/63 [00:02<00:00, 28.59it/s] \n",
      "Computing variances: 100%|██████████| 10/10 [00:00<00:00, 4217.50it/s]"
     ]
    },
    {
     "name": "stdout",
     "output_type": "stream",
     "text": [
      "Done.\n"
     ]
    },
    {
     "name": "stderr",
     "output_type": "stream",
     "text": [
      "\n",
      "Computing variances: 100%|██████████| 150/150 [00:00<00:00, 6562.56it/s]\n",
      "Computing signatures: 100%|██████████| 40/40 [00:00<00:00, 271.22it/s]\n",
      "Building shuffle matrix:   0%|          | 0/63 [00:00<?, ?it/s]"
     ]
    },
    {
     "name": "stdout",
     "output_type": "stream",
     "text": [
      "Preparing...\n"
     ]
    },
    {
     "name": "stderr",
     "output_type": "stream",
     "text": [
      "Building shuffle matrix: 100%|██████████| 63/63 [00:02<00:00, 25.12it/s] \n",
      "Computing variances: 100%|██████████| 10/10 [00:00<00:00, 3898.78it/s]\n",
      "Computing variances:   0%|          | 0/150 [00:00<?, ?it/s]"
     ]
    },
    {
     "name": "stdout",
     "output_type": "stream",
     "text": [
      "Done.\n"
     ]
    },
    {
     "name": "stderr",
     "output_type": "stream",
     "text": [
      "Computing variances: 100%|██████████| 150/150 [00:00<00:00, 6644.27it/s]\n",
      "Computing signatures:  31%|███       | 143/465 [00:00<00:00, 725.31it/s]"
     ]
    },
    {
     "name": "stdout",
     "output_type": "stream",
     "text": [
      "Preparing...\n"
     ]
    },
    {
     "name": "stderr",
     "output_type": "stream",
     "text": [
      "Computing signatures: 100%|██████████| 465/465 [00:00<00:00, 813.23it/s]\n",
      "Building shuffle matrix: 100%|██████████| 63/63 [00:02<00:00, 26.59it/s] \n",
      "Computing variances: 100%|██████████| 116/116 [00:00<00:00, 1602.30it/s]"
     ]
    },
    {
     "name": "stdout",
     "output_type": "stream",
     "text": [
      "Done.\n"
     ]
    },
    {
     "name": "stderr",
     "output_type": "stream",
     "text": [
      "\n",
      "Computing variances: 100%|██████████| 581/581 [00:00<00:00, 1513.50it/s]\n",
      "Computing signatures:  39%|███▉      | 181/465 [00:00<00:00, 921.42it/s]"
     ]
    },
    {
     "name": "stdout",
     "output_type": "stream",
     "text": [
      "Preparing...\n"
     ]
    },
    {
     "name": "stderr",
     "output_type": "stream",
     "text": [
      "Computing signatures: 100%|██████████| 465/465 [00:00<00:00, 882.95it/s]\n",
      "Building shuffle matrix: 100%|██████████| 63/63 [00:02<00:00, 28.53it/s] \n",
      "Computing variances: 100%|██████████| 116/116 [00:00<00:00, 1709.90it/s]"
     ]
    },
    {
     "name": "stdout",
     "output_type": "stream",
     "text": [
      "Done.\n"
     ]
    },
    {
     "name": "stderr",
     "output_type": "stream",
     "text": [
      "\n",
      "Computing variances: 100%|██████████| 581/581 [00:00<00:00, 1501.04it/s]\n",
      "Computing signatures:  38%|███▊      | 176/465 [00:00<00:00, 875.81it/s]"
     ]
    },
    {
     "name": "stdout",
     "output_type": "stream",
     "text": [
      "Preparing...\n"
     ]
    },
    {
     "name": "stderr",
     "output_type": "stream",
     "text": [
      "Computing signatures: 100%|██████████| 465/465 [00:00<00:00, 858.81it/s]\n",
      "Building shuffle matrix: 100%|██████████| 63/63 [00:02<00:00, 27.02it/s] \n",
      "Computing variances: 100%|██████████| 116/116 [00:00<00:00, 2054.34it/s]"
     ]
    },
    {
     "name": "stdout",
     "output_type": "stream",
     "text": [
      "Done.\n"
     ]
    },
    {
     "name": "stderr",
     "output_type": "stream",
     "text": [
      "\n",
      "Computing variances: 100%|██████████| 581/581 [00:00<00:00, 986.27it/s]\n",
      "Computing signatures:  12%|█▏        | 56/465 [00:00<00:00, 557.30it/s]"
     ]
    },
    {
     "name": "stdout",
     "output_type": "stream",
     "text": [
      "Preparing...\n"
     ]
    },
    {
     "name": "stderr",
     "output_type": "stream",
     "text": [
      "Computing signatures: 100%|██████████| 465/465 [00:00<00:00, 563.89it/s]\n",
      "Building shuffle matrix: 100%|██████████| 63/63 [00:02<00:00, 26.22it/s] \n",
      "Computing variances: 100%|██████████| 116/116 [00:00<00:00, 1566.38it/s]"
     ]
    },
    {
     "name": "stdout",
     "output_type": "stream",
     "text": [
      "Done.\n"
     ]
    },
    {
     "name": "stderr",
     "output_type": "stream",
     "text": [
      "\n",
      "Computing variances: 100%|██████████| 581/581 [00:00<00:00, 2095.17it/s]\n",
      "Computing signatures:  38%|███▊      | 176/465 [00:00<00:00, 889.62it/s]"
     ]
    },
    {
     "name": "stdout",
     "output_type": "stream",
     "text": [
      "Preparing...\n"
     ]
    },
    {
     "name": "stderr",
     "output_type": "stream",
     "text": [
      "Computing signatures: 100%|██████████| 465/465 [00:00<00:00, 877.34it/s]\n",
      "Building shuffle matrix: 100%|██████████| 63/63 [00:02<00:00, 27.80it/s] \n",
      "Computing variances: 100%|██████████| 116/116 [00:00<00:00, 1623.46it/s]"
     ]
    },
    {
     "name": "stdout",
     "output_type": "stream",
     "text": [
      "Done.\n"
     ]
    },
    {
     "name": "stderr",
     "output_type": "stream",
     "text": [
      "\n",
      "Computing variances: 100%|██████████| 581/581 [00:00<00:00, 1495.49it/s]\n",
      "Computing signatures:  39%|███▉      | 183/465 [00:00<00:00, 889.45it/s]"
     ]
    },
    {
     "name": "stdout",
     "output_type": "stream",
     "text": [
      "Preparing...\n"
     ]
    },
    {
     "name": "stderr",
     "output_type": "stream",
     "text": [
      "Computing signatures: 100%|██████████| 465/465 [00:00<00:00, 868.89it/s]\n",
      "Building shuffle matrix: 100%|██████████| 63/63 [00:02<00:00, 28.96it/s] \n",
      "Computing variances: 100%|██████████| 116/116 [00:00<00:00, 1567.42it/s]"
     ]
    },
    {
     "name": "stdout",
     "output_type": "stream",
     "text": [
      "Done.\n"
     ]
    },
    {
     "name": "stderr",
     "output_type": "stream",
     "text": [
      "\n",
      "Computing variances: 100%|██████████| 581/581 [00:00<00:00, 1389.91it/s]\n",
      "Computing signatures:  36%|███▌      | 166/465 [00:00<00:00, 840.57it/s]"
     ]
    },
    {
     "name": "stdout",
     "output_type": "stream",
     "text": [
      "Preparing...\n"
     ]
    },
    {
     "name": "stderr",
     "output_type": "stream",
     "text": [
      "Computing signatures: 100%|██████████| 465/465 [00:00<00:00, 877.06it/s]\n",
      "Building shuffle matrix: 100%|██████████| 63/63 [00:02<00:00, 28.41it/s] \n",
      "Computing variances: 100%|██████████| 116/116 [00:00<00:00, 1489.77it/s]"
     ]
    },
    {
     "name": "stdout",
     "output_type": "stream",
     "text": [
      "Done.\n"
     ]
    },
    {
     "name": "stderr",
     "output_type": "stream",
     "text": [
      "\n",
      "Computing variances: 100%|██████████| 581/581 [00:00<00:00, 1563.42it/s]\n",
      "Computing signatures:  39%|███▊      | 180/465 [00:00<00:00, 892.99it/s]"
     ]
    },
    {
     "name": "stdout",
     "output_type": "stream",
     "text": [
      "Preparing...\n"
     ]
    },
    {
     "name": "stderr",
     "output_type": "stream",
     "text": [
      "Computing signatures: 100%|██████████| 465/465 [00:00<00:00, 911.45it/s]\n",
      "Building shuffle matrix: 100%|██████████| 63/63 [00:02<00:00, 28.06it/s] \n",
      "Computing variances: 100%|██████████| 116/116 [00:00<00:00, 1328.55it/s]"
     ]
    },
    {
     "name": "stdout",
     "output_type": "stream",
     "text": [
      "Done.\n"
     ]
    },
    {
     "name": "stderr",
     "output_type": "stream",
     "text": [
      "\n",
      "Computing variances: 100%|██████████| 581/581 [00:00<00:00, 1461.62it/s]\n",
      "Computing signatures:  57%|█████▋    | 266/465 [00:00<00:00, 869.49it/s]"
     ]
    },
    {
     "name": "stdout",
     "output_type": "stream",
     "text": [
      "Preparing...\n"
     ]
    },
    {
     "name": "stderr",
     "output_type": "stream",
     "text": [
      "Computing signatures: 100%|██████████| 465/465 [00:00<00:00, 893.22it/s]\n",
      "Building shuffle matrix: 100%|██████████| 63/63 [00:02<00:00, 28.66it/s] \n",
      "Computing variances: 100%|██████████| 116/116 [00:00<00:00, 1541.81it/s]"
     ]
    },
    {
     "name": "stdout",
     "output_type": "stream",
     "text": [
      "Done.\n"
     ]
    },
    {
     "name": "stderr",
     "output_type": "stream",
     "text": [
      "\n",
      "Computing variances: 100%|██████████| 581/581 [00:00<00:00, 1393.10it/s]\n",
      "Computing signatures:  38%|███▊      | 178/465 [00:00<00:00, 892.47it/s]"
     ]
    },
    {
     "name": "stdout",
     "output_type": "stream",
     "text": [
      "Preparing...\n"
     ]
    },
    {
     "name": "stderr",
     "output_type": "stream",
     "text": [
      "Computing signatures: 100%|██████████| 465/465 [00:00<00:00, 886.75it/s]\n",
      "Building shuffle matrix: 100%|██████████| 63/63 [00:02<00:00, 28.12it/s] \n",
      "Computing variances: 100%|██████████| 116/116 [00:00<00:00, 1595.64it/s]"
     ]
    },
    {
     "name": "stdout",
     "output_type": "stream",
     "text": [
      "Done.\n"
     ]
    },
    {
     "name": "stderr",
     "output_type": "stream",
     "text": [
      "\n",
      "Computing variances: 100%|██████████| 581/581 [00:00<00:00, 1487.20it/s]\n",
      "Computing signatures:   2%|▏         | 97/6251 [00:00<00:12, 483.70it/s]"
     ]
    },
    {
     "name": "stdout",
     "output_type": "stream",
     "text": [
      "Preparing...\n"
     ]
    },
    {
     "name": "stderr",
     "output_type": "stream",
     "text": [
      "Computing signatures: 100%|██████████| 6251/6251 [00:13<00:00, 468.46it/s]\n",
      "Building shuffle matrix: 100%|██████████| 63/63 [00:02<00:00, 27.84it/s] \n",
      "Computing variances:   0%|          | 0/152 [00:00<?, ?it/s]"
     ]
    },
    {
     "name": "stdout",
     "output_type": "stream",
     "text": [
      "Done.\n"
     ]
    },
    {
     "name": "stderr",
     "output_type": "stream",
     "text": [
      "Computing variances: 100%|██████████| 152/152 [00:18<00:00,  8.33it/s]\n",
      "Computing variances: 100%|██████████| 761/761 [01:28<00:00,  8.60it/s]\n",
      "Computing signatures:   1%|          | 52/6251 [00:00<00:12, 511.98it/s]"
     ]
    },
    {
     "name": "stdout",
     "output_type": "stream",
     "text": [
      "Preparing...\n"
     ]
    },
    {
     "name": "stderr",
     "output_type": "stream",
     "text": [
      "Computing signatures: 100%|██████████| 6251/6251 [00:12<00:00, 505.62it/s]\n",
      "Building shuffle matrix: 100%|██████████| 63/63 [00:02<00:00, 28.59it/s] \n"
     ]
    },
    {
     "name": "stdout",
     "output_type": "stream",
     "text": [
      "Done.\n"
     ]
    },
    {
     "name": "stderr",
     "output_type": "stream",
     "text": [
      "Computing variances: 100%|██████████| 152/152 [00:17<00:00,  8.59it/s]\n",
      "Computing variances: 100%|██████████| 761/761 [01:32<00:00,  8.19it/s]\n",
      "Computing signatures:   1%|          | 37/6251 [00:00<00:17, 362.76it/s]"
     ]
    },
    {
     "name": "stdout",
     "output_type": "stream",
     "text": [
      "Preparing...\n"
     ]
    },
    {
     "name": "stderr",
     "output_type": "stream",
     "text": [
      "Computing signatures: 100%|██████████| 6251/6251 [00:13<00:00, 455.36it/s]\n",
      "Building shuffle matrix: 100%|██████████| 63/63 [00:02<00:00, 27.66it/s] \n"
     ]
    },
    {
     "name": "stdout",
     "output_type": "stream",
     "text": [
      "Done.\n"
     ]
    },
    {
     "name": "stderr",
     "output_type": "stream",
     "text": [
      "Computing variances: 100%|██████████| 152/152 [00:17<00:00,  8.75it/s]\n",
      "Computing variances: 100%|██████████| 761/761 [01:29<00:00,  8.47it/s]\n",
      "Computing signatures:   1%|          | 48/6251 [00:00<00:12, 478.24it/s]"
     ]
    },
    {
     "name": "stdout",
     "output_type": "stream",
     "text": [
      "Preparing...\n"
     ]
    },
    {
     "name": "stderr",
     "output_type": "stream",
     "text": [
      "Computing signatures: 100%|██████████| 6251/6251 [00:12<00:00, 502.56it/s]\n",
      "Building shuffle matrix: 100%|██████████| 63/63 [00:02<00:00, 27.86it/s] \n"
     ]
    },
    {
     "name": "stdout",
     "output_type": "stream",
     "text": [
      "Done.\n"
     ]
    },
    {
     "name": "stderr",
     "output_type": "stream",
     "text": [
      "Computing variances: 100%|██████████| 152/152 [00:17<00:00,  8.76it/s]\n",
      "Computing variances: 100%|██████████| 761/761 [01:30<00:00,  8.43it/s]\n",
      "Computing signatures:   1%|          | 51/6251 [00:00<00:12, 508.01it/s]"
     ]
    },
    {
     "name": "stdout",
     "output_type": "stream",
     "text": [
      "Preparing...\n"
     ]
    },
    {
     "name": "stderr",
     "output_type": "stream",
     "text": [
      "Computing signatures: 100%|██████████| 6251/6251 [00:12<00:00, 501.05it/s]\n",
      "Building shuffle matrix: 100%|██████████| 63/63 [00:02<00:00, 27.90it/s] \n"
     ]
    },
    {
     "name": "stdout",
     "output_type": "stream",
     "text": [
      "Done.\n"
     ]
    },
    {
     "name": "stderr",
     "output_type": "stream",
     "text": [
      "Computing variances: 100%|██████████| 152/152 [00:18<00:00,  8.33it/s]\n",
      "Computing variances: 100%|██████████| 761/761 [01:26<00:00,  8.85it/s]\n",
      "Computing signatures:   1%|          | 53/6251 [00:00<00:11, 527.44it/s]"
     ]
    },
    {
     "name": "stdout",
     "output_type": "stream",
     "text": [
      "Preparing...\n"
     ]
    },
    {
     "name": "stderr",
     "output_type": "stream",
     "text": [
      "Computing signatures: 100%|██████████| 6251/6251 [00:13<00:00, 478.08it/s]\n",
      "Building shuffle matrix: 100%|██████████| 63/63 [00:02<00:00, 27.40it/s] \n"
     ]
    },
    {
     "name": "stdout",
     "output_type": "stream",
     "text": [
      "Done.\n"
     ]
    },
    {
     "name": "stderr",
     "output_type": "stream",
     "text": [
      "Computing variances: 100%|██████████| 152/152 [00:17<00:00,  8.47it/s]\n",
      "Computing variances: 100%|██████████| 761/761 [01:31<00:00,  8.29it/s]\n",
      "Computing signatures:   2%|▏         | 95/6251 [00:00<00:13, 460.98it/s]"
     ]
    },
    {
     "name": "stdout",
     "output_type": "stream",
     "text": [
      "Preparing...\n"
     ]
    },
    {
     "name": "stderr",
     "output_type": "stream",
     "text": [
      "Computing signatures: 100%|██████████| 6251/6251 [00:13<00:00, 449.03it/s]\n",
      "Building shuffle matrix: 100%|██████████| 63/63 [00:02<00:00, 27.15it/s] \n"
     ]
    },
    {
     "name": "stdout",
     "output_type": "stream",
     "text": [
      "Done.\n"
     ]
    },
    {
     "name": "stderr",
     "output_type": "stream",
     "text": [
      "Computing variances: 100%|██████████| 152/152 [00:17<00:00,  8.83it/s]\n",
      "Computing variances: 100%|██████████| 761/761 [01:35<00:00,  7.93it/s]\n",
      "Computing signatures:   1%|          | 48/6251 [00:00<00:13, 474.35it/s]"
     ]
    },
    {
     "name": "stdout",
     "output_type": "stream",
     "text": [
      "Preparing...\n"
     ]
    },
    {
     "name": "stderr",
     "output_type": "stream",
     "text": [
      "Computing signatures: 100%|██████████| 6251/6251 [00:12<00:00, 500.25it/s]\n",
      "Building shuffle matrix: 100%|██████████| 63/63 [00:02<00:00, 29.07it/s] \n"
     ]
    },
    {
     "name": "stdout",
     "output_type": "stream",
     "text": [
      "Done.\n"
     ]
    },
    {
     "name": "stderr",
     "output_type": "stream",
     "text": [
      "Computing variances: 100%|██████████| 152/152 [00:16<00:00,  9.29it/s]\n",
      "Computing variances: 100%|██████████| 761/761 [01:24<00:00,  8.96it/s]\n",
      "Computing signatures:   2%|▏         | 102/6251 [00:00<00:12, 497.76it/s]"
     ]
    },
    {
     "name": "stdout",
     "output_type": "stream",
     "text": [
      "Preparing...\n"
     ]
    },
    {
     "name": "stderr",
     "output_type": "stream",
     "text": [
      "Computing signatures: 100%|██████████| 6251/6251 [00:12<00:00, 500.28it/s]\n",
      "Building shuffle matrix: 100%|██████████| 63/63 [00:02<00:00, 28.29it/s] \n"
     ]
    },
    {
     "name": "stdout",
     "output_type": "stream",
     "text": [
      "Done.\n"
     ]
    },
    {
     "name": "stderr",
     "output_type": "stream",
     "text": [
      "Computing variances: 100%|██████████| 152/152 [00:16<00:00,  9.19it/s]\n",
      "Computing variances: 100%|██████████| 761/761 [01:24<00:00,  8.96it/s]\n",
      "Computing signatures:   1%|          | 48/6251 [00:00<00:12, 478.30it/s]"
     ]
    },
    {
     "name": "stdout",
     "output_type": "stream",
     "text": [
      "Preparing...\n"
     ]
    },
    {
     "name": "stderr",
     "output_type": "stream",
     "text": [
      "Computing signatures: 100%|██████████| 6251/6251 [00:12<00:00, 510.31it/s]\n",
      "Building shuffle matrix: 100%|██████████| 63/63 [00:02<00:00, 29.50it/s] \n"
     ]
    },
    {
     "name": "stdout",
     "output_type": "stream",
     "text": [
      "Done.\n"
     ]
    },
    {
     "name": "stderr",
     "output_type": "stream",
     "text": [
      "Computing variances: 100%|██████████| 152/152 [00:16<00:00,  9.07it/s]\n",
      "Computing variances: 100%|██████████| 761/761 [01:24<00:00,  8.96it/s]\n",
      "Computing signatures: 100%|██████████| 46/46 [00:00<00:00, 291.19it/s]\n",
      "Building shuffle matrix:   0%|          | 0/63 [00:00<?, ?it/s]"
     ]
    },
    {
     "name": "stdout",
     "output_type": "stream",
     "text": [
      "Preparing...\n"
     ]
    },
    {
     "name": "stderr",
     "output_type": "stream",
     "text": [
      "Building shuffle matrix: 100%|██████████| 63/63 [00:02<00:00, 27.83it/s] \n",
      "Computing variances: 100%|██████████| 11/11 [00:00<00:00, 4229.29it/s]"
     ]
    },
    {
     "name": "stdout",
     "output_type": "stream",
     "text": [
      "Done.\n"
     ]
    },
    {
     "name": "stderr",
     "output_type": "stream",
     "text": [
      "\n",
      "Computing variances: 100%|██████████| 54/54 [00:00<00:00, 5818.99it/s]\n",
      "Computing signatures: 100%|██████████| 46/46 [00:00<00:00, 323.93it/s]\n",
      "Building shuffle matrix:   0%|          | 0/63 [00:00<?, ?it/s]"
     ]
    },
    {
     "name": "stdout",
     "output_type": "stream",
     "text": [
      "Preparing...\n"
     ]
    },
    {
     "name": "stderr",
     "output_type": "stream",
     "text": [
      "Building shuffle matrix: 100%|██████████| 63/63 [00:02<00:00, 28.35it/s] \n",
      "Computing variances: 100%|██████████| 11/11 [00:00<00:00, 3681.27it/s]"
     ]
    },
    {
     "name": "stdout",
     "output_type": "stream",
     "text": [
      "Done.\n"
     ]
    },
    {
     "name": "stderr",
     "output_type": "stream",
     "text": [
      "\n",
      "Computing variances: 100%|██████████| 54/54 [00:00<00:00, 5032.61it/s]\n",
      "Computing signatures: 100%|██████████| 46/46 [00:00<00:00, 345.27it/s]\n",
      "Building shuffle matrix:   0%|          | 0/63 [00:00<?, ?it/s]"
     ]
    },
    {
     "name": "stdout",
     "output_type": "stream",
     "text": [
      "Preparing...\n"
     ]
    },
    {
     "name": "stderr",
     "output_type": "stream",
     "text": [
      "Building shuffle matrix: 100%|██████████| 63/63 [00:02<00:00, 28.91it/s] \n",
      "Computing variances: 100%|██████████| 11/11 [00:00<00:00, 2705.37it/s]"
     ]
    },
    {
     "name": "stdout",
     "output_type": "stream",
     "text": [
      "Done.\n"
     ]
    },
    {
     "name": "stderr",
     "output_type": "stream",
     "text": [
      "\n",
      "Computing variances: 100%|██████████| 54/54 [00:00<00:00, 5599.32it/s]\n",
      "Computing signatures: 100%|██████████| 46/46 [00:00<00:00, 318.35it/s]\n",
      "Building shuffle matrix:   0%|          | 0/63 [00:00<?, ?it/s]"
     ]
    },
    {
     "name": "stdout",
     "output_type": "stream",
     "text": [
      "Preparing...\n"
     ]
    },
    {
     "name": "stderr",
     "output_type": "stream",
     "text": [
      "Building shuffle matrix: 100%|██████████| 63/63 [00:02<00:00, 28.77it/s] \n",
      "Computing variances: 100%|██████████| 11/11 [00:00<00:00, 3959.95it/s]\n",
      "Computing variances:   0%|          | 0/54 [00:00<?, ?it/s]"
     ]
    },
    {
     "name": "stdout",
     "output_type": "stream",
     "text": [
      "Done.\n"
     ]
    },
    {
     "name": "stderr",
     "output_type": "stream",
     "text": [
      "Computing variances: 100%|██████████| 54/54 [00:00<00:00, 6111.18it/s]\n",
      "Computing signatures: 100%|██████████| 46/46 [00:00<00:00, 290.47it/s]\n",
      "Building shuffle matrix:   0%|          | 0/63 [00:00<?, ?it/s]"
     ]
    },
    {
     "name": "stdout",
     "output_type": "stream",
     "text": [
      "Preparing...\n"
     ]
    },
    {
     "name": "stderr",
     "output_type": "stream",
     "text": [
      "Building shuffle matrix: 100%|██████████| 63/63 [00:02<00:00, 29.39it/s] \n",
      "Computing variances: 100%|██████████| 11/11 [00:00<00:00, 3740.36it/s]"
     ]
    },
    {
     "name": "stdout",
     "output_type": "stream",
     "text": [
      "Done.\n"
     ]
    },
    {
     "name": "stderr",
     "output_type": "stream",
     "text": [
      "\n",
      "Computing variances: 100%|██████████| 54/54 [00:00<00:00, 5592.96it/s]\n",
      "Computing signatures: 100%|██████████| 46/46 [00:00<00:00, 328.28it/s]\n",
      "Building shuffle matrix:   0%|          | 0/63 [00:00<?, ?it/s]"
     ]
    },
    {
     "name": "stdout",
     "output_type": "stream",
     "text": [
      "Preparing...\n"
     ]
    },
    {
     "name": "stderr",
     "output_type": "stream",
     "text": [
      "Building shuffle matrix: 100%|██████████| 63/63 [00:02<00:00, 28.36it/s] \n",
      "Computing variances: 100%|██████████| 11/11 [00:00<00:00, 2921.75it/s]"
     ]
    },
    {
     "name": "stdout",
     "output_type": "stream",
     "text": [
      "Done.\n"
     ]
    },
    {
     "name": "stderr",
     "output_type": "stream",
     "text": [
      "\n",
      "Computing variances: 100%|██████████| 54/54 [00:00<00:00, 5626.72it/s]\n",
      "Computing signatures: 100%|██████████| 46/46 [00:00<00:00, 345.13it/s]\n",
      "Building shuffle matrix:   0%|          | 0/63 [00:00<?, ?it/s]"
     ]
    },
    {
     "name": "stdout",
     "output_type": "stream",
     "text": [
      "Preparing...\n"
     ]
    },
    {
     "name": "stderr",
     "output_type": "stream",
     "text": [
      "Building shuffle matrix: 100%|██████████| 63/63 [00:02<00:00, 28.87it/s] \n",
      "Computing variances: 100%|██████████| 11/11 [00:00<00:00, 4600.39it/s]"
     ]
    },
    {
     "name": "stdout",
     "output_type": "stream",
     "text": [
      "Done.\n"
     ]
    },
    {
     "name": "stderr",
     "output_type": "stream",
     "text": [
      "\n",
      "Computing variances: 100%|██████████| 54/54 [00:00<00:00, 5663.87it/s]\n",
      "Computing signatures: 100%|██████████| 46/46 [00:00<00:00, 328.52it/s]\n",
      "Building shuffle matrix:   0%|          | 0/63 [00:00<?, ?it/s]"
     ]
    },
    {
     "name": "stdout",
     "output_type": "stream",
     "text": [
      "Preparing...\n"
     ]
    },
    {
     "name": "stderr",
     "output_type": "stream",
     "text": [
      "Building shuffle matrix: 100%|██████████| 63/63 [00:02<00:00, 29.05it/s] \n",
      "Computing variances: 100%|██████████| 11/11 [00:00<00:00, 2866.92it/s]"
     ]
    },
    {
     "name": "stdout",
     "output_type": "stream",
     "text": [
      "Done.\n"
     ]
    },
    {
     "name": "stderr",
     "output_type": "stream",
     "text": [
      "\n",
      "Computing variances: 100%|██████████| 54/54 [00:00<00:00, 5868.29it/s]\n",
      "Computing signatures: 100%|██████████| 46/46 [00:00<00:00, 335.30it/s]\n",
      "Building shuffle matrix:   0%|          | 0/63 [00:00<?, ?it/s]"
     ]
    },
    {
     "name": "stdout",
     "output_type": "stream",
     "text": [
      "Preparing...\n"
     ]
    },
    {
     "name": "stderr",
     "output_type": "stream",
     "text": [
      "Building shuffle matrix: 100%|██████████| 63/63 [00:02<00:00, 29.78it/s] \n",
      "Computing variances: 100%|██████████| 11/11 [00:00<00:00, 3429.01it/s]"
     ]
    },
    {
     "name": "stdout",
     "output_type": "stream",
     "text": [
      "Done.\n"
     ]
    },
    {
     "name": "stderr",
     "output_type": "stream",
     "text": [
      "\n",
      "Computing variances: 100%|██████████| 54/54 [00:00<00:00, 5033.95it/s]\n",
      "Computing signatures: 100%|██████████| 46/46 [00:00<00:00, 345.17it/s]\n",
      "Building shuffle matrix:   0%|          | 0/63 [00:00<?, ?it/s]"
     ]
    },
    {
     "name": "stdout",
     "output_type": "stream",
     "text": [
      "Preparing...\n"
     ]
    },
    {
     "name": "stderr",
     "output_type": "stream",
     "text": [
      "Building shuffle matrix: 100%|██████████| 63/63 [00:02<00:00, 29.17it/s] \n",
      "Computing variances: 100%|██████████| 11/11 [00:00<00:00, 3866.04it/s]"
     ]
    },
    {
     "name": "stdout",
     "output_type": "stream",
     "text": [
      "Done.\n"
     ]
    },
    {
     "name": "stderr",
     "output_type": "stream",
     "text": [
      "\n",
      "Computing variances: 100%|██████████| 54/54 [00:00<00:00, 6084.42it/s]\n",
      "Computing signatures: 100%|██████████| 17/17 [00:00<00:00, 453.08it/s]\n",
      "Building shuffle matrix:  27%|██▋       | 17/63 [00:00<00:00, 147.59it/s]"
     ]
    },
    {
     "name": "stdout",
     "output_type": "stream",
     "text": [
      "Preparing...\n"
     ]
    },
    {
     "name": "stderr",
     "output_type": "stream",
     "text": [
      "Building shuffle matrix: 100%|██████████| 63/63 [00:02<00:00, 29.33it/s] \n",
      "Computing variances: 100%|██████████| 4/4 [00:00<00:00, 3358.80it/s]\n",
      "Computing variances: 100%|██████████| 760/760 [00:00<00:00, 11888.53it/s]\n",
      "Computing signatures:   0%|          | 0/17 [00:00<?, ?it/s]"
     ]
    },
    {
     "name": "stdout",
     "output_type": "stream",
     "text": [
      "Done.\n",
      "Preparing...\n"
     ]
    },
    {
     "name": "stderr",
     "output_type": "stream",
     "text": [
      "Computing signatures: 100%|██████████| 17/17 [00:00<00:00, 445.86it/s]\n",
      "Building shuffle matrix: 100%|██████████| 63/63 [00:02<00:00, 29.24it/s] \n",
      "Computing variances: 100%|██████████| 4/4 [00:00<00:00, 2141.59it/s]\n",
      "Computing variances: 100%|██████████| 760/760 [00:00<00:00, 12009.73it/s]\n",
      "Computing signatures:   0%|          | 0/17 [00:00<?, ?it/s]"
     ]
    },
    {
     "name": "stdout",
     "output_type": "stream",
     "text": [
      "Done.\n",
      "Preparing...\n"
     ]
    },
    {
     "name": "stderr",
     "output_type": "stream",
     "text": [
      "Computing signatures: 100%|██████████| 17/17 [00:00<00:00, 441.01it/s]\n",
      "Building shuffle matrix: 100%|██████████| 63/63 [00:02<00:00, 29.13it/s] \n",
      "Computing variances: 100%|██████████| 4/4 [00:00<00:00, 3336.09it/s]\n",
      "Computing variances: 100%|██████████| 760/760 [00:00<00:00, 8952.80it/s]"
     ]
    },
    {
     "name": "stdout",
     "output_type": "stream",
     "text": [
      "Done.\n",
      "Preparing..."
     ]
    },
    {
     "name": "stderr",
     "output_type": "stream",
     "text": [
      "\n",
      "Computing signatures: 100%|██████████| 17/17 [00:00<00:00, 452.31it/s]\n",
      "Building shuffle matrix: 100%|██████████| 63/63 [00:02<00:00, 29.25it/s] \n",
      "Computing variances: 100%|██████████| 4/4 [00:00<00:00, 2220.97it/s]\n",
      "Computing variances: 100%|██████████| 760/760 [00:00<00:00, 11949.85it/s]\n",
      "Computing signatures:   0%|          | 0/17 [00:00<?, ?it/s]"
     ]
    },
    {
     "name": "stdout",
     "output_type": "stream",
     "text": [
      "\n",
      "Done.\n",
      "Preparing...\n"
     ]
    },
    {
     "name": "stderr",
     "output_type": "stream",
     "text": [
      "Computing signatures: 100%|██████████| 17/17 [00:00<00:00, 458.20it/s]\n",
      "Building shuffle matrix: 100%|██████████| 63/63 [00:02<00:00, 29.81it/s] \n",
      "Computing variances: 100%|██████████| 4/4 [00:00<00:00, 3716.71it/s]\n",
      "Computing variances: 100%|██████████| 760/760 [00:00<00:00, 10856.86it/s]\n",
      "Computing signatures:   0%|          | 0/17 [00:00<?, ?it/s]"
     ]
    },
    {
     "name": "stdout",
     "output_type": "stream",
     "text": [
      "Done.\n",
      "Preparing...\n"
     ]
    },
    {
     "name": "stderr",
     "output_type": "stream",
     "text": [
      "Computing signatures: 100%|██████████| 17/17 [00:00<00:00, 454.26it/s]\n",
      "Building shuffle matrix: 100%|██████████| 63/63 [00:02<00:00, 29.02it/s] \n",
      "Computing variances: 100%|██████████| 4/4 [00:00<00:00, 3469.23it/s]\n",
      "Computing variances: 100%|██████████| 760/760 [00:00<00:00, 9331.34it/s]"
     ]
    },
    {
     "name": "stdout",
     "output_type": "stream",
     "text": [
      "Done.\n",
      "Preparing..."
     ]
    },
    {
     "name": "stderr",
     "output_type": "stream",
     "text": [
      "\n",
      "Computing signatures: 100%|██████████| 17/17 [00:00<00:00, 421.57it/s]\n",
      "Building shuffle matrix: 100%|██████████| 63/63 [00:02<00:00, 28.90it/s] \n",
      "Computing variances: 100%|██████████| 4/4 [00:00<00:00, 3636.15it/s]\n",
      "Computing variances: 100%|██████████| 760/760 [00:00<00:00, 11908.29it/s]\n",
      "Computing signatures:   0%|          | 0/17 [00:00<?, ?it/s]"
     ]
    },
    {
     "name": "stdout",
     "output_type": "stream",
     "text": [
      "\n",
      "Done.\n",
      "Preparing...\n"
     ]
    },
    {
     "name": "stderr",
     "output_type": "stream",
     "text": [
      "Computing signatures: 100%|██████████| 17/17 [00:00<00:00, 456.19it/s]\n",
      "Building shuffle matrix: 100%|██████████| 63/63 [00:02<00:00, 28.44it/s] \n",
      "Computing variances: 100%|██████████| 4/4 [00:00<00:00, 2387.20it/s]\n",
      "Computing variances: 100%|██████████| 760/760 [00:00<00:00, 12197.04it/s]\n",
      "Computing signatures:   0%|          | 0/17 [00:00<?, ?it/s]"
     ]
    },
    {
     "name": "stdout",
     "output_type": "stream",
     "text": [
      "Done.\n",
      "Preparing...\n"
     ]
    },
    {
     "name": "stderr",
     "output_type": "stream",
     "text": [
      "Computing signatures: 100%|██████████| 17/17 [00:00<00:00, 445.32it/s]\n",
      "Building shuffle matrix: 100%|██████████| 63/63 [00:02<00:00, 29.20it/s] \n",
      "Computing variances: 100%|██████████| 4/4 [00:00<00:00, 1926.87it/s]\n",
      "Computing variances: 100%|██████████| 760/760 [00:00<00:00, 12019.60it/s]\n",
      "Computing signatures:   0%|          | 0/17 [00:00<?, ?it/s]"
     ]
    },
    {
     "name": "stdout",
     "output_type": "stream",
     "text": [
      "Done.\n",
      "Preparing...\n"
     ]
    },
    {
     "name": "stderr",
     "output_type": "stream",
     "text": [
      "Computing signatures: 100%|██████████| 17/17 [00:00<00:00, 432.35it/s]\n",
      "Building shuffle matrix: 100%|██████████| 63/63 [00:02<00:00, 29.22it/s] \n",
      "Computing variances: 100%|██████████| 4/4 [00:00<00:00, 2544.32it/s]\n",
      "Computing variances: 100%|██████████| 760/760 [00:00<00:00, 11094.73it/s]"
     ]
    },
    {
     "name": "stdout",
     "output_type": "stream",
     "text": [
      "Done.\n"
     ]
    },
    {
     "name": "stderr",
     "output_type": "stream",
     "text": [
      "\n",
      "Computing signatures: 100%|██████████| 55/55 [00:00<00:00, 321.58it/s]\n",
      "Building shuffle matrix:   0%|          | 0/63 [00:00<?, ?it/s]"
     ]
    },
    {
     "name": "stdout",
     "output_type": "stream",
     "text": [
      "Preparing...\n"
     ]
    },
    {
     "name": "stderr",
     "output_type": "stream",
     "text": [
      "Building shuffle matrix: 100%|██████████| 63/63 [00:02<00:00, 29.19it/s] \n",
      "Computing variances: 100%|██████████| 13/13 [00:00<00:00, 5056.66it/s]"
     ]
    },
    {
     "name": "stdout",
     "output_type": "stream",
     "text": [
      "Done.\n"
     ]
    },
    {
     "name": "stderr",
     "output_type": "stream",
     "text": [
      "\n",
      "Computing variances: 100%|██████████| 143/143 [00:00<00:00, 7041.22it/s]\n",
      "Computing signatures: 100%|██████████| 55/55 [00:00<00:00, 320.94it/s]\n",
      "Building shuffle matrix:   0%|          | 0/63 [00:00<?, ?it/s]"
     ]
    },
    {
     "name": "stdout",
     "output_type": "stream",
     "text": [
      "Preparing...\n"
     ]
    },
    {
     "name": "stderr",
     "output_type": "stream",
     "text": [
      "Building shuffle matrix: 100%|██████████| 63/63 [00:02<00:00, 28.37it/s] \n",
      "Computing variances: 100%|██████████| 13/13 [00:00<00:00, 4426.53it/s]"
     ]
    },
    {
     "name": "stdout",
     "output_type": "stream",
     "text": [
      "Done.\n"
     ]
    },
    {
     "name": "stderr",
     "output_type": "stream",
     "text": [
      "\n",
      "Computing variances: 100%|██████████| 143/143 [00:00<00:00, 6607.53it/s]\n",
      "Computing signatures: 100%|██████████| 55/55 [00:00<00:00, 323.37it/s]\n",
      "Building shuffle matrix:   0%|          | 0/63 [00:00<?, ?it/s]"
     ]
    },
    {
     "name": "stdout",
     "output_type": "stream",
     "text": [
      "Preparing...\n"
     ]
    },
    {
     "name": "stderr",
     "output_type": "stream",
     "text": [
      "Building shuffle matrix: 100%|██████████| 63/63 [00:02<00:00, 28.61it/s] \n",
      "Computing variances: 100%|██████████| 13/13 [00:00<00:00, 4416.85it/s]"
     ]
    },
    {
     "name": "stdout",
     "output_type": "stream",
     "text": [
      "Done.\n"
     ]
    },
    {
     "name": "stderr",
     "output_type": "stream",
     "text": [
      "\n",
      "Computing variances: 100%|██████████| 143/143 [00:00<00:00, 7106.38it/s]\n",
      "Computing signatures: 100%|██████████| 55/55 [00:00<00:00, 316.28it/s]\n",
      "Building shuffle matrix:   0%|          | 0/63 [00:00<?, ?it/s]"
     ]
    },
    {
     "name": "stdout",
     "output_type": "stream",
     "text": [
      "Preparing...\n"
     ]
    },
    {
     "name": "stderr",
     "output_type": "stream",
     "text": [
      "Building shuffle matrix: 100%|██████████| 63/63 [00:02<00:00, 27.90it/s] \n",
      "Computing variances: 100%|██████████| 13/13 [00:00<00:00, 3309.62it/s]\n",
      "Computing variances:   0%|          | 0/143 [00:00<?, ?it/s]"
     ]
    },
    {
     "name": "stdout",
     "output_type": "stream",
     "text": [
      "Done.\n"
     ]
    },
    {
     "name": "stderr",
     "output_type": "stream",
     "text": [
      "Computing variances: 100%|██████████| 143/143 [00:00<00:00, 5584.13it/s]\n",
      "Computing signatures: 100%|██████████| 55/55 [00:00<00:00, 290.86it/s]\n",
      "Building shuffle matrix:   0%|          | 0/63 [00:00<?, ?it/s]"
     ]
    },
    {
     "name": "stdout",
     "output_type": "stream",
     "text": [
      "Preparing...\n"
     ]
    },
    {
     "name": "stderr",
     "output_type": "stream",
     "text": [
      "Building shuffle matrix: 100%|██████████| 63/63 [00:02<00:00, 29.15it/s] \n",
      "Computing variances: 100%|██████████| 13/13 [00:00<00:00, 3579.46it/s]"
     ]
    },
    {
     "name": "stdout",
     "output_type": "stream",
     "text": [
      "Done.\n"
     ]
    },
    {
     "name": "stderr",
     "output_type": "stream",
     "text": [
      "\n",
      "Computing variances: 100%|██████████| 143/143 [00:00<00:00, 6844.99it/s]\n",
      "Computing signatures: 100%|██████████| 55/55 [00:00<00:00, 308.20it/s]\n",
      "Building shuffle matrix:   0%|          | 0/63 [00:00<?, ?it/s]"
     ]
    },
    {
     "name": "stdout",
     "output_type": "stream",
     "text": [
      "Preparing...\n"
     ]
    },
    {
     "name": "stderr",
     "output_type": "stream",
     "text": [
      "Building shuffle matrix: 100%|██████████| 63/63 [00:02<00:00, 28.42it/s] \n",
      "Computing variances: 100%|██████████| 13/13 [00:00<00:00, 3631.19it/s]"
     ]
    },
    {
     "name": "stdout",
     "output_type": "stream",
     "text": [
      "Done.\n"
     ]
    },
    {
     "name": "stderr",
     "output_type": "stream",
     "text": [
      "\n",
      "Computing variances: 100%|██████████| 143/143 [00:00<00:00, 6411.94it/s]\n",
      "Computing signatures: 100%|██████████| 55/55 [00:00<00:00, 317.27it/s]\n",
      "Building shuffle matrix:   0%|          | 0/63 [00:00<?, ?it/s]"
     ]
    },
    {
     "name": "stdout",
     "output_type": "stream",
     "text": [
      "Preparing...\n"
     ]
    },
    {
     "name": "stderr",
     "output_type": "stream",
     "text": [
      "Building shuffle matrix: 100%|██████████| 63/63 [00:02<00:00, 29.15it/s] \n",
      "Computing variances: 100%|██████████| 13/13 [00:00<00:00, 4365.57it/s]"
     ]
    },
    {
     "name": "stdout",
     "output_type": "stream",
     "text": [
      "Done.\n"
     ]
    },
    {
     "name": "stderr",
     "output_type": "stream",
     "text": [
      "\n",
      "Computing variances: 100%|██████████| 143/143 [00:00<00:00, 6995.72it/s]\n",
      "Computing signatures: 100%|██████████| 55/55 [00:00<00:00, 322.42it/s]\n",
      "Building shuffle matrix:   0%|          | 0/63 [00:00<?, ?it/s]"
     ]
    },
    {
     "name": "stdout",
     "output_type": "stream",
     "text": [
      "Preparing...\n"
     ]
    },
    {
     "name": "stderr",
     "output_type": "stream",
     "text": [
      "Building shuffle matrix: 100%|██████████| 63/63 [00:02<00:00, 28.54it/s] \n",
      "Computing variances: 100%|██████████| 13/13 [00:00<00:00, 4047.35it/s]"
     ]
    },
    {
     "name": "stdout",
     "output_type": "stream",
     "text": [
      "Done.\n"
     ]
    },
    {
     "name": "stderr",
     "output_type": "stream",
     "text": [
      "\n",
      "Computing variances: 100%|██████████| 143/143 [00:00<00:00, 6825.75it/s]\n",
      "Computing signatures: 100%|██████████| 55/55 [00:00<00:00, 322.30it/s]\n",
      "Building shuffle matrix:   0%|          | 0/63 [00:00<?, ?it/s]"
     ]
    },
    {
     "name": "stdout",
     "output_type": "stream",
     "text": [
      "Preparing...\n"
     ]
    },
    {
     "name": "stderr",
     "output_type": "stream",
     "text": [
      "Building shuffle matrix: 100%|██████████| 63/63 [00:02<00:00, 28.73it/s] \n",
      "Computing variances: 100%|██████████| 13/13 [00:00<00:00, 3899.45it/s]"
     ]
    },
    {
     "name": "stdout",
     "output_type": "stream",
     "text": [
      "Done.\n"
     ]
    },
    {
     "name": "stderr",
     "output_type": "stream",
     "text": [
      "\n",
      "Computing variances: 100%|██████████| 143/143 [00:00<00:00, 7095.37it/s]\n",
      "Computing signatures: 100%|██████████| 55/55 [00:00<00:00, 318.91it/s]\n",
      "Building shuffle matrix:   0%|          | 0/63 [00:00<?, ?it/s]"
     ]
    },
    {
     "name": "stdout",
     "output_type": "stream",
     "text": [
      "Preparing...\n"
     ]
    },
    {
     "name": "stderr",
     "output_type": "stream",
     "text": [
      "Building shuffle matrix: 100%|██████████| 63/63 [00:02<00:00, 29.20it/s] \n",
      "Computing variances: 100%|██████████| 13/13 [00:00<00:00, 4381.35it/s]"
     ]
    },
    {
     "name": "stdout",
     "output_type": "stream",
     "text": [
      "Done.\n"
     ]
    },
    {
     "name": "stderr",
     "output_type": "stream",
     "text": [
      "\n",
      "Computing variances: 100%|██████████| 143/143 [00:00<00:00, 6523.09it/s]\n",
      "Computing variances: 100%|██████████| 2/2 [00:00<00:00, 1675.04it/s]\n",
      "Computing variances: 100%|██████████| 48/48 [00:00<00:00, 5868.72it/s]\n",
      "Computing variances: 100%|██████████| 2/2 [00:00<00:00, 1714.06it/s]\n",
      "Computing variances: 100%|██████████| 48/48 [00:00<00:00, 3777.45it/s]\n",
      "Computing variances: 100%|██████████| 2/2 [00:00<00:00, 1513.92it/s]\n",
      "Computing variances: 100%|██████████| 48/48 [00:00<00:00, 4539.80it/s]\n",
      "Computing variances: 100%|██████████| 2/2 [00:00<00:00, 1886.78it/s]\n",
      "Computing variances: 100%|██████████| 48/48 [00:00<00:00, 4856.98it/s]\n",
      "Computing variances: 100%|██████████| 2/2 [00:00<00:00, 2181.13it/s]\n",
      "Computing variances: 100%|██████████| 48/48 [00:00<00:00, 5203.85it/s]\n",
      "Computing variances: 100%|██████████| 2/2 [00:00<00:00, 1960.87it/s]\n",
      "Computing variances: 100%|██████████| 48/48 [00:00<00:00, 5637.82it/s]\n",
      "Computing variances: 100%|██████████| 2/2 [00:00<00:00, 1287.58it/s]\n",
      "Computing variances: 100%|██████████| 48/48 [00:00<00:00, 5228.31it/s]\n",
      "Computing variances: 100%|██████████| 2/2 [00:00<00:00, 1452.32it/s]\n",
      "Computing variances: 100%|██████████| 48/48 [00:00<00:00, 4848.44it/s]\n",
      "Computing variances: 100%|██████████| 2/2 [00:00<00:00, 1061.45it/s]\n",
      "Computing variances: 100%|██████████| 48/48 [00:00<00:00, 4885.97it/s]\n",
      "Computing variances: 100%|██████████| 2/2 [00:00<00:00, 1876.23it/s]\n",
      "Computing variances: 100%|██████████| 48/48 [00:00<00:00, 4929.16it/s]\n",
      "Computing signatures: 100%|██████████| 17/17 [00:00<00:00, 156.50it/s]\n",
      "Building shuffle matrix:   0%|          | 0/63 [00:00<?, ?it/s]"
     ]
    },
    {
     "name": "stdout",
     "output_type": "stream",
     "text": [
      "Preparing...\n"
     ]
    },
    {
     "name": "stderr",
     "output_type": "stream",
     "text": [
      "Building shuffle matrix: 100%|██████████| 63/63 [00:02<00:00, 29.11it/s] \n",
      "Computing variances: 100%|██████████| 4/4 [00:00<00:00, 2334.71it/s]\n",
      "Computing variances: 100%|██████████| 19/19 [00:00<00:00, 3601.73it/s]\n",
      "Computing signatures: 100%|██████████| 17/17 [00:00<00:00, 152.77it/s]\n",
      "Building shuffle matrix:   0%|          | 0/63 [00:00<?, ?it/s]"
     ]
    },
    {
     "name": "stdout",
     "output_type": "stream",
     "text": [
      "Done.\n",
      "Preparing...\n"
     ]
    },
    {
     "name": "stderr",
     "output_type": "stream",
     "text": [
      "Building shuffle matrix: 100%|██████████| 63/63 [00:02<00:00, 28.88it/s] \n",
      "Computing variances: 100%|██████████| 4/4 [00:00<00:00, 2287.28it/s]\n",
      "Computing variances: 100%|██████████| 19/19 [00:00<00:00, 3265.79it/s]\n",
      "Computing signatures: 100%|██████████| 17/17 [00:00<00:00, 143.43it/s]\n",
      "Building shuffle matrix:   0%|          | 0/63 [00:00<?, ?it/s]"
     ]
    },
    {
     "name": "stdout",
     "output_type": "stream",
     "text": [
      "Done.\n",
      "Preparing...\n"
     ]
    },
    {
     "name": "stderr",
     "output_type": "stream",
     "text": [
      "Building shuffle matrix: 100%|██████████| 63/63 [00:02<00:00, 28.97it/s] \n",
      "Computing variances: 100%|██████████| 4/4 [00:00<00:00, 2214.81it/s]\n",
      "Computing variances: 100%|██████████| 19/19 [00:00<00:00, 3133.89it/s]\n",
      "Computing signatures: 100%|██████████| 17/17 [00:00<00:00, 153.72it/s]\n",
      "Building shuffle matrix:   0%|          | 0/63 [00:00<?, ?it/s]"
     ]
    },
    {
     "name": "stdout",
     "output_type": "stream",
     "text": [
      "Done.\n",
      "Preparing...\n"
     ]
    },
    {
     "name": "stderr",
     "output_type": "stream",
     "text": [
      "Building shuffle matrix: 100%|██████████| 63/63 [00:02<00:00, 28.75it/s] \n",
      "Computing variances: 100%|██████████| 4/4 [00:00<00:00, 1827.98it/s]\n",
      "Computing variances: 100%|██████████| 19/19 [00:00<00:00, 3591.01it/s]\n",
      "Computing signatures: 100%|██████████| 17/17 [00:00<00:00, 154.71it/s]\n",
      "Building shuffle matrix:   0%|          | 0/63 [00:00<?, ?it/s]"
     ]
    },
    {
     "name": "stdout",
     "output_type": "stream",
     "text": [
      "Done.\n",
      "Preparing...\n"
     ]
    },
    {
     "name": "stderr",
     "output_type": "stream",
     "text": [
      "Building shuffle matrix: 100%|██████████| 63/63 [00:02<00:00, 29.08it/s] \n",
      "Computing variances: 100%|██████████| 4/4 [00:00<00:00, 2382.11it/s]\n",
      "Computing variances: 100%|██████████| 19/19 [00:00<00:00, 3042.02it/s]\n",
      "Computing signatures: 100%|██████████| 17/17 [00:00<00:00, 151.88it/s]\n",
      "Building shuffle matrix:   0%|          | 0/63 [00:00<?, ?it/s]"
     ]
    },
    {
     "name": "stdout",
     "output_type": "stream",
     "text": [
      "Done.\n",
      "Preparing...\n"
     ]
    },
    {
     "name": "stderr",
     "output_type": "stream",
     "text": [
      "Building shuffle matrix: 100%|██████████| 63/63 [00:02<00:00, 28.58it/s] \n",
      "Computing variances: 100%|██████████| 4/4 [00:00<00:00, 2116.20it/s]\n",
      "Computing variances: 100%|██████████| 19/19 [00:00<00:00, 2880.08it/s]\n",
      "Computing signatures: 100%|██████████| 17/17 [00:00<00:00, 145.34it/s]\n",
      "Building shuffle matrix:   0%|          | 0/63 [00:00<?, ?it/s]"
     ]
    },
    {
     "name": "stdout",
     "output_type": "stream",
     "text": [
      "Done.\n",
      "Preparing...\n"
     ]
    },
    {
     "name": "stderr",
     "output_type": "stream",
     "text": [
      "Building shuffle matrix: 100%|██████████| 63/63 [00:02<00:00, 28.82it/s] \n",
      "Computing variances: 100%|██████████| 4/4 [00:00<00:00, 2254.70it/s]\n",
      "Computing variances: 100%|██████████| 19/19 [00:00<00:00, 3494.49it/s]\n",
      "Computing signatures: 100%|██████████| 17/17 [00:00<00:00, 151.00it/s]\n",
      "Building shuffle matrix:   0%|          | 0/63 [00:00<?, ?it/s]"
     ]
    },
    {
     "name": "stdout",
     "output_type": "stream",
     "text": [
      "Done.\n",
      "Preparing...\n"
     ]
    },
    {
     "name": "stderr",
     "output_type": "stream",
     "text": [
      "Building shuffle matrix: 100%|██████████| 63/63 [00:02<00:00, 28.85it/s] \n",
      "Computing variances: 100%|██████████| 4/4 [00:00<00:00, 2094.27it/s]\n",
      "Computing variances: 100%|██████████| 19/19 [00:00<00:00, 2760.46it/s]\n",
      "Computing signatures: 100%|██████████| 17/17 [00:00<00:00, 143.84it/s]\n",
      "Building shuffle matrix:   0%|          | 0/63 [00:00<?, ?it/s]"
     ]
    },
    {
     "name": "stdout",
     "output_type": "stream",
     "text": [
      "Done.\n",
      "Preparing...\n"
     ]
    },
    {
     "name": "stderr",
     "output_type": "stream",
     "text": [
      "Building shuffle matrix: 100%|██████████| 63/63 [00:02<00:00, 29.05it/s] \n",
      "Computing variances: 100%|██████████| 4/4 [00:00<00:00, 1847.51it/s]\n",
      "Computing variances: 100%|██████████| 19/19 [00:00<00:00, 2849.80it/s]\n",
      "Computing signatures: 100%|██████████| 17/17 [00:00<00:00, 151.49it/s]\n",
      "Building shuffle matrix:   0%|          | 0/63 [00:00<?, ?it/s]"
     ]
    },
    {
     "name": "stdout",
     "output_type": "stream",
     "text": [
      "Done.\n",
      "Preparing...\n"
     ]
    },
    {
     "name": "stderr",
     "output_type": "stream",
     "text": [
      "Building shuffle matrix: 100%|██████████| 63/63 [00:02<00:00, 29.22it/s] \n",
      "Computing variances: 100%|██████████| 4/4 [00:00<00:00, 2695.57it/s]\n",
      "Computing variances: 100%|██████████| 19/19 [00:00<00:00, 3728.44it/s]\n",
      "Computing signatures:  94%|█████████▍| 16/17 [00:00<00:00, 159.63it/s]"
     ]
    },
    {
     "name": "stdout",
     "output_type": "stream",
     "text": [
      "Done.\n",
      "Preparing...\n"
     ]
    },
    {
     "name": "stderr",
     "output_type": "stream",
     "text": [
      "Computing signatures: 100%|██████████| 17/17 [00:00<00:00, 157.53it/s]\n",
      "Building shuffle matrix: 100%|██████████| 63/63 [00:02<00:00, 29.20it/s] \n",
      "Computing variances: 100%|██████████| 4/4 [00:00<00:00, 2518.72it/s]\n",
      "Computing variances: 100%|██████████| 19/19 [00:00<00:00, 3077.97it/s]\n",
      "Computing signatures: 100%|██████████| 17/17 [00:00<00:00, 152.10it/s]\n",
      "Building shuffle matrix:   0%|          | 0/63 [00:00<?, ?it/s]"
     ]
    },
    {
     "name": "stdout",
     "output_type": "stream",
     "text": [
      "Done.\n",
      "Preparing...\n"
     ]
    },
    {
     "name": "stderr",
     "output_type": "stream",
     "text": [
      "Building shuffle matrix: 100%|██████████| 63/63 [00:02<00:00, 29.09it/s] \n",
      "Computing variances: 100%|██████████| 4/4 [00:00<00:00, 2368.66it/s]\n",
      "Computing variances: 100%|██████████| 19/19 [00:00<00:00, 3486.69it/s]\n",
      "Computing signatures: 100%|██████████| 17/17 [00:00<00:00, 149.74it/s]\n",
      "Building shuffle matrix:   0%|          | 0/63 [00:00<?, ?it/s]"
     ]
    },
    {
     "name": "stdout",
     "output_type": "stream",
     "text": [
      "Done.\n",
      "Preparing...\n"
     ]
    },
    {
     "name": "stderr",
     "output_type": "stream",
     "text": [
      "Building shuffle matrix: 100%|██████████| 63/63 [00:02<00:00, 29.20it/s] \n",
      "Computing variances: 100%|██████████| 4/4 [00:00<00:00, 1937.10it/s]\n",
      "Computing variances: 100%|██████████| 19/19 [00:00<00:00, 2706.92it/s]\n",
      "Computing signatures: 100%|██████████| 17/17 [00:00<00:00, 144.87it/s]\n",
      "Building shuffle matrix:   0%|          | 0/63 [00:00<?, ?it/s]"
     ]
    },
    {
     "name": "stdout",
     "output_type": "stream",
     "text": [
      "Done.\n",
      "Preparing...\n"
     ]
    },
    {
     "name": "stderr",
     "output_type": "stream",
     "text": [
      "Building shuffle matrix: 100%|██████████| 63/63 [00:02<00:00, 29.78it/s] \n",
      "Computing variances: 100%|██████████| 4/4 [00:00<00:00, 1820.64it/s]\n",
      "Computing variances: 100%|██████████| 19/19 [00:00<00:00, 2747.61it/s]\n",
      "Computing signatures: 100%|██████████| 17/17 [00:00<00:00, 145.51it/s]\n",
      "Building shuffle matrix:   0%|          | 0/63 [00:00<?, ?it/s]"
     ]
    },
    {
     "name": "stdout",
     "output_type": "stream",
     "text": [
      "Done.\n",
      "Preparing...\n"
     ]
    },
    {
     "name": "stderr",
     "output_type": "stream",
     "text": [
      "Building shuffle matrix: 100%|██████████| 63/63 [00:02<00:00, 29.07it/s] \n",
      "Computing variances: 100%|██████████| 4/4 [00:00<00:00, 2673.66it/s]\n",
      "Computing variances: 100%|██████████| 19/19 [00:00<00:00, 3353.33it/s]\n",
      "Computing signatures: 100%|██████████| 17/17 [00:00<00:00, 153.44it/s]\n",
      "Building shuffle matrix:   0%|          | 0/63 [00:00<?, ?it/s]"
     ]
    },
    {
     "name": "stdout",
     "output_type": "stream",
     "text": [
      "Done.\n",
      "Preparing...\n"
     ]
    },
    {
     "name": "stderr",
     "output_type": "stream",
     "text": [
      "Building shuffle matrix: 100%|██████████| 63/63 [00:02<00:00, 28.49it/s] \n",
      "Computing variances: 100%|██████████| 4/4 [00:00<00:00, 2386.86it/s]\n",
      "Computing variances: 100%|██████████| 19/19 [00:00<00:00, 3599.12it/s]\n",
      "Computing signatures: 100%|██████████| 17/17 [00:00<00:00, 154.45it/s]\n",
      "Building shuffle matrix:   0%|          | 0/63 [00:00<?, ?it/s]"
     ]
    },
    {
     "name": "stdout",
     "output_type": "stream",
     "text": [
      "Done.\n",
      "Preparing...\n"
     ]
    },
    {
     "name": "stderr",
     "output_type": "stream",
     "text": [
      "Building shuffle matrix: 100%|██████████| 63/63 [00:02<00:00, 28.85it/s] \n",
      "Computing variances: 100%|██████████| 4/4 [00:00<00:00, 2035.58it/s]\n",
      "Computing variances: 100%|██████████| 19/19 [00:00<00:00, 2682.86it/s]\n",
      "Computing signatures: 100%|██████████| 17/17 [00:00<00:00, 148.22it/s]\n",
      "Building shuffle matrix:   0%|          | 0/63 [00:00<?, ?it/s]"
     ]
    },
    {
     "name": "stdout",
     "output_type": "stream",
     "text": [
      "Done.\n",
      "Preparing...\n"
     ]
    },
    {
     "name": "stderr",
     "output_type": "stream",
     "text": [
      "Building shuffle matrix: 100%|██████████| 63/63 [00:02<00:00, 29.56it/s] \n",
      "Computing variances: 100%|██████████| 4/4 [00:00<00:00, 2636.68it/s]\n",
      "Computing variances: 100%|██████████| 19/19 [00:00<00:00, 3427.75it/s]\n",
      "Computing signatures: 100%|██████████| 17/17 [00:00<00:00, 143.54it/s]\n",
      "Building shuffle matrix:   0%|          | 0/63 [00:00<?, ?it/s]"
     ]
    },
    {
     "name": "stdout",
     "output_type": "stream",
     "text": [
      "Done.\n",
      "Preparing...\n"
     ]
    },
    {
     "name": "stderr",
     "output_type": "stream",
     "text": [
      "Building shuffle matrix: 100%|██████████| 63/63 [00:02<00:00, 28.92it/s] \n",
      "Computing variances: 100%|██████████| 4/4 [00:00<00:00, 2376.71it/s]\n",
      "Computing variances: 100%|██████████| 19/19 [00:00<00:00, 3693.54it/s]\n",
      "Computing signatures: 100%|██████████| 17/17 [00:00<00:00, 153.08it/s]\n",
      "Building shuffle matrix:   0%|          | 0/63 [00:00<?, ?it/s]"
     ]
    },
    {
     "name": "stdout",
     "output_type": "stream",
     "text": [
      "Done.\n",
      "Preparing...\n"
     ]
    },
    {
     "name": "stderr",
     "output_type": "stream",
     "text": [
      "Building shuffle matrix: 100%|██████████| 63/63 [00:02<00:00, 29.03it/s] \n",
      "Computing variances: 100%|██████████| 4/4 [00:00<00:00, 2360.00it/s]\n",
      "Computing variances: 100%|██████████| 19/19 [00:00<00:00, 3061.54it/s]\n"
     ]
    },
    {
     "name": "stdout",
     "output_type": "stream",
     "text": [
      "Done.\n"
     ]
    },
    {
     "name": "stderr",
     "output_type": "stream",
     "text": [
      "Computing signatures: 100%|██████████| 260/260 [00:00<00:00, 604.83it/s]\n",
      "Building shuffle matrix: 100%|██████████| 63/63 [00:02<00:00, 29.23it/s] \n",
      "Computing variances: 100%|██████████| 62/62 [00:00<00:00, 2728.26it/s]"
     ]
    },
    {
     "name": "stdout",
     "output_type": "stream",
     "text": [
      "Preparing...\n",
      "Done.\n"
     ]
    },
    {
     "name": "stderr",
     "output_type": "stream",
     "text": [
      "\n",
      "Computing variances: 100%|██████████| 608/608 [00:00<00:00, 4145.42it/s]\n",
      "Computing signatures:  50%|████▉     | 129/260 [00:00<00:00, 640.27it/s]"
     ]
    },
    {
     "name": "stdout",
     "output_type": "stream",
     "text": [
      "Preparing...\n"
     ]
    },
    {
     "name": "stderr",
     "output_type": "stream",
     "text": [
      "Computing signatures: 100%|██████████| 260/260 [00:00<00:00, 629.14it/s]\n",
      "Building shuffle matrix: 100%|██████████| 63/63 [00:02<00:00, 29.44it/s] \n",
      "Computing variances: 100%|██████████| 62/62 [00:00<00:00, 3906.01it/s]"
     ]
    },
    {
     "name": "stdout",
     "output_type": "stream",
     "text": [
      "Done.\n"
     ]
    },
    {
     "name": "stderr",
     "output_type": "stream",
     "text": [
      "\n",
      "Computing variances: 100%|██████████| 608/608 [00:00<00:00, 4248.00it/s]\n",
      "Computing signatures:  44%|████▍     | 115/260 [00:00<00:00, 543.56it/s]"
     ]
    },
    {
     "name": "stdout",
     "output_type": "stream",
     "text": [
      "Preparing...\n"
     ]
    },
    {
     "name": "stderr",
     "output_type": "stream",
     "text": [
      "Computing signatures: 100%|██████████| 260/260 [00:00<00:00, 601.86it/s]\n",
      "Building shuffle matrix: 100%|██████████| 63/63 [00:02<00:00, 28.96it/s] \n",
      "Computing variances: 100%|██████████| 62/62 [00:00<00:00, 4010.84it/s]"
     ]
    },
    {
     "name": "stdout",
     "output_type": "stream",
     "text": [
      "Done.\n"
     ]
    },
    {
     "name": "stderr",
     "output_type": "stream",
     "text": [
      "\n",
      "Computing variances: 100%|██████████| 608/608 [00:00<00:00, 4238.11it/s]\n",
      "Computing signatures:  50%|█████     | 130/260 [00:00<00:00, 644.98it/s]"
     ]
    },
    {
     "name": "stdout",
     "output_type": "stream",
     "text": [
      "Preparing...\n"
     ]
    },
    {
     "name": "stderr",
     "output_type": "stream",
     "text": [
      "Computing signatures: 100%|██████████| 260/260 [00:00<00:00, 602.64it/s]\n",
      "Building shuffle matrix: 100%|██████████| 63/63 [00:02<00:00, 28.57it/s] \n",
      "Computing variances: 100%|██████████| 62/62 [00:00<00:00, 3792.26it/s]"
     ]
    },
    {
     "name": "stdout",
     "output_type": "stream",
     "text": [
      "Done.\n"
     ]
    },
    {
     "name": "stderr",
     "output_type": "stream",
     "text": [
      "\n",
      "Computing variances: 100%|██████████| 608/608 [00:00<00:00, 4198.50it/s]\n",
      "Computing signatures:  25%|██▍       | 64/260 [00:00<00:00, 636.63it/s]"
     ]
    },
    {
     "name": "stdout",
     "output_type": "stream",
     "text": [
      "Preparing...\n"
     ]
    },
    {
     "name": "stderr",
     "output_type": "stream",
     "text": [
      "Computing signatures: 100%|██████████| 260/260 [00:00<00:00, 630.81it/s]\n",
      "Building shuffle matrix: 100%|██████████| 63/63 [00:02<00:00, 29.30it/s] \n",
      "Computing variances: 100%|██████████| 62/62 [00:00<00:00, 3816.53it/s]"
     ]
    },
    {
     "name": "stdout",
     "output_type": "stream",
     "text": [
      "Done.\n"
     ]
    },
    {
     "name": "stderr",
     "output_type": "stream",
     "text": [
      "\n",
      "Computing variances: 100%|██████████| 608/608 [00:00<00:00, 4220.90it/s]\n",
      "Computing signatures:  25%|██▌       | 65/260 [00:00<00:00, 641.84it/s]"
     ]
    },
    {
     "name": "stdout",
     "output_type": "stream",
     "text": [
      "Preparing...\n"
     ]
    },
    {
     "name": "stderr",
     "output_type": "stream",
     "text": [
      "Computing signatures: 100%|██████████| 260/260 [00:00<00:00, 637.01it/s]\n",
      "Building shuffle matrix: 100%|██████████| 63/63 [00:02<00:00, 29.99it/s] \n",
      "Computing variances: 100%|██████████| 62/62 [00:00<00:00, 3841.16it/s]"
     ]
    },
    {
     "name": "stdout",
     "output_type": "stream",
     "text": [
      "Done.\n"
     ]
    },
    {
     "name": "stderr",
     "output_type": "stream",
     "text": [
      "\n",
      "Computing variances: 100%|██████████| 608/608 [00:00<00:00, 4284.83it/s]\n",
      "Computing signatures:  25%|██▌       | 65/260 [00:00<00:00, 648.26it/s]"
     ]
    },
    {
     "name": "stdout",
     "output_type": "stream",
     "text": [
      "Preparing...\n"
     ]
    },
    {
     "name": "stderr",
     "output_type": "stream",
     "text": [
      "Computing signatures: 100%|██████████| 260/260 [00:00<00:00, 607.23it/s]\n",
      "Building shuffle matrix: 100%|██████████| 63/63 [00:02<00:00, 29.03it/s] \n",
      "Computing variances: 100%|██████████| 62/62 [00:00<00:00, 3341.77it/s]"
     ]
    },
    {
     "name": "stdout",
     "output_type": "stream",
     "text": [
      "Done.\n"
     ]
    },
    {
     "name": "stderr",
     "output_type": "stream",
     "text": [
      "\n",
      "Computing variances: 100%|██████████| 608/608 [00:00<00:00, 3677.62it/s]\n",
      "Computing signatures:  25%|██▌       | 65/260 [00:00<00:00, 642.43it/s]"
     ]
    },
    {
     "name": "stdout",
     "output_type": "stream",
     "text": [
      "Preparing...\n"
     ]
    },
    {
     "name": "stderr",
     "output_type": "stream",
     "text": [
      "Computing signatures: 100%|██████████| 260/260 [00:00<00:00, 629.82it/s]\n",
      "Building shuffle matrix: 100%|██████████| 63/63 [00:02<00:00, 29.07it/s] \n",
      "Computing variances: 100%|██████████| 62/62 [00:00<00:00, 3736.47it/s]"
     ]
    },
    {
     "name": "stdout",
     "output_type": "stream",
     "text": [
      "Done.\n"
     ]
    },
    {
     "name": "stderr",
     "output_type": "stream",
     "text": [
      "\n",
      "Computing variances: 100%|██████████| 608/608 [00:00<00:00, 4259.34it/s]\n",
      "Computing signatures:  25%|██▌       | 65/260 [00:00<00:00, 643.67it/s]"
     ]
    },
    {
     "name": "stdout",
     "output_type": "stream",
     "text": [
      "Preparing...\n"
     ]
    },
    {
     "name": "stderr",
     "output_type": "stream",
     "text": [
      "Computing signatures: 100%|██████████| 260/260 [00:00<00:00, 635.42it/s]\n",
      "Building shuffle matrix: 100%|██████████| 63/63 [00:02<00:00, 29.81it/s] \n",
      "Computing variances: 100%|██████████| 62/62 [00:00<00:00, 3809.09it/s]"
     ]
    },
    {
     "name": "stdout",
     "output_type": "stream",
     "text": [
      "Done.\n"
     ]
    },
    {
     "name": "stderr",
     "output_type": "stream",
     "text": [
      "\n",
      "Computing variances: 100%|██████████| 608/608 [00:00<00:00, 3704.38it/s]\n",
      "Computing signatures:  44%|████▍     | 114/260 [00:00<00:00, 583.14it/s]"
     ]
    },
    {
     "name": "stdout",
     "output_type": "stream",
     "text": [
      "Preparing...\n"
     ]
    },
    {
     "name": "stderr",
     "output_type": "stream",
     "text": [
      "Computing signatures: 100%|██████████| 260/260 [00:00<00:00, 596.98it/s]\n",
      "Building shuffle matrix: 100%|██████████| 63/63 [00:02<00:00, 28.35it/s] \n",
      "Computing variances: 100%|██████████| 62/62 [00:00<00:00, 3788.78it/s]"
     ]
    },
    {
     "name": "stdout",
     "output_type": "stream",
     "text": [
      "Done.\n"
     ]
    },
    {
     "name": "stderr",
     "output_type": "stream",
     "text": [
      "\n",
      "Computing variances: 100%|██████████| 608/608 [00:00<00:00, 4097.61it/s]\n",
      "Computing signatures:   6%|▌         | 50/840 [00:00<00:01, 494.71it/s]"
     ]
    },
    {
     "name": "stdout",
     "output_type": "stream",
     "text": [
      "Preparing...\n"
     ]
    },
    {
     "name": "stderr",
     "output_type": "stream",
     "text": [
      "Computing signatures: 100%|██████████| 840/840 [00:01<00:00, 479.66it/s]\n",
      "Building shuffle matrix: 100%|██████████| 63/63 [00:02<00:00, 28.73it/s] \n",
      "Computing variances:  60%|█████▉    | 119/200 [00:00<00:00, 605.33it/s]"
     ]
    },
    {
     "name": "stdout",
     "output_type": "stream",
     "text": [
      "Done.\n"
     ]
    },
    {
     "name": "stderr",
     "output_type": "stream",
     "text": [
      "Computing variances: 100%|██████████| 200/200 [00:00<00:00, 662.00it/s]\n",
      "Computing variances: 100%|██████████| 3267/3267 [00:05<00:00, 644.58it/s]\n",
      "Computing signatures:   6%|▌         | 48/840 [00:00<00:01, 469.74it/s]"
     ]
    },
    {
     "name": "stdout",
     "output_type": "stream",
     "text": [
      "Preparing...\n"
     ]
    },
    {
     "name": "stderr",
     "output_type": "stream",
     "text": [
      "Computing signatures: 100%|██████████| 840/840 [00:01<00:00, 466.76it/s]\n",
      "Building shuffle matrix: 100%|██████████| 63/63 [00:02<00:00, 28.86it/s] \n",
      "Computing variances:  30%|██▉       | 59/200 [00:00<00:00, 588.38it/s]"
     ]
    },
    {
     "name": "stdout",
     "output_type": "stream",
     "text": [
      "Done.\n"
     ]
    },
    {
     "name": "stderr",
     "output_type": "stream",
     "text": [
      "Computing variances: 100%|██████████| 200/200 [00:00<00:00, 572.55it/s]\n",
      "Computing variances: 100%|██████████| 3267/3267 [00:05<00:00, 644.70it/s]\n",
      "Computing signatures:  12%|█▏        | 98/840 [00:00<00:01, 488.19it/s]"
     ]
    },
    {
     "name": "stdout",
     "output_type": "stream",
     "text": [
      "Preparing...\n"
     ]
    },
    {
     "name": "stderr",
     "output_type": "stream",
     "text": [
      "Computing signatures: 100%|██████████| 840/840 [00:01<00:00, 469.31it/s]\n",
      "Building shuffle matrix: 100%|██████████| 63/63 [00:02<00:00, 29.42it/s] \n",
      "Computing variances:  56%|█████▌    | 112/200 [00:00<00:00, 572.86it/s]"
     ]
    },
    {
     "name": "stdout",
     "output_type": "stream",
     "text": [
      "Done.\n"
     ]
    },
    {
     "name": "stderr",
     "output_type": "stream",
     "text": [
      "Computing variances: 100%|██████████| 200/200 [00:00<00:00, 578.70it/s]\n",
      "Computing variances: 100%|██████████| 3267/3267 [00:05<00:00, 601.47it/s]\n",
      "Computing signatures:  11%|█         | 89/840 [00:00<00:01, 420.42it/s]"
     ]
    },
    {
     "name": "stdout",
     "output_type": "stream",
     "text": [
      "Preparing...\n"
     ]
    },
    {
     "name": "stderr",
     "output_type": "stream",
     "text": [
      "Computing signatures: 100%|██████████| 840/840 [00:01<00:00, 469.87it/s]\n",
      "Building shuffle matrix: 100%|██████████| 63/63 [00:02<00:00, 28.63it/s] \n",
      "Computing variances:  66%|██████▋   | 133/200 [00:00<00:00, 645.43it/s]"
     ]
    },
    {
     "name": "stdout",
     "output_type": "stream",
     "text": [
      "Done.\n"
     ]
    },
    {
     "name": "stderr",
     "output_type": "stream",
     "text": [
      "Computing variances: 100%|██████████| 200/200 [00:00<00:00, 643.33it/s]\n",
      "Computing variances: 100%|██████████| 3267/3267 [00:05<00:00, 610.95it/s]\n",
      "Computing signatures:  10%|█         | 86/840 [00:00<00:01, 425.58it/s]"
     ]
    },
    {
     "name": "stdout",
     "output_type": "stream",
     "text": [
      "Preparing...\n"
     ]
    },
    {
     "name": "stderr",
     "output_type": "stream",
     "text": [
      "Computing signatures: 100%|██████████| 840/840 [00:01<00:00, 473.41it/s]\n",
      "Building shuffle matrix: 100%|██████████| 63/63 [00:02<00:00, 28.47it/s] \n",
      "Computing variances:  32%|███▏      | 63/200 [00:00<00:00, 627.65it/s]"
     ]
    },
    {
     "name": "stdout",
     "output_type": "stream",
     "text": [
      "Done.\n"
     ]
    },
    {
     "name": "stderr",
     "output_type": "stream",
     "text": [
      "Computing variances: 100%|██████████| 200/200 [00:00<00:00, 525.15it/s]\n",
      "Computing variances: 100%|██████████| 3267/3267 [00:05<00:00, 606.20it/s]\n",
      "Computing signatures:  16%|█▌        | 136/840 [00:00<00:01, 457.17it/s]"
     ]
    },
    {
     "name": "stdout",
     "output_type": "stream",
     "text": [
      "Preparing...\n"
     ]
    },
    {
     "name": "stderr",
     "output_type": "stream",
     "text": [
      "Computing signatures: 100%|██████████| 840/840 [00:01<00:00, 459.01it/s]\n",
      "Building shuffle matrix: 100%|██████████| 63/63 [00:02<00:00, 29.80it/s] \n",
      "Computing variances:  60%|██████    | 121/200 [00:00<00:00, 626.76it/s]"
     ]
    },
    {
     "name": "stdout",
     "output_type": "stream",
     "text": [
      "Done.\n"
     ]
    },
    {
     "name": "stderr",
     "output_type": "stream",
     "text": [
      "Computing variances: 100%|██████████| 200/200 [00:00<00:00, 548.42it/s]\n",
      "Computing variances: 100%|██████████| 3267/3267 [00:05<00:00, 583.03it/s]\n",
      "Computing signatures:  11%|█         | 89/840 [00:00<00:01, 428.12it/s]"
     ]
    },
    {
     "name": "stdout",
     "output_type": "stream",
     "text": [
      "Preparing...\n"
     ]
    },
    {
     "name": "stderr",
     "output_type": "stream",
     "text": [
      "Computing signatures: 100%|██████████| 840/840 [00:01<00:00, 458.21it/s]\n",
      "Building shuffle matrix: 100%|██████████| 63/63 [00:02<00:00, 29.15it/s] \n",
      "Computing variances:  33%|███▎      | 66/200 [00:00<00:00, 652.88it/s]"
     ]
    },
    {
     "name": "stdout",
     "output_type": "stream",
     "text": [
      "Done.\n"
     ]
    },
    {
     "name": "stderr",
     "output_type": "stream",
     "text": [
      "Computing variances: 100%|██████████| 200/200 [00:00<00:00, 555.86it/s]\n",
      "Computing variances: 100%|██████████| 3267/3267 [00:05<00:00, 580.85it/s]\n",
      "Computing signatures:  17%|█▋        | 145/840 [00:00<00:01, 476.76it/s]"
     ]
    },
    {
     "name": "stdout",
     "output_type": "stream",
     "text": [
      "Preparing...\n"
     ]
    },
    {
     "name": "stderr",
     "output_type": "stream",
     "text": [
      "Computing signatures: 100%|██████████| 840/840 [00:01<00:00, 459.89it/s]\n",
      "Building shuffle matrix: 100%|██████████| 63/63 [00:02<00:00, 28.53it/s] \n",
      "Computing variances:  34%|███▍      | 68/200 [00:00<00:00, 673.63it/s]"
     ]
    },
    {
     "name": "stdout",
     "output_type": "stream",
     "text": [
      "Done.\n"
     ]
    },
    {
     "name": "stderr",
     "output_type": "stream",
     "text": [
      "Computing variances: 100%|██████████| 200/200 [00:00<00:00, 571.25it/s]\n",
      "Computing variances: 100%|██████████| 3267/3267 [00:05<00:00, 598.49it/s]\n",
      "Computing signatures:  17%|█▋        | 143/840 [00:00<00:01, 473.01it/s]"
     ]
    },
    {
     "name": "stdout",
     "output_type": "stream",
     "text": [
      "Preparing...\n"
     ]
    },
    {
     "name": "stderr",
     "output_type": "stream",
     "text": [
      "Computing signatures: 100%|██████████| 840/840 [00:01<00:00, 469.48it/s]\n",
      "Building shuffle matrix: 100%|██████████| 63/63 [00:02<00:00, 28.71it/s] \n",
      "Computing variances:  61%|██████    | 122/200 [00:00<00:00, 568.98it/s]"
     ]
    },
    {
     "name": "stdout",
     "output_type": "stream",
     "text": [
      "Done.\n"
     ]
    },
    {
     "name": "stderr",
     "output_type": "stream",
     "text": [
      "Computing variances: 100%|██████████| 200/200 [00:00<00:00, 614.17it/s]\n",
      "Computing variances: 100%|██████████| 3267/3267 [00:05<00:00, 594.36it/s]\n",
      "Computing signatures:  12%|█▏        | 97/840 [00:00<00:01, 478.15it/s]"
     ]
    },
    {
     "name": "stdout",
     "output_type": "stream",
     "text": [
      "Preparing...\n"
     ]
    },
    {
     "name": "stderr",
     "output_type": "stream",
     "text": [
      "Computing signatures: 100%|██████████| 840/840 [00:01<00:00, 468.22it/s]\n",
      "Building shuffle matrix: 100%|██████████| 63/63 [00:02<00:00, 28.92it/s] \n",
      "Computing variances:  59%|█████▉    | 118/200 [00:00<00:00, 587.51it/s]"
     ]
    },
    {
     "name": "stdout",
     "output_type": "stream",
     "text": [
      "Done.\n"
     ]
    },
    {
     "name": "stderr",
     "output_type": "stream",
     "text": [
      "Computing variances: 100%|██████████| 200/200 [00:00<00:00, 519.70it/s]\n",
      "Computing variances: 100%|██████████| 3267/3267 [00:05<00:00, 588.23it/s]\n",
      "Computing signatures: 100%|██████████| 24/24 [00:00<00:00, 212.62it/s]\n",
      "Building shuffle matrix:   0%|          | 0/63 [00:00<?, ?it/s]"
     ]
    },
    {
     "name": "stdout",
     "output_type": "stream",
     "text": [
      "Preparing...\n"
     ]
    },
    {
     "name": "stderr",
     "output_type": "stream",
     "text": [
      "Building shuffle matrix: 100%|██████████| 63/63 [00:02<00:00, 28.13it/s] \n",
      "Computing variances: 100%|██████████| 6/6 [00:00<00:00, 3667.42it/s]\n",
      "Computing variances: 100%|██████████| 26/26 [00:00<00:00, 4749.65it/s]"
     ]
    },
    {
     "name": "stdout",
     "output_type": "stream",
     "text": [
      "Done.\n",
      "Preparing..."
     ]
    },
    {
     "name": "stderr",
     "output_type": "stream",
     "text": [
      "\n",
      "Computing signatures: 100%|██████████| 24/24 [00:00<00:00, 278.82it/s]\n",
      "Building shuffle matrix: 100%|██████████| 63/63 [00:02<00:00, 29.58it/s] \n",
      "Computing variances: 100%|██████████| 6/6 [00:00<00:00, 3744.91it/s]"
     ]
    },
    {
     "name": "stdout",
     "output_type": "stream",
     "text": [
      "\n",
      "Done.\n"
     ]
    },
    {
     "name": "stderr",
     "output_type": "stream",
     "text": [
      "\n",
      "Computing variances: 100%|██████████| 26/26 [00:00<00:00, 5027.05it/s]\n",
      "Computing signatures: 100%|██████████| 24/24 [00:00<00:00, 230.13it/s]\n",
      "Building shuffle matrix:   0%|          | 0/63 [00:00<?, ?it/s]"
     ]
    },
    {
     "name": "stdout",
     "output_type": "stream",
     "text": [
      "Preparing...\n"
     ]
    },
    {
     "name": "stderr",
     "output_type": "stream",
     "text": [
      "Building shuffle matrix: 100%|██████████| 63/63 [00:02<00:00, 30.25it/s] \n",
      "Computing variances: 100%|██████████| 6/6 [00:00<00:00, 1979.53it/s]\n",
      "Computing variances:   0%|          | 0/26 [00:00<?, ?it/s]"
     ]
    },
    {
     "name": "stdout",
     "output_type": "stream",
     "text": [
      "Done.\n"
     ]
    },
    {
     "name": "stderr",
     "output_type": "stream",
     "text": [
      "Computing variances: 100%|██████████| 26/26 [00:00<00:00, 4636.95it/s]\n",
      "Computing signatures: 100%|██████████| 24/24 [00:00<00:00, 282.42it/s]\n",
      "Building shuffle matrix:  27%|██▋       | 17/63 [00:00<00:00, 149.82it/s]"
     ]
    },
    {
     "name": "stdout",
     "output_type": "stream",
     "text": [
      "Preparing...\n"
     ]
    },
    {
     "name": "stderr",
     "output_type": "stream",
     "text": [
      "Building shuffle matrix: 100%|██████████| 63/63 [00:02<00:00, 28.66it/s] \n",
      "Computing variances: 100%|██████████| 6/6 [00:00<00:00, 4015.61it/s]\n",
      "Computing variances:   0%|          | 0/26 [00:00<?, ?it/s]"
     ]
    },
    {
     "name": "stdout",
     "output_type": "stream",
     "text": [
      "Done.\n"
     ]
    },
    {
     "name": "stderr",
     "output_type": "stream",
     "text": [
      "Computing variances: 100%|██████████| 26/26 [00:00<00:00, 4034.78it/s]\n",
      "Computing signatures: 100%|██████████| 24/24 [00:00<00:00, 223.86it/s]\n",
      "Building shuffle matrix:   0%|          | 0/63 [00:00<?, ?it/s]"
     ]
    },
    {
     "name": "stdout",
     "output_type": "stream",
     "text": [
      "Preparing...\n"
     ]
    },
    {
     "name": "stderr",
     "output_type": "stream",
     "text": [
      "Building shuffle matrix: 100%|██████████| 63/63 [00:02<00:00, 29.16it/s] \n",
      "Computing variances: 100%|██████████| 6/6 [00:00<00:00, 3642.47it/s]\n",
      "Computing variances:   0%|          | 0/26 [00:00<?, ?it/s]"
     ]
    },
    {
     "name": "stdout",
     "output_type": "stream",
     "text": [
      "Done.\n"
     ]
    },
    {
     "name": "stderr",
     "output_type": "stream",
     "text": [
      "Computing variances: 100%|██████████| 26/26 [00:00<00:00, 4991.39it/s]\n",
      "Computing signatures: 100%|██████████| 24/24 [00:00<00:00, 281.43it/s]\n",
      "Building shuffle matrix:  27%|██▋       | 17/63 [00:00<00:00, 150.29it/s]"
     ]
    },
    {
     "name": "stdout",
     "output_type": "stream",
     "text": [
      "Preparing...\n"
     ]
    },
    {
     "name": "stderr",
     "output_type": "stream",
     "text": [
      "Building shuffle matrix: 100%|██████████| 63/63 [00:02<00:00, 29.51it/s] \n",
      "Computing variances: 100%|██████████| 6/6 [00:00<00:00, 3671.70it/s]"
     ]
    },
    {
     "name": "stdout",
     "output_type": "stream",
     "text": [
      "Done.\n"
     ]
    },
    {
     "name": "stderr",
     "output_type": "stream",
     "text": [
      "\n",
      "Computing variances: 100%|██████████| 26/26 [00:00<00:00, 5121.01it/s]\n",
      "Computing signatures: 100%|██████████| 24/24 [00:00<00:00, 279.87it/s]\n",
      "Building shuffle matrix:   0%|          | 0/63 [00:00<?, ?it/s]"
     ]
    },
    {
     "name": "stdout",
     "output_type": "stream",
     "text": [
      "Preparing...\n"
     ]
    },
    {
     "name": "stderr",
     "output_type": "stream",
     "text": [
      "Building shuffle matrix: 100%|██████████| 63/63 [00:02<00:00, 28.97it/s] \n",
      "Computing variances: 100%|██████████| 6/6 [00:00<00:00, 1986.25it/s]\n",
      "Computing variances: 100%|██████████| 26/26 [00:00<00:00, 4517.85it/s]"
     ]
    },
    {
     "name": "stdout",
     "output_type": "stream",
     "text": [
      "Done.\n"
     ]
    },
    {
     "name": "stderr",
     "output_type": "stream",
     "text": [
      "\n",
      "Computing signatures: 100%|██████████| 24/24 [00:00<00:00, 282.60it/s]\n",
      "Building shuffle matrix:   0%|          | 0/63 [00:00<?, ?it/s]"
     ]
    },
    {
     "name": "stdout",
     "output_type": "stream",
     "text": [
      "Preparing...\n"
     ]
    },
    {
     "name": "stderr",
     "output_type": "stream",
     "text": [
      "Building shuffle matrix: 100%|██████████| 63/63 [00:02<00:00, 28.41it/s] \n",
      "Computing variances: 100%|██████████| 6/6 [00:00<00:00, 3136.32it/s]\n"
     ]
    },
    {
     "name": "stdout",
     "output_type": "stream",
     "text": [
      "Done.\n"
     ]
    },
    {
     "name": "stderr",
     "output_type": "stream",
     "text": [
      "Computing variances: 100%|██████████| 26/26 [00:00<00:00, 4565.52it/s]\n",
      "Computing signatures: 100%|██████████| 24/24 [00:00<00:00, 270.69it/s]\n",
      "Building shuffle matrix:   0%|          | 0/63 [00:00<?, ?it/s]"
     ]
    },
    {
     "name": "stdout",
     "output_type": "stream",
     "text": [
      "Preparing...\n"
     ]
    },
    {
     "name": "stderr",
     "output_type": "stream",
     "text": [
      "Building shuffle matrix: 100%|██████████| 63/63 [00:02<00:00, 28.94it/s] \n",
      "Computing variances: 100%|██████████| 6/6 [00:00<00:00, 2017.95it/s]\n",
      "Computing variances: 100%|██████████| 26/26 [00:00<00:00, 5767.50it/s]"
     ]
    },
    {
     "name": "stdout",
     "output_type": "stream",
     "text": [
      "Done.\n",
      "Preparing..."
     ]
    },
    {
     "name": "stderr",
     "output_type": "stream",
     "text": [
      "\n",
      "Computing signatures: 100%|██████████| 24/24 [00:00<00:00, 273.46it/s]\n",
      "Building shuffle matrix: 100%|██████████| 63/63 [00:02<00:00, 28.80it/s] \n",
      "Computing variances: 100%|██████████| 6/6 [00:00<00:00, 3210.34it/s]\n",
      "Computing variances:   0%|          | 0/26 [00:00<?, ?it/s]"
     ]
    },
    {
     "name": "stdout",
     "output_type": "stream",
     "text": [
      "\n",
      "Done.\n"
     ]
    },
    {
     "name": "stderr",
     "output_type": "stream",
     "text": [
      "Computing variances: 100%|██████████| 26/26 [00:00<00:00, 4084.80it/s]\n",
      "Computing signatures: 100%|██████████| 123/123 [00:00<00:00, 853.05it/s]\n",
      "Building shuffle matrix:   0%|          | 0/63 [00:00<?, ?it/s]"
     ]
    },
    {
     "name": "stdout",
     "output_type": "stream",
     "text": [
      "Preparing...\n"
     ]
    },
    {
     "name": "stderr",
     "output_type": "stream",
     "text": [
      "Building shuffle matrix: 100%|██████████| 63/63 [00:02<00:00, 28.85it/s] \n",
      "Computing variances: 100%|██████████| 13/13 [00:00<00:00, 3076.22it/s]"
     ]
    },
    {
     "name": "stdout",
     "output_type": "stream",
     "text": [
      "Done.\n"
     ]
    },
    {
     "name": "stderr",
     "output_type": "stream",
     "text": [
      "\n",
      "Computing variances: 100%|██████████| 64/64 [00:00<00:00, 5082.56it/s]\n",
      "Computing signatures: 100%|██████████| 123/123 [00:00<00:00, 841.84it/s]\n",
      "Building shuffle matrix:   0%|          | 0/63 [00:00<?, ?it/s]"
     ]
    },
    {
     "name": "stdout",
     "output_type": "stream",
     "text": [
      "Preparing...\n"
     ]
    },
    {
     "name": "stderr",
     "output_type": "stream",
     "text": [
      "Building shuffle matrix: 100%|██████████| 63/63 [00:02<00:00, 28.80it/s] \n",
      "Computing variances: 100%|██████████| 13/13 [00:00<00:00, 3207.60it/s]"
     ]
    },
    {
     "name": "stdout",
     "output_type": "stream",
     "text": [
      "Done.\n"
     ]
    },
    {
     "name": "stderr",
     "output_type": "stream",
     "text": [
      "\n",
      "Computing variances: 100%|██████████| 64/64 [00:00<00:00, 5558.36it/s]\n",
      "Computing signatures: 100%|██████████| 123/123 [00:00<00:00, 827.18it/s]\n",
      "Building shuffle matrix:   0%|          | 0/63 [00:00<?, ?it/s]"
     ]
    },
    {
     "name": "stdout",
     "output_type": "stream",
     "text": [
      "Preparing...\n"
     ]
    },
    {
     "name": "stderr",
     "output_type": "stream",
     "text": [
      "Building shuffle matrix: 100%|██████████| 63/63 [00:02<00:00, 29.59it/s] \n",
      "Computing variances: 100%|██████████| 13/13 [00:00<00:00, 3802.37it/s]"
     ]
    },
    {
     "name": "stdout",
     "output_type": "stream",
     "text": [
      "Done.\n"
     ]
    },
    {
     "name": "stderr",
     "output_type": "stream",
     "text": [
      "\n",
      "Computing variances: 100%|██████████| 64/64 [00:00<00:00, 5977.99it/s]\n",
      "Computing signatures: 100%|██████████| 123/123 [00:00<00:00, 812.75it/s]\n",
      "Building shuffle matrix:   0%|          | 0/63 [00:00<?, ?it/s]"
     ]
    },
    {
     "name": "stdout",
     "output_type": "stream",
     "text": [
      "Preparing...\n"
     ]
    },
    {
     "name": "stderr",
     "output_type": "stream",
     "text": [
      "Building shuffle matrix: 100%|██████████| 63/63 [00:02<00:00, 28.60it/s] \n",
      "Computing variances: 100%|██████████| 13/13 [00:00<00:00, 4134.83it/s]"
     ]
    },
    {
     "name": "stdout",
     "output_type": "stream",
     "text": [
      "Done.\n"
     ]
    },
    {
     "name": "stderr",
     "output_type": "stream",
     "text": [
      "\n",
      "Computing variances: 100%|██████████| 64/64 [00:00<00:00, 5820.37it/s]\n",
      "Computing signatures: 100%|██████████| 123/123 [00:00<00:00, 844.71it/s]\n",
      "Building shuffle matrix:   0%|          | 0/63 [00:00<?, ?it/s]"
     ]
    },
    {
     "name": "stdout",
     "output_type": "stream",
     "text": [
      "Preparing...\n"
     ]
    },
    {
     "name": "stderr",
     "output_type": "stream",
     "text": [
      "Building shuffle matrix: 100%|██████████| 63/63 [00:02<00:00, 28.10it/s] \n",
      "Computing variances: 100%|██████████| 13/13 [00:00<00:00, 3636.28it/s]"
     ]
    },
    {
     "name": "stdout",
     "output_type": "stream",
     "text": [
      "Done.\n"
     ]
    },
    {
     "name": "stderr",
     "output_type": "stream",
     "text": [
      "\n",
      "Computing variances: 100%|██████████| 64/64 [00:00<00:00, 5968.95it/s]\n",
      "Computing signatures: 100%|██████████| 123/123 [00:00<00:00, 846.13it/s]\n",
      "Building shuffle matrix:   0%|          | 0/63 [00:00<?, ?it/s]"
     ]
    },
    {
     "name": "stdout",
     "output_type": "stream",
     "text": [
      "Preparing...\n"
     ]
    },
    {
     "name": "stderr",
     "output_type": "stream",
     "text": [
      "Building shuffle matrix: 100%|██████████| 63/63 [00:02<00:00, 29.50it/s] \n",
      "Computing variances: 100%|██████████| 13/13 [00:00<00:00, 3556.81it/s]"
     ]
    },
    {
     "name": "stdout",
     "output_type": "stream",
     "text": [
      "Done.\n"
     ]
    },
    {
     "name": "stderr",
     "output_type": "stream",
     "text": [
      "\n",
      "Computing variances: 100%|██████████| 64/64 [00:00<00:00, 4269.01it/s]\n",
      "Computing signatures: 100%|██████████| 123/123 [00:00<00:00, 831.81it/s]\n",
      "Building shuffle matrix:   0%|          | 0/63 [00:00<?, ?it/s]"
     ]
    },
    {
     "name": "stdout",
     "output_type": "stream",
     "text": [
      "Preparing...\n"
     ]
    },
    {
     "name": "stderr",
     "output_type": "stream",
     "text": [
      "Building shuffle matrix: 100%|██████████| 63/63 [00:02<00:00, 29.01it/s] \n",
      "Computing variances: 100%|██████████| 13/13 [00:00<00:00, 3343.51it/s]"
     ]
    },
    {
     "name": "stdout",
     "output_type": "stream",
     "text": [
      "Done.\n"
     ]
    },
    {
     "name": "stderr",
     "output_type": "stream",
     "text": [
      "\n",
      "Computing variances: 100%|██████████| 64/64 [00:00<00:00, 5430.18it/s]\n",
      "Computing signatures: 100%|██████████| 123/123 [00:00<00:00, 829.94it/s]\n",
      "Building shuffle matrix:   0%|          | 0/63 [00:00<?, ?it/s]"
     ]
    },
    {
     "name": "stdout",
     "output_type": "stream",
     "text": [
      "Preparing...\n"
     ]
    },
    {
     "name": "stderr",
     "output_type": "stream",
     "text": [
      "Building shuffle matrix: 100%|██████████| 63/63 [00:02<00:00, 28.73it/s] \n",
      "Computing variances: 100%|██████████| 13/13 [00:00<00:00, 3513.50it/s]"
     ]
    },
    {
     "name": "stdout",
     "output_type": "stream",
     "text": [
      "Done.\n"
     ]
    },
    {
     "name": "stderr",
     "output_type": "stream",
     "text": [
      "\n",
      "Computing variances: 100%|██████████| 64/64 [00:00<00:00, 5972.40it/s]\n",
      "Computing signatures: 100%|██████████| 123/123 [00:00<00:00, 765.99it/s]\n",
      "Building shuffle matrix:   0%|          | 0/63 [00:00<?, ?it/s]"
     ]
    },
    {
     "name": "stdout",
     "output_type": "stream",
     "text": [
      "Preparing...\n"
     ]
    },
    {
     "name": "stderr",
     "output_type": "stream",
     "text": [
      "Building shuffle matrix: 100%|██████████| 63/63 [00:02<00:00, 29.31it/s] \n",
      "Computing variances: 100%|██████████| 13/13 [00:00<00:00, 3750.58it/s]"
     ]
    },
    {
     "name": "stdout",
     "output_type": "stream",
     "text": [
      "Done.\n"
     ]
    },
    {
     "name": "stderr",
     "output_type": "stream",
     "text": [
      "\n",
      "Computing variances: 100%|██████████| 64/64 [00:00<00:00, 5922.72it/s]\n",
      "Computing signatures: 100%|██████████| 123/123 [00:00<00:00, 740.46it/s]\n",
      "Building shuffle matrix:   0%|          | 0/63 [00:00<?, ?it/s]"
     ]
    },
    {
     "name": "stdout",
     "output_type": "stream",
     "text": [
      "Preparing...\n"
     ]
    },
    {
     "name": "stderr",
     "output_type": "stream",
     "text": [
      "Building shuffle matrix: 100%|██████████| 63/63 [00:02<00:00, 29.91it/s] \n",
      "Computing variances: 100%|██████████| 13/13 [00:00<00:00, 3674.50it/s]"
     ]
    },
    {
     "name": "stdout",
     "output_type": "stream",
     "text": [
      "Done.\n"
     ]
    },
    {
     "name": "stderr",
     "output_type": "stream",
     "text": [
      "\n",
      "Computing variances: 100%|██████████| 64/64 [00:00<00:00, 6030.90it/s]\n",
      "Computing signatures:  31%|███       | 116/372 [00:00<00:00, 579.25it/s]"
     ]
    },
    {
     "name": "stdout",
     "output_type": "stream",
     "text": [
      "Preparing...\n"
     ]
    },
    {
     "name": "stderr",
     "output_type": "stream",
     "text": [
      "Computing signatures: 100%|██████████| 372/372 [00:00<00:00, 577.90it/s]\n",
      "Building shuffle matrix: 100%|██████████| 63/63 [00:02<00:00, 28.54it/s] \n",
      "Computing variances: 100%|██████████| 88/88 [00:00<00:00, 2670.93it/s]"
     ]
    },
    {
     "name": "stdout",
     "output_type": "stream",
     "text": [
      "Done.\n"
     ]
    },
    {
     "name": "stderr",
     "output_type": "stream",
     "text": [
      "\n",
      "Computing variances: 100%|██████████| 424/424 [00:00<00:00, 2561.89it/s]\n",
      "Computing signatures:  33%|███▎      | 121/372 [00:00<00:00, 599.03it/s]"
     ]
    },
    {
     "name": "stdout",
     "output_type": "stream",
     "text": [
      "Preparing...\n"
     ]
    },
    {
     "name": "stderr",
     "output_type": "stream",
     "text": [
      "Computing signatures: 100%|██████████| 372/372 [00:00<00:00, 575.93it/s]\n",
      "Building shuffle matrix: 100%|██████████| 63/63 [00:02<00:00, 29.44it/s] \n",
      "Computing variances: 100%|██████████| 88/88 [00:00<00:00, 2782.79it/s]"
     ]
    },
    {
     "name": "stdout",
     "output_type": "stream",
     "text": [
      "Done.\n"
     ]
    },
    {
     "name": "stderr",
     "output_type": "stream",
     "text": [
      "\n",
      "Computing variances: 100%|██████████| 424/424 [00:00<00:00, 2900.91it/s]\n",
      "Computing signatures:  29%|██▉       | 109/372 [00:00<00:00, 555.06it/s]"
     ]
    },
    {
     "name": "stdout",
     "output_type": "stream",
     "text": [
      "Preparing...\n"
     ]
    },
    {
     "name": "stderr",
     "output_type": "stream",
     "text": [
      "Computing signatures: 100%|██████████| 372/372 [00:00<00:00, 539.98it/s]\n",
      "Building shuffle matrix: 100%|██████████| 63/63 [00:02<00:00, 28.93it/s] \n",
      "Computing variances: 100%|██████████| 88/88 [00:00<00:00, 2787.75it/s]\n",
      "Computing variances:   0%|          | 0/424 [00:00<?, ?it/s]"
     ]
    },
    {
     "name": "stdout",
     "output_type": "stream",
     "text": [
      "Done.\n"
     ]
    },
    {
     "name": "stderr",
     "output_type": "stream",
     "text": [
      "Computing variances: 100%|██████████| 424/424 [00:00<00:00, 2911.61it/s]\n",
      "Computing signatures:  29%|██▉       | 108/372 [00:00<00:00, 549.45it/s]"
     ]
    },
    {
     "name": "stdout",
     "output_type": "stream",
     "text": [
      "Preparing...\n"
     ]
    },
    {
     "name": "stderr",
     "output_type": "stream",
     "text": [
      "Computing signatures: 100%|██████████| 372/372 [00:00<00:00, 569.45it/s]\n",
      "Building shuffle matrix: 100%|██████████| 63/63 [00:02<00:00, 29.39it/s] \n",
      "Computing variances: 100%|██████████| 88/88 [00:00<00:00, 2760.01it/s]"
     ]
    },
    {
     "name": "stdout",
     "output_type": "stream",
     "text": [
      "Done.\n"
     ]
    },
    {
     "name": "stderr",
     "output_type": "stream",
     "text": [
      "\n",
      "Computing variances: 100%|██████████| 424/424 [00:00<00:00, 2912.83it/s]\n",
      "Computing signatures:  30%|██▉       | 110/372 [00:00<00:00, 564.35it/s]"
     ]
    },
    {
     "name": "stdout",
     "output_type": "stream",
     "text": [
      "Preparing...\n"
     ]
    },
    {
     "name": "stderr",
     "output_type": "stream",
     "text": [
      "Computing signatures: 100%|██████████| 372/372 [00:00<00:00, 577.92it/s]\n",
      "Building shuffle matrix: 100%|██████████| 63/63 [00:02<00:00, 29.77it/s] \n",
      "Computing variances: 100%|██████████| 88/88 [00:00<00:00, 2780.87it/s]"
     ]
    },
    {
     "name": "stdout",
     "output_type": "stream",
     "text": [
      "Done.\n"
     ]
    },
    {
     "name": "stderr",
     "output_type": "stream",
     "text": [
      "\n",
      "Computing variances: 100%|██████████| 424/424 [00:00<00:00, 2927.96it/s]\n",
      "Computing signatures:  29%|██▉       | 108/372 [00:00<00:00, 555.23it/s]"
     ]
    },
    {
     "name": "stdout",
     "output_type": "stream",
     "text": [
      "Preparing...\n"
     ]
    },
    {
     "name": "stderr",
     "output_type": "stream",
     "text": [
      "Computing signatures: 100%|██████████| 372/372 [00:00<00:00, 577.09it/s]\n",
      "Building shuffle matrix: 100%|██████████| 63/63 [00:02<00:00, 28.45it/s] \n",
      "Computing variances: 100%|██████████| 88/88 [00:00<00:00, 2787.90it/s]"
     ]
    },
    {
     "name": "stdout",
     "output_type": "stream",
     "text": [
      "Done.\n"
     ]
    },
    {
     "name": "stderr",
     "output_type": "stream",
     "text": [
      "\n",
      "Computing variances: 100%|██████████| 424/424 [00:00<00:00, 2887.64it/s]\n",
      "Computing signatures:  29%|██▉       | 109/372 [00:00<00:00, 540.34it/s]"
     ]
    },
    {
     "name": "stdout",
     "output_type": "stream",
     "text": [
      "Preparing...\n"
     ]
    },
    {
     "name": "stderr",
     "output_type": "stream",
     "text": [
      "Computing signatures: 100%|██████████| 372/372 [00:00<00:00, 574.75it/s]\n",
      "Building shuffle matrix: 100%|██████████| 63/63 [00:02<00:00, 28.90it/s] \n",
      "Computing variances: 100%|██████████| 88/88 [00:00<00:00, 2761.91it/s]"
     ]
    },
    {
     "name": "stdout",
     "output_type": "stream",
     "text": [
      "Done.\n"
     ]
    },
    {
     "name": "stderr",
     "output_type": "stream",
     "text": [
      "\n",
      "Computing variances: 100%|██████████| 424/424 [00:00<00:00, 2920.01it/s]\n",
      "Computing signatures:  25%|██▌       | 94/372 [00:00<00:00, 453.56it/s]"
     ]
    },
    {
     "name": "stdout",
     "output_type": "stream",
     "text": [
      "Preparing...\n"
     ]
    },
    {
     "name": "stderr",
     "output_type": "stream",
     "text": [
      "Computing signatures: 100%|██████████| 372/372 [00:00<00:00, 554.30it/s]\n",
      "Building shuffle matrix: 100%|██████████| 63/63 [00:02<00:00, 29.97it/s] \n",
      "Computing variances: 100%|██████████| 88/88 [00:00<00:00, 2665.61it/s]"
     ]
    },
    {
     "name": "stdout",
     "output_type": "stream",
     "text": [
      "Done.\n"
     ]
    },
    {
     "name": "stderr",
     "output_type": "stream",
     "text": [
      "\n",
      "Computing variances: 100%|██████████| 424/424 [00:00<00:00, 2886.53it/s]\n",
      "Computing signatures:  13%|█▎        | 50/372 [00:00<00:00, 499.41it/s]"
     ]
    },
    {
     "name": "stdout",
     "output_type": "stream",
     "text": [
      "Preparing...\n"
     ]
    },
    {
     "name": "stderr",
     "output_type": "stream",
     "text": [
      "Computing signatures: 100%|██████████| 372/372 [00:00<00:00, 579.89it/s]\n",
      "Building shuffle matrix: 100%|██████████| 63/63 [00:02<00:00, 28.87it/s] \n",
      "Computing variances: 100%|██████████| 88/88 [00:00<00:00, 2767.83it/s]"
     ]
    },
    {
     "name": "stdout",
     "output_type": "stream",
     "text": [
      "Done.\n"
     ]
    },
    {
     "name": "stderr",
     "output_type": "stream",
     "text": [
      "\n",
      "Computing variances: 100%|██████████| 424/424 [00:00<00:00, 2862.52it/s]\n",
      "Computing signatures:  30%|██▉       | 111/372 [00:00<00:00, 535.65it/s]"
     ]
    },
    {
     "name": "stdout",
     "output_type": "stream",
     "text": [
      "Preparing...\n"
     ]
    },
    {
     "name": "stderr",
     "output_type": "stream",
     "text": [
      "Computing signatures: 100%|██████████| 372/372 [00:00<00:00, 576.73it/s]\n",
      "Building shuffle matrix: 100%|██████████| 63/63 [00:02<00:00, 29.00it/s] \n",
      "Computing variances: 100%|██████████| 88/88 [00:00<00:00, 2759.31it/s]"
     ]
    },
    {
     "name": "stdout",
     "output_type": "stream",
     "text": [
      "Done.\n"
     ]
    },
    {
     "name": "stderr",
     "output_type": "stream",
     "text": [
      "\n",
      "Computing variances: 100%|██████████| 424/424 [00:00<00:00, 2678.66it/s]\n",
      "Computing signatures: 100%|██████████| 24/24 [00:00<00:00, 227.34it/s]\n",
      "Building shuffle matrix:   0%|          | 0/63 [00:00<?, ?it/s]"
     ]
    },
    {
     "name": "stdout",
     "output_type": "stream",
     "text": [
      "Preparing...\n"
     ]
    },
    {
     "name": "stderr",
     "output_type": "stream",
     "text": [
      "Building shuffle matrix: 100%|██████████| 63/63 [00:02<00:00, 29.31it/s] \n",
      "Computing variances: 100%|██████████| 6/6 [00:00<00:00, 4842.38it/s]"
     ]
    },
    {
     "name": "stdout",
     "output_type": "stream",
     "text": [
      "Done.\n"
     ]
    },
    {
     "name": "stderr",
     "output_type": "stream",
     "text": [
      "\n",
      "Computing variances: 100%|██████████| 82/82 [00:00<00:00, 6536.41it/s]\n",
      "Computing signatures: 100%|██████████| 24/24 [00:00<00:00, 234.47it/s]\n",
      "Building shuffle matrix:   0%|          | 0/63 [00:00<?, ?it/s]"
     ]
    },
    {
     "name": "stdout",
     "output_type": "stream",
     "text": [
      "Preparing...\n"
     ]
    },
    {
     "name": "stderr",
     "output_type": "stream",
     "text": [
      "Building shuffle matrix: 100%|██████████| 63/63 [00:02<00:00, 29.56it/s] \n",
      "Computing variances: 100%|██████████| 6/6 [00:00<00:00, 2121.01it/s]"
     ]
    },
    {
     "name": "stdout",
     "output_type": "stream",
     "text": [
      "Done.\n"
     ]
    },
    {
     "name": "stderr",
     "output_type": "stream",
     "text": [
      "\n",
      "Computing variances: 100%|██████████| 82/82 [00:00<00:00, 5964.53it/s]\n",
      "Computing signatures: 100%|██████████| 24/24 [00:00<00:00, 194.38it/s]\n",
      "Building shuffle matrix:   0%|          | 0/63 [00:00<?, ?it/s]"
     ]
    },
    {
     "name": "stdout",
     "output_type": "stream",
     "text": [
      "Preparing...\n"
     ]
    },
    {
     "name": "stderr",
     "output_type": "stream",
     "text": [
      "Building shuffle matrix: 100%|██████████| 63/63 [00:02<00:00, 29.39it/s] \n",
      "Computing variances: 100%|██████████| 6/6 [00:00<00:00, 5021.11it/s]"
     ]
    },
    {
     "name": "stdout",
     "output_type": "stream",
     "text": [
      "Done.\n"
     ]
    },
    {
     "name": "stderr",
     "output_type": "stream",
     "text": [
      "\n",
      "Computing variances: 100%|██████████| 82/82 [00:00<00:00, 6207.39it/s]\n",
      "Computing signatures: 100%|██████████| 24/24 [00:00<00:00, 232.05it/s]\n",
      "Building shuffle matrix:   0%|          | 0/63 [00:00<?, ?it/s]"
     ]
    },
    {
     "name": "stdout",
     "output_type": "stream",
     "text": [
      "Preparing...\n"
     ]
    },
    {
     "name": "stderr",
     "output_type": "stream",
     "text": [
      "Building shuffle matrix: 100%|██████████| 63/63 [00:02<00:00, 29.53it/s] \n",
      "Computing variances: 100%|██████████| 6/6 [00:00<00:00, 4735.76it/s]"
     ]
    },
    {
     "name": "stdout",
     "output_type": "stream",
     "text": [
      "Done.\n"
     ]
    },
    {
     "name": "stderr",
     "output_type": "stream",
     "text": [
      "\n",
      "Computing variances: 100%|██████████| 82/82 [00:00<00:00, 6838.99it/s]\n",
      "Computing signatures: 100%|██████████| 24/24 [00:00<00:00, 231.05it/s]\n",
      "Building shuffle matrix:   0%|          | 0/63 [00:00<?, ?it/s]"
     ]
    },
    {
     "name": "stdout",
     "output_type": "stream",
     "text": [
      "Preparing...\n"
     ]
    },
    {
     "name": "stderr",
     "output_type": "stream",
     "text": [
      "Building shuffle matrix: 100%|██████████| 63/63 [00:02<00:00, 28.91it/s] \n",
      "Computing variances: 100%|██████████| 6/6 [00:00<00:00, 3556.50it/s]\n",
      "Computing variances:   0%|          | 0/82 [00:00<?, ?it/s]"
     ]
    },
    {
     "name": "stdout",
     "output_type": "stream",
     "text": [
      "Done.\n"
     ]
    },
    {
     "name": "stderr",
     "output_type": "stream",
     "text": [
      "Computing variances: 100%|██████████| 82/82 [00:00<00:00, 5484.59it/s]\n",
      "Computing signatures: 100%|██████████| 24/24 [00:00<00:00, 193.93it/s]\n",
      "Building shuffle matrix:   0%|          | 0/63 [00:00<?, ?it/s]"
     ]
    },
    {
     "name": "stdout",
     "output_type": "stream",
     "text": [
      "Preparing...\n"
     ]
    },
    {
     "name": "stderr",
     "output_type": "stream",
     "text": [
      "Building shuffle matrix: 100%|██████████| 63/63 [00:02<00:00, 30.11it/s] \n",
      "Computing variances: 100%|██████████| 6/6 [00:00<00:00, 4769.87it/s]\n",
      "Computing variances:   0%|          | 0/82 [00:00<?, ?it/s]"
     ]
    },
    {
     "name": "stdout",
     "output_type": "stream",
     "text": [
      "Done.\n"
     ]
    },
    {
     "name": "stderr",
     "output_type": "stream",
     "text": [
      "Computing variances: 100%|██████████| 82/82 [00:00<00:00, 5443.53it/s]\n",
      "Computing signatures: 100%|██████████| 24/24 [00:00<00:00, 230.24it/s]\n",
      "Building shuffle matrix:   0%|          | 0/63 [00:00<?, ?it/s]"
     ]
    },
    {
     "name": "stdout",
     "output_type": "stream",
     "text": [
      "Preparing...\n"
     ]
    },
    {
     "name": "stderr",
     "output_type": "stream",
     "text": [
      "Building shuffle matrix: 100%|██████████| 63/63 [00:02<00:00, 29.71it/s] \n",
      "Computing variances: 100%|██████████| 6/6 [00:00<00:00, 4611.66it/s]"
     ]
    },
    {
     "name": "stdout",
     "output_type": "stream",
     "text": [
      "Done.\n"
     ]
    },
    {
     "name": "stderr",
     "output_type": "stream",
     "text": [
      "\n",
      "Computing variances: 100%|██████████| 82/82 [00:00<00:00, 6238.58it/s]\n",
      "Computing signatures: 100%|██████████| 24/24 [00:00<00:00, 232.96it/s]\n",
      "Building shuffle matrix:   0%|          | 0/63 [00:00<?, ?it/s]"
     ]
    },
    {
     "name": "stdout",
     "output_type": "stream",
     "text": [
      "Preparing...\n"
     ]
    },
    {
     "name": "stderr",
     "output_type": "stream",
     "text": [
      "Building shuffle matrix: 100%|██████████| 63/63 [00:02<00:00, 28.75it/s] \n",
      "Computing variances: 100%|██████████| 6/6 [00:00<00:00, 2266.17it/s]"
     ]
    },
    {
     "name": "stdout",
     "output_type": "stream",
     "text": [
      "Done.\n"
     ]
    },
    {
     "name": "stderr",
     "output_type": "stream",
     "text": [
      "\n",
      "Computing variances: 100%|██████████| 82/82 [00:00<00:00, 6018.28it/s]\n",
      "Computing signatures: 100%|██████████| 24/24 [00:00<00:00, 203.60it/s]\n",
      "Building shuffle matrix:   0%|          | 0/63 [00:00<?, ?it/s]"
     ]
    },
    {
     "name": "stdout",
     "output_type": "stream",
     "text": [
      "Preparing...\n"
     ]
    },
    {
     "name": "stderr",
     "output_type": "stream",
     "text": [
      "Building shuffle matrix: 100%|██████████| 63/63 [00:02<00:00, 28.13it/s] \n",
      "Computing variances: 100%|██████████| 6/6 [00:00<00:00, 3367.12it/s]"
     ]
    },
    {
     "name": "stdout",
     "output_type": "stream",
     "text": [
      "Done.\n"
     ]
    },
    {
     "name": "stderr",
     "output_type": "stream",
     "text": [
      "\n",
      "Computing variances: 100%|██████████| 82/82 [00:00<00:00, 5477.95it/s]\n",
      "Computing signatures: 100%|██████████| 24/24 [00:00<00:00, 229.51it/s]\n",
      "Building shuffle matrix:   0%|          | 0/63 [00:00<?, ?it/s]"
     ]
    },
    {
     "name": "stdout",
     "output_type": "stream",
     "text": [
      "Preparing...\n"
     ]
    },
    {
     "name": "stderr",
     "output_type": "stream",
     "text": [
      "Building shuffle matrix: 100%|██████████| 63/63 [00:02<00:00, 28.86it/s] \n",
      "Computing variances: 100%|██████████| 6/6 [00:00<00:00, 3162.73it/s]"
     ]
    },
    {
     "name": "stdout",
     "output_type": "stream",
     "text": [
      "Done.\n"
     ]
    },
    {
     "name": "stderr",
     "output_type": "stream",
     "text": [
      "\n",
      "Computing variances: 100%|██████████| 82/82 [00:00<00:00, 6354.54it/s]\n",
      "Computing signatures: 100%|██████████| 84/84 [00:00<00:00, 546.07it/s]\n",
      "Building shuffle matrix:   0%|          | 0/63 [00:00<?, ?it/s]"
     ]
    },
    {
     "name": "stdout",
     "output_type": "stream",
     "text": [
      "Preparing...\n"
     ]
    },
    {
     "name": "stderr",
     "output_type": "stream",
     "text": [
      "Building shuffle matrix: 100%|██████████| 63/63 [00:02<00:00, 28.96it/s] \n",
      "Computing variances: 100%|██████████| 20/20 [00:00<00:00, 3379.51it/s]\n",
      "Computing variances:   0%|          | 0/96 [00:00<?, ?it/s]"
     ]
    },
    {
     "name": "stdout",
     "output_type": "stream",
     "text": [
      "Done.\n"
     ]
    },
    {
     "name": "stderr",
     "output_type": "stream",
     "text": [
      "Computing variances: 100%|██████████| 96/96 [00:00<00:00, 6157.34it/s]\n",
      "Computing signatures: 100%|██████████| 84/84 [00:00<00:00, 530.92it/s]\n",
      "Building shuffle matrix:   0%|          | 0/63 [00:00<?, ?it/s]"
     ]
    },
    {
     "name": "stdout",
     "output_type": "stream",
     "text": [
      "Preparing...\n"
     ]
    },
    {
     "name": "stderr",
     "output_type": "stream",
     "text": [
      "Building shuffle matrix: 100%|██████████| 63/63 [00:02<00:00, 29.24it/s] \n",
      "Computing variances: 100%|██████████| 20/20 [00:00<00:00, 3393.72it/s]"
     ]
    },
    {
     "name": "stdout",
     "output_type": "stream",
     "text": [
      "Done.\n"
     ]
    },
    {
     "name": "stderr",
     "output_type": "stream",
     "text": [
      "\n",
      "Computing variances: 100%|██████████| 96/96 [00:00<00:00, 7185.62it/s]\n",
      "Computing signatures: 100%|██████████| 84/84 [00:00<00:00, 538.91it/s]\n",
      "Building shuffle matrix:   0%|          | 0/63 [00:00<?, ?it/s]"
     ]
    },
    {
     "name": "stdout",
     "output_type": "stream",
     "text": [
      "Preparing...\n"
     ]
    },
    {
     "name": "stderr",
     "output_type": "stream",
     "text": [
      "Building shuffle matrix: 100%|██████████| 63/63 [00:02<00:00, 28.68it/s] \n",
      "Computing variances: 100%|██████████| 20/20 [00:00<00:00, 3583.65it/s]\n",
      "Computing variances:   0%|          | 0/96 [00:00<?, ?it/s]"
     ]
    },
    {
     "name": "stdout",
     "output_type": "stream",
     "text": [
      "Done.\n"
     ]
    },
    {
     "name": "stderr",
     "output_type": "stream",
     "text": [
      "Computing variances: 100%|██████████| 96/96 [00:00<00:00, 6987.72it/s]\n",
      "Computing signatures: 100%|██████████| 84/84 [00:00<00:00, 535.27it/s]\n",
      "Building shuffle matrix:   0%|          | 0/63 [00:00<?, ?it/s]"
     ]
    },
    {
     "name": "stdout",
     "output_type": "stream",
     "text": [
      "Preparing...\n"
     ]
    },
    {
     "name": "stderr",
     "output_type": "stream",
     "text": [
      "Building shuffle matrix: 100%|██████████| 63/63 [00:02<00:00, 29.02it/s] \n",
      "Computing variances: 100%|██████████| 20/20 [00:00<00:00, 3622.49it/s]"
     ]
    },
    {
     "name": "stdout",
     "output_type": "stream",
     "text": [
      "Done.\n"
     ]
    },
    {
     "name": "stderr",
     "output_type": "stream",
     "text": [
      "\n",
      "Computing variances: 100%|██████████| 96/96 [00:00<00:00, 7282.17it/s]\n",
      "Computing signatures: 100%|██████████| 84/84 [00:00<00:00, 540.29it/s]\n",
      "Building shuffle matrix:   0%|          | 0/63 [00:00<?, ?it/s]"
     ]
    },
    {
     "name": "stdout",
     "output_type": "stream",
     "text": [
      "Preparing...\n"
     ]
    },
    {
     "name": "stderr",
     "output_type": "stream",
     "text": [
      "Building shuffle matrix: 100%|██████████| 63/63 [00:02<00:00, 29.67it/s] \n",
      "Computing variances: 100%|██████████| 20/20 [00:00<00:00, 4371.34it/s]"
     ]
    },
    {
     "name": "stdout",
     "output_type": "stream",
     "text": [
      "Done.\n"
     ]
    },
    {
     "name": "stderr",
     "output_type": "stream",
     "text": [
      "\n",
      "Computing variances: 100%|██████████| 96/96 [00:00<00:00, 6741.56it/s]\n",
      "Computing signatures: 100%|██████████| 84/84 [00:00<00:00, 543.96it/s]\n",
      "Building shuffle matrix:   0%|          | 0/63 [00:00<?, ?it/s]"
     ]
    },
    {
     "name": "stdout",
     "output_type": "stream",
     "text": [
      "Preparing...\n"
     ]
    },
    {
     "name": "stderr",
     "output_type": "stream",
     "text": [
      "Building shuffle matrix: 100%|██████████| 63/63 [00:02<00:00, 28.92it/s] \n",
      "Computing variances: 100%|██████████| 20/20 [00:00<00:00, 4802.82it/s]"
     ]
    },
    {
     "name": "stdout",
     "output_type": "stream",
     "text": [
      "Done.\n"
     ]
    },
    {
     "name": "stderr",
     "output_type": "stream",
     "text": [
      "\n",
      "Computing variances: 100%|██████████| 96/96 [00:00<00:00, 6829.72it/s]\n",
      "Computing signatures: 100%|██████████| 84/84 [00:00<00:00, 540.82it/s]\n",
      "Building shuffle matrix:   0%|          | 0/63 [00:00<?, ?it/s]"
     ]
    },
    {
     "name": "stdout",
     "output_type": "stream",
     "text": [
      "Preparing...\n"
     ]
    },
    {
     "name": "stderr",
     "output_type": "stream",
     "text": [
      "Building shuffle matrix: 100%|██████████| 63/63 [00:02<00:00, 28.94it/s] \n",
      "Computing variances: 100%|██████████| 20/20 [00:00<00:00, 4739.33it/s]"
     ]
    },
    {
     "name": "stdout",
     "output_type": "stream",
     "text": [
      "Done.\n"
     ]
    },
    {
     "name": "stderr",
     "output_type": "stream",
     "text": [
      "\n",
      "Computing variances: 100%|██████████| 96/96 [00:00<00:00, 6914.28it/s]\n",
      "Computing signatures: 100%|██████████| 84/84 [00:00<00:00, 544.97it/s]\n",
      "Building shuffle matrix:   0%|          | 0/63 [00:00<?, ?it/s]"
     ]
    },
    {
     "name": "stdout",
     "output_type": "stream",
     "text": [
      "Preparing...\n"
     ]
    },
    {
     "name": "stderr",
     "output_type": "stream",
     "text": [
      "Building shuffle matrix: 100%|██████████| 63/63 [00:02<00:00, 29.33it/s] \n",
      "Computing variances: 100%|██████████| 20/20 [00:00<00:00, 5098.22it/s]"
     ]
    },
    {
     "name": "stdout",
     "output_type": "stream",
     "text": [
      "Done.\n"
     ]
    },
    {
     "name": "stderr",
     "output_type": "stream",
     "text": [
      "\n",
      "Computing variances: 100%|██████████| 96/96 [00:00<00:00, 6558.72it/s]\n",
      "Computing signatures: 100%|██████████| 84/84 [00:00<00:00, 538.73it/s]\n",
      "Building shuffle matrix:   0%|          | 0/63 [00:00<?, ?it/s]"
     ]
    },
    {
     "name": "stdout",
     "output_type": "stream",
     "text": [
      "Preparing...\n"
     ]
    },
    {
     "name": "stderr",
     "output_type": "stream",
     "text": [
      "Building shuffle matrix: 100%|██████████| 63/63 [00:02<00:00, 28.18it/s] \n",
      "Computing variances: 100%|██████████| 20/20 [00:00<00:00, 4725.71it/s]"
     ]
    },
    {
     "name": "stdout",
     "output_type": "stream",
     "text": [
      "Done.\n"
     ]
    },
    {
     "name": "stderr",
     "output_type": "stream",
     "text": [
      "\n",
      "Computing variances: 100%|██████████| 96/96 [00:00<00:00, 7164.26it/s]\n",
      "Computing signatures: 100%|██████████| 84/84 [00:00<00:00, 522.45it/s]\n",
      "Building shuffle matrix:   0%|          | 0/63 [00:00<?, ?it/s]"
     ]
    },
    {
     "name": "stdout",
     "output_type": "stream",
     "text": [
      "Preparing...\n"
     ]
    },
    {
     "name": "stderr",
     "output_type": "stream",
     "text": [
      "Building shuffle matrix: 100%|██████████| 63/63 [00:02<00:00, 29.78it/s] \n",
      "Computing variances: 100%|██████████| 20/20 [00:00<00:00, 5077.54it/s]"
     ]
    },
    {
     "name": "stdout",
     "output_type": "stream",
     "text": [
      "Done.\n"
     ]
    },
    {
     "name": "stderr",
     "output_type": "stream",
     "text": [
      "\n",
      "Computing variances: 100%|██████████| 96/96 [00:00<00:00, 6870.98it/s]\n",
      "Computing signatures:  21%|██        | 18/86 [00:00<00:00, 175.84it/s]"
     ]
    },
    {
     "name": "stdout",
     "output_type": "stream",
     "text": [
      "Preparing...\n"
     ]
    },
    {
     "name": "stderr",
     "output_type": "stream",
     "text": [
      "Computing signatures: 100%|██████████| 86/86 [00:00<00:00, 178.67it/s]\n",
      "Building shuffle matrix: 100%|██████████| 63/63 [00:02<00:00, 29.17it/s] \n"
     ]
    },
    {
     "name": "stdout",
     "output_type": "stream",
     "text": [
      "Done.\n"
     ]
    },
    {
     "name": "stderr",
     "output_type": "stream",
     "text": [
      "Computing variances: 100%|██████████| 21/21 [00:00<00:00, 3012.12it/s]\n",
      "Computing variances: 100%|██████████| 107/107 [00:00<00:00, 4424.24it/s]\n",
      "Computing signatures:  22%|██▏       | 19/86 [00:00<00:00, 184.57it/s]"
     ]
    },
    {
     "name": "stdout",
     "output_type": "stream",
     "text": [
      "Preparing...\n"
     ]
    },
    {
     "name": "stderr",
     "output_type": "stream",
     "text": [
      "Computing signatures: 100%|██████████| 86/86 [00:00<00:00, 165.09it/s]\n",
      "Building shuffle matrix: 100%|██████████| 63/63 [00:02<00:00, 28.67it/s] \n"
     ]
    },
    {
     "name": "stdout",
     "output_type": "stream",
     "text": [
      "Done.\n"
     ]
    },
    {
     "name": "stderr",
     "output_type": "stream",
     "text": [
      "Computing variances: 100%|██████████| 21/21 [00:00<00:00, 3679.06it/s]\n",
      "Computing variances: 100%|██████████| 107/107 [00:00<00:00, 4411.85it/s]\n",
      "Computing signatures:  23%|██▎       | 20/86 [00:00<00:00, 190.46it/s]"
     ]
    },
    {
     "name": "stdout",
     "output_type": "stream",
     "text": [
      "Preparing...\n"
     ]
    },
    {
     "name": "stderr",
     "output_type": "stream",
     "text": [
      "Computing signatures: 100%|██████████| 86/86 [00:00<00:00, 177.86it/s]\n",
      "Building shuffle matrix: 100%|██████████| 63/63 [00:02<00:00, 29.51it/s] \n"
     ]
    },
    {
     "name": "stdout",
     "output_type": "stream",
     "text": [
      "Done.\n"
     ]
    },
    {
     "name": "stderr",
     "output_type": "stream",
     "text": [
      "Computing variances: 100%|██████████| 21/21 [00:00<00:00, 3600.85it/s]\n",
      "Computing variances: 100%|██████████| 107/107 [00:00<00:00, 4186.71it/s]\n",
      "Computing signatures:  22%|██▏       | 19/86 [00:00<00:00, 188.50it/s]"
     ]
    },
    {
     "name": "stdout",
     "output_type": "stream",
     "text": [
      "Preparing...\n"
     ]
    },
    {
     "name": "stderr",
     "output_type": "stream",
     "text": [
      "Computing signatures: 100%|██████████| 86/86 [00:00<00:00, 167.01it/s]\n",
      "Building shuffle matrix: 100%|██████████| 63/63 [00:02<00:00, 29.09it/s] \n"
     ]
    },
    {
     "name": "stdout",
     "output_type": "stream",
     "text": [
      "Done.\n"
     ]
    },
    {
     "name": "stderr",
     "output_type": "stream",
     "text": [
      "Computing variances: 100%|██████████| 21/21 [00:00<00:00, 3606.16it/s]\n",
      "Computing variances: 100%|██████████| 107/107 [00:00<00:00, 4417.97it/s]\n",
      "Computing signatures:  45%|████▌     | 39/86 [00:00<00:00, 190.00it/s]"
     ]
    },
    {
     "name": "stdout",
     "output_type": "stream",
     "text": [
      "Preparing...\n"
     ]
    },
    {
     "name": "stderr",
     "output_type": "stream",
     "text": [
      "Computing signatures: 100%|██████████| 86/86 [00:00<00:00, 180.69it/s]\n",
      "Building shuffle matrix: 100%|██████████| 63/63 [00:02<00:00, 29.82it/s] \n"
     ]
    },
    {
     "name": "stdout",
     "output_type": "stream",
     "text": [
      "Done.\n"
     ]
    },
    {
     "name": "stderr",
     "output_type": "stream",
     "text": [
      "Computing variances: 100%|██████████| 21/21 [00:00<00:00, 2670.40it/s]\n",
      "Computing variances: 100%|██████████| 107/107 [00:00<00:00, 3959.16it/s]\n",
      "Computing signatures:  23%|██▎       | 20/86 [00:00<00:00, 190.09it/s]"
     ]
    },
    {
     "name": "stdout",
     "output_type": "stream",
     "text": [
      "Preparing...\n"
     ]
    },
    {
     "name": "stderr",
     "output_type": "stream",
     "text": [
      "Computing signatures: 100%|██████████| 86/86 [00:00<00:00, 185.38it/s]\n",
      "Building shuffle matrix: 100%|██████████| 63/63 [00:02<00:00, 28.07it/s] \n"
     ]
    },
    {
     "name": "stdout",
     "output_type": "stream",
     "text": [
      "Done.\n"
     ]
    },
    {
     "name": "stderr",
     "output_type": "stream",
     "text": [
      "Computing variances: 100%|██████████| 21/21 [00:00<00:00, 3571.50it/s]\n",
      "Computing variances: 100%|██████████| 107/107 [00:00<00:00, 4331.29it/s]\n",
      "Computing signatures:  42%|████▏     | 36/86 [00:00<00:00, 172.18it/s]"
     ]
    },
    {
     "name": "stdout",
     "output_type": "stream",
     "text": [
      "Preparing...\n"
     ]
    },
    {
     "name": "stderr",
     "output_type": "stream",
     "text": [
      "Computing signatures: 100%|██████████| 86/86 [00:00<00:00, 181.43it/s]\n",
      "Building shuffle matrix: 100%|██████████| 63/63 [00:02<00:00, 29.77it/s] \n"
     ]
    },
    {
     "name": "stdout",
     "output_type": "stream",
     "text": [
      "Done.\n"
     ]
    },
    {
     "name": "stderr",
     "output_type": "stream",
     "text": [
      "Computing variances: 100%|██████████| 21/21 [00:00<00:00, 3336.50it/s]\n",
      "Computing variances: 100%|██████████| 107/107 [00:00<00:00, 4408.51it/s]\n",
      "Computing signatures:  44%|████▍     | 38/86 [00:00<00:00, 189.06it/s]"
     ]
    },
    {
     "name": "stdout",
     "output_type": "stream",
     "text": [
      "Preparing...\n"
     ]
    },
    {
     "name": "stderr",
     "output_type": "stream",
     "text": [
      "Computing signatures: 100%|██████████| 86/86 [00:00<00:00, 187.27it/s]\n",
      "Building shuffle matrix: 100%|██████████| 63/63 [00:02<00:00, 28.58it/s] \n"
     ]
    },
    {
     "name": "stdout",
     "output_type": "stream",
     "text": [
      "Done.\n"
     ]
    },
    {
     "name": "stderr",
     "output_type": "stream",
     "text": [
      "Computing variances: 100%|██████████| 21/21 [00:00<00:00, 3478.14it/s]\n",
      "Computing variances: 100%|██████████| 107/107 [00:00<00:00, 4402.24it/s]\n",
      "Computing signatures:  43%|████▎     | 37/86 [00:00<00:00, 179.48it/s]"
     ]
    },
    {
     "name": "stdout",
     "output_type": "stream",
     "text": [
      "Preparing...\n"
     ]
    },
    {
     "name": "stderr",
     "output_type": "stream",
     "text": [
      "Computing signatures: 100%|██████████| 86/86 [00:00<00:00, 185.57it/s]\n",
      "Building shuffle matrix: 100%|██████████| 63/63 [00:02<00:00, 29.70it/s] \n"
     ]
    },
    {
     "name": "stdout",
     "output_type": "stream",
     "text": [
      "Done.\n"
     ]
    },
    {
     "name": "stderr",
     "output_type": "stream",
     "text": [
      "Computing variances: 100%|██████████| 21/21 [00:00<00:00, 3425.25it/s]\n",
      "Computing variances: 100%|██████████| 107/107 [00:00<00:00, 4432.85it/s]\n",
      "Computing signatures:  45%|████▌     | 39/86 [00:00<00:00, 189.26it/s]"
     ]
    },
    {
     "name": "stdout",
     "output_type": "stream",
     "text": [
      "Preparing...\n"
     ]
    },
    {
     "name": "stderr",
     "output_type": "stream",
     "text": [
      "Computing signatures: 100%|██████████| 86/86 [00:00<00:00, 187.26it/s]\n",
      "Building shuffle matrix: 100%|██████████| 63/63 [00:02<00:00, 28.57it/s] \n"
     ]
    },
    {
     "name": "stdout",
     "output_type": "stream",
     "text": [
      "Done.\n"
     ]
    },
    {
     "name": "stderr",
     "output_type": "stream",
     "text": [
      "Computing variances: 100%|██████████| 21/21 [00:00<00:00, 3433.00it/s]\n",
      "Computing variances: 100%|██████████| 107/107 [00:00<00:00, 4386.66it/s]\n",
      "Computing signatures:  49%|████▉     | 32/65 [00:00<00:00, 159.11it/s]"
     ]
    },
    {
     "name": "stdout",
     "output_type": "stream",
     "text": [
      "Preparing...\n"
     ]
    },
    {
     "name": "stderr",
     "output_type": "stream",
     "text": [
      "Computing signatures: 100%|██████████| 65/65 [00:00<00:00, 150.62it/s]\n",
      "Building shuffle matrix: 100%|██████████| 63/63 [00:02<00:00, 28.59it/s] \n",
      "Computing variances: 100%|██████████| 15/15 [00:00<00:00, 3480.37it/s]\n",
      "Computing variances: 100%|██████████| 48/48 [00:00<00:00, 3967.26it/s]\n",
      "Computing signatures:  48%|████▊     | 31/65 [00:00<00:00, 149.76it/s]"
     ]
    },
    {
     "name": "stdout",
     "output_type": "stream",
     "text": [
      "Done.\n",
      "Preparing...\n"
     ]
    },
    {
     "name": "stderr",
     "output_type": "stream",
     "text": [
      "Computing signatures: 100%|██████████| 65/65 [00:00<00:00, 152.77it/s]\n",
      "Building shuffle matrix: 100%|██████████| 63/63 [00:02<00:00, 29.13it/s] \n",
      "Computing variances: 100%|██████████| 15/15 [00:00<00:00, 3037.00it/s]\n",
      "Computing variances: 100%|██████████| 48/48 [00:00<00:00, 4076.01it/s]\n",
      "Computing signatures:  25%|██▍       | 16/65 [00:00<00:00, 152.58it/s]"
     ]
    },
    {
     "name": "stdout",
     "output_type": "stream",
     "text": [
      "Done.\n",
      "Preparing...\n"
     ]
    },
    {
     "name": "stderr",
     "output_type": "stream",
     "text": [
      "Computing signatures: 100%|██████████| 65/65 [00:00<00:00, 147.52it/s]\n",
      "Building shuffle matrix: 100%|██████████| 63/63 [00:02<00:00, 28.47it/s] \n",
      "Computing variances: 100%|██████████| 15/15 [00:00<00:00, 3081.93it/s]\n",
      "Computing variances: 100%|██████████| 48/48 [00:00<00:00, 3904.71it/s]\n",
      "Computing signatures:  25%|██▍       | 16/65 [00:00<00:00, 152.38it/s]"
     ]
    },
    {
     "name": "stdout",
     "output_type": "stream",
     "text": [
      "Done.\n",
      "Preparing...\n"
     ]
    },
    {
     "name": "stderr",
     "output_type": "stream",
     "text": [
      "Computing signatures: 100%|██████████| 65/65 [00:00<00:00, 155.74it/s]\n",
      "Building shuffle matrix: 100%|██████████| 63/63 [00:02<00:00, 28.88it/s] \n",
      "Computing variances: 100%|██████████| 15/15 [00:00<00:00, 3150.45it/s]\n",
      "Computing variances: 100%|██████████| 48/48 [00:00<00:00, 3968.20it/s]\n",
      "Computing signatures:  49%|████▉     | 32/65 [00:00<00:00, 154.26it/s]"
     ]
    },
    {
     "name": "stdout",
     "output_type": "stream",
     "text": [
      "Done.\n",
      "Preparing...\n"
     ]
    },
    {
     "name": "stderr",
     "output_type": "stream",
     "text": [
      "Computing signatures: 100%|██████████| 65/65 [00:00<00:00, 145.48it/s]\n",
      "Building shuffle matrix: 100%|██████████| 63/63 [00:02<00:00, 28.90it/s] \n",
      "Computing variances: 100%|██████████| 15/15 [00:00<00:00, 3014.59it/s]\n",
      "Computing variances: 100%|██████████| 48/48 [00:00<00:00, 3556.63it/s]\n",
      "Computing signatures:  51%|█████     | 33/65 [00:00<00:00, 156.00it/s]"
     ]
    },
    {
     "name": "stdout",
     "output_type": "stream",
     "text": [
      "Done.\n",
      "Preparing...\n"
     ]
    },
    {
     "name": "stderr",
     "output_type": "stream",
     "text": [
      "Computing signatures: 100%|██████████| 65/65 [00:00<00:00, 156.05it/s]\n",
      "Building shuffle matrix: 100%|██████████| 63/63 [00:02<00:00, 29.29it/s] \n",
      "Computing variances: 100%|██████████| 15/15 [00:00<00:00, 3577.33it/s]\n",
      "Computing variances: 100%|██████████| 48/48 [00:00<00:00, 3967.57it/s]\n",
      "Computing signatures:  46%|████▌     | 30/65 [00:00<00:00, 148.55it/s]"
     ]
    },
    {
     "name": "stdout",
     "output_type": "stream",
     "text": [
      "Done.\n",
      "Preparing...\n"
     ]
    },
    {
     "name": "stderr",
     "output_type": "stream",
     "text": [
      "Computing signatures: 100%|██████████| 65/65 [00:00<00:00, 143.98it/s]\n",
      "Building shuffle matrix: 100%|██████████| 63/63 [00:02<00:00, 29.07it/s] \n",
      "Computing variances: 100%|██████████| 15/15 [00:00<00:00, 2584.08it/s]\n",
      "Computing variances: 100%|██████████| 48/48 [00:00<00:00, 3860.38it/s]\n",
      "Computing signatures:  25%|██▍       | 16/65 [00:00<00:00, 149.65it/s]"
     ]
    },
    {
     "name": "stdout",
     "output_type": "stream",
     "text": [
      "Done.\n",
      "Preparing...\n"
     ]
    },
    {
     "name": "stderr",
     "output_type": "stream",
     "text": [
      "Computing signatures: 100%|██████████| 65/65 [00:00<00:00, 148.67it/s]\n",
      "Building shuffle matrix: 100%|██████████| 63/63 [00:02<00:00, 29.07it/s] \n",
      "Computing variances: 100%|██████████| 15/15 [00:00<00:00, 3420.76it/s]\n",
      "Computing variances: 100%|██████████| 48/48 [00:00<00:00, 3844.97it/s]\n",
      "Computing signatures:  49%|████▉     | 32/65 [00:00<00:00, 155.28it/s]"
     ]
    },
    {
     "name": "stdout",
     "output_type": "stream",
     "text": [
      "Done.\n",
      "Preparing...\n"
     ]
    },
    {
     "name": "stderr",
     "output_type": "stream",
     "text": [
      "Computing signatures: 100%|██████████| 65/65 [00:00<00:00, 155.09it/s]\n",
      "Building shuffle matrix: 100%|██████████| 63/63 [00:02<00:00, 29.23it/s] \n",
      "Computing variances: 100%|██████████| 15/15 [00:00<00:00, 2731.26it/s]\n",
      "Computing variances: 100%|██████████| 48/48 [00:00<00:00, 3228.20it/s]\n",
      "Computing signatures:  48%|████▊     | 31/65 [00:00<00:00, 147.31it/s]"
     ]
    },
    {
     "name": "stdout",
     "output_type": "stream",
     "text": [
      "Done.\n",
      "Preparing...\n"
     ]
    },
    {
     "name": "stderr",
     "output_type": "stream",
     "text": [
      "Computing signatures: 100%|██████████| 65/65 [00:00<00:00, 150.98it/s]\n",
      "Building shuffle matrix: 100%|██████████| 63/63 [00:02<00:00, 27.70it/s] \n",
      "Computing variances: 100%|██████████| 15/15 [00:00<00:00, 3363.16it/s]\n",
      "Computing variances: 100%|██████████| 48/48 [00:00<00:00, 3273.82it/s]\n"
     ]
    },
    {
     "name": "stdout",
     "output_type": "stream",
     "text": [
      "Done.\n"
     ]
    },
    {
     "name": "stderr",
     "output_type": "stream",
     "text": [
      "Computing signatures:  18%|█▊        | 12/65 [00:00<00:00, 116.56it/s]"
     ]
    },
    {
     "name": "stdout",
     "output_type": "stream",
     "text": [
      "Preparing...\n"
     ]
    },
    {
     "name": "stderr",
     "output_type": "stream",
     "text": [
      "Computing signatures: 100%|██████████| 65/65 [00:00<00:00, 118.81it/s]\n",
      "Building shuffle matrix: 100%|██████████| 63/63 [00:02<00:00, 28.92it/s] \n",
      "Computing variances: 100%|██████████| 10/10 [00:00<00:00, 2501.37it/s]\n",
      "Computing variances: 100%|██████████| 46/46 [00:00<00:00, 3039.30it/s]\n",
      "Computing signatures:  20%|██        | 13/65 [00:00<00:00, 122.46it/s]"
     ]
    },
    {
     "name": "stdout",
     "output_type": "stream",
     "text": [
      "Done.\n",
      "Preparing...\n"
     ]
    },
    {
     "name": "stderr",
     "output_type": "stream",
     "text": [
      "Computing signatures: 100%|██████████| 65/65 [00:00<00:00, 124.66it/s]\n",
      "Building shuffle matrix: 100%|██████████| 63/63 [00:02<00:00, 28.86it/s] \n",
      "Computing variances: 100%|██████████| 10/10 [00:00<00:00, 2848.04it/s]\n",
      "Computing variances: 100%|██████████| 46/46 [00:00<00:00, 3367.51it/s]\n",
      "Computing signatures:  18%|█▊        | 12/65 [00:00<00:00, 112.65it/s]"
     ]
    },
    {
     "name": "stdout",
     "output_type": "stream",
     "text": [
      "Done.\n",
      "Preparing...\n"
     ]
    },
    {
     "name": "stderr",
     "output_type": "stream",
     "text": [
      "Computing signatures: 100%|██████████| 65/65 [00:00<00:00, 120.46it/s]\n",
      "Building shuffle matrix: 100%|██████████| 63/63 [00:02<00:00, 29.59it/s] \n",
      "Computing variances: 100%|██████████| 10/10 [00:00<00:00, 2763.23it/s]\n",
      "Computing variances: 100%|██████████| 46/46 [00:00<00:00, 3384.82it/s]\n",
      "Computing signatures:  20%|██        | 13/65 [00:00<00:00, 122.77it/s]"
     ]
    },
    {
     "name": "stdout",
     "output_type": "stream",
     "text": [
      "Done.\n",
      "Preparing...\n"
     ]
    },
    {
     "name": "stderr",
     "output_type": "stream",
     "text": [
      "Computing signatures: 100%|██████████| 65/65 [00:00<00:00, 120.26it/s]\n",
      "Building shuffle matrix: 100%|██████████| 63/63 [00:02<00:00, 28.34it/s] \n",
      "Computing variances: 100%|██████████| 10/10 [00:00<00:00, 2885.26it/s]\n",
      "Computing variances: 100%|██████████| 46/46 [00:00<00:00, 3309.12it/s]\n",
      "Computing signatures:  18%|█▊        | 12/65 [00:00<00:00, 117.06it/s]"
     ]
    },
    {
     "name": "stdout",
     "output_type": "stream",
     "text": [
      "Done.\n",
      "Preparing...\n"
     ]
    },
    {
     "name": "stderr",
     "output_type": "stream",
     "text": [
      "Computing signatures: 100%|██████████| 65/65 [00:00<00:00, 123.12it/s]\n",
      "Building shuffle matrix: 100%|██████████| 63/63 [00:02<00:00, 28.66it/s] \n",
      "Computing variances: 100%|██████████| 10/10 [00:00<00:00, 2647.75it/s]\n",
      "Computing variances: 100%|██████████| 46/46 [00:00<00:00, 3269.80it/s]\n",
      "Computing signatures:  20%|██        | 13/65 [00:00<00:00, 120.30it/s]"
     ]
    },
    {
     "name": "stdout",
     "output_type": "stream",
     "text": [
      "Done.\n",
      "Preparing...\n"
     ]
    },
    {
     "name": "stderr",
     "output_type": "stream",
     "text": [
      "Computing signatures: 100%|██████████| 65/65 [00:00<00:00, 118.66it/s]\n",
      "Building shuffle matrix: 100%|██████████| 63/63 [00:02<00:00, 29.02it/s] \n",
      "Computing variances: 100%|██████████| 10/10 [00:00<00:00, 2242.10it/s]\n",
      "Computing variances: 100%|██████████| 46/46 [00:00<00:00, 3440.04it/s]\n",
      "Computing signatures:  18%|█▊        | 12/65 [00:00<00:00, 117.97it/s]"
     ]
    },
    {
     "name": "stdout",
     "output_type": "stream",
     "text": [
      "Done.\n",
      "Preparing...\n"
     ]
    },
    {
     "name": "stderr",
     "output_type": "stream",
     "text": [
      "Computing signatures: 100%|██████████| 65/65 [00:00<00:00, 124.35it/s]\n",
      "Building shuffle matrix: 100%|██████████| 63/63 [00:02<00:00, 29.66it/s] \n",
      "Computing variances: 100%|██████████| 10/10 [00:00<00:00, 3015.53it/s]\n",
      "Computing variances: 100%|██████████| 46/46 [00:00<00:00, 3490.89it/s]\n",
      "Computing signatures:  20%|██        | 13/65 [00:00<00:00, 122.12it/s]"
     ]
    },
    {
     "name": "stdout",
     "output_type": "stream",
     "text": [
      "Done.\n",
      "Preparing...\n"
     ]
    },
    {
     "name": "stderr",
     "output_type": "stream",
     "text": [
      "Computing signatures: 100%|██████████| 65/65 [00:00<00:00, 118.46it/s]\n",
      "Building shuffle matrix: 100%|██████████| 63/63 [00:02<00:00, 28.64it/s] \n",
      "Computing variances: 100%|██████████| 10/10 [00:00<00:00, 2427.26it/s]\n",
      "Computing variances: 100%|██████████| 46/46 [00:00<00:00, 3340.34it/s]\n",
      "Computing signatures:  20%|██        | 13/65 [00:00<00:00, 122.29it/s]"
     ]
    },
    {
     "name": "stdout",
     "output_type": "stream",
     "text": [
      "Done.\n",
      "Preparing...\n"
     ]
    },
    {
     "name": "stderr",
     "output_type": "stream",
     "text": [
      "Computing signatures: 100%|██████████| 65/65 [00:00<00:00, 122.42it/s]\n",
      "Building shuffle matrix: 100%|██████████| 63/63 [00:02<00:00, 29.02it/s] \n",
      "Computing variances: 100%|██████████| 10/10 [00:00<00:00, 2749.46it/s]\n",
      "Computing variances: 100%|██████████| 46/46 [00:00<00:00, 3513.33it/s]\n",
      "Computing signatures:  17%|█▋        | 11/65 [00:00<00:00, 102.47it/s]"
     ]
    },
    {
     "name": "stdout",
     "output_type": "stream",
     "text": [
      "Done.\n",
      "Preparing...\n"
     ]
    },
    {
     "name": "stderr",
     "output_type": "stream",
     "text": [
      "Computing signatures: 100%|██████████| 65/65 [00:00<00:00, 116.47it/s]\n",
      "Building shuffle matrix: 100%|██████████| 63/63 [00:02<00:00, 29.45it/s] \n",
      "Computing variances: 100%|██████████| 10/10 [00:00<00:00, 2907.66it/s]\n",
      "Computing variances: 100%|██████████| 46/46 [00:00<00:00, 3270.75it/s]\n"
     ]
    },
    {
     "name": "stdout",
     "output_type": "stream",
     "text": [
      "Done.\n"
     ]
    },
    {
     "name": "stderr",
     "output_type": "stream",
     "text": [
      "Computing signatures: 100%|██████████| 16/16 [00:00<00:00, 252.09it/s]\n",
      "Building shuffle matrix:  27%|██▋       | 17/63 [00:00<00:00, 149.75it/s]"
     ]
    },
    {
     "name": "stdout",
     "output_type": "stream",
     "text": [
      "Preparing...\n"
     ]
    },
    {
     "name": "stderr",
     "output_type": "stream",
     "text": [
      "Building shuffle matrix: 100%|██████████| 63/63 [00:02<00:00, 29.61it/s] \n",
      "Computing variances: 100%|██████████| 4/4 [00:00<00:00, 4499.12it/s]\n"
     ]
    },
    {
     "name": "stdout",
     "output_type": "stream",
     "text": [
      "Done.\n"
     ]
    },
    {
     "name": "stderr",
     "output_type": "stream",
     "text": [
      "Computing variances: 100%|██████████| 123/123 [00:00<00:00, 7645.45it/s]\n",
      "Computing signatures: 100%|██████████| 16/16 [00:00<00:00, 247.20it/s]\n",
      "Building shuffle matrix:  27%|██▋       | 17/63 [00:00<00:00, 148.97it/s]"
     ]
    },
    {
     "name": "stdout",
     "output_type": "stream",
     "text": [
      "Preparing...\n"
     ]
    },
    {
     "name": "stderr",
     "output_type": "stream",
     "text": [
      "Building shuffle matrix: 100%|██████████| 63/63 [00:02<00:00, 29.02it/s] \n",
      "Computing variances: 100%|██████████| 4/4 [00:00<00:00, 3051.51it/s]\n",
      "Computing variances:   0%|          | 0/123 [00:00<?, ?it/s]"
     ]
    },
    {
     "name": "stdout",
     "output_type": "stream",
     "text": [
      "Done.\n"
     ]
    },
    {
     "name": "stderr",
     "output_type": "stream",
     "text": [
      "Computing variances: 100%|██████████| 123/123 [00:00<00:00, 7047.90it/s]\n",
      "Computing signatures: 100%|██████████| 16/16 [00:00<00:00, 242.42it/s]\n",
      "Building shuffle matrix:  27%|██▋       | 17/63 [00:00<00:00, 138.63it/s]"
     ]
    },
    {
     "name": "stdout",
     "output_type": "stream",
     "text": [
      "Preparing...\n"
     ]
    },
    {
     "name": "stderr",
     "output_type": "stream",
     "text": [
      "Building shuffle matrix: 100%|██████████| 63/63 [00:02<00:00, 29.29it/s] \n",
      "Computing variances: 100%|██████████| 4/4 [00:00<00:00, 1973.33it/s]\n",
      "Computing variances:   0%|          | 0/123 [00:00<?, ?it/s]"
     ]
    },
    {
     "name": "stdout",
     "output_type": "stream",
     "text": [
      "Done.\n"
     ]
    },
    {
     "name": "stderr",
     "output_type": "stream",
     "text": [
      "Computing variances: 100%|██████████| 123/123 [00:00<00:00, 5434.01it/s]\n",
      "Computing signatures: 100%|██████████| 16/16 [00:00<00:00, 224.85it/s]\n",
      "Building shuffle matrix:  25%|██▌       | 16/63 [00:00<00:00, 142.27it/s]"
     ]
    },
    {
     "name": "stdout",
     "output_type": "stream",
     "text": [
      "Preparing...\n"
     ]
    },
    {
     "name": "stderr",
     "output_type": "stream",
     "text": [
      "Building shuffle matrix: 100%|██████████| 63/63 [00:02<00:00, 28.77it/s] \n",
      "Computing variances: 100%|██████████| 4/4 [00:00<00:00, 4283.18it/s]\n",
      "Computing variances:   0%|          | 0/123 [00:00<?, ?it/s]"
     ]
    },
    {
     "name": "stdout",
     "output_type": "stream",
     "text": [
      "Done.\n"
     ]
    },
    {
     "name": "stderr",
     "output_type": "stream",
     "text": [
      "Computing variances: 100%|██████████| 123/123 [00:00<00:00, 6913.50it/s]\n",
      "Computing signatures: 100%|██████████| 16/16 [00:00<00:00, 249.51it/s]\n",
      "Building shuffle matrix:  27%|██▋       | 17/63 [00:00<00:00, 148.48it/s]"
     ]
    },
    {
     "name": "stdout",
     "output_type": "stream",
     "text": [
      "Preparing...\n"
     ]
    },
    {
     "name": "stderr",
     "output_type": "stream",
     "text": [
      "Building shuffle matrix: 100%|██████████| 63/63 [00:02<00:00, 28.98it/s] \n",
      "Computing variances: 100%|██████████| 4/4 [00:00<00:00, 4153.80it/s]\n",
      "Computing variances:   0%|          | 0/123 [00:00<?, ?it/s]"
     ]
    },
    {
     "name": "stdout",
     "output_type": "stream",
     "text": [
      "Done.\n"
     ]
    },
    {
     "name": "stderr",
     "output_type": "stream",
     "text": [
      "Computing variances: 100%|██████████| 123/123 [00:00<00:00, 6158.89it/s]\n",
      "Computing signatures: 100%|██████████| 16/16 [00:00<00:00, 252.36it/s]\n",
      "Building shuffle matrix:  25%|██▌       | 16/63 [00:00<00:00, 144.45it/s]"
     ]
    },
    {
     "name": "stdout",
     "output_type": "stream",
     "text": [
      "Preparing...\n"
     ]
    },
    {
     "name": "stderr",
     "output_type": "stream",
     "text": [
      "Building shuffle matrix: 100%|██████████| 63/63 [00:02<00:00, 29.45it/s] \n",
      "Computing variances: 100%|██████████| 4/4 [00:00<00:00, 3898.96it/s]\n"
     ]
    },
    {
     "name": "stdout",
     "output_type": "stream",
     "text": [
      "Done.\n"
     ]
    },
    {
     "name": "stderr",
     "output_type": "stream",
     "text": [
      "Computing variances: 100%|██████████| 123/123 [00:00<00:00, 6308.30it/s]\n",
      "Computing signatures: 100%|██████████| 16/16 [00:00<00:00, 251.32it/s]\n",
      "Building shuffle matrix:  27%|██▋       | 17/63 [00:00<00:00, 144.49it/s]"
     ]
    },
    {
     "name": "stdout",
     "output_type": "stream",
     "text": [
      "Preparing...\n"
     ]
    },
    {
     "name": "stderr",
     "output_type": "stream",
     "text": [
      "Building shuffle matrix: 100%|██████████| 63/63 [00:02<00:00, 28.43it/s] \n",
      "Computing variances: 100%|██████████| 4/4 [00:00<00:00, 2541.62it/s]\n",
      "Computing variances:   0%|          | 0/123 [00:00<?, ?it/s]"
     ]
    },
    {
     "name": "stdout",
     "output_type": "stream",
     "text": [
      "Done.\n"
     ]
    },
    {
     "name": "stderr",
     "output_type": "stream",
     "text": [
      "Computing variances: 100%|██████████| 123/123 [00:00<00:00, 7070.89it/s]\n",
      "Computing signatures: 100%|██████████| 16/16 [00:00<00:00, 247.37it/s]\n",
      "Building shuffle matrix:  25%|██▌       | 16/63 [00:00<00:00, 152.05it/s]"
     ]
    },
    {
     "name": "stdout",
     "output_type": "stream",
     "text": [
      "Preparing...\n"
     ]
    },
    {
     "name": "stderr",
     "output_type": "stream",
     "text": [
      "Building shuffle matrix: 100%|██████████| 63/63 [00:02<00:00, 29.18it/s] \n",
      "Computing variances: 100%|██████████| 4/4 [00:00<00:00, 4174.48it/s]\n"
     ]
    },
    {
     "name": "stdout",
     "output_type": "stream",
     "text": [
      "Done.\n"
     ]
    },
    {
     "name": "stderr",
     "output_type": "stream",
     "text": [
      "Computing variances: 100%|██████████| 123/123 [00:00<00:00, 5638.86it/s]\n",
      "Computing signatures: 100%|██████████| 16/16 [00:00<00:00, 230.80it/s]\n",
      "Building shuffle matrix:  27%|██▋       | 17/63 [00:00<00:00, 152.33it/s]"
     ]
    },
    {
     "name": "stdout",
     "output_type": "stream",
     "text": [
      "Preparing...\n"
     ]
    },
    {
     "name": "stderr",
     "output_type": "stream",
     "text": [
      "Building shuffle matrix: 100%|██████████| 63/63 [00:02<00:00, 29.38it/s] \n",
      "Computing variances: 100%|██████████| 4/4 [00:00<00:00, 2390.94it/s]\n",
      "Computing variances: 100%|██████████| 123/123 [00:00<00:00, 7398.53it/s]"
     ]
    },
    {
     "name": "stdout",
     "output_type": "stream",
     "text": [
      "Done.\n",
      "Preparing..."
     ]
    },
    {
     "name": "stderr",
     "output_type": "stream",
     "text": [
      "\n",
      "Computing signatures: 100%|██████████| 16/16 [00:00<00:00, 253.06it/s]\n",
      "Building shuffle matrix:  27%|██▋       | 17/63 [00:00<00:00, 149.19it/s]"
     ]
    },
    {
     "name": "stdout",
     "output_type": "stream",
     "text": [
      "\n"
     ]
    },
    {
     "name": "stderr",
     "output_type": "stream",
     "text": [
      "Building shuffle matrix: 100%|██████████| 63/63 [00:02<00:00, 29.39it/s] \n",
      "Computing variances: 100%|██████████| 4/4 [00:00<00:00, 4371.34it/s]\n",
      "Computing variances:   0%|          | 0/123 [00:00<?, ?it/s]"
     ]
    },
    {
     "name": "stdout",
     "output_type": "stream",
     "text": [
      "Done.\n"
     ]
    },
    {
     "name": "stderr",
     "output_type": "stream",
     "text": [
      "Computing variances: 100%|██████████| 123/123 [00:00<00:00, 6711.85it/s]\n",
      "Computing signatures: 100%|██████████| 34/34 [00:00<00:00, 177.29it/s]\n",
      "Building shuffle matrix:   0%|          | 0/63 [00:00<?, ?it/s]"
     ]
    },
    {
     "name": "stdout",
     "output_type": "stream",
     "text": [
      "Preparing...\n"
     ]
    },
    {
     "name": "stderr",
     "output_type": "stream",
     "text": [
      "Building shuffle matrix: 100%|██████████| 63/63 [00:02<00:00, 29.11it/s] \n",
      "Computing variances: 100%|██████████| 8/8 [00:00<00:00, 4456.69it/s]"
     ]
    },
    {
     "name": "stdout",
     "output_type": "stream",
     "text": [
      "Done.\n"
     ]
    },
    {
     "name": "stderr",
     "output_type": "stream",
     "text": [
      "\n",
      "Computing variances: 100%|██████████| 78/78 [00:00<00:00, 5429.07it/s]\n",
      "Computing signatures: 100%|██████████| 34/34 [00:00<00:00, 179.07it/s]\n",
      "Building shuffle matrix:   0%|          | 0/63 [00:00<?, ?it/s]"
     ]
    },
    {
     "name": "stdout",
     "output_type": "stream",
     "text": [
      "Preparing...\n"
     ]
    },
    {
     "name": "stderr",
     "output_type": "stream",
     "text": [
      "Building shuffle matrix: 100%|██████████| 63/63 [00:02<00:00, 29.46it/s] \n",
      "Computing variances: 100%|██████████| 8/8 [00:00<00:00, 3282.89it/s]"
     ]
    },
    {
     "name": "stdout",
     "output_type": "stream",
     "text": [
      "Done.\n"
     ]
    },
    {
     "name": "stderr",
     "output_type": "stream",
     "text": [
      "\n",
      "Computing variances: 100%|██████████| 78/78 [00:00<00:00, 5551.98it/s]\n",
      "Computing signatures: 100%|██████████| 34/34 [00:00<00:00, 180.30it/s]\n",
      "Building shuffle matrix:   0%|          | 0/63 [00:00<?, ?it/s]"
     ]
    },
    {
     "name": "stdout",
     "output_type": "stream",
     "text": [
      "Preparing...\n"
     ]
    },
    {
     "name": "stderr",
     "output_type": "stream",
     "text": [
      "Building shuffle matrix: 100%|██████████| 63/63 [00:02<00:00, 29.09it/s] \n",
      "Computing variances: 100%|██████████| 8/8 [00:00<00:00, 2814.73it/s]"
     ]
    },
    {
     "name": "stdout",
     "output_type": "stream",
     "text": [
      "Done.\n"
     ]
    },
    {
     "name": "stderr",
     "output_type": "stream",
     "text": [
      "\n",
      "Computing variances: 100%|██████████| 78/78 [00:00<00:00, 5188.17it/s]\n",
      "Computing signatures:  56%|█████▌    | 19/34 [00:00<00:00, 179.90it/s]"
     ]
    },
    {
     "name": "stdout",
     "output_type": "stream",
     "text": [
      "Preparing...\n"
     ]
    },
    {
     "name": "stderr",
     "output_type": "stream",
     "text": [
      "Computing signatures: 100%|██████████| 34/34 [00:00<00:00, 160.55it/s]\n",
      "Building shuffle matrix: 100%|██████████| 63/63 [00:02<00:00, 28.72it/s] \n",
      "Computing variances: 100%|██████████| 8/8 [00:00<00:00, 2979.70it/s]"
     ]
    },
    {
     "name": "stdout",
     "output_type": "stream",
     "text": [
      "Done.\n"
     ]
    },
    {
     "name": "stderr",
     "output_type": "stream",
     "text": [
      "\n",
      "Computing variances: 100%|██████████| 78/78 [00:00<00:00, 5148.17it/s]\n",
      "Computing signatures: 100%|██████████| 34/34 [00:00<00:00, 152.84it/s]"
     ]
    },
    {
     "name": "stdout",
     "output_type": "stream",
     "text": [
      "Preparing...\n"
     ]
    },
    {
     "name": "stderr",
     "output_type": "stream",
     "text": [
      "Computing signatures: 100%|██████████| 34/34 [00:00<00:00, 161.31it/s]\n",
      "Building shuffle matrix: 100%|██████████| 63/63 [00:02<00:00, 28.55it/s] \n",
      "Computing variances: 100%|██████████| 8/8 [00:00<00:00, 3427.77it/s]"
     ]
    },
    {
     "name": "stdout",
     "output_type": "stream",
     "text": [
      "Done.\n"
     ]
    },
    {
     "name": "stderr",
     "output_type": "stream",
     "text": [
      "\n",
      "Computing variances: 100%|██████████| 78/78 [00:00<00:00, 5688.87it/s]\n",
      "Computing signatures: 100%|██████████| 34/34 [00:00<00:00, 176.59it/s]\n",
      "Building shuffle matrix:   0%|          | 0/63 [00:00<?, ?it/s]"
     ]
    },
    {
     "name": "stdout",
     "output_type": "stream",
     "text": [
      "Preparing...\n"
     ]
    },
    {
     "name": "stderr",
     "output_type": "stream",
     "text": [
      "Building shuffle matrix: 100%|██████████| 63/63 [00:02<00:00, 29.55it/s] \n"
     ]
    },
    {
     "name": "stdout",
     "output_type": "stream",
     "text": [
      "Done.\n"
     ]
    },
    {
     "name": "stderr",
     "output_type": "stream",
     "text": [
      "Computing variances: 100%|██████████| 8/8 [00:00<00:00, 2810.02it/s]\n",
      "Computing variances: 100%|██████████| 78/78 [00:00<00:00, 5628.58it/s]\n",
      "Computing signatures: 100%|██████████| 34/34 [00:00<00:00, 177.31it/s]\n",
      "Building shuffle matrix:   0%|          | 0/63 [00:00<?, ?it/s]"
     ]
    },
    {
     "name": "stdout",
     "output_type": "stream",
     "text": [
      "Preparing...\n"
     ]
    },
    {
     "name": "stderr",
     "output_type": "stream",
     "text": [
      "Building shuffle matrix: 100%|██████████| 63/63 [00:02<00:00, 28.99it/s] \n"
     ]
    },
    {
     "name": "stdout",
     "output_type": "stream",
     "text": [
      "Done.\n"
     ]
    },
    {
     "name": "stderr",
     "output_type": "stream",
     "text": [
      "Computing variances: 100%|██████████| 8/8 [00:00<00:00, 3169.70it/s]\n",
      "Computing variances: 100%|██████████| 78/78 [00:00<00:00, 5759.07it/s]\n",
      "Computing signatures: 100%|██████████| 34/34 [00:00<00:00, 182.01it/s]\n",
      "Building shuffle matrix:   0%|          | 0/63 [00:00<?, ?it/s]"
     ]
    },
    {
     "name": "stdout",
     "output_type": "stream",
     "text": [
      "Preparing...\n"
     ]
    },
    {
     "name": "stderr",
     "output_type": "stream",
     "text": [
      "Building shuffle matrix: 100%|██████████| 63/63 [00:02<00:00, 28.49it/s] \n",
      "Computing variances: 100%|██████████| 8/8 [00:00<00:00, 2992.99it/s]"
     ]
    },
    {
     "name": "stdout",
     "output_type": "stream",
     "text": [
      "Done.\n"
     ]
    },
    {
     "name": "stderr",
     "output_type": "stream",
     "text": [
      "\n",
      "Computing variances: 100%|██████████| 78/78 [00:00<00:00, 5683.04it/s]\n",
      "Computing signatures:  97%|█████████▋| 33/34 [00:00<00:00, 148.56it/s]"
     ]
    },
    {
     "name": "stdout",
     "output_type": "stream",
     "text": [
      "Preparing...\n"
     ]
    },
    {
     "name": "stderr",
     "output_type": "stream",
     "text": [
      "Computing signatures: 100%|██████████| 34/34 [00:00<00:00, 159.65it/s]\n",
      "Building shuffle matrix: 100%|██████████| 63/63 [00:02<00:00, 29.69it/s] \n"
     ]
    },
    {
     "name": "stdout",
     "output_type": "stream",
     "text": [
      "Done.\n"
     ]
    },
    {
     "name": "stderr",
     "output_type": "stream",
     "text": [
      "Computing variances: 100%|██████████| 8/8 [00:00<00:00, 2745.64it/s]\n",
      "Computing variances: 100%|██████████| 78/78 [00:00<00:00, 4293.33it/s]\n",
      "Computing signatures: 100%|██████████| 34/34 [00:00<00:00, 178.95it/s]\n",
      "Building shuffle matrix:   0%|          | 0/63 [00:00<?, ?it/s]"
     ]
    },
    {
     "name": "stdout",
     "output_type": "stream",
     "text": [
      "Preparing...\n"
     ]
    },
    {
     "name": "stderr",
     "output_type": "stream",
     "text": [
      "Building shuffle matrix: 100%|██████████| 63/63 [00:02<00:00, 28.33it/s] \n",
      "Computing variances: 100%|██████████| 8/8 [00:00<00:00, 2869.37it/s]"
     ]
    },
    {
     "name": "stdout",
     "output_type": "stream",
     "text": [
      "Done.\n"
     ]
    },
    {
     "name": "stderr",
     "output_type": "stream",
     "text": [
      "\n",
      "Computing variances: 100%|██████████| 78/78 [00:00<00:00, 5789.85it/s]\n",
      "Computing signatures: 100%|██████████| 38/38 [00:00<00:00, 819.16it/s]\n",
      "Building shuffle matrix:  27%|██▋       | 17/63 [00:00<00:00, 150.38it/s]"
     ]
    },
    {
     "name": "stdout",
     "output_type": "stream",
     "text": [
      "Preparing...\n"
     ]
    },
    {
     "name": "stderr",
     "output_type": "stream",
     "text": [
      "Building shuffle matrix: 100%|██████████| 63/63 [00:02<00:00, 29.31it/s] \n",
      "Computing variances: 100%|██████████| 9/9 [00:00<00:00, 3928.89it/s]\n",
      "Computing variances:   0%|          | 0/1094 [00:00<?, ?it/s]"
     ]
    },
    {
     "name": "stdout",
     "output_type": "stream",
     "text": [
      "Done.\n"
     ]
    },
    {
     "name": "stderr",
     "output_type": "stream",
     "text": [
      "Computing variances: 100%|██████████| 1094/1094 [00:00<00:00, 10784.71it/s]\n",
      "Computing signatures: 100%|██████████| 38/38 [00:00<00:00, 821.04it/s]\n",
      "Building shuffle matrix:  27%|██▋       | 17/63 [00:00<00:00, 150.05it/s]"
     ]
    },
    {
     "name": "stdout",
     "output_type": "stream",
     "text": [
      "Preparing...\n"
     ]
    },
    {
     "name": "stderr",
     "output_type": "stream",
     "text": [
      "Building shuffle matrix: 100%|██████████| 63/63 [00:02<00:00, 29.29it/s] \n",
      "Computing variances: 100%|██████████| 9/9 [00:00<00:00, 3096.19it/s]\n",
      "Computing variances: 100%|██████████| 1094/1094 [00:00<00:00, 13031.71it/s]\n",
      "Computing signatures:   0%|          | 0/38 [00:00<?, ?it/s]"
     ]
    },
    {
     "name": "stdout",
     "output_type": "stream",
     "text": [
      "Done.\n",
      "Preparing...\n"
     ]
    },
    {
     "name": "stderr",
     "output_type": "stream",
     "text": [
      "Computing signatures: 100%|██████████| 38/38 [00:00<00:00, 787.86it/s]\n",
      "Building shuffle matrix: 100%|██████████| 63/63 [00:02<00:00, 29.01it/s] \n",
      "Computing variances: 100%|██████████| 9/9 [00:00<00:00, 5232.71it/s]\n",
      "Computing variances: 100%|██████████| 1094/1094 [00:00<00:00, 12823.36it/s]"
     ]
    },
    {
     "name": "stdout",
     "output_type": "stream",
     "text": [
      "Done.\n",
      "Preparing..."
     ]
    },
    {
     "name": "stderr",
     "output_type": "stream",
     "text": [
      "\n",
      "Computing signatures: 100%|██████████| 38/38 [00:00<00:00, 787.17it/s]\n",
      "Building shuffle matrix: 100%|██████████| 63/63 [00:02<00:00, 28.50it/s] \n",
      "Computing variances: 100%|██████████| 9/9 [00:00<00:00, 4271.67it/s]\n",
      "Computing variances:   0%|          | 0/1094 [00:00<?, ?it/s]"
     ]
    },
    {
     "name": "stdout",
     "output_type": "stream",
     "text": [
      "\n",
      "Done.\n"
     ]
    },
    {
     "name": "stderr",
     "output_type": "stream",
     "text": [
      "Computing variances: 100%|██████████| 1094/1094 [00:00<00:00, 12906.24it/s]\n",
      "Computing signatures: 100%|██████████| 38/38 [00:00<00:00, 820.01it/s]\n",
      "Building shuffle matrix:  27%|██▋       | 17/63 [00:00<00:00, 148.70it/s]"
     ]
    },
    {
     "name": "stdout",
     "output_type": "stream",
     "text": [
      "Preparing...\n"
     ]
    },
    {
     "name": "stderr",
     "output_type": "stream",
     "text": [
      "Building shuffle matrix: 100%|██████████| 63/63 [00:02<00:00, 29.24it/s] \n",
      "Computing variances: 100%|██████████| 9/9 [00:00<00:00, 4508.93it/s]\n",
      "Computing variances: 100%|██████████| 1094/1094 [00:00<00:00, 12042.22it/s]"
     ]
    },
    {
     "name": "stdout",
     "output_type": "stream",
     "text": [
      "Done.\n"
     ]
    },
    {
     "name": "stderr",
     "output_type": "stream",
     "text": [
      "\n",
      "Computing signatures: 100%|██████████| 38/38 [00:00<00:00, 797.27it/s]\n",
      "Building shuffle matrix:  27%|██▋       | 17/63 [00:00<00:00, 148.94it/s]"
     ]
    },
    {
     "name": "stdout",
     "output_type": "stream",
     "text": [
      "Preparing...\n"
     ]
    },
    {
     "name": "stderr",
     "output_type": "stream",
     "text": [
      "Building shuffle matrix: 100%|██████████| 63/63 [00:02<00:00, 29.19it/s] \n",
      "Computing variances: 100%|██████████| 9/9 [00:00<00:00, 4488.55it/s]\n",
      "Computing variances:   0%|          | 0/1094 [00:00<?, ?it/s]"
     ]
    },
    {
     "name": "stdout",
     "output_type": "stream",
     "text": [
      "Done.\n"
     ]
    },
    {
     "name": "stderr",
     "output_type": "stream",
     "text": [
      "Computing variances: 100%|██████████| 1094/1094 [00:00<00:00, 11094.92it/s]\n",
      "Computing signatures: 100%|██████████| 38/38 [00:00<00:00, 724.83it/s]\n",
      "Building shuffle matrix:  27%|██▋       | 17/63 [00:00<00:00, 140.25it/s]"
     ]
    },
    {
     "name": "stdout",
     "output_type": "stream",
     "text": [
      "Preparing...\n"
     ]
    },
    {
     "name": "stderr",
     "output_type": "stream",
     "text": [
      "Building shuffle matrix: 100%|██████████| 63/63 [00:02<00:00, 28.70it/s] \n",
      "Computing variances: 100%|██████████| 9/9 [00:00<00:00, 4587.28it/s]\n",
      "Computing variances: 100%|██████████| 1094/1094 [00:00<00:00, 13045.71it/s]\n",
      "Computing signatures:   0%|          | 0/38 [00:00<?, ?it/s]"
     ]
    },
    {
     "name": "stdout",
     "output_type": "stream",
     "text": [
      "Done.\n",
      "Preparing...\n"
     ]
    },
    {
     "name": "stderr",
     "output_type": "stream",
     "text": [
      "Computing signatures: 100%|██████████| 38/38 [00:00<00:00, 809.28it/s]\n",
      "Building shuffle matrix: 100%|██████████| 63/63 [00:02<00:00, 28.11it/s] \n",
      "Computing variances: 100%|██████████| 9/9 [00:00<00:00, 5510.76it/s]\n",
      "Computing variances:   0%|          | 0/1094 [00:00<?, ?it/s]"
     ]
    },
    {
     "name": "stdout",
     "output_type": "stream",
     "text": [
      "Done.\n"
     ]
    },
    {
     "name": "stderr",
     "output_type": "stream",
     "text": [
      "Computing variances: 100%|██████████| 1094/1094 [00:00<00:00, 12807.75it/s]\n",
      "Computing signatures: 100%|██████████| 38/38 [00:00<00:00, 812.53it/s]\n",
      "Building shuffle matrix:  25%|██▌       | 16/63 [00:00<00:00, 141.04it/s]"
     ]
    },
    {
     "name": "stdout",
     "output_type": "stream",
     "text": [
      "Preparing...\n"
     ]
    },
    {
     "name": "stderr",
     "output_type": "stream",
     "text": [
      "Building shuffle matrix: 100%|██████████| 63/63 [00:02<00:00, 28.87it/s] \n",
      "Computing variances: 100%|██████████| 9/9 [00:00<00:00, 4579.49it/s]\n",
      "Computing variances: 100%|██████████| 1094/1094 [00:00<00:00, 12570.63it/s]"
     ]
    },
    {
     "name": "stdout",
     "output_type": "stream",
     "text": [
      "Done.\n",
      "Preparing..."
     ]
    },
    {
     "name": "stderr",
     "output_type": "stream",
     "text": [
      "\n",
      "Computing signatures: 100%|██████████| 38/38 [00:00<00:00, 779.85it/s]\n",
      "Building shuffle matrix: 100%|██████████| 63/63 [00:02<00:00, 29.33it/s] \n",
      "Computing variances: 100%|██████████| 9/9 [00:00<00:00, 3277.65it/s]\n",
      "Computing variances: 100%|██████████| 1094/1094 [00:00<00:00, 13018.55it/s]"
     ]
    },
    {
     "name": "stdout",
     "output_type": "stream",
     "text": [
      "\n",
      "Done.\n"
     ]
    },
    {
     "name": "stderr",
     "output_type": "stream",
     "text": [
      "\n",
      "Computing signatures:  17%|█▋        | 98/575 [00:00<00:00, 976.14it/s]"
     ]
    },
    {
     "name": "stdout",
     "output_type": "stream",
     "text": [
      "Preparing...\n"
     ]
    },
    {
     "name": "stderr",
     "output_type": "stream",
     "text": [
      "Computing signatures: 100%|██████████| 575/575 [00:00<00:00, 906.13it/s]\n",
      "Building shuffle matrix: 100%|██████████| 63/63 [00:02<00:00, 28.39it/s] \n",
      "Computing variances: 100%|██████████| 137/137 [00:00<00:00, 1649.86it/s]"
     ]
    },
    {
     "name": "stdout",
     "output_type": "stream",
     "text": [
      "Done.\n"
     ]
    },
    {
     "name": "stderr",
     "output_type": "stream",
     "text": [
      "\n",
      "Computing variances: 100%|██████████| 560/560 [00:00<00:00, 1664.80it/s]\n",
      "Computing signatures:  17%|█▋        | 97/575 [00:00<00:00, 967.23it/s]"
     ]
    },
    {
     "name": "stdout",
     "output_type": "stream",
     "text": [
      "Preparing...\n"
     ]
    },
    {
     "name": "stderr",
     "output_type": "stream",
     "text": [
      "Computing signatures: 100%|██████████| 575/575 [00:00<00:00, 943.37it/s]\n",
      "Building shuffle matrix: 100%|██████████| 63/63 [00:02<00:00, 28.86it/s] \n",
      "Computing variances: 100%|██████████| 137/137 [00:00<00:00, 1741.12it/s]"
     ]
    },
    {
     "name": "stdout",
     "output_type": "stream",
     "text": [
      "Done.\n"
     ]
    },
    {
     "name": "stderr",
     "output_type": "stream",
     "text": [
      "\n",
      "Computing variances: 100%|██████████| 560/560 [00:00<00:00, 1646.75it/s]\n",
      "Computing signatures:  14%|█▎        | 78/575 [00:00<00:00, 775.40it/s]"
     ]
    },
    {
     "name": "stdout",
     "output_type": "stream",
     "text": [
      "Preparing...\n"
     ]
    },
    {
     "name": "stderr",
     "output_type": "stream",
     "text": [
      "Computing signatures: 100%|██████████| 575/575 [00:00<00:00, 822.98it/s]\n",
      "Building shuffle matrix: 100%|██████████| 63/63 [00:02<00:00, 28.22it/s] \n",
      "Computing variances: 100%|██████████| 137/137 [00:00<00:00, 1724.62it/s]"
     ]
    },
    {
     "name": "stdout",
     "output_type": "stream",
     "text": [
      "Done.\n"
     ]
    },
    {
     "name": "stderr",
     "output_type": "stream",
     "text": [
      "\n",
      "Computing variances: 100%|██████████| 560/560 [00:00<00:00, 1474.22it/s]\n",
      "Computing signatures:  30%|███       | 175/575 [00:00<00:00, 876.65it/s]"
     ]
    },
    {
     "name": "stdout",
     "output_type": "stream",
     "text": [
      "Preparing...\n"
     ]
    },
    {
     "name": "stderr",
     "output_type": "stream",
     "text": [
      "Computing signatures: 100%|██████████| 575/575 [00:00<00:00, 860.85it/s]\n",
      "Building shuffle matrix: 100%|██████████| 63/63 [00:02<00:00, 28.73it/s] \n",
      "Computing variances: 100%|██████████| 137/137 [00:00<00:00, 1696.62it/s]"
     ]
    },
    {
     "name": "stdout",
     "output_type": "stream",
     "text": [
      "Done.\n"
     ]
    },
    {
     "name": "stderr",
     "output_type": "stream",
     "text": [
      "\n",
      "Computing variances: 100%|██████████| 560/560 [00:00<00:00, 1651.87it/s]\n",
      "Computing signatures:  33%|███▎      | 191/575 [00:00<00:00, 949.32it/s]"
     ]
    },
    {
     "name": "stdout",
     "output_type": "stream",
     "text": [
      "Preparing...\n"
     ]
    },
    {
     "name": "stderr",
     "output_type": "stream",
     "text": [
      "Computing signatures: 100%|██████████| 575/575 [00:00<00:00, 947.12it/s]\n",
      "Building shuffle matrix: 100%|██████████| 63/63 [00:02<00:00, 28.63it/s] \n",
      "Computing variances: 100%|██████████| 137/137 [00:00<00:00, 1391.33it/s]"
     ]
    },
    {
     "name": "stdout",
     "output_type": "stream",
     "text": [
      "Done.\n"
     ]
    },
    {
     "name": "stderr",
     "output_type": "stream",
     "text": [
      "\n",
      "Computing variances: 100%|██████████| 560/560 [00:00<00:00, 1661.95it/s]\n",
      "Computing signatures:  33%|███▎      | 187/575 [00:00<00:00, 929.71it/s]"
     ]
    },
    {
     "name": "stdout",
     "output_type": "stream",
     "text": [
      "Preparing...\n"
     ]
    },
    {
     "name": "stderr",
     "output_type": "stream",
     "text": [
      "Computing signatures: 100%|██████████| 575/575 [00:00<00:00, 905.19it/s]\n",
      "Building shuffle matrix: 100%|██████████| 63/63 [00:02<00:00, 29.13it/s] \n",
      "Computing variances: 100%|██████████| 137/137 [00:00<00:00, 1738.88it/s]"
     ]
    },
    {
     "name": "stdout",
     "output_type": "stream",
     "text": [
      "Done.\n"
     ]
    },
    {
     "name": "stderr",
     "output_type": "stream",
     "text": [
      "\n",
      "Computing variances: 100%|██████████| 560/560 [00:00<00:00, 1664.33it/s]\n",
      "Computing signatures:  17%|█▋        | 95/575 [00:00<00:00, 944.59it/s]"
     ]
    },
    {
     "name": "stdout",
     "output_type": "stream",
     "text": [
      "Preparing...\n"
     ]
    },
    {
     "name": "stderr",
     "output_type": "stream",
     "text": [
      "Computing signatures: 100%|██████████| 575/575 [00:00<00:00, 909.29it/s]\n",
      "Building shuffle matrix: 100%|██████████| 63/63 [00:02<00:00, 29.38it/s] \n",
      "Computing variances: 100%|██████████| 137/137 [00:00<00:00, 1607.93it/s]\n",
      "Computing variances:   0%|          | 0/560 [00:00<?, ?it/s]"
     ]
    },
    {
     "name": "stdout",
     "output_type": "stream",
     "text": [
      "Done.\n"
     ]
    },
    {
     "name": "stderr",
     "output_type": "stream",
     "text": [
      "Computing variances: 100%|██████████| 560/560 [00:00<00:00, 1384.09it/s]\n",
      "Computing signatures:  33%|███▎      | 187/575 [00:00<00:00, 946.61it/s]"
     ]
    },
    {
     "name": "stdout",
     "output_type": "stream",
     "text": [
      "Preparing...\n"
     ]
    },
    {
     "name": "stderr",
     "output_type": "stream",
     "text": [
      "Computing signatures: 100%|██████████| 575/575 [00:00<00:00, 886.55it/s]\n",
      "Building shuffle matrix: 100%|██████████| 63/63 [00:02<00:00, 28.40it/s] \n",
      "Computing variances: 100%|██████████| 137/137 [00:00<00:00, 1791.43it/s]"
     ]
    },
    {
     "name": "stdout",
     "output_type": "stream",
     "text": [
      "Done.\n"
     ]
    },
    {
     "name": "stderr",
     "output_type": "stream",
     "text": [
      "\n",
      "Computing variances: 100%|██████████| 560/560 [00:00<00:00, 1654.52it/s]\n",
      "Computing signatures:  33%|███▎      | 189/575 [00:00<00:00, 925.46it/s]"
     ]
    },
    {
     "name": "stdout",
     "output_type": "stream",
     "text": [
      "Preparing...\n"
     ]
    },
    {
     "name": "stderr",
     "output_type": "stream",
     "text": [
      "Computing signatures: 100%|██████████| 575/575 [00:00<00:00, 948.91it/s]\n",
      "Building shuffle matrix: 100%|██████████| 63/63 [00:02<00:00, 29.05it/s] \n",
      "Computing variances: 100%|██████████| 137/137 [00:00<00:00, 1263.49it/s]"
     ]
    },
    {
     "name": "stdout",
     "output_type": "stream",
     "text": [
      "Done.\n"
     ]
    },
    {
     "name": "stderr",
     "output_type": "stream",
     "text": [
      "\n",
      "Computing variances: 100%|██████████| 560/560 [00:00<00:00, 1639.54it/s]\n",
      "Computing signatures:  33%|███▎      | 189/575 [00:00<00:00, 928.83it/s]"
     ]
    },
    {
     "name": "stdout",
     "output_type": "stream",
     "text": [
      "Preparing...\n"
     ]
    },
    {
     "name": "stderr",
     "output_type": "stream",
     "text": [
      "Computing signatures: 100%|██████████| 575/575 [00:00<00:00, 935.21it/s]\n",
      "Building shuffle matrix: 100%|██████████| 63/63 [00:02<00:00, 28.73it/s] \n",
      "Computing variances: 100%|██████████| 137/137 [00:00<00:00, 1782.72it/s]"
     ]
    },
    {
     "name": "stdout",
     "output_type": "stream",
     "text": [
      "Done.\n"
     ]
    },
    {
     "name": "stderr",
     "output_type": "stream",
     "text": [
      "\n",
      "Computing variances: 100%|██████████| 560/560 [00:00<00:00, 1638.09it/s]\n",
      "Computing signatures: 100%|██████████| 25/25 [00:00<00:00, 555.49it/s]\n",
      "Building shuffle matrix:  27%|██▋       | 17/63 [00:00<00:00, 144.41it/s]"
     ]
    },
    {
     "name": "stdout",
     "output_type": "stream",
     "text": [
      "Preparing...\n"
     ]
    },
    {
     "name": "stderr",
     "output_type": "stream",
     "text": [
      "Building shuffle matrix: 100%|██████████| 63/63 [00:02<00:00, 28.76it/s] \n",
      "Computing variances: 100%|██████████| 6/6 [00:00<00:00, 3135.15it/s]\n",
      "Computing variances: 100%|██████████| 179/179 [00:00<00:00, 10622.55it/s]\n",
      "Computing signatures:   0%|          | 0/25 [00:00<?, ?it/s]"
     ]
    },
    {
     "name": "stdout",
     "output_type": "stream",
     "text": [
      "Done.\n",
      "Preparing...\n"
     ]
    },
    {
     "name": "stderr",
     "output_type": "stream",
     "text": [
      "Computing signatures: 100%|██████████| 25/25 [00:00<00:00, 539.28it/s]\n",
      "Building shuffle matrix: 100%|██████████| 63/63 [00:02<00:00, 28.55it/s] \n",
      "Computing variances: 100%|██████████| 6/6 [00:00<00:00, 3790.03it/s]\n",
      "Computing variances: 100%|██████████| 179/179 [00:00<00:00, 11385.98it/s]\n",
      "Computing signatures:   0%|          | 0/25 [00:00<?, ?it/s]"
     ]
    },
    {
     "name": "stdout",
     "output_type": "stream",
     "text": [
      "Done.\n",
      "Preparing...\n"
     ]
    },
    {
     "name": "stderr",
     "output_type": "stream",
     "text": [
      "Computing signatures: 100%|██████████| 25/25 [00:00<00:00, 562.33it/s]\n",
      "Building shuffle matrix: 100%|██████████| 63/63 [00:02<00:00, 28.96it/s] \n",
      "Computing variances: 100%|██████████| 6/6 [00:00<00:00, 4874.26it/s]\n",
      "Computing variances: 100%|██████████| 179/179 [00:00<00:00, 8570.75it/s]\n",
      "Computing signatures:   0%|          | 0/25 [00:00<?, ?it/s]"
     ]
    },
    {
     "name": "stdout",
     "output_type": "stream",
     "text": [
      "Done.\n",
      "Preparing...\n"
     ]
    },
    {
     "name": "stderr",
     "output_type": "stream",
     "text": [
      "Computing signatures: 100%|██████████| 25/25 [00:00<00:00, 553.32it/s]\n",
      "Building shuffle matrix: 100%|██████████| 63/63 [00:02<00:00, 28.35it/s] \n",
      "Computing variances: 100%|██████████| 6/6 [00:00<00:00, 1769.87it/s]\n",
      "Computing variances: 100%|██████████| 179/179 [00:00<00:00, 11073.95it/s]\n",
      "Computing signatures:   0%|          | 0/25 [00:00<?, ?it/s]"
     ]
    },
    {
     "name": "stdout",
     "output_type": "stream",
     "text": [
      "Done.\n",
      "Preparing...\n"
     ]
    },
    {
     "name": "stderr",
     "output_type": "stream",
     "text": [
      "Computing signatures: 100%|██████████| 25/25 [00:00<00:00, 554.64it/s]\n",
      "Building shuffle matrix: 100%|██████████| 63/63 [00:02<00:00, 28.89it/s] \n",
      "Computing variances: 100%|██████████| 6/6 [00:00<00:00, 3855.65it/s]\n",
      "Computing variances: 100%|██████████| 179/179 [00:00<00:00, 9073.75it/s]\n",
      "Computing signatures:   0%|          | 0/25 [00:00<?, ?it/s]"
     ]
    },
    {
     "name": "stdout",
     "output_type": "stream",
     "text": [
      "Done.\n",
      "Preparing...\n"
     ]
    },
    {
     "name": "stderr",
     "output_type": "stream",
     "text": [
      "Computing signatures: 100%|██████████| 25/25 [00:00<00:00, 544.13it/s]\n",
      "Building shuffle matrix: 100%|██████████| 63/63 [00:02<00:00, 27.99it/s] \n",
      "Computing variances: 100%|██████████| 6/6 [00:00<00:00, 3701.40it/s]\n",
      "Computing variances: 100%|██████████| 179/179 [00:00<00:00, 9531.06it/s]"
     ]
    },
    {
     "name": "stdout",
     "output_type": "stream",
     "text": [
      "Done.\n",
      "Preparing..."
     ]
    },
    {
     "name": "stderr",
     "output_type": "stream",
     "text": [
      "\n",
      "Computing signatures: 100%|██████████| 25/25 [00:00<00:00, 482.11it/s]\n",
      "Building shuffle matrix: 100%|██████████| 63/63 [00:02<00:00, 27.58it/s] \n",
      "Computing variances: 100%|██████████| 6/6 [00:00<00:00, 2334.71it/s]\n",
      "Computing variances: 100%|██████████| 179/179 [00:00<00:00, 10740.93it/s]\n",
      "Computing signatures: 100%|██████████| 25/25 [00:00<00:00, 542.17it/s]"
     ]
    },
    {
     "name": "stdout",
     "output_type": "stream",
     "text": [
      "\n",
      "Done.\n",
      "Preparing...\n"
     ]
    },
    {
     "name": "stderr",
     "output_type": "stream",
     "text": [
      "\n",
      "Building shuffle matrix: 100%|██████████| 63/63 [00:02<00:00, 28.19it/s] \n",
      "Computing variances: 100%|██████████| 6/6 [00:00<00:00, 3282.78it/s]\n",
      "Computing variances: 100%|██████████| 179/179 [00:00<00:00, 9107.43it/s]\n",
      "Computing signatures: 100%|██████████| 25/25 [00:00<00:00, 409.86it/s]"
     ]
    },
    {
     "name": "stdout",
     "output_type": "stream",
     "text": [
      "Done.\n",
      "Preparing...\n"
     ]
    },
    {
     "name": "stderr",
     "output_type": "stream",
     "text": [
      "\n",
      "Building shuffle matrix: 100%|██████████| 63/63 [00:02<00:00, 28.98it/s] \n",
      "Computing variances: 100%|██████████| 6/6 [00:00<00:00, 3467.80it/s]\n",
      "Computing variances: 100%|██████████| 179/179 [00:00<00:00, 11676.39it/s]\n",
      "Computing signatures:   0%|          | 0/25 [00:00<?, ?it/s]"
     ]
    },
    {
     "name": "stdout",
     "output_type": "stream",
     "text": [
      "Done.\n",
      "Preparing...\n"
     ]
    },
    {
     "name": "stderr",
     "output_type": "stream",
     "text": [
      "Computing signatures: 100%|██████████| 25/25 [00:00<00:00, 558.21it/s]\n",
      "Building shuffle matrix: 100%|██████████| 63/63 [00:02<00:00, 28.65it/s] \n",
      "Computing variances: 100%|██████████| 6/6 [00:00<00:00, 4443.90it/s]\n",
      "Computing variances: 100%|██████████| 179/179 [00:00<00:00, 11015.46it/s]"
     ]
    },
    {
     "name": "stdout",
     "output_type": "stream",
     "text": [
      "Done.\n"
     ]
    },
    {
     "name": "stderr",
     "output_type": "stream",
     "text": [
      "\n",
      "Computing signatures:  11%|█         | 31/295 [00:00<00:00, 306.84it/s]"
     ]
    },
    {
     "name": "stdout",
     "output_type": "stream",
     "text": [
      "Preparing...\n"
     ]
    },
    {
     "name": "stderr",
     "output_type": "stream",
     "text": [
      "Computing signatures: 100%|██████████| 295/295 [00:00<00:00, 332.34it/s]\n",
      "Building shuffle matrix: 100%|██████████| 63/63 [00:02<00:00, 28.40it/s] \n",
      "Computing variances: 100%|██████████| 70/70 [00:00<00:00, 3159.99it/s]"
     ]
    },
    {
     "name": "stdout",
     "output_type": "stream",
     "text": [
      "Done.\n"
     ]
    },
    {
     "name": "stderr",
     "output_type": "stream",
     "text": [
      "\n",
      "Computing variances: 100%|██████████| 618/618 [00:00<00:00, 3372.70it/s]\n",
      "Computing signatures:  12%|█▏        | 35/295 [00:00<00:00, 344.49it/s]"
     ]
    },
    {
     "name": "stdout",
     "output_type": "stream",
     "text": [
      "Preparing...\n"
     ]
    },
    {
     "name": "stderr",
     "output_type": "stream",
     "text": [
      "Computing signatures: 100%|██████████| 295/295 [00:00<00:00, 324.28it/s]\n",
      "Building shuffle matrix: 100%|██████████| 63/63 [00:02<00:00, 29.39it/s] \n",
      "Computing variances: 100%|██████████| 70/70 [00:00<00:00, 3229.83it/s]"
     ]
    },
    {
     "name": "stdout",
     "output_type": "stream",
     "text": [
      "Done.\n"
     ]
    },
    {
     "name": "stderr",
     "output_type": "stream",
     "text": [
      "\n",
      "Computing variances: 100%|██████████| 618/618 [00:00<00:00, 3417.44it/s]\n",
      "Computing signatures:  12%|█▏        | 35/295 [00:00<00:00, 344.89it/s]"
     ]
    },
    {
     "name": "stdout",
     "output_type": "stream",
     "text": [
      "Preparing...\n"
     ]
    },
    {
     "name": "stderr",
     "output_type": "stream",
     "text": [
      "Computing signatures: 100%|██████████| 295/295 [00:00<00:00, 319.46it/s]\n",
      "Building shuffle matrix: 100%|██████████| 63/63 [00:02<00:00, 28.32it/s] \n",
      "Computing variances: 100%|██████████| 70/70 [00:00<00:00, 2999.02it/s]"
     ]
    },
    {
     "name": "stdout",
     "output_type": "stream",
     "text": [
      "Done.\n"
     ]
    },
    {
     "name": "stderr",
     "output_type": "stream",
     "text": [
      "\n",
      "Computing variances: 100%|██████████| 618/618 [00:00<00:00, 2876.15it/s]\n",
      "Computing signatures:  11%|█         | 32/295 [00:00<00:00, 317.52it/s]"
     ]
    },
    {
     "name": "stdout",
     "output_type": "stream",
     "text": [
      "Preparing...\n"
     ]
    },
    {
     "name": "stderr",
     "output_type": "stream",
     "text": [
      "Computing signatures: 100%|██████████| 295/295 [00:00<00:00, 335.83it/s]\n",
      "Building shuffle matrix: 100%|██████████| 63/63 [00:02<00:00, 28.81it/s] \n",
      "Computing variances: 100%|██████████| 70/70 [00:00<00:00, 3039.51it/s]"
     ]
    },
    {
     "name": "stdout",
     "output_type": "stream",
     "text": [
      "Done.\n"
     ]
    },
    {
     "name": "stderr",
     "output_type": "stream",
     "text": [
      "\n",
      "Computing variances: 100%|██████████| 618/618 [00:00<00:00, 3437.48it/s]\n",
      "Computing signatures:  12%|█▏        | 35/295 [00:00<00:00, 346.42it/s]"
     ]
    },
    {
     "name": "stdout",
     "output_type": "stream",
     "text": [
      "Preparing...\n"
     ]
    },
    {
     "name": "stderr",
     "output_type": "stream",
     "text": [
      "Computing signatures: 100%|██████████| 295/295 [00:00<00:00, 328.68it/s]\n",
      "Building shuffle matrix: 100%|██████████| 63/63 [00:02<00:00, 29.08it/s] \n",
      "Computing variances: 100%|██████████| 70/70 [00:00<00:00, 3123.35it/s]"
     ]
    },
    {
     "name": "stdout",
     "output_type": "stream",
     "text": [
      "Done.\n"
     ]
    },
    {
     "name": "stderr",
     "output_type": "stream",
     "text": [
      "\n",
      "Computing variances: 100%|██████████| 618/618 [00:00<00:00, 3388.55it/s]\n",
      "Computing signatures:  12%|█▏        | 35/295 [00:00<00:00, 348.73it/s]"
     ]
    },
    {
     "name": "stdout",
     "output_type": "stream",
     "text": [
      "Preparing...\n"
     ]
    },
    {
     "name": "stderr",
     "output_type": "stream",
     "text": [
      "Computing signatures: 100%|██████████| 295/295 [00:00<00:00, 332.55it/s]\n",
      "Building shuffle matrix: 100%|██████████| 63/63 [00:02<00:00, 29.15it/s] \n",
      "Computing variances: 100%|██████████| 70/70 [00:00<00:00, 2209.95it/s]\n",
      "Computing variances:   0%|          | 0/618 [00:00<?, ?it/s]"
     ]
    },
    {
     "name": "stdout",
     "output_type": "stream",
     "text": [
      "Done.\n"
     ]
    },
    {
     "name": "stderr",
     "output_type": "stream",
     "text": [
      "Computing variances: 100%|██████████| 618/618 [00:00<00:00, 3059.50it/s]\n",
      "Computing signatures:   9%|▉         | 26/295 [00:00<00:01, 250.60it/s]"
     ]
    },
    {
     "name": "stdout",
     "output_type": "stream",
     "text": [
      "Preparing...\n"
     ]
    },
    {
     "name": "stderr",
     "output_type": "stream",
     "text": [
      "Computing signatures: 100%|██████████| 295/295 [00:00<00:00, 317.54it/s]\n",
      "Building shuffle matrix: 100%|██████████| 63/63 [00:02<00:00, 29.31it/s] \n",
      "Computing variances: 100%|██████████| 70/70 [00:00<00:00, 3271.47it/s]"
     ]
    },
    {
     "name": "stdout",
     "output_type": "stream",
     "text": [
      "Done.\n"
     ]
    },
    {
     "name": "stderr",
     "output_type": "stream",
     "text": [
      "\n",
      "Computing variances: 100%|██████████| 618/618 [00:00<00:00, 3393.35it/s]\n",
      "Computing signatures:  12%|█▏        | 35/295 [00:00<00:00, 341.62it/s]"
     ]
    },
    {
     "name": "stdout",
     "output_type": "stream",
     "text": [
      "Preparing...\n"
     ]
    },
    {
     "name": "stderr",
     "output_type": "stream",
     "text": [
      "Computing signatures: 100%|██████████| 295/295 [00:00<00:00, 329.03it/s]\n",
      "Building shuffle matrix: 100%|██████████| 63/63 [00:02<00:00, 28.93it/s] \n",
      "Computing variances: 100%|██████████| 70/70 [00:00<00:00, 2991.84it/s]"
     ]
    },
    {
     "name": "stdout",
     "output_type": "stream",
     "text": [
      "Done.\n"
     ]
    },
    {
     "name": "stderr",
     "output_type": "stream",
     "text": [
      "\n",
      "Computing variances: 100%|██████████| 618/618 [00:00<00:00, 3448.04it/s]\n",
      "Computing signatures:  12%|█▏        | 35/295 [00:00<00:00, 343.54it/s]"
     ]
    },
    {
     "name": "stdout",
     "output_type": "stream",
     "text": [
      "Preparing...\n"
     ]
    },
    {
     "name": "stderr",
     "output_type": "stream",
     "text": [
      "Computing signatures: 100%|██████████| 295/295 [00:00<00:00, 335.41it/s]\n",
      "Building shuffle matrix: 100%|██████████| 63/63 [00:02<00:00, 28.94it/s] \n",
      "Computing variances: 100%|██████████| 70/70 [00:00<00:00, 3070.85it/s]"
     ]
    },
    {
     "name": "stdout",
     "output_type": "stream",
     "text": [
      "Done.\n"
     ]
    },
    {
     "name": "stderr",
     "output_type": "stream",
     "text": [
      "\n",
      "Computing variances: 100%|██████████| 618/618 [00:00<00:00, 3489.30it/s]\n",
      "Computing signatures:  12%|█▏        | 35/295 [00:00<00:00, 344.75it/s]"
     ]
    },
    {
     "name": "stdout",
     "output_type": "stream",
     "text": [
      "Preparing...\n"
     ]
    },
    {
     "name": "stderr",
     "output_type": "stream",
     "text": [
      "Computing signatures: 100%|██████████| 295/295 [00:00<00:00, 329.30it/s]\n",
      "Building shuffle matrix: 100%|██████████| 63/63 [00:02<00:00, 29.67it/s] \n",
      "Computing variances: 100%|██████████| 70/70 [00:00<00:00, 3208.79it/s]"
     ]
    },
    {
     "name": "stdout",
     "output_type": "stream",
     "text": [
      "Done.\n"
     ]
    },
    {
     "name": "stderr",
     "output_type": "stream",
     "text": [
      "\n",
      "Computing variances: 100%|██████████| 618/618 [00:00<00:00, 3454.00it/s]\n",
      "Computing signatures:  25%|██▍       | 35/141 [00:00<00:00, 169.51it/s]"
     ]
    },
    {
     "name": "stdout",
     "output_type": "stream",
     "text": [
      "Preparing...\n"
     ]
    },
    {
     "name": "stderr",
     "output_type": "stream",
     "text": [
      "Computing signatures: 100%|██████████| 141/141 [00:00<00:00, 191.16it/s]\n",
      "Building shuffle matrix: 100%|██████████| 63/63 [00:02<00:00, 29.42it/s] \n"
     ]
    },
    {
     "name": "stdout",
     "output_type": "stream",
     "text": [
      "Done.\n"
     ]
    },
    {
     "name": "stderr",
     "output_type": "stream",
     "text": [
      "Computing variances: 100%|██████████| 33/33 [00:00<00:00, 3757.21it/s]\n",
      "Computing variances: 100%|██████████| 846/846 [00:00<00:00, 4350.64it/s]\n",
      "Computing signatures:  15%|█▍        | 21/141 [00:00<00:00, 205.18it/s]"
     ]
    },
    {
     "name": "stdout",
     "output_type": "stream",
     "text": [
      "Preparing...\n"
     ]
    },
    {
     "name": "stderr",
     "output_type": "stream",
     "text": [
      "Computing signatures: 100%|██████████| 141/141 [00:00<00:00, 193.60it/s]\n",
      "Building shuffle matrix: 100%|██████████| 63/63 [00:02<00:00, 28.60it/s] \n"
     ]
    },
    {
     "name": "stdout",
     "output_type": "stream",
     "text": [
      "Done.\n"
     ]
    },
    {
     "name": "stderr",
     "output_type": "stream",
     "text": [
      "Computing variances: 100%|██████████| 33/33 [00:00<00:00, 3492.08it/s]\n",
      "Computing variances: 100%|██████████| 846/846 [00:00<00:00, 4359.99it/s]\n",
      "Computing signatures:  15%|█▍        | 21/141 [00:00<00:00, 206.74it/s]"
     ]
    },
    {
     "name": "stdout",
     "output_type": "stream",
     "text": [
      "Preparing...\n"
     ]
    },
    {
     "name": "stderr",
     "output_type": "stream",
     "text": [
      "Computing signatures: 100%|██████████| 141/141 [00:00<00:00, 200.71it/s]\n",
      "Building shuffle matrix: 100%|██████████| 63/63 [00:02<00:00, 28.48it/s] \n"
     ]
    },
    {
     "name": "stdout",
     "output_type": "stream",
     "text": [
      "Done.\n"
     ]
    },
    {
     "name": "stderr",
     "output_type": "stream",
     "text": [
      "Computing variances: 100%|██████████| 33/33 [00:00<00:00, 3799.19it/s]\n",
      "Computing variances: 100%|██████████| 846/846 [00:00<00:00, 3915.74it/s]\n",
      "Computing signatures:  11%|█▏        | 16/141 [00:00<00:00, 158.56it/s]"
     ]
    },
    {
     "name": "stdout",
     "output_type": "stream",
     "text": [
      "Preparing...\n"
     ]
    },
    {
     "name": "stderr",
     "output_type": "stream",
     "text": [
      "Computing signatures: 100%|██████████| 141/141 [00:00<00:00, 191.84it/s]\n",
      "Building shuffle matrix: 100%|██████████| 63/63 [00:02<00:00, 29.18it/s] \n"
     ]
    },
    {
     "name": "stdout",
     "output_type": "stream",
     "text": [
      "Done.\n"
     ]
    },
    {
     "name": "stderr",
     "output_type": "stream",
     "text": [
      "Computing variances: 100%|██████████| 33/33 [00:00<00:00, 3636.30it/s]\n",
      "Computing variances: 100%|██████████| 846/846 [00:00<00:00, 4350.01it/s]\n",
      "Computing signatures:  30%|██▉       | 42/141 [00:00<00:00, 204.09it/s]"
     ]
    },
    {
     "name": "stdout",
     "output_type": "stream",
     "text": [
      "Preparing...\n"
     ]
    },
    {
     "name": "stderr",
     "output_type": "stream",
     "text": [
      "Computing signatures: 100%|██████████| 141/141 [00:00<00:00, 194.74it/s]\n",
      "Building shuffle matrix: 100%|██████████| 63/63 [00:02<00:00, 28.75it/s] \n"
     ]
    },
    {
     "name": "stdout",
     "output_type": "stream",
     "text": [
      "Done.\n"
     ]
    },
    {
     "name": "stderr",
     "output_type": "stream",
     "text": [
      "Computing variances: 100%|██████████| 33/33 [00:00<00:00, 3760.28it/s]\n",
      "Computing variances: 100%|██████████| 846/846 [00:00<00:00, 4323.80it/s]\n",
      "Computing signatures:  29%|██▉       | 41/141 [00:00<00:00, 198.81it/s]"
     ]
    },
    {
     "name": "stdout",
     "output_type": "stream",
     "text": [
      "Preparing...\n"
     ]
    },
    {
     "name": "stderr",
     "output_type": "stream",
     "text": [
      "Computing signatures: 100%|██████████| 141/141 [00:00<00:00, 198.02it/s]\n",
      "Building shuffle matrix: 100%|██████████| 63/63 [00:02<00:00, 28.86it/s] \n"
     ]
    },
    {
     "name": "stdout",
     "output_type": "stream",
     "text": [
      "Done.\n"
     ]
    },
    {
     "name": "stderr",
     "output_type": "stream",
     "text": [
      "Computing variances: 100%|██████████| 33/33 [00:00<00:00, 3679.70it/s]\n",
      "Computing variances: 100%|██████████| 846/846 [00:00<00:00, 4172.54it/s]\n",
      "Computing signatures:  12%|█▏        | 17/141 [00:00<00:00, 169.10it/s]"
     ]
    },
    {
     "name": "stdout",
     "output_type": "stream",
     "text": [
      "Preparing...\n"
     ]
    },
    {
     "name": "stderr",
     "output_type": "stream",
     "text": [
      "Computing signatures: 100%|██████████| 141/141 [00:00<00:00, 195.37it/s]\n",
      "Building shuffle matrix: 100%|██████████| 63/63 [00:02<00:00, 28.91it/s] \n"
     ]
    },
    {
     "name": "stdout",
     "output_type": "stream",
     "text": [
      "Done.\n"
     ]
    },
    {
     "name": "stderr",
     "output_type": "stream",
     "text": [
      "Computing variances: 100%|██████████| 33/33 [00:00<00:00, 3784.44it/s]\n",
      "Computing variances: 100%|██████████| 846/846 [00:00<00:00, 4339.82it/s]\n",
      "Computing signatures:  14%|█▍        | 20/141 [00:00<00:00, 195.50it/s]"
     ]
    },
    {
     "name": "stdout",
     "output_type": "stream",
     "text": [
      "Preparing...\n"
     ]
    },
    {
     "name": "stderr",
     "output_type": "stream",
     "text": [
      "Computing signatures: 100%|██████████| 141/141 [00:00<00:00, 192.94it/s]\n",
      "Building shuffle matrix: 100%|██████████| 63/63 [00:02<00:00, 28.78it/s] \n"
     ]
    },
    {
     "name": "stdout",
     "output_type": "stream",
     "text": [
      "Done.\n"
     ]
    },
    {
     "name": "stderr",
     "output_type": "stream",
     "text": [
      "Computing variances: 100%|██████████| 33/33 [00:00<00:00, 3912.15it/s]\n",
      "Computing variances: 100%|██████████| 846/846 [00:00<00:00, 4277.63it/s]\n",
      "Computing signatures:  29%|██▉       | 41/141 [00:00<00:00, 200.64it/s]"
     ]
    },
    {
     "name": "stdout",
     "output_type": "stream",
     "text": [
      "Preparing...\n"
     ]
    },
    {
     "name": "stderr",
     "output_type": "stream",
     "text": [
      "Computing signatures: 100%|██████████| 141/141 [00:00<00:00, 200.97it/s]\n",
      "Building shuffle matrix: 100%|██████████| 63/63 [00:02<00:00, 28.93it/s] \n"
     ]
    },
    {
     "name": "stdout",
     "output_type": "stream",
     "text": [
      "Done.\n"
     ]
    },
    {
     "name": "stderr",
     "output_type": "stream",
     "text": [
      "Computing variances: 100%|██████████| 33/33 [00:00<00:00, 3752.94it/s]\n",
      "Computing variances: 100%|██████████| 846/846 [00:00<00:00, 3830.44it/s]\n",
      "Computing signatures:  11%|█▏        | 16/141 [00:00<00:00, 155.95it/s]"
     ]
    },
    {
     "name": "stdout",
     "output_type": "stream",
     "text": [
      "Preparing...\n"
     ]
    },
    {
     "name": "stderr",
     "output_type": "stream",
     "text": [
      "Computing signatures: 100%|██████████| 141/141 [00:00<00:00, 192.60it/s]\n",
      "Building shuffle matrix: 100%|██████████| 63/63 [00:02<00:00, 29.09it/s] \n"
     ]
    },
    {
     "name": "stdout",
     "output_type": "stream",
     "text": [
      "Done.\n"
     ]
    },
    {
     "name": "stderr",
     "output_type": "stream",
     "text": [
      "Computing variances: 100%|██████████| 33/33 [00:00<00:00, 3521.04it/s]\n",
      "Computing variances: 100%|██████████| 846/846 [00:00<00:00, 4330.82it/s]\n",
      "Computing signatures:  25%|██▌       | 30/118 [00:00<00:00, 293.98it/s]"
     ]
    },
    {
     "name": "stdout",
     "output_type": "stream",
     "text": [
      "Preparing...\n"
     ]
    },
    {
     "name": "stderr",
     "output_type": "stream",
     "text": [
      "Computing signatures: 100%|██████████| 118/118 [00:00<00:00, 291.94it/s]\n",
      "Building shuffle matrix: 100%|██████████| 63/63 [00:02<00:00, 29.07it/s] \n"
     ]
    },
    {
     "name": "stdout",
     "output_type": "stream",
     "text": [
      "Done.\n"
     ]
    },
    {
     "name": "stderr",
     "output_type": "stream",
     "text": [
      "Computing variances: 100%|██████████| 28/28 [00:00<00:00, 3767.50it/s]\n",
      "Computing variances: 100%|██████████| 122/122 [00:00<00:00, 5114.49it/s]\n",
      "Computing signatures:  24%|██▎       | 28/118 [00:00<00:00, 275.27it/s]"
     ]
    },
    {
     "name": "stdout",
     "output_type": "stream",
     "text": [
      "Preparing...\n"
     ]
    },
    {
     "name": "stderr",
     "output_type": "stream",
     "text": [
      "Computing signatures: 100%|██████████| 118/118 [00:00<00:00, 282.44it/s]\n",
      "Building shuffle matrix: 100%|██████████| 63/63 [00:02<00:00, 29.14it/s] \n"
     ]
    },
    {
     "name": "stdout",
     "output_type": "stream",
     "text": [
      "Done.\n"
     ]
    },
    {
     "name": "stderr",
     "output_type": "stream",
     "text": [
      "Computing variances: 100%|██████████| 28/28 [00:00<00:00, 3732.89it/s]\n",
      "Computing variances: 100%|██████████| 122/122 [00:00<00:00, 5187.23it/s]\n",
      "Computing signatures:  51%|█████     | 60/118 [00:00<00:00, 290.73it/s]"
     ]
    },
    {
     "name": "stdout",
     "output_type": "stream",
     "text": [
      "Preparing...\n"
     ]
    },
    {
     "name": "stderr",
     "output_type": "stream",
     "text": [
      "Computing signatures: 100%|██████████| 118/118 [00:00<00:00, 273.63it/s]\n",
      "Building shuffle matrix: 100%|██████████| 63/63 [00:02<00:00, 28.48it/s] \n"
     ]
    },
    {
     "name": "stdout",
     "output_type": "stream",
     "text": [
      "Done.\n"
     ]
    },
    {
     "name": "stderr",
     "output_type": "stream",
     "text": [
      "Computing variances: 100%|██████████| 28/28 [00:00<00:00, 3263.32it/s]\n",
      "Computing variances: 100%|██████████| 122/122 [00:00<00:00, 5164.46it/s]\n",
      "Computing signatures:  25%|██▌       | 30/118 [00:00<00:00, 291.70it/s]"
     ]
    },
    {
     "name": "stdout",
     "output_type": "stream",
     "text": [
      "Preparing...\n"
     ]
    },
    {
     "name": "stderr",
     "output_type": "stream",
     "text": [
      "Computing signatures: 100%|██████████| 118/118 [00:00<00:00, 291.70it/s]\n",
      "Building shuffle matrix: 100%|██████████| 63/63 [00:02<00:00, 28.24it/s] \n"
     ]
    },
    {
     "name": "stdout",
     "output_type": "stream",
     "text": [
      "Done.\n"
     ]
    },
    {
     "name": "stderr",
     "output_type": "stream",
     "text": [
      "Computing variances: 100%|██████████| 28/28 [00:00<00:00, 4206.62it/s]\n",
      "Computing variances: 100%|██████████| 122/122 [00:00<00:00, 5116.85it/s]\n",
      "Computing signatures:  45%|████▍     | 53/118 [00:00<00:00, 252.55it/s]"
     ]
    },
    {
     "name": "stdout",
     "output_type": "stream",
     "text": [
      "Preparing...\n"
     ]
    },
    {
     "name": "stderr",
     "output_type": "stream",
     "text": [
      "Computing signatures: 100%|██████████| 118/118 [00:00<00:00, 275.83it/s]\n",
      "Building shuffle matrix: 100%|██████████| 63/63 [00:02<00:00, 28.31it/s] \n"
     ]
    },
    {
     "name": "stdout",
     "output_type": "stream",
     "text": [
      "Done.\n"
     ]
    },
    {
     "name": "stderr",
     "output_type": "stream",
     "text": [
      "Computing variances: 100%|██████████| 28/28 [00:00<00:00, 4104.88it/s]\n",
      "Computing variances: 100%|██████████| 122/122 [00:00<00:00, 5232.43it/s]\n",
      "Computing signatures:  25%|██▌       | 30/118 [00:00<00:00, 294.41it/s]"
     ]
    },
    {
     "name": "stdout",
     "output_type": "stream",
     "text": [
      "Preparing...\n"
     ]
    },
    {
     "name": "stderr",
     "output_type": "stream",
     "text": [
      "Computing signatures: 100%|██████████| 118/118 [00:00<00:00, 282.81it/s]\n",
      "Building shuffle matrix: 100%|██████████| 63/63 [00:02<00:00, 28.58it/s] \n",
      "Computing variances: 100%|██████████| 28/28 [00:00<00:00, 4268.86it/s]"
     ]
    },
    {
     "name": "stdout",
     "output_type": "stream",
     "text": [
      "Done.\n"
     ]
    },
    {
     "name": "stderr",
     "output_type": "stream",
     "text": [
      "\n",
      "Computing variances: 100%|██████████| 122/122 [00:00<00:00, 5030.33it/s]\n",
      "Computing signatures:  25%|██▌       | 30/118 [00:00<00:00, 292.94it/s]"
     ]
    },
    {
     "name": "stdout",
     "output_type": "stream",
     "text": [
      "Preparing...\n"
     ]
    },
    {
     "name": "stderr",
     "output_type": "stream",
     "text": [
      "Computing signatures: 100%|██████████| 118/118 [00:00<00:00, 289.41it/s]\n",
      "Building shuffle matrix: 100%|██████████| 63/63 [00:02<00:00, 29.03it/s] \n"
     ]
    },
    {
     "name": "stdout",
     "output_type": "stream",
     "text": [
      "Done.\n"
     ]
    },
    {
     "name": "stderr",
     "output_type": "stream",
     "text": [
      "Computing variances: 100%|██████████| 28/28 [00:00<00:00, 4004.65it/s]\n",
      "Computing variances: 100%|██████████| 122/122 [00:00<00:00, 5225.32it/s]\n",
      "Computing signatures:  24%|██▎       | 28/118 [00:00<00:00, 269.79it/s]"
     ]
    },
    {
     "name": "stdout",
     "output_type": "stream",
     "text": [
      "Preparing...\n"
     ]
    },
    {
     "name": "stderr",
     "output_type": "stream",
     "text": [
      "Computing signatures: 100%|██████████| 118/118 [00:00<00:00, 253.79it/s]\n",
      "Building shuffle matrix: 100%|██████████| 63/63 [00:02<00:00, 28.96it/s] \n"
     ]
    },
    {
     "name": "stdout",
     "output_type": "stream",
     "text": [
      "Done.\n"
     ]
    },
    {
     "name": "stderr",
     "output_type": "stream",
     "text": [
      "Computing variances: 100%|██████████| 28/28 [00:00<00:00, 4348.36it/s]\n",
      "Computing variances: 100%|██████████| 122/122 [00:00<00:00, 4935.09it/s]\n",
      "Computing signatures:  25%|██▌       | 30/118 [00:00<00:00, 291.79it/s]"
     ]
    },
    {
     "name": "stdout",
     "output_type": "stream",
     "text": [
      "Preparing...\n"
     ]
    },
    {
     "name": "stderr",
     "output_type": "stream",
     "text": [
      "Computing signatures: 100%|██████████| 118/118 [00:00<00:00, 290.93it/s]\n",
      "Building shuffle matrix: 100%|██████████| 63/63 [00:02<00:00, 28.85it/s] \n"
     ]
    },
    {
     "name": "stdout",
     "output_type": "stream",
     "text": [
      "Done.\n"
     ]
    },
    {
     "name": "stderr",
     "output_type": "stream",
     "text": [
      "Computing variances: 100%|██████████| 28/28 [00:00<00:00, 4267.93it/s]\n",
      "Computing variances: 100%|██████████| 122/122 [00:00<00:00, 4979.57it/s]\n",
      "Computing signatures:  21%|██        | 25/118 [00:00<00:00, 245.45it/s]"
     ]
    },
    {
     "name": "stdout",
     "output_type": "stream",
     "text": [
      "Preparing...\n"
     ]
    },
    {
     "name": "stderr",
     "output_type": "stream",
     "text": [
      "Computing signatures: 100%|██████████| 118/118 [00:00<00:00, 279.22it/s]\n",
      "Building shuffle matrix: 100%|██████████| 63/63 [00:02<00:00, 28.26it/s] \n"
     ]
    },
    {
     "name": "stdout",
     "output_type": "stream",
     "text": [
      "Done.\n"
     ]
    },
    {
     "name": "stderr",
     "output_type": "stream",
     "text": [
      "Computing variances: 100%|██████████| 28/28 [00:00<00:00, 4273.67it/s]\n",
      "Computing variances: 100%|██████████| 122/122 [00:00<00:00, 5297.43it/s]\n",
      "Computing signatures:  23%|██▎       | 24/104 [00:00<00:00, 235.49it/s]"
     ]
    },
    {
     "name": "stdout",
     "output_type": "stream",
     "text": [
      "Preparing...\n"
     ]
    },
    {
     "name": "stderr",
     "output_type": "stream",
     "text": [
      "Computing signatures: 100%|██████████| 104/104 [00:00<00:00, 220.87it/s]\n",
      "Building shuffle matrix: 100%|██████████| 63/63 [00:02<00:00, 29.52it/s] \n"
     ]
    },
    {
     "name": "stdout",
     "output_type": "stream",
     "text": [
      "Done.\n"
     ]
    },
    {
     "name": "stderr",
     "output_type": "stream",
     "text": [
      "Computing variances: 100%|██████████| 25/25 [00:00<00:00, 4150.80it/s]\n",
      "Computing variances: 100%|██████████| 37/37 [00:00<00:00, 3102.42it/s]\n",
      "Computing signatures:  23%|██▎       | 24/104 [00:00<00:00, 236.08it/s]"
     ]
    },
    {
     "name": "stdout",
     "output_type": "stream",
     "text": [
      "Preparing...\n"
     ]
    },
    {
     "name": "stderr",
     "output_type": "stream",
     "text": [
      "Computing signatures: 100%|██████████| 104/104 [00:00<00:00, 233.90it/s]\n",
      "Building shuffle matrix: 100%|██████████| 63/63 [00:02<00:00, 28.55it/s] \n"
     ]
    },
    {
     "name": "stdout",
     "output_type": "stream",
     "text": [
      "Done.\n"
     ]
    },
    {
     "name": "stderr",
     "output_type": "stream",
     "text": [
      "Computing variances: 100%|██████████| 25/25 [00:00<00:00, 3903.71it/s]\n",
      "Computing variances: 100%|██████████| 37/37 [00:00<00:00, 4399.91it/s]\n",
      "Computing signatures:  23%|██▎       | 24/104 [00:00<00:00, 236.71it/s]"
     ]
    },
    {
     "name": "stdout",
     "output_type": "stream",
     "text": [
      "Preparing...\n"
     ]
    },
    {
     "name": "stderr",
     "output_type": "stream",
     "text": [
      "Computing signatures: 100%|██████████| 104/104 [00:00<00:00, 231.24it/s]\n",
      "Building shuffle matrix: 100%|██████████| 63/63 [00:02<00:00, 28.05it/s] \n"
     ]
    },
    {
     "name": "stdout",
     "output_type": "stream",
     "text": [
      "Done.\n"
     ]
    },
    {
     "name": "stderr",
     "output_type": "stream",
     "text": [
      "Computing variances: 100%|██████████| 25/25 [00:00<00:00, 3839.53it/s]\n",
      "Computing variances: 100%|██████████| 37/37 [00:00<00:00, 4103.80it/s]\n",
      "Computing signatures:  23%|██▎       | 24/104 [00:00<00:00, 238.85it/s]"
     ]
    },
    {
     "name": "stdout",
     "output_type": "stream",
     "text": [
      "Preparing...\n"
     ]
    },
    {
     "name": "stderr",
     "output_type": "stream",
     "text": [
      "Computing signatures: 100%|██████████| 104/104 [00:00<00:00, 229.86it/s]\n",
      "Building shuffle matrix: 100%|██████████| 63/63 [00:02<00:00, 28.52it/s] \n"
     ]
    },
    {
     "name": "stdout",
     "output_type": "stream",
     "text": [
      "Done.\n"
     ]
    },
    {
     "name": "stderr",
     "output_type": "stream",
     "text": [
      "Computing variances: 100%|██████████| 25/25 [00:00<00:00, 3946.17it/s]\n",
      "Computing variances: 100%|██████████| 37/37 [00:00<00:00, 4165.37it/s]\n",
      "Computing signatures:  22%|██▏       | 23/104 [00:00<00:00, 225.46it/s]"
     ]
    },
    {
     "name": "stdout",
     "output_type": "stream",
     "text": [
      "Preparing...\n"
     ]
    },
    {
     "name": "stderr",
     "output_type": "stream",
     "text": [
      "Computing signatures: 100%|██████████| 104/104 [00:00<00:00, 231.53it/s]\n",
      "Building shuffle matrix: 100%|██████████| 63/63 [00:02<00:00, 29.03it/s] \n"
     ]
    },
    {
     "name": "stdout",
     "output_type": "stream",
     "text": [
      "Done.\n"
     ]
    },
    {
     "name": "stderr",
     "output_type": "stream",
     "text": [
      "Computing variances: 100%|██████████| 25/25 [00:00<00:00, 3385.78it/s]\n",
      "Computing variances: 100%|██████████| 37/37 [00:00<00:00, 4205.10it/s]\n",
      "Computing signatures:  19%|█▉        | 20/104 [00:00<00:00, 195.81it/s]"
     ]
    },
    {
     "name": "stdout",
     "output_type": "stream",
     "text": [
      "Preparing...\n"
     ]
    },
    {
     "name": "stderr",
     "output_type": "stream",
     "text": [
      "Computing signatures: 100%|██████████| 104/104 [00:00<00:00, 224.54it/s]\n",
      "Building shuffle matrix: 100%|██████████| 63/63 [00:02<00:00, 28.86it/s] \n"
     ]
    },
    {
     "name": "stdout",
     "output_type": "stream",
     "text": [
      "Done.\n"
     ]
    },
    {
     "name": "stderr",
     "output_type": "stream",
     "text": [
      "Computing variances: 100%|██████████| 25/25 [00:00<00:00, 4052.47it/s]\n",
      "Computing variances: 100%|██████████| 37/37 [00:00<00:00, 4354.97it/s]\n",
      "Computing signatures:  23%|██▎       | 24/104 [00:00<00:00, 234.04it/s]"
     ]
    },
    {
     "name": "stdout",
     "output_type": "stream",
     "text": [
      "Preparing...\n"
     ]
    },
    {
     "name": "stderr",
     "output_type": "stream",
     "text": [
      "Computing signatures: 100%|██████████| 104/104 [00:00<00:00, 219.52it/s]\n",
      "Building shuffle matrix: 100%|██████████| 63/63 [00:02<00:00, 27.70it/s] \n"
     ]
    },
    {
     "name": "stdout",
     "output_type": "stream",
     "text": [
      "Done.\n"
     ]
    },
    {
     "name": "stderr",
     "output_type": "stream",
     "text": [
      "Computing variances: 100%|██████████| 25/25 [00:00<00:00, 3162.08it/s]\n",
      "Computing variances: 100%|██████████| 37/37 [00:00<00:00, 4167.16it/s]\n",
      "Computing signatures:  23%|██▎       | 24/104 [00:00<00:00, 237.41it/s]"
     ]
    },
    {
     "name": "stdout",
     "output_type": "stream",
     "text": [
      "Preparing...\n"
     ]
    },
    {
     "name": "stderr",
     "output_type": "stream",
     "text": [
      "Computing signatures: 100%|██████████| 104/104 [00:00<00:00, 221.42it/s]\n",
      "Building shuffle matrix: 100%|██████████| 63/63 [00:02<00:00, 27.86it/s] \n"
     ]
    },
    {
     "name": "stdout",
     "output_type": "stream",
     "text": [
      "Done.\n"
     ]
    },
    {
     "name": "stderr",
     "output_type": "stream",
     "text": [
      "Computing variances: 100%|██████████| 25/25 [00:00<00:00, 4190.45it/s]\n",
      "Computing variances: 100%|██████████| 37/37 [00:00<00:00, 4331.02it/s]\n",
      "Computing signatures:  41%|████▏     | 43/104 [00:00<00:00, 219.06it/s]"
     ]
    },
    {
     "name": "stdout",
     "output_type": "stream",
     "text": [
      "Preparing...\n"
     ]
    },
    {
     "name": "stderr",
     "output_type": "stream",
     "text": [
      "Computing signatures: 100%|██████████| 104/104 [00:00<00:00, 216.60it/s]\n",
      "Building shuffle matrix: 100%|██████████| 63/63 [00:02<00:00, 28.34it/s] \n",
      "Computing variances: 100%|██████████| 25/25 [00:00<00:00, 3504.83it/s]"
     ]
    },
    {
     "name": "stdout",
     "output_type": "stream",
     "text": [
      "Done.\n"
     ]
    },
    {
     "name": "stderr",
     "output_type": "stream",
     "text": [
      "\n",
      "Computing variances: 100%|██████████| 37/37 [00:00<00:00, 4046.02it/s]\n",
      "Computing signatures:  45%|████▌     | 47/104 [00:00<00:00, 224.64it/s]"
     ]
    },
    {
     "name": "stdout",
     "output_type": "stream",
     "text": [
      "Preparing...\n"
     ]
    },
    {
     "name": "stderr",
     "output_type": "stream",
     "text": [
      "Computing signatures: 100%|██████████| 104/104 [00:00<00:00, 229.00it/s]\n",
      "Building shuffle matrix: 100%|██████████| 63/63 [00:02<00:00, 29.15it/s] \n"
     ]
    },
    {
     "name": "stdout",
     "output_type": "stream",
     "text": [
      "Done.\n"
     ]
    },
    {
     "name": "stderr",
     "output_type": "stream",
     "text": [
      "Computing variances: 100%|██████████| 25/25 [00:00<00:00, 3939.50it/s]\n",
      "Computing variances: 100%|██████████| 37/37 [00:00<00:00, 4063.72it/s]\n",
      "Computing signatures: 100%|██████████| 42/42 [00:00<00:00, 250.76it/s]\n",
      "Building shuffle matrix:   0%|          | 0/63 [00:00<?, ?it/s]"
     ]
    },
    {
     "name": "stdout",
     "output_type": "stream",
     "text": [
      "Preparing...\n"
     ]
    },
    {
     "name": "stderr",
     "output_type": "stream",
     "text": [
      "Building shuffle matrix: 100%|██████████| 63/63 [00:02<00:00, 28.55it/s] \n",
      "Computing variances: 100%|██████████| 10/10 [00:00<00:00, 4070.16it/s]\n",
      "Computing variances:   0%|          | 0/148 [00:00<?, ?it/s]"
     ]
    },
    {
     "name": "stdout",
     "output_type": "stream",
     "text": [
      "Done.\n"
     ]
    },
    {
     "name": "stderr",
     "output_type": "stream",
     "text": [
      "Computing variances: 100%|██████████| 148/148 [00:00<00:00, 7100.05it/s]\n",
      "Computing signatures: 100%|██████████| 42/42 [00:00<00:00, 254.75it/s]\n",
      "Building shuffle matrix:   0%|          | 0/63 [00:00<?, ?it/s]"
     ]
    },
    {
     "name": "stdout",
     "output_type": "stream",
     "text": [
      "Preparing...\n"
     ]
    },
    {
     "name": "stderr",
     "output_type": "stream",
     "text": [
      "Building shuffle matrix: 100%|██████████| 63/63 [00:02<00:00, 28.92it/s] \n",
      "Computing variances: 100%|██████████| 10/10 [00:00<00:00, 3936.83it/s]\n",
      "Computing variances:   0%|          | 0/148 [00:00<?, ?it/s]"
     ]
    },
    {
     "name": "stdout",
     "output_type": "stream",
     "text": [
      "Done.\n"
     ]
    },
    {
     "name": "stderr",
     "output_type": "stream",
     "text": [
      "Computing variances: 100%|██████████| 148/148 [00:00<00:00, 7346.06it/s]\n",
      "Computing signatures: 100%|██████████| 42/42 [00:00<00:00, 261.10it/s]\n",
      "Building shuffle matrix:   0%|          | 0/63 [00:00<?, ?it/s]"
     ]
    },
    {
     "name": "stdout",
     "output_type": "stream",
     "text": [
      "Preparing...\n"
     ]
    },
    {
     "name": "stderr",
     "output_type": "stream",
     "text": [
      "Building shuffle matrix: 100%|██████████| 63/63 [00:02<00:00, 27.91it/s] \n",
      "Computing variances: 100%|██████████| 10/10 [00:00<00:00, 3521.37it/s]\n",
      "Computing variances:   0%|          | 0/148 [00:00<?, ?it/s]"
     ]
    },
    {
     "name": "stdout",
     "output_type": "stream",
     "text": [
      "Done.\n"
     ]
    },
    {
     "name": "stderr",
     "output_type": "stream",
     "text": [
      "Computing variances: 100%|██████████| 148/148 [00:00<00:00, 7114.61it/s]\n",
      "Computing signatures: 100%|██████████| 42/42 [00:00<00:00, 293.01it/s]\n",
      "Building shuffle matrix:   0%|          | 0/63 [00:00<?, ?it/s]"
     ]
    },
    {
     "name": "stdout",
     "output_type": "stream",
     "text": [
      "Preparing...\n"
     ]
    },
    {
     "name": "stderr",
     "output_type": "stream",
     "text": [
      "Building shuffle matrix: 100%|██████████| 63/63 [00:02<00:00, 28.05it/s] \n",
      "Computing variances: 100%|██████████| 10/10 [00:00<00:00, 2608.88it/s]"
     ]
    },
    {
     "name": "stdout",
     "output_type": "stream",
     "text": [
      "Done.\n"
     ]
    },
    {
     "name": "stderr",
     "output_type": "stream",
     "text": [
      "\n",
      "Computing variances: 100%|██████████| 148/148 [00:00<00:00, 7012.62it/s]\n",
      "Computing signatures: 100%|██████████| 42/42 [00:00<00:00, 292.51it/s]\n",
      "Building shuffle matrix:   0%|          | 0/63 [00:00<?, ?it/s]"
     ]
    },
    {
     "name": "stdout",
     "output_type": "stream",
     "text": [
      "Preparing...\n"
     ]
    },
    {
     "name": "stderr",
     "output_type": "stream",
     "text": [
      "Building shuffle matrix: 100%|██████████| 63/63 [00:02<00:00, 28.89it/s] \n",
      "Computing variances: 100%|██████████| 10/10 [00:00<00:00, 4905.05it/s]"
     ]
    },
    {
     "name": "stdout",
     "output_type": "stream",
     "text": [
      "Done.\n"
     ]
    },
    {
     "name": "stderr",
     "output_type": "stream",
     "text": [
      "\n",
      "Computing variances: 100%|██████████| 148/148 [00:00<00:00, 7080.69it/s]\n",
      "Computing signatures: 100%|██████████| 42/42 [00:00<00:00, 294.03it/s]\n",
      "Building shuffle matrix:   0%|          | 0/63 [00:00<?, ?it/s]"
     ]
    },
    {
     "name": "stdout",
     "output_type": "stream",
     "text": [
      "Preparing...\n"
     ]
    },
    {
     "name": "stderr",
     "output_type": "stream",
     "text": [
      "Building shuffle matrix: 100%|██████████| 63/63 [00:02<00:00, 28.76it/s] \n",
      "Computing variances: 100%|██████████| 10/10 [00:00<00:00, 3441.06it/s]"
     ]
    },
    {
     "name": "stdout",
     "output_type": "stream",
     "text": [
      "Done.\n"
     ]
    },
    {
     "name": "stderr",
     "output_type": "stream",
     "text": [
      "\n",
      "Computing variances: 100%|██████████| 148/148 [00:00<00:00, 6729.44it/s]\n",
      "Computing signatures: 100%|██████████| 42/42 [00:00<00:00, 289.94it/s]\n",
      "Building shuffle matrix:   0%|          | 0/63 [00:00<?, ?it/s]"
     ]
    },
    {
     "name": "stdout",
     "output_type": "stream",
     "text": [
      "Preparing...\n"
     ]
    },
    {
     "name": "stderr",
     "output_type": "stream",
     "text": [
      "Building shuffle matrix: 100%|██████████| 63/63 [00:02<00:00, 27.38it/s] \n",
      "Computing variances: 100%|██████████| 10/10 [00:00<00:00, 3859.32it/s]\n",
      "Computing variances:   0%|          | 0/148 [00:00<?, ?it/s]"
     ]
    },
    {
     "name": "stdout",
     "output_type": "stream",
     "text": [
      "Done.\n"
     ]
    },
    {
     "name": "stderr",
     "output_type": "stream",
     "text": [
      "Computing variances: 100%|██████████| 148/148 [00:00<00:00, 7168.84it/s]\n",
      "Computing signatures: 100%|██████████| 42/42 [00:00<00:00, 287.65it/s]\n",
      "Building shuffle matrix:   0%|          | 0/63 [00:00<?, ?it/s]"
     ]
    },
    {
     "name": "stdout",
     "output_type": "stream",
     "text": [
      "Preparing...\n"
     ]
    },
    {
     "name": "stderr",
     "output_type": "stream",
     "text": [
      "Building shuffle matrix: 100%|██████████| 63/63 [00:02<00:00, 28.34it/s] \n",
      "Computing variances: 100%|██████████| 10/10 [00:00<00:00, 3423.64it/s]"
     ]
    },
    {
     "name": "stdout",
     "output_type": "stream",
     "text": [
      "Done.\n"
     ]
    },
    {
     "name": "stderr",
     "output_type": "stream",
     "text": [
      "\n",
      "Computing variances: 100%|██████████| 148/148 [00:00<00:00, 7040.62it/s]\n",
      "Computing signatures: 100%|██████████| 42/42 [00:00<00:00, 294.09it/s]\n",
      "Building shuffle matrix:   0%|          | 0/63 [00:00<?, ?it/s]"
     ]
    },
    {
     "name": "stdout",
     "output_type": "stream",
     "text": [
      "Preparing...\n"
     ]
    },
    {
     "name": "stderr",
     "output_type": "stream",
     "text": [
      "Building shuffle matrix: 100%|██████████| 63/63 [00:02<00:00, 28.46it/s] \n",
      "Computing variances: 100%|██████████| 10/10 [00:00<00:00, 4171.36it/s]"
     ]
    },
    {
     "name": "stdout",
     "output_type": "stream",
     "text": [
      "Done.\n"
     ]
    },
    {
     "name": "stderr",
     "output_type": "stream",
     "text": [
      "\n",
      "Computing variances: 100%|██████████| 148/148 [00:00<00:00, 7251.75it/s]\n",
      "Computing signatures: 100%|██████████| 42/42 [00:00<00:00, 293.66it/s]\n",
      "Building shuffle matrix:   0%|          | 0/63 [00:00<?, ?it/s]"
     ]
    },
    {
     "name": "stdout",
     "output_type": "stream",
     "text": [
      "Preparing...\n"
     ]
    },
    {
     "name": "stderr",
     "output_type": "stream",
     "text": [
      "Building shuffle matrix: 100%|██████████| 63/63 [00:02<00:00, 28.44it/s] \n",
      "Computing variances: 100%|██████████| 10/10 [00:00<00:00, 3843.40it/s]"
     ]
    },
    {
     "name": "stdout",
     "output_type": "stream",
     "text": [
      "Done.\n"
     ]
    },
    {
     "name": "stderr",
     "output_type": "stream",
     "text": [
      "\n",
      "Computing variances: 100%|██████████| 148/148 [00:00<00:00, 7145.32it/s]\n",
      "Computing signatures:  20%|██        | 99/488 [00:00<00:00, 988.84it/s]"
     ]
    },
    {
     "name": "stdout",
     "output_type": "stream",
     "text": [
      "Preparing...\n"
     ]
    },
    {
     "name": "stderr",
     "output_type": "stream",
     "text": [
      "Computing signatures: 100%|██████████| 488/488 [00:00<00:00, 978.93it/s]\n",
      "Building shuffle matrix: 100%|██████████| 63/63 [00:02<00:00, 28.57it/s] \n",
      "Computing variances: 100%|██████████| 116/116 [00:00<00:00, 2099.28it/s]"
     ]
    },
    {
     "name": "stdout",
     "output_type": "stream",
     "text": [
      "Done.\n"
     ]
    },
    {
     "name": "stderr",
     "output_type": "stream",
     "text": [
      "\n",
      "Computing variances: 100%|██████████| 558/558 [00:00<00:00, 2168.51it/s]\n",
      "Computing signatures:  39%|███▊      | 188/488 [00:00<00:00, 923.68it/s]"
     ]
    },
    {
     "name": "stdout",
     "output_type": "stream",
     "text": [
      "Preparing...\n"
     ]
    },
    {
     "name": "stderr",
     "output_type": "stream",
     "text": [
      "Computing signatures: 100%|██████████| 488/488 [00:00<00:00, 953.32it/s]\n",
      "Building shuffle matrix: 100%|██████████| 63/63 [00:02<00:00, 28.76it/s] \n",
      "Computing variances: 100%|██████████| 116/116 [00:00<00:00, 2046.67it/s]"
     ]
    },
    {
     "name": "stdout",
     "output_type": "stream",
     "text": [
      "Done.\n"
     ]
    },
    {
     "name": "stderr",
     "output_type": "stream",
     "text": [
      "\n",
      "Computing variances: 100%|██████████| 558/558 [00:00<00:00, 2168.13it/s]\n",
      "Computing signatures:  20%|██        | 100/488 [00:00<00:00, 992.82it/s]"
     ]
    },
    {
     "name": "stdout",
     "output_type": "stream",
     "text": [
      "Preparing...\n"
     ]
    },
    {
     "name": "stderr",
     "output_type": "stream",
     "text": [
      "Computing signatures: 100%|██████████| 488/488 [00:00<00:00, 970.97it/s]\n",
      "Building shuffle matrix: 100%|██████████| 63/63 [00:02<00:00, 29.09it/s] \n",
      "Computing variances: 100%|██████████| 116/116 [00:00<00:00, 1692.42it/s]"
     ]
    },
    {
     "name": "stdout",
     "output_type": "stream",
     "text": [
      "Done.\n"
     ]
    },
    {
     "name": "stderr",
     "output_type": "stream",
     "text": [
      "\n",
      "Computing variances: 100%|██████████| 558/558 [00:00<00:00, 2113.44it/s]\n",
      "Computing signatures:  36%|███▌      | 175/488 [00:00<00:00, 833.09it/s]"
     ]
    },
    {
     "name": "stdout",
     "output_type": "stream",
     "text": [
      "Preparing...\n"
     ]
    },
    {
     "name": "stderr",
     "output_type": "stream",
     "text": [
      "Computing signatures: 100%|██████████| 488/488 [00:00<00:00, 932.29it/s]\n",
      "Building shuffle matrix: 100%|██████████| 63/63 [00:02<00:00, 28.56it/s] \n",
      "Computing variances: 100%|██████████| 116/116 [00:00<00:00, 2119.35it/s]"
     ]
    },
    {
     "name": "stdout",
     "output_type": "stream",
     "text": [
      "Done.\n"
     ]
    },
    {
     "name": "stderr",
     "output_type": "stream",
     "text": [
      "\n",
      "Computing variances: 100%|██████████| 558/558 [00:00<00:00, 2175.87it/s]\n",
      "Computing signatures:  41%|████      | 198/488 [00:00<00:00, 992.14it/s]"
     ]
    },
    {
     "name": "stdout",
     "output_type": "stream",
     "text": [
      "Preparing...\n"
     ]
    },
    {
     "name": "stderr",
     "output_type": "stream",
     "text": [
      "Computing signatures: 100%|██████████| 488/488 [00:00<00:00, 981.82it/s]\n",
      "Building shuffle matrix: 100%|██████████| 63/63 [00:02<00:00, 28.77it/s] \n",
      "Computing variances: 100%|██████████| 116/116 [00:00<00:00, 1686.39it/s]"
     ]
    },
    {
     "name": "stdout",
     "output_type": "stream",
     "text": [
      "Done.\n"
     ]
    },
    {
     "name": "stderr",
     "output_type": "stream",
     "text": [
      "\n",
      "Computing variances: 100%|██████████| 558/558 [00:00<00:00, 2185.55it/s]\n",
      "Computing signatures:  18%|█▊        | 89/488 [00:00<00:00, 885.99it/s]"
     ]
    },
    {
     "name": "stdout",
     "output_type": "stream",
     "text": [
      "Preparing...\n"
     ]
    },
    {
     "name": "stderr",
     "output_type": "stream",
     "text": [
      "Computing signatures: 100%|██████████| 488/488 [00:00<00:00, 872.11it/s]\n",
      "Building shuffle matrix: 100%|██████████| 63/63 [00:02<00:00, 29.35it/s] \n",
      "Computing variances: 100%|██████████| 116/116 [00:00<00:00, 2135.77it/s]"
     ]
    },
    {
     "name": "stdout",
     "output_type": "stream",
     "text": [
      "Done.\n"
     ]
    },
    {
     "name": "stderr",
     "output_type": "stream",
     "text": [
      "\n",
      "Computing variances: 100%|██████████| 558/558 [00:00<00:00, 2160.27it/s]\n",
      "Computing signatures:  39%|███▉      | 192/488 [00:00<00:00, 954.91it/s]"
     ]
    },
    {
     "name": "stdout",
     "output_type": "stream",
     "text": [
      "Preparing...\n"
     ]
    },
    {
     "name": "stderr",
     "output_type": "stream",
     "text": [
      "Computing signatures: 100%|██████████| 488/488 [00:00<00:00, 957.41it/s]\n",
      "Building shuffle matrix: 100%|██████████| 63/63 [00:02<00:00, 29.00it/s] \n",
      "Computing variances: 100%|██████████| 116/116 [00:00<00:00, 1932.43it/s]"
     ]
    },
    {
     "name": "stdout",
     "output_type": "stream",
     "text": [
      "Done.\n"
     ]
    },
    {
     "name": "stderr",
     "output_type": "stream",
     "text": [
      "\n",
      "Computing variances: 100%|██████████| 558/558 [00:00<00:00, 1959.97it/s]\n",
      "Computing signatures:  20%|██        | 99/488 [00:00<00:00, 986.19it/s]"
     ]
    },
    {
     "name": "stdout",
     "output_type": "stream",
     "text": [
      "Preparing...\n"
     ]
    },
    {
     "name": "stderr",
     "output_type": "stream",
     "text": [
      "Computing signatures: 100%|██████████| 488/488 [00:00<00:00, 937.32it/s]\n",
      "Building shuffle matrix: 100%|██████████| 63/63 [00:02<00:00, 28.92it/s] \n",
      "Computing variances: 100%|██████████| 116/116 [00:00<00:00, 2169.48it/s]"
     ]
    },
    {
     "name": "stdout",
     "output_type": "stream",
     "text": [
      "Done.\n"
     ]
    },
    {
     "name": "stderr",
     "output_type": "stream",
     "text": [
      "\n",
      "Computing variances: 100%|██████████| 558/558 [00:00<00:00, 1973.20it/s]\n",
      "Computing signatures:  40%|███▉      | 195/488 [00:00<00:00, 981.29it/s]"
     ]
    },
    {
     "name": "stdout",
     "output_type": "stream",
     "text": [
      "Preparing...\n"
     ]
    },
    {
     "name": "stderr",
     "output_type": "stream",
     "text": [
      "Computing signatures: 100%|██████████| 488/488 [00:00<00:00, 978.56it/s]\n",
      "Building shuffle matrix: 100%|██████████| 63/63 [00:02<00:00, 28.01it/s] \n",
      "Computing variances: 100%|██████████| 116/116 [00:00<00:00, 1401.22it/s]"
     ]
    },
    {
     "name": "stdout",
     "output_type": "stream",
     "text": [
      "Done.\n"
     ]
    },
    {
     "name": "stderr",
     "output_type": "stream",
     "text": [
      "\n",
      "Computing variances: 100%|██████████| 558/558 [00:00<00:00, 1988.09it/s]\n",
      "Computing signatures:  20%|██        | 99/488 [00:00<00:00, 984.67it/s]"
     ]
    },
    {
     "name": "stdout",
     "output_type": "stream",
     "text": [
      "Preparing...\n"
     ]
    },
    {
     "name": "stderr",
     "output_type": "stream",
     "text": [
      "Computing signatures: 100%|██████████| 488/488 [00:00<00:00, 935.19it/s]\n",
      "Building shuffle matrix: 100%|██████████| 63/63 [00:02<00:00, 28.93it/s] \n",
      "Computing variances: 100%|██████████| 116/116 [00:00<00:00, 2172.45it/s]"
     ]
    },
    {
     "name": "stdout",
     "output_type": "stream",
     "text": [
      "Done.\n"
     ]
    },
    {
     "name": "stderr",
     "output_type": "stream",
     "text": [
      "\n",
      "Computing variances: 100%|██████████| 558/558 [00:00<00:00, 2160.33it/s]\n",
      "Computing signatures:   1%|          | 50/6280 [00:00<00:12, 498.44it/s]"
     ]
    },
    {
     "name": "stdout",
     "output_type": "stream",
     "text": [
      "Preparing...\n"
     ]
    },
    {
     "name": "stderr",
     "output_type": "stream",
     "text": [
      "Computing signatures: 100%|██████████| 6280/6280 [00:12<00:00, 510.96it/s]\n",
      "Building shuffle matrix: 100%|██████████| 63/63 [00:02<00:00, 28.13it/s] \n"
     ]
    },
    {
     "name": "stdout",
     "output_type": "stream",
     "text": [
      "Done.\n"
     ]
    },
    {
     "name": "stderr",
     "output_type": "stream",
     "text": [
      "Computing variances: 100%|██████████| 152/152 [00:17<00:00,  8.86it/s]\n",
      "Computing variances: 100%|██████████| 732/732 [01:23<00:00,  8.72it/s]\n",
      "Computing signatures:   2%|▏         | 104/6280 [00:00<00:12, 510.15it/s]"
     ]
    },
    {
     "name": "stdout",
     "output_type": "stream",
     "text": [
      "Preparing...\n"
     ]
    },
    {
     "name": "stderr",
     "output_type": "stream",
     "text": [
      "Computing signatures: 100%|██████████| 6280/6280 [00:12<00:00, 507.50it/s]\n",
      "Building shuffle matrix: 100%|██████████| 63/63 [00:02<00:00, 28.94it/s] \n",
      "Computing variances:   1%|          | 1/152 [00:00<00:17,  8.65it/s]"
     ]
    },
    {
     "name": "stdout",
     "output_type": "stream",
     "text": [
      "Done.\n"
     ]
    },
    {
     "name": "stderr",
     "output_type": "stream",
     "text": [
      "Computing variances: 100%|██████████| 152/152 [00:17<00:00,  8.87it/s]\n",
      "Computing variances: 100%|██████████| 732/732 [01:24<00:00,  8.67it/s]\n",
      "Computing signatures:   1%|          | 51/6280 [00:00<00:12, 508.05it/s]"
     ]
    },
    {
     "name": "stdout",
     "output_type": "stream",
     "text": [
      "Preparing...\n"
     ]
    },
    {
     "name": "stderr",
     "output_type": "stream",
     "text": [
      "Computing signatures: 100%|██████████| 6280/6280 [00:12<00:00, 506.90it/s]\n",
      "Building shuffle matrix: 100%|██████████| 63/63 [00:02<00:00, 29.38it/s] \n"
     ]
    },
    {
     "name": "stdout",
     "output_type": "stream",
     "text": [
      "Done.\n"
     ]
    },
    {
     "name": "stderr",
     "output_type": "stream",
     "text": [
      "Computing variances: 100%|██████████| 152/152 [00:17<00:00,  8.89it/s]\n",
      "Computing variances: 100%|██████████| 732/732 [01:24<00:00,  8.63it/s]\n",
      "Computing signatures:   1%|          | 48/6280 [00:00<00:13, 475.22it/s]"
     ]
    },
    {
     "name": "stdout",
     "output_type": "stream",
     "text": [
      "Preparing...\n"
     ]
    },
    {
     "name": "stderr",
     "output_type": "stream",
     "text": [
      "Computing signatures: 100%|██████████| 6280/6280 [00:12<00:00, 505.22it/s]\n",
      "Building shuffle matrix: 100%|██████████| 63/63 [00:02<00:00, 28.39it/s] \n"
     ]
    },
    {
     "name": "stdout",
     "output_type": "stream",
     "text": [
      "Done.\n"
     ]
    },
    {
     "name": "stderr",
     "output_type": "stream",
     "text": [
      "Computing variances: 100%|██████████| 152/152 [00:17<00:00,  8.86it/s]\n",
      "Computing variances: 100%|██████████| 732/732 [01:24<00:00,  8.68it/s]\n",
      "Computing signatures:   1%|          | 47/6280 [00:00<00:13, 466.08it/s]"
     ]
    },
    {
     "name": "stdout",
     "output_type": "stream",
     "text": [
      "Preparing...\n"
     ]
    },
    {
     "name": "stderr",
     "output_type": "stream",
     "text": [
      "Computing signatures: 100%|██████████| 6280/6280 [00:12<00:00, 507.42it/s]\n",
      "Building shuffle matrix: 100%|██████████| 63/63 [00:02<00:00, 28.92it/s] \n"
     ]
    },
    {
     "name": "stdout",
     "output_type": "stream",
     "text": [
      "Done.\n"
     ]
    },
    {
     "name": "stderr",
     "output_type": "stream",
     "text": [
      "Computing variances: 100%|██████████| 152/152 [00:16<00:00,  8.95it/s]\n",
      "Computing variances: 100%|██████████| 732/732 [01:24<00:00,  8.63it/s]\n",
      "Computing signatures:   2%|▏         | 145/6280 [00:00<00:12, 473.49it/s]"
     ]
    },
    {
     "name": "stdout",
     "output_type": "stream",
     "text": [
      "Preparing...\n"
     ]
    },
    {
     "name": "stderr",
     "output_type": "stream",
     "text": [
      "Computing signatures: 100%|██████████| 6280/6280 [00:12<00:00, 507.83it/s]\n",
      "Building shuffle matrix: 100%|██████████| 63/63 [00:02<00:00, 28.00it/s] \n"
     ]
    },
    {
     "name": "stdout",
     "output_type": "stream",
     "text": [
      "Done.\n"
     ]
    },
    {
     "name": "stderr",
     "output_type": "stream",
     "text": [
      "Computing variances: 100%|██████████| 152/152 [00:17<00:00,  8.91it/s]\n",
      "Computing variances: 100%|██████████| 732/732 [01:24<00:00,  8.67it/s]\n",
      "Computing signatures:   2%|▏         | 156/6280 [00:00<00:12, 506.85it/s]"
     ]
    },
    {
     "name": "stdout",
     "output_type": "stream",
     "text": [
      "Preparing...\n"
     ]
    },
    {
     "name": "stderr",
     "output_type": "stream",
     "text": [
      "Computing signatures: 100%|██████████| 6280/6280 [00:12<00:00, 506.98it/s]\n",
      "Building shuffle matrix: 100%|██████████| 63/63 [00:02<00:00, 28.49it/s] \n"
     ]
    },
    {
     "name": "stdout",
     "output_type": "stream",
     "text": [
      "Done.\n"
     ]
    },
    {
     "name": "stderr",
     "output_type": "stream",
     "text": [
      "Computing variances: 100%|██████████| 152/152 [00:17<00:00,  8.92it/s]\n",
      "Computing variances: 100%|██████████| 732/732 [01:24<00:00,  8.66it/s]\n",
      "Computing signatures:   1%|          | 52/6280 [00:00<00:12, 516.80it/s]"
     ]
    },
    {
     "name": "stdout",
     "output_type": "stream",
     "text": [
      "Preparing...\n"
     ]
    },
    {
     "name": "stderr",
     "output_type": "stream",
     "text": [
      "Computing signatures: 100%|██████████| 6280/6280 [00:12<00:00, 509.72it/s]\n",
      "Building shuffle matrix: 100%|██████████| 63/63 [00:02<00:00, 28.59it/s] \n"
     ]
    },
    {
     "name": "stdout",
     "output_type": "stream",
     "text": [
      "Done.\n"
     ]
    },
    {
     "name": "stderr",
     "output_type": "stream",
     "text": [
      "Computing variances: 100%|██████████| 152/152 [00:17<00:00,  8.85it/s]\n",
      "Computing variances: 100%|██████████| 732/732 [01:25<00:00,  8.58it/s]\n",
      "Computing signatures:   1%|          | 51/6280 [00:00<00:12, 503.30it/s]"
     ]
    },
    {
     "name": "stdout",
     "output_type": "stream",
     "text": [
      "Preparing...\n"
     ]
    },
    {
     "name": "stderr",
     "output_type": "stream",
     "text": [
      "Computing signatures: 100%|██████████| 6280/6280 [00:12<00:00, 507.82it/s]\n",
      "Building shuffle matrix: 100%|██████████| 63/63 [00:02<00:00, 28.33it/s] \n",
      "Computing variances:   1%|          | 1/152 [00:00<00:16,  8.89it/s]"
     ]
    },
    {
     "name": "stdout",
     "output_type": "stream",
     "text": [
      "Done.\n"
     ]
    },
    {
     "name": "stderr",
     "output_type": "stream",
     "text": [
      "Computing variances: 100%|██████████| 152/152 [00:17<00:00,  8.92it/s]\n",
      "Computing variances: 100%|██████████| 732/732 [01:24<00:00,  8.69it/s]\n",
      "Computing signatures:   1%|          | 52/6280 [00:00<00:12, 511.42it/s]"
     ]
    },
    {
     "name": "stdout",
     "output_type": "stream",
     "text": [
      "Preparing...\n"
     ]
    },
    {
     "name": "stderr",
     "output_type": "stream",
     "text": [
      "Computing signatures: 100%|██████████| 6280/6280 [00:12<00:00, 508.01it/s]\n",
      "Building shuffle matrix: 100%|██████████| 63/63 [00:02<00:00, 28.90it/s] \n"
     ]
    },
    {
     "name": "stdout",
     "output_type": "stream",
     "text": [
      "Done.\n"
     ]
    },
    {
     "name": "stderr",
     "output_type": "stream",
     "text": [
      "Computing variances: 100%|██████████| 152/152 [00:17<00:00,  8.90it/s]\n",
      "Computing variances: 100%|██████████| 732/732 [01:24<00:00,  8.67it/s]\n",
      "Computing signatures: 100%|██████████| 48/48 [00:00<00:00, 281.58it/s]\n",
      "Building shuffle matrix:   0%|          | 0/63 [00:00<?, ?it/s]"
     ]
    },
    {
     "name": "stdout",
     "output_type": "stream",
     "text": [
      "Preparing...\n"
     ]
    },
    {
     "name": "stderr",
     "output_type": "stream",
     "text": [
      "Building shuffle matrix: 100%|██████████| 63/63 [00:02<00:00, 27.91it/s] \n",
      "Computing variances: 100%|██████████| 11/11 [00:00<00:00, 3438.72it/s]"
     ]
    },
    {
     "name": "stdout",
     "output_type": "stream",
     "text": [
      "Done.\n"
     ]
    },
    {
     "name": "stderr",
     "output_type": "stream",
     "text": [
      "\n",
      "Computing variances: 100%|██████████| 52/52 [00:00<00:00, 5893.58it/s]\n",
      "Computing signatures: 100%|██████████| 48/48 [00:00<00:00, 345.65it/s]\n",
      "Building shuffle matrix:   0%|          | 0/63 [00:00<?, ?it/s]"
     ]
    },
    {
     "name": "stdout",
     "output_type": "stream",
     "text": [
      "Preparing...\n"
     ]
    },
    {
     "name": "stderr",
     "output_type": "stream",
     "text": [
      "Building shuffle matrix: 100%|██████████| 63/63 [00:02<00:00, 28.90it/s] \n",
      "Computing variances: 100%|██████████| 11/11 [00:00<00:00, 2875.14it/s]"
     ]
    },
    {
     "name": "stdout",
     "output_type": "stream",
     "text": [
      "Done.\n"
     ]
    },
    {
     "name": "stderr",
     "output_type": "stream",
     "text": [
      "\n",
      "Computing variances: 100%|██████████| 52/52 [00:00<00:00, 5204.22it/s]\n",
      "Computing signatures: 100%|██████████| 48/48 [00:00<00:00, 340.72it/s]\n",
      "Building shuffle matrix:   0%|          | 0/63 [00:00<?, ?it/s]"
     ]
    },
    {
     "name": "stdout",
     "output_type": "stream",
     "text": [
      "Preparing...\n"
     ]
    },
    {
     "name": "stderr",
     "output_type": "stream",
     "text": [
      "Building shuffle matrix: 100%|██████████| 63/63 [00:02<00:00, 28.79it/s] \n",
      "Computing variances: 100%|██████████| 11/11 [00:00<00:00, 3739.15it/s]"
     ]
    },
    {
     "name": "stdout",
     "output_type": "stream",
     "text": [
      "Done.\n"
     ]
    },
    {
     "name": "stderr",
     "output_type": "stream",
     "text": [
      "\n",
      "Computing variances: 100%|██████████| 52/52 [00:00<00:00, 4759.29it/s]\n",
      "Computing signatures: 100%|██████████| 48/48 [00:00<00:00, 326.57it/s]\n",
      "Building shuffle matrix:   0%|          | 0/63 [00:00<?, ?it/s]"
     ]
    },
    {
     "name": "stdout",
     "output_type": "stream",
     "text": [
      "Preparing...\n"
     ]
    },
    {
     "name": "stderr",
     "output_type": "stream",
     "text": [
      "Building shuffle matrix: 100%|██████████| 63/63 [00:02<00:00, 27.79it/s] \n",
      "Computing variances: 100%|██████████| 11/11 [00:00<00:00, 2940.37it/s]"
     ]
    },
    {
     "name": "stdout",
     "output_type": "stream",
     "text": [
      "Done.\n"
     ]
    },
    {
     "name": "stderr",
     "output_type": "stream",
     "text": [
      "\n",
      "Computing variances: 100%|██████████| 52/52 [00:00<00:00, 5421.15it/s]\n",
      "Computing signatures: 100%|██████████| 48/48 [00:00<00:00, 332.04it/s]\n",
      "Building shuffle matrix:   0%|          | 0/63 [00:00<?, ?it/s]"
     ]
    },
    {
     "name": "stdout",
     "output_type": "stream",
     "text": [
      "Preparing...\n"
     ]
    },
    {
     "name": "stderr",
     "output_type": "stream",
     "text": [
      "Building shuffle matrix: 100%|██████████| 63/63 [00:02<00:00, 28.26it/s] \n",
      "Computing variances: 100%|██████████| 11/11 [00:00<00:00, 4325.65it/s]"
     ]
    },
    {
     "name": "stdout",
     "output_type": "stream",
     "text": [
      "Done.\n"
     ]
    },
    {
     "name": "stderr",
     "output_type": "stream",
     "text": [
      "\n",
      "Computing variances: 100%|██████████| 52/52 [00:00<00:00, 5963.19it/s]\n",
      "Computing signatures: 100%|██████████| 48/48 [00:00<00:00, 319.36it/s]\n",
      "Building shuffle matrix:   0%|          | 0/63 [00:00<?, ?it/s]"
     ]
    },
    {
     "name": "stdout",
     "output_type": "stream",
     "text": [
      "Preparing...\n"
     ]
    },
    {
     "name": "stderr",
     "output_type": "stream",
     "text": [
      "Building shuffle matrix: 100%|██████████| 63/63 [00:02<00:00, 29.14it/s] \n",
      "Computing variances: 100%|██████████| 11/11 [00:00<00:00, 3653.57it/s]\n",
      "Computing variances:   0%|          | 0/52 [00:00<?, ?it/s]"
     ]
    },
    {
     "name": "stdout",
     "output_type": "stream",
     "text": [
      "Done.\n"
     ]
    },
    {
     "name": "stderr",
     "output_type": "stream",
     "text": [
      "Computing variances: 100%|██████████| 52/52 [00:00<00:00, 5848.54it/s]\n",
      "Computing signatures: 100%|██████████| 48/48 [00:00<00:00, 334.73it/s]\n",
      "Building shuffle matrix:   0%|          | 0/63 [00:00<?, ?it/s]"
     ]
    },
    {
     "name": "stdout",
     "output_type": "stream",
     "text": [
      "Preparing...\n"
     ]
    },
    {
     "name": "stderr",
     "output_type": "stream",
     "text": [
      "Building shuffle matrix: 100%|██████████| 63/63 [00:02<00:00, 28.55it/s] \n",
      "Computing variances: 100%|██████████| 11/11 [00:00<00:00, 4130.84it/s]"
     ]
    },
    {
     "name": "stdout",
     "output_type": "stream",
     "text": [
      "Done.\n"
     ]
    },
    {
     "name": "stderr",
     "output_type": "stream",
     "text": [
      "\n",
      "Computing variances: 100%|██████████| 52/52 [00:00<00:00, 5423.44it/s]\n",
      "Computing signatures: 100%|██████████| 48/48 [00:00<00:00, 302.61it/s]\n",
      "Building shuffle matrix:   0%|          | 0/63 [00:00<?, ?it/s]"
     ]
    },
    {
     "name": "stdout",
     "output_type": "stream",
     "text": [
      "Preparing...\n"
     ]
    },
    {
     "name": "stderr",
     "output_type": "stream",
     "text": [
      "Building shuffle matrix: 100%|██████████| 63/63 [00:02<00:00, 29.29it/s] \n",
      "Computing variances: 100%|██████████| 11/11 [00:00<00:00, 3264.97it/s]"
     ]
    },
    {
     "name": "stdout",
     "output_type": "stream",
     "text": [
      "Done.\n"
     ]
    },
    {
     "name": "stderr",
     "output_type": "stream",
     "text": [
      "\n",
      "Computing variances: 100%|██████████| 52/52 [00:00<00:00, 5637.51it/s]\n",
      "Computing signatures: 100%|██████████| 48/48 [00:00<00:00, 328.04it/s]\n",
      "Building shuffle matrix:   0%|          | 0/63 [00:00<?, ?it/s]"
     ]
    },
    {
     "name": "stdout",
     "output_type": "stream",
     "text": [
      "Preparing...\n"
     ]
    },
    {
     "name": "stderr",
     "output_type": "stream",
     "text": [
      "Building shuffle matrix: 100%|██████████| 63/63 [00:02<00:00, 28.49it/s] \n",
      "Computing variances: 100%|██████████| 11/11 [00:00<00:00, 3204.20it/s]"
     ]
    },
    {
     "name": "stdout",
     "output_type": "stream",
     "text": [
      "Done.\n"
     ]
    },
    {
     "name": "stderr",
     "output_type": "stream",
     "text": [
      "\n",
      "Computing variances: 100%|██████████| 52/52 [00:00<00:00, 5922.55it/s]\n",
      "Computing signatures: 100%|██████████| 48/48 [00:00<00:00, 335.95it/s]\n",
      "Building shuffle matrix:   0%|          | 0/63 [00:00<?, ?it/s]"
     ]
    },
    {
     "name": "stdout",
     "output_type": "stream",
     "text": [
      "Preparing...\n"
     ]
    },
    {
     "name": "stderr",
     "output_type": "stream",
     "text": [
      "Building shuffle matrix: 100%|██████████| 63/63 [00:02<00:00, 28.45it/s] \n",
      "Computing variances: 100%|██████████| 11/11 [00:00<00:00, 3319.47it/s]"
     ]
    },
    {
     "name": "stdout",
     "output_type": "stream",
     "text": [
      "Done.\n"
     ]
    },
    {
     "name": "stderr",
     "output_type": "stream",
     "text": [
      "\n",
      "Computing variances: 100%|██████████| 52/52 [00:00<00:00, 5878.33it/s]"
     ]
    },
    {
     "name": "stdout",
     "output_type": "stream",
     "text": [
      "CPU times: user 4h 33min 39s, sys: 25min 23s, total: 4h 59min 3s\n",
      "Wall time: 1h 44min 12s\n"
     ]
    },
    {
     "name": "stderr",
     "output_type": "stream",
     "text": [
      "\n"
     ]
    }
   ],
   "source": [
    "%%time\n",
    "tnfn1 = evaluate(anomaly_level_column='Atra')\n",
    "tnfn5 = evaluate(anomaly_level_column='A5tra')"
   ]
  },
  {
   "cell_type": "markdown",
   "metadata": {},
   "source": [
    "Write objects to pickle files:"
   ]
  },
  {
   "cell_type": "code",
   "execution_count": 10,
   "metadata": {},
   "outputs": [],
   "source": [
    "for filename, obj in zip(('tnfn_order5_0.1percent.pkl', 'tnfn_order5_5percent.pkl'), (tnfn1, tnfn5)):\n",
    "    with open(filename, 'wb') as f:\n",
    "        pickle.dump(obj, f)"
   ]
  },
  {
   "cell_type": "markdown",
   "metadata": {},
   "source": [
    "Read objects from pickle files:"
   ]
  },
  {
   "cell_type": "code",
   "execution_count": 11,
   "metadata": {},
   "outputs": [],
   "source": [
    "with open(\"tnfn_order5_0.1percent.pkl\",\"rb\") as f:\n",
    "    tnfn1 = pickle.load(f)\n",
    "with open(\"tnfn_order5_5percent.pkl\",\"rb\") as f:\n",
    "    tnfn5 = pickle.load(f)"
   ]
  },
  {
   "cell_type": "markdown",
   "metadata": {},
   "source": [
    "Determine the optimal operating point in terms of balanced accuracy and compare with the best ADSL score."
   ]
  },
  {
   "cell_type": "code",
   "execution_count": 12,
   "metadata": {},
   "outputs": [
    {
     "name": "stdout",
     "output_type": "stream",
     "text": [
      "Adiac & 1.00 (0.00) & 0.99 (0.10) & 0.99 (0.09) & 0.95 (0.05)\\\\\n",
      "ArrowHead & 0.80 (0.07) & 0.65 (0.03) & 0.74 (0.06) & 0.64 (0.03)\\\\\n",
      "Beef & 0.80 (0.22) & 0.57 (0.15) & 0.80 (0.22) & 0.73 (0.12)\\\\\n",
      "BeetleFly & 0.75 (0.08) & 0.90 (0.08) & 0.69 (0.06) & 0.84 (0.08)\\\\\n",
      "BirdChicken & 0.75 (0.13) & 0.85 (0.15) & 0.77 (0.15) & 0.79 (0.09)\\\\\n",
      "CBF & 0.97 (0.01) & 0.80 (0.04) & 0.86 (0.03) & 0.68 (0.03)\\\\\n",
      "ChlorineConcentration & 0.91 (0.01) & 0.50 (0.00) & 0.88 (0.01) & 0.47 (0.01)\\\\\n",
      "Coffee & 0.80 (0.05) & 0.84 (0.04) & 0.78 (0.05) & 0.73 (0.05)\\\\\n",
      "ECG200 & 0.80 (0.06) & 0.50 (0.03) & 0.75 (0.05) & 0.47 (0.04)\\\\\n",
      "ECGFiveDays & 0.97 (0.02) & 0.94 (0.11) & 0.83 (0.02) & 0.86 (0.01)\\\\\n",
      "FaceFour & 0.78 (0.10) & 0.94 (0.10) & 0.78 (0.13) & 0.88 (0.11)\\\\\n",
      "GunPoint & 0.85 (0.05) & 0.75 (0.03) & 0.81 (0.05) & 0.68 (0.04)\\\\\n",
      "Ham & 0.52 (0.04) & 0.50 (0.02) & 0.52 (0.04) & 0.50 (0.03)\\\\\n",
      "Herring & 0.58 (0.06) & 0.52 (0.02) & 0.56 (0.05) & 0.49 (0.04)\\\\\n",
      "Lightning2 & 0.73 (0.04) & 0.63 (0.07) & 0.75 (0.05) & 0.50 (0.07)\\\\\n",
      "Lightning7 & 0.94 (0.09) & 0.73 (0.11) & 0.82 (0.09) & 0.68 (0.07)\\\\\n",
      "Meat & 0.94 (0.03) & 1.00 (0.04) & 0.79 (0.07) & 0.87 (0.05)\\\\\n",
      "MedicalImages & 0.97 (0.03) & 0.90 (0.03) & 0.95 (0.04) & 0.83 (0.05)\\\\\n",
      "MoteStrain & 0.89 (0.01) & 0.74 (0.01) & 0.86 (0.02) & 0.71 (0.03)\\\\\n",
      "Plane & 1.00 (0.00) & 1.00 (0.04) & 1.00 (0.04) & 1.00 (0.04)\\\\\n",
      "Strawberry & 0.92 (0.01) & 0.77 (0.03) & 0.88 (0.01) & 0.67 (0.02)\\\\\n",
      "Symbols & 1.00 (0.01) & 0.96 (0.02) & 0.99 (0.01) & 0.95 (0.03)\\\\\n",
      "ToeSegmentation1 & 0.77 (0.03) & 0.95 (0.01) & 0.76 (0.05) & 0.84 (0.03)\\\\\n",
      "ToeSegmentation2 & 0.80 (0.06) & 0.88 (0.02) & 0.77 (0.06) & 0.80 (0.10)\\\\\n",
      "Trace & 1.00 (0.00) & 1.00 (0.04) & 1.00 (0.05) & 1.00 (0.02)\\\\\n",
      "TwoLeadECG & 0.92 (0.02) & 0.89 (0.01) & 0.82 (0.02) & 0.81 (0.02)\\\\\n",
      "Wafer & 0.97 (0.02) & 0.56 (0.02) & 0.81 (0.03) & 0.53 (0.01)\\\\\n",
      "Wine & 0.85 (0.06) & 0.53 (0.02) & 0.81 (0.09) & 0.53 (0.02)\\\\\n"
     ]
    },
    {
     "data": {
      "image/png": "[encoded data removed]",
      "text/plain": [
       "<Figure size 864x432 with 2 Axes>"
      ]
     },
     "metadata": {
      "needs_background": "light"
     },
     "output_type": "display_data"
    }
   ],
   "source": [
    "fontsize=15\n",
    "\n",
    "fig, axs = plt.subplots(1,2, figsize=(12, 6))\n",
    "ax=axs.flatten()[0]\n",
    "roughpathsbest=[]\n",
    "roughpathserror=[]\n",
    "adslerror=[]\n",
    "for dataset in comparisons.Dataset:\n",
    "    balanced_accuracies = []\n",
    "    for tnfn in tnfn1[dataset]:\n",
    "        tn,fn=tnfn\n",
    "        false_pos = np.flip(max(tn)-tn)\n",
    "        true_pos = np.flip(max(fn)-fn)\n",
    "\n",
    "        true_neg = max(false_pos)-false_pos\n",
    "        false_neg = max(true_pos)-true_pos\n",
    "\n",
    "        sens = true_pos/(true_pos+false_neg)\n",
    "        spec = true_neg/(true_neg+false_pos)\n",
    "\n",
    "        balanced_accuracies.append((sens+spec)/2)\n",
    "    roughpathsbest.append(max(np.median(balanced_accuracies,axis=0)))\n",
    "    bestthreshold=(np.argmax(np.median(balanced_accuracies,axis=0)))\n",
    "    roughpathserror.append(np.std(balanced_accuracies,axis=0,ddof=1)[bestthreshold])\n",
    "adslbest=np.maximum(comparisons.ADSL,comparisons.ADSLbest)\n",
    "adslerror = comparisons['ADSL sd'] * (comparisons.ADSL>comparisons.ADSLbest) + comparisons['ADSLbest sd'] * (comparisons.ADSL<=comparisons.ADSLbest)\n",
    "comparison_table1 = (pd.DataFrame(np.column_stack([comparisons.Dataset,roughpathsbest,roughpathserror,adslbest,adslerror])))\n",
    "\n",
    "ax.scatter(adslbest,roughpathsbest)\n",
    "ax.set_xlim(0.45,1.01)\n",
    "ax.set_ylim(0.45,1.01)\n",
    "import matplotlib.lines as mlines\n",
    "\n",
    "line = mlines.Line2D([0, 1.01], [0, 1.01], color='black',ls=\":\")\n",
    "ax.add_line(line)\n",
    "ax.set_xlabel(\"ADSL: median balanced accuracy\", fontsize=fontsize)\n",
    "ax.set_ylabel(\"Signature variance: best achievable median BA\", fontsize=fontsize)\n",
    "ax.set_title(\"0.1% training anomaly rate\", fontsize=fontsize)\n",
    "ax.tick_params(axis='both', which='major', labelsize=fontsize)\n",
    "ax.tick_params(axis='both', which='minor', labelsize=fontsize)\n",
    "for i in range(len(adslbest)):\n",
    "    if comparisons.Dataset[i] in [\"Wafer\",\"ChlorineConcentration\",\"BeetleFly\",\"Wine\"]:\n",
    "        ax.text(adslbest[i]+0.01,roughpathsbest[i],comparisons.Dataset[i], fontsize=fontsize)\n",
    "    if comparisons.Dataset[i] in [\"FaceFour\"]:\n",
    "        ax.text(adslbest[i],roughpathsbest[i]+0.01,comparisons.Dataset[i], fontsize=fontsize)\n",
    "    if comparisons.Dataset[i] in [\"ECG200\",\"BirdChicken\"]:\n",
    "        ax.text(adslbest[i],roughpathsbest[i]-0.025,comparisons.Dataset[i], fontsize=fontsize)\n",
    "    if comparisons.Dataset[i] in [\"ToeSegmentation1\",\"ToeSegmentation2\"]:\n",
    "        ax.text(adslbest[i]+0.01,roughpathsbest[i]-0.005,comparisons.Dataset[i][:3]+comparisons.Dataset[i][-1], fontsize=fontsize)\n",
    "    \n",
    "    #if comparisons.Dataset[i] in [\"Wafer\",\"ChlorineConcentration\",\"BeetleFly\",\"FaceFour\"]:\n",
    "    #    ax.text(adslbest[i]+0.01,roughpathsbest[i],comparisons.Dataset[i])\n",
    "    \n",
    "ax=axs.flatten()[1]\n",
    "\n",
    "roughpathsbest=[]\n",
    "roughpathserror=[]\n",
    "for dataset in comparisons.Dataset:\n",
    "    balanced_accuracies = []\n",
    "    for tnfn in tnfn5[dataset]:\n",
    "        tn,fn=tnfn\n",
    "        false_pos = np.flip(max(tn)-tn)\n",
    "        true_pos = np.flip(max(fn)-fn)\n",
    "\n",
    "        true_neg = max(false_pos)-false_pos\n",
    "        false_neg = max(true_pos)-true_pos\n",
    "\n",
    "        sens = true_pos/(true_pos+false_neg)\n",
    "        spec = true_neg/(true_neg+false_pos)\n",
    "\n",
    "        balanced_accuracies.append((sens+spec)/2)\n",
    "    roughpathsbest.append(max(np.median(balanced_accuracies,axis=0)))\n",
    "    bestthreshold=(np.argmax(np.median(balanced_accuracies,axis=0)))\n",
    "    roughpathserror.append(np.std(balanced_accuracies,axis=0,ddof=1)[bestthreshold])\n",
    "#adslbest=np.maximum(comparisons.ADSL,comparisons.ADSLbest)\n",
    "adslbest=comparisons[\"5% ADSL\"]\n",
    "adslerror = comparisons['5% ADSL sd']\n",
    "comparison_table5 = (pd.DataFrame(np.column_stack([comparisons.Dataset,roughpathsbest,roughpathserror,adslbest,adslerror])))\n",
    "\n",
    "for i in range(comparison_table1.shape[0]):\n",
    "    print(\"%s & %1.2f (%1.2f) & %1.2f (%1.2f) & %1.2f (%1.2f) & %1.2f (%1.2f)\\\\\\\\\" %(comparison_table1.iloc[i,0],\n",
    "                                                     comparison_table1.iloc[i,1],comparison_table1.iloc[i,2],\n",
    "                                                     comparison_table1.iloc[i,3],comparison_table1.iloc[i,4],\n",
    "                                                     comparison_table5.iloc[i,1],comparison_table5.iloc[i,2],\n",
    "                                                     comparison_table5.iloc[i,3],comparison_table5.iloc[i,4]))\n",
    "\n",
    "#fig,ax=plt.subplots(figsize=(8,8))\n",
    "ax.scatter(adslbest,roughpathsbest)\n",
    "ax.set_xlim(0.45,1.01)\n",
    "ax.set_ylim(0.45,1.01)\n",
    "import matplotlib.lines as mlines\n",
    "\n",
    "line = mlines.Line2D([0, 1.01], [0, 1.01], color='black',ls=\":\")\n",
    "ax.add_line(line)\n",
    "ax.set_xlabel(\"ADSL: median balanced accuracy\", fontsize=fontsize)\n",
    "ax.set_ylabel(\"Signature variance: best achievable median BA\", fontsize=fontsize)\n",
    "ax.tick_params(axis='both', which='major', labelsize=fontsize)\n",
    "ax.tick_params(axis='both', which='minor', labelsize=fontsize)\n",
    "ax.set_title(\"5% training anomaly rate\", fontsize=fontsize)\n",
    "for i in range(len(adslbest)):\n",
    "    if comparisons.Dataset[i] in [\"Wafer\",\"ChlorineConcentration\",\"BeetleFly\",\"FaceFour\"]:\n",
    "        ax.text(adslbest[i]+0.01,roughpathsbest[i],comparisons.Dataset[i], fontsize=fontsize)\n",
    "    if comparisons.Dataset[i] in [\"Wine\"]:\n",
    "        ax.text(adslbest[i]+0.01,roughpathsbest[i]-0.01,comparisons.Dataset[i], fontsize=fontsize)\n",
    "    if comparisons.Dataset[i] in [\"ECG200\"]:\n",
    "        ax.text(adslbest[i]-0.01,roughpathsbest[i]+0.012,comparisons.Dataset[i], fontsize=fontsize)\n",
    "    if comparisons.Dataset[i] in [\"Meat\"]:\n",
    "        ax.text(adslbest[i],roughpathsbest[i]+0.01,comparisons.Dataset[i], fontsize=fontsize)\n",
    "    if comparisons.Dataset[i] in [\"ToeSegmentation1\",\"ToeSegmentation2\"]:\n",
    "        ax.text(adslbest[i]-0.005,roughpathsbest[i]-0.022,comparisons.Dataset[i][:3]+comparisons.Dataset[i][-1], fontsize=fontsize)\n",
    "fig.tight_layout()\n",
    "fig.savefig(\"benchmark.pdf\")\n",
    "plt.show()"
   ]
  },
  {
   "cell_type": "code",
   "execution_count": 13,
   "metadata": {},
   "outputs": [
    {
     "name": "stdout",
     "output_type": "stream",
     "text": [
      "Execution time (s): 6253.8\n"
     ]
    }
   ],
   "source": [
    "print('Execution time (s): {:.1f}'.format(time.time() - t0))"
   ]
  }
 ],
 "metadata": {
  "hide_input": false,
  "kernelspec": {
   "display_name": "Python 3",
   "language": "python",
   "name": "python3"
  },
  "language_info": {
   "codemirror_mode": {
    "name": "ipython",
    "version": 3
   },
   "file_extension": ".py",
   "mimetype": "text/x-python",
   "name": "python",
   "nbconvert_exporter": "python",
   "pygments_lexer": "ipython3",
   "version": "3.7.7"
  }
 },
 "nbformat": 4,
 "nbformat_minor": 4
}
